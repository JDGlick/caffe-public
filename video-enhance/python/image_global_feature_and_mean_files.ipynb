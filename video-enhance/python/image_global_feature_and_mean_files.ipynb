{
 "cells": [
  {
   "cell_type": "markdown",
   "metadata": {},
   "source": [
    "store image global feature into lmdb database"
   ]
  },
  {
   "cell_type": "code",
   "execution_count": 1,
   "metadata": {
    "collapsed": false
   },
   "outputs": [
    {
     "name": "stdout",
     "output_type": "stream",
     "text": [
      "caffe_root: /home/zyan3/proj/caffe_private_video_enhance/\n"
     ]
    }
   ],
   "source": [
    "import os\n",
    "import sys\n",
    "caffe_root = os.environ['CAFFE_PROJ_DIR']\n",
    "sys.path.append(caffe_root + 'python')\n",
    "import caffe\n",
    "sys.path.append(caffe_root + 'python/util')\n",
    "from util_func import *\n",
    "sys.path.append(caffe_root + 'python/caffe/proto')\n",
    "import caffe_pb2\n",
    "\n",
    "import numpy as np\n",
    "import lmdb\n",
    "\n",
    "# caffe_local_root = '/home/zyan3/local/proj/caffe_private_hdcnn/'\n",
    "\n",
    "print 'caffe_root: %s' % caffe_root\n",
    "# print 'caffe_local_root: %s' % caffe_local_root\n"
   ]
  },
  {
   "cell_type": "code",
   "execution_count": 2,
   "metadata": {
    "collapsed": false
   },
   "outputs": [],
   "source": [
    "dl_img_proj_root='/home/zyan3/proj/dl-image-enhance/'\n",
    "video_enhance_proj_root='/home/zyan3/proj/caffe_private_video_enhance/video-enhance/'\n",
    "global_ftr_dir = dl_img_proj_root + 'data/uniform_set/globalFtr/'\n",
    "global_ftr_lmdb_fn=video_enhance_proj_root + 'data/uniform_set/global_ftr_lmdb/'"
   ]
  },
  {
   "cell_type": "code",
   "execution_count": 3,
   "metadata": {
    "collapsed": true
   },
   "outputs": [],
   "source": [
    "\n",
    "global_ftr_lmdb= lmdb.open(global_ftr_lmdb_fn)\n",
    "global_ftr_txn=global_ftr_lmdb.begin(write=True)"
   ]
  },
  {
   "cell_type": "code",
   "execution_count": 4,
   "metadata": {
    "collapsed": false
   },
   "outputs": [
    {
     "name": "stdout",
     "output_type": "stream",
     "text": [
      "115\n"
     ]
    }
   ],
   "source": [
    "global_ftr_fns=os.listdir(global_ftr_dir)\n",
    "print len(global_ftr_fns)"
   ]
  },
  {
   "cell_type": "code",
   "execution_count": 5,
   "metadata": {
    "collapsed": false
   },
   "outputs": [
    {
     "name": "stdout",
     "output_type": "stream",
     "text": [
      "3124621920_4ac3d9ea81_z\n"
     ]
    }
   ],
   "source": [
    "for i,global_ftr_fn in enumerate(global_ftr_fns):\n",
    "    global_ftr_dict=unpickle(global_ftr_dir+global_ftr_fn)\n",
    "    global_ftr=global_ftr_dict['pix_global_ftr']    \n",
    "    datum = caffe_pb2.Datum()\n",
    "    datum.channels = global_ftr.shape[0]\n",
    "    datum.height = 1\n",
    "    datum.width = 1\n",
    "    \n",
    "    for j in range(global_ftr.shape[0]):\n",
    "        datum.float_data.append(global_ftr[j])    \n",
    "    key=global_ftr_fn\n",
    "    if i==0:\n",
    "        print key\n",
    "    global_ftr_txn.put(key,datum.SerializeToString())"
   ]
  },
  {
   "cell_type": "code",
   "execution_count": 6,
   "metadata": {
    "collapsed": false
   },
   "outputs": [
    {
     "name": "stdout",
     "output_type": "stream",
     "text": [
      "10589229553_c1c8d3f54a_z\n",
      "10656328515_670c22a79a_z\n",
      "1098157481_691e4df198_z\n",
      "11144766034_7dc7162505_z\n",
      "12506493305_e6ed54a2ba_z\n",
      "12852914404_cabcf1ffca_z\n",
      "1298860319_c925153751_z\n",
      "13090677244_fdf2d6ba58_z\n",
      "1315958474_e5add54fc4_z\n",
      "13373338193_4cacbbc487_z\n",
      "count:115\n"
     ]
    }
   ],
   "source": [
    "global_ftr_cursor=global_ftr_txn.cursor()\n",
    "count = 0\n",
    "# print '%d keys' % len(prob_cursor.keys())\n",
    "for key, value in global_ftr_cursor:\n",
    "    if count < 10:\n",
    "        print key\n",
    "    count += 1\n",
    "print 'count:%d' % count"
   ]
  },
  {
   "cell_type": "code",
   "execution_count": 7,
   "metadata": {
    "collapsed": true
   },
   "outputs": [],
   "source": [
    "global_ftr_txn.commit()\n",
    "global_ftr_lmdb.close()"
   ]
  },
  {
   "cell_type": "markdown",
   "metadata": {},
   "source": [
    "generate feature mean files in format binaryproto"
   ]
  },
  {
   "cell_type": "code",
   "execution_count": 9,
   "metadata": {
    "collapsed": false
   },
   "outputs": [
    {
     "name": "stdout",
     "output_type": "stream",
     "text": [
      "(237,)\n",
      "(3,)\n",
      "(500,)\n"
     ]
    }
   ],
   "source": [
    "train_batch_meta=unpickle(dl_img_proj_root + 'data/uniform_set_xpro/uniform_set_xpro_7K_10_batch_seg_voting_k0.10/batches.meta')\n",
    "print train_batch_meta['global_ftr_mean'].shape\n",
    "print train_batch_meta['data_mean'].shape\n",
    "print train_batch_meta['pixContextSemMean'].shape"
   ]
  },
  {
   "cell_type": "code",
   "execution_count": 29,
   "metadata": {
    "collapsed": false
   },
   "outputs": [],
   "source": [
    "global_ftr_mean_blob = caffe_pb2.BlobProto()\n",
    "global_ftr_mean_blob.num = 1\n",
    "global_ftr_mean_blob.channels = train_batch_meta['global_ftr_mean'].shape[0]\n",
    "global_ftr_mean_blob.height = 1\n",
    "global_ftr_mean_blob.width = 1\n",
    "for i in range(train_batch_meta['global_ftr_mean'].shape[0]):\n",
    "    global_ftr_mean_blob.data.append(float(train_batch_meta['global_ftr_mean'][i]))\n",
    "\n",
    "f = open(video_enhance_proj_root + 'data/uniform_set/global_feature_mean.binaryproto', \"wb\")\n",
    "f.write(global_ftr_mean_blob.SerializeToString())\n",
    "f.close()"
   ]
  },
  {
   "cell_type": "code",
   "execution_count": 30,
   "metadata": {
    "collapsed": false
   },
   "outputs": [
    {
     "name": "stdout",
     "output_type": "stream",
     "text": [
      "/home/zyan3/proj/caffe_private_video_enhance/video-enhance/\n"
     ]
    }
   ],
   "source": [
    "print video_enhance_proj_root"
   ]
  },
  {
   "cell_type": "code",
   "execution_count": 31,
   "metadata": {
    "collapsed": false
   },
   "outputs": [],
   "source": [
    "pixel_ftr_mean_blob = caffe_pb2.BlobProto()\n",
    "pixel_ftr_mean_blob.num = 1\n",
    "pixel_ftr_mean_blob.channels = train_batch_meta['data_mean'].shape[0]\n",
    "pixel_ftr_mean_blob.height = 1\n",
    "pixel_ftr_mean_blob.width = 1\n",
    "for i in range(train_batch_meta['data_mean'].shape[0]):\n",
    "    pixel_ftr_mean_blob.data.append(float(train_batch_meta['data_mean'][i]))\n",
    "\n",
    "f = open(video_enhance_proj_root + 'data/uniform_set/pixel_feature_mean.binaryproto', \"wb\")\n",
    "f.write(pixel_ftr_mean_blob.SerializeToString())\n",
    "f.close()"
   ]
  },
  {
   "cell_type": "code",
   "execution_count": 4,
   "metadata": {
    "collapsed": false
   },
   "outputs": [],
   "source": [
    "'''mean files for semantic context features'''\n",
    "local_caffe_private_hdcnn_dir='/home/zyan3/local/proj/caffe_private_hdcnn/'\n",
    "semantic_context_feature_dirs=\\\n",
    "[local_caffe_private_hdcnn_dir+'examples/uniform_set/VGG_ILSVRC_16_layers_parser_fc7/stitch_fc7_longside_1024/',\\\n",
    " local_caffe_private_hdcnn_dir+'examples/uniform_set/VGG_ILSVRC_16_layers_parser_fc7/stitch_fc7_longside_2048/']"
   ]
  },
  {
   "cell_type": "code",
   "execution_count": 8,
   "metadata": {
    "collapsed": false
   },
   "outputs": [
    {
     "name": "stdout",
     "output_type": "stream",
     "text": [
      "0 out of 115\n",
      "10 out of 115\n",
      "20 out of 115\n",
      "30 out of 115\n",
      "40 out of 115\n",
      "50 out of 115\n",
      "60 out of 115\n",
      "70 out of 115\n",
      "80 out of 115\n",
      "90 out of 115\n",
      "100 out of 115\n",
      "110 out of 115\n",
      "0 out of 115\n",
      "10 out of 115\n",
      "20 out of 115\n",
      "30 out of 115\n",
      "40 out of 115\n",
      "50 out of 115\n",
      "60 out of 115\n",
      "70 out of 115\n",
      "80 out of 115\n",
      "90 out of 115\n",
      "100 out of 115\n",
      "110 out of 115\n",
      "[[-0.55568993  0.02073335  0.35535905 -0.2628513  -0.29997554 -0.37475386\n",
      "  -0.03434702 -1.1003859  -0.94374883 -0.80052316]\n",
      " [-1.11279786  0.36140871  0.63885087 -0.18585218 -0.78360617 -0.24579981\n",
      "   0.62798053 -2.13138771 -1.21467137 -1.45194674]]\n"
     ]
    }
   ],
   "source": [
    "n_train_img, semantic_ftr_dim=115,4096\n",
    "semantic_context_feature_scale_num = len(semantic_context_feature_dirs)\n",
    "semantic_ftr_means=np.zeros((semantic_context_feature_scale_num,semantic_ftr_dim),\n",
    "                            dtype=np.single)\n",
    "for i, semantic_context_feature_dir in enumerate(semantic_context_feature_dirs):\n",
    "    for j in range(n_train_img):\n",
    "        if j%10==0:\n",
    "            print '%d out of %d' % (j,n_train_img)\n",
    "        meta_file=semantic_context_feature_dir+'%d.txt'%j\n",
    "        data_file=semantic_context_feature_dir+'%d.dat'%j\n",
    "        f=open(meta_file,'r')\n",
    "        lines=f.readlines()\n",
    "        channels=int(lines[0][:-1])\n",
    "        height=int(lines[1][:-1])\n",
    "        width=int(lines[2][:-1])\n",
    "        f.close()\n",
    "        \n",
    "        \n",
    "        f=open(data_file,'rb')\n",
    "        ftr=np.fromfile(f,dtype=np.single)\n",
    "        f.close()\n",
    "        ftr=ftr.reshape((channels,height,width))\n",
    "        ftr_mean = ftr.mean(axis=2).mean(axis=1)\n",
    "        semantic_ftr_means[i,:] += ftr_mean\n",
    "    semantic_ftr_means[i,:] /= n_train_img\n",
    "print semantic_ftr_means[:,:10]\n",
    "\n",
    "semantic_ftr_means=semantic_ftr_means.reshape((semantic_context_feature_scale_num*semantic_ftr_dim))\n",
    "\n",
    "semantic_ftr_mean_blob = caffe_pb2.BlobProto()\n",
    "semantic_ftr_mean_blob.num = 1\n",
    "semantic_ftr_mean_blob.channels = semantic_ftr_means.shape[0]\n",
    "semantic_ftr_mean_blob.height = 1\n",
    "semantic_ftr_mean_blob.width = 1\n",
    "for i in range(semantic_ftr_means.shape[0]):\n",
    "    semantic_ftr_mean_blob.data.append(float(semantic_ftr_means[i]))\n",
    "\n",
    "f = open(video_enhance_proj_root + 'data/uniform_set/semantic_context_feature_mean.binaryproto', \"wb\")\n",
    "f.write(semantic_ftr_mean_blob.SerializeToString())\n",
    "f.close()"
   ]
  },
  {
   "cell_type": "code",
   "execution_count": null,
   "metadata": {
    "collapsed": true
   },
   "outputs": [],
   "source": []
  },
  {
   "cell_type": "code",
   "execution_count": null,
   "metadata": {
    "collapsed": true
   },
   "outputs": [],
   "source": []
  }
 ],
 "metadata": {
  "kernelspec": {
   "display_name": "Python 2",
   "language": "python",
   "name": "python2"
  },
  "language_info": {
   "codemirror_mode": {
    "name": "ipython",
    "version": 2
   },
   "file_extension": ".py",
   "mimetype": "text/x-python",
   "name": "python",
   "nbconvert_exporter": "python",
   "pygments_lexer": "ipython2",
   "version": "2.7.6"
  }
 },
 "nbformat": 4,
 "nbformat_minor": 0
}
