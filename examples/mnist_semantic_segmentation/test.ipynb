{
 "cells": [
  {
   "cell_type": "code",
   "execution_count": 1,
   "metadata": {
    "collapsed": true
   },
   "outputs": [],
   "source": [
    "import numpy as np\n",
    "import matplotlib.pyplot as plt\n",
    "%matplotlib inline\n",
    "\n",
    "# Make sure that caffe is on the python path:\n",
    "caffe_root = '/usr/local/google/home/zyan/proj/caffe_private_recurrent_2d/'  # this file is expected to be in {caffe_root}/examples\n",
    "import sys\n",
    "sys.path.insert(0, caffe_root + 'python')\n",
    "\n",
    "import caffe\n",
    "\n",
    "# Set the right path to your model definition file, pretrained model weights,\n",
    "# and the image you would like to classify.\n",
    "MODEL_FILE = caffe_root+'examples/mnist_semantic_segmentation/lstm_2d_1_hidden_layer_model_deploy.prototxt'\n",
    "PRETRAINED = caffe_root+'examples/mnist_semantic_segmentation/lstm_2d_1_hidden_layer/lstm_2d_1_hidden_layer_iter_300.caffemodel'\n",
    "\n",
    "import os\n",
    "from struct import *\n",
    "import matplotlib.pyplot as plt\n"
   ]
  },
  {
   "cell_type": "code",
   "execution_count": 2,
   "metadata": {
    "collapsed": true
   },
   "outputs": [],
   "source": [
    "data_mean=np.zeros((1))\n",
    "data_mean[0]=128"
   ]
  },
  {
   "cell_type": "code",
   "execution_count": 3,
   "metadata": {
    "collapsed": false
   },
   "outputs": [],
   "source": [
    "plt.imshow(im_pred_vis)caffe.set_mode_cpu()\n",
    "net = caffe.Classifier(MODEL_FILE, PRETRAINED,\n",
    "                       mean=data_mean,\n",
    "                       image_dims=(28, 28))"
   ]
  },
  {
   "cell_type": "code",
   "execution_count": 4,
   "metadata": {
    "collapsed": false
   },
   "outputs": [
    {
     "name": "stdout",
     "output_type": "stream",
     "text": [
      "num_img 10000\n",
      "num_row 28 num_col 28\n"
     ]
    }
   ],
   "source": [
    "test_img_data_file='/usr/local/google/home/zyan/data/mnist/t10k-images.idx3-ubyte'  \n",
    "with open(test_img_data_file,'rb') as f:\n",
    "    magic_num_str = f.read(4)\n",
    "    magic_num = (unpack('>i',magic_num_str))[0]\n",
    "    num_img_str = f.read(4)\n",
    "    num_img = (unpack('>i',num_img_str))[0]\n",
    "    num_row_str = f.read(4)\n",
    "    num_row = (unpack('>i',num_row_str))[0]\n",
    "    num_col_str = f.read(4)\n",
    "    num_col = (unpack('>i',num_col_str))[0]  plt.imshow(im_pred_vis)\n",
    "    pix_byte = f.read(num_img*num_row*num_col)\n",
    "print 'num_img %d' % num_img\n",
    "print 'num_row %d num_col %d' % (num_row, num_col)"
   ]
  },
  {
   "cell_type": "code",
   "execution_count": 5,
   "metadata": {
    "collapsed": false
   },
   "outputs": [],
   "source": [
    "img_data=np.zeros((num_img, num_row, num_col, 3), dtype=np.uint8)\n",
    "img_data_float=np.zeros((num_img, num_row, num_col, 1), dtype=np.single)\n",
    "pix_c=0\n",
    "for n in range(num_img):\n",
    "    for h in range(num_row):\n",
    "        for w in range(num_col):\n",
    "            pix_val=(unpack('>B',pix_byte[pix_c]))[0]\n",
    "            img_data[n,h,w,:]=pix_val\n",
    "            img_data_float[n,h,w, 0]=pix_val\n",
    "            pix_c+=1"
   ]
  },
  {
   "cell_type": "code",
   "execution_count": 6,
   "metadata": {
    "collapsed": false
   },
   "outputs": [
    {
     "data": {
      "text/plain": [
       "<matplotlib.image.AxesImage at 0x7ffb2a16f290>"
      ]
     },
     "execution_count": 6,
     "metadata": {},
     "output_type": "execute_result"
    },
    {
     "data": {
      "image/png": "[encoded data removed]",
      "text/plain": [
       "<matplotlib.figure.Figure at 0x7ffb7c5b5490>"
      ]
     },
     "metadata": {},
     "output_type": "display_data"
    }
   ],
   "source": [
    "img_to_show = img_data[0,:,:,:]\n",
    "plt.imshow(img_data[0,:,:,:])"
   ]
  },
  {
   "cell_type": "code",
   "execution_count": 15,
   "metadata": {
    "collapsed": false
   },
   "outputs": [
    {
     "name": "stdout",
     "output_type": "stream",
     "text": [
      "(1, 8624)\n",
      "(11, 28, 28)\n",
      "[ 0.08684477  0.06822672  0.08178516  0.0714895   0.08141632  0.08421802\n",
      "  0.07883697  0.07219507  0.0798162   0.08327786  0.21189339]\n"
     ]
    }
   ],
   "source": [
    "prediction = net.predict([test_img_data])\n",
    "print prediction.shape\n",
    "prediction=prediction.reshape((11,28,28))\n",
    "print prediction.shape\n",
    "print prediction[:,14,14]"
   ]
  },
  {
   "cell_type": "code",
   "execution_count": 20,
   "metadata": {
    "collapsed": false
   },
   "outputs": [
    {
     "data": {
      "text/plain": [
       "<matplotlib.image.AxesImage at 0x7ffb29d6e350>"
      ]
     },
     "execution_count": 20,
     "metadata": {},
     "output_type": "execute_result"
    },
    {
     "data": {
      "image/png": "[encoded data removed]",
      "text/plain": [
       "<matplotlib.figure.Figure at 0x7ffb2a03b2d0>"
      ]
     },
     "metadata": {},
     "output_type": "display_data"
    }
   ],
   "source": [
    "print pred_label.shape\n",
    "pred_label_vis_img=np.zeros((28,28,3),dtype=np.uint8)\n",
    "for ch in range(3):\n",
    "    pred_label_vis_img[:,:,ch]=pred_label\n",
    "plt.imshow(pred_label_vis_img)"
   ]
  }
 ],
 "metadata": {
  "kernelspec": {
   "display_name": "Python 2",
   "language": "python",
   "name": "python2"
  },
  "language_info": {
   "codemirror_mode": {
    "name": "ipython",
    "version": 2
   },
   "file_extension": ".py",
   "mimetype": "text/x-python",
   "name": "python",
   "nbconvert_exporter": "python",
   "pygments_lexer": "ipython2",
   "version": "2.7.6"
  }
 },
 "nbformat": 4,
 "nbformat_minor": 0
}
