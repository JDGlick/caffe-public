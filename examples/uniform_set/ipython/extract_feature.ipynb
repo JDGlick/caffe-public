{
 "metadata": {
  "name": "",
  "signature": "sha256:c46664b709ce64ebc2c41cd331c8597ced606c5a9139c9226624aadf9018ba3a"
 },
 "nbformat": 3,
 "nbformat_minor": 0,
 "worksheets": [
  {
   "cells": [
    {
     "cell_type": "code",
     "collapsed": false,
     "input": [
      "import os\n",
      "import sys\n",
      "caffe_root = os.environ['CAFFE_PROJ_DIR']\n",
      "\n",
      "sys.path.append(caffe_root + 'python')\n",
      "import caffe\n",
      "sys.path.append(caffe_root + 'python/caffe/proto')\n",
      "import caffe_pb2\n",
      "\n",
      "import numpy as np\n",
      "import leveldb\n",
      "import lmdb\n",
      "\n",
      "print 'caffe_root: %s' % caffe_root"
     ],
     "language": "python",
     "metadata": {},
     "outputs": [
      {
       "output_type": "stream",
       "stream": "stdout",
       "text": [
        "caffe_root: /home/zyan3/proj/caffe_private_hdcnn/\n"
       ]
      }
     ],
     "prompt_number": 2
    },
    {
     "cell_type": "code",
     "collapsed": false,
     "input": [
      "import matplotlib.pyplot as plt\n",
      "%matplotlib inline\n",
      "plt.rcParams['figure.figsize'] = (10, 10)\n",
      "plt.rcParams['image.interpolation'] = 'nearest'\n",
      "plt.rcParams['image.cmap'] = 'gray'"
     ],
     "language": "python",
     "metadata": {},
     "outputs": [],
     "prompt_number": 3
    },
    {
     "cell_type": "code",
     "collapsed": false,
     "input": [
      "# take an array of shape (n, height, width) or (n, height, width, channels)\n",
      "# and visualize each (height, width) thing in a grid of size approx. sqrt(n) by sqrt(n)\n",
      "def vis_square(data, padsize=1, padval=0):\n",
      "    data -= data.min()\n",
      "    data /= data.max()\n",
      "    \n",
      "    # force the number of filters to be square\n",
      "    n = int(np.ceil(np.sqrt(data.shape[0])))\n",
      "    padding = ((0, n ** 2 - data.shape[0]), (0, padsize), (0, padsize)) + ((0, 0),) * (data.ndim - 3)\n",
      "    data = np.pad(data, padding, mode='constant', constant_values=(padval, padval))\n",
      "    \n",
      "    # tile the filters into an image\n",
      "    data = data.reshape((n, n) + data.shape[1:]).transpose((0, 2, 1, 3) + tuple(range(4, data.ndim + 1)))\n",
      "    data = data.reshape((n * data.shape[1], n * data.shape[3]) + data.shape[4:])\n",
      "    \n",
      "    plt.imshow(data)"
     ],
     "language": "python",
     "metadata": {},
     "outputs": [],
     "prompt_number": 4
    },
    {
     "cell_type": "code",
     "collapsed": false,
     "input": [
      "# db = leveldb.LevelDB(caffe_root + 'examples/uniform_set/VGG_ILSVRC_16_layers_parser_fc7/stitch_fc7_longside_1024_leveldb')"
     ],
     "language": "python",
     "metadata": {},
     "outputs": [],
     "prompt_number": 4
    },
    {
     "cell_type": "code",
     "collapsed": false,
     "input": [
      "lmdb_fn_2='/home/zyan3/local/data/imagenet/ilsvrc12/ilsvrc12_train_short_512_lmdb'\n",
      "lmdb_2 = lmdb.open(lmdb_fn_2)\n",
      "txn_2=lmdb_2.begin()"
     ],
     "language": "python",
     "metadata": {},
     "outputs": [],
     "prompt_number": 5
    },
    {
     "cell_type": "code",
     "collapsed": false,
     "input": [
      "cursor=txn_2.cursor()\n",
      "count = 0\n",
      "for key, value in cursor:\n",
      "    print key\n",
      "    print len(key)\n",
      "    count += 1\n",
      "    if count > 5:\n",
      "        break"
     ],
     "language": "python",
     "metadata": {},
     "outputs": [
      {
       "output_type": "stream",
       "stream": "stdout",
       "text": [
        "n01440764/n01440764_10026.JPEG\n",
        "30\n",
        "n01440764/n01440764_10027.JPEG\n",
        "30\n",
        "n01440764/n01440764_10029.JPEG"
       ]
      },
      {
       "output_type": "stream",
       "stream": "stdout",
       "text": [
        "\n",
        "30\n",
        "n01440764/n01440764_10040.JPEG\n",
        "30\n",
        "n01440764/n01440764_10042.JPEG\n",
        "30\n",
        "n01440764/n01440764_10043.JPEG"
       ]
      },
      {
       "output_type": "stream",
       "stream": "stdout",
       "text": [
        "\n",
        "30\n"
       ]
      }
     ],
     "prompt_number": 6
    },
    {
     "cell_type": "code",
     "collapsed": false,
     "input": [
      "img_name='n02106166/n02106166_479.JPEG'\n",
      "img_lineid=23\n",
      "key='%s' % (img_name)\n",
      "print 'key ',key,len(key)"
     ],
     "language": "python",
     "metadata": {},
     "outputs": [
      {
       "output_type": "stream",
       "stream": "stdout",
       "text": [
        "key  n02106166/n02106166_479.JPEG 28\n"
       ]
      }
     ],
     "prompt_number": 10
    },
    {
     "cell_type": "code",
     "collapsed": false,
     "input": [
      "value=cursor.get(key)\n",
      "print len(value)"
     ],
     "language": "python",
     "metadata": {},
     "outputs": [
      {
       "output_type": "stream",
       "stream": "stdout",
       "text": [
        "1181201\n"
       ]
      }
     ],
     "prompt_number": 11
    },
    {
     "cell_type": "code",
     "collapsed": false,
     "input": [
      "with lmdb_2.begin() as txn:\n",
      "    with txn.cursor() as curs:\n",
      "        # do stuff\n",
      "        print 'key is:', curs.get('key')"
     ],
     "language": "python",
     "metadata": {},
     "outputs": [
      {
       "output_type": "stream",
       "stream": "stdout",
       "text": [
        "key is: "
       ]
      },
      {
       "output_type": "stream",
       "stream": "stdout",
       "text": [
        "None\n"
       ]
      }
     ],
     "prompt_number": 7
    },
    {
     "cell_type": "code",
     "collapsed": false,
     "input": [
      "string_data=txn_2.get(key)\n",
      "datum = caffe_pb2.Datum()\n",
      "datum.ParseFromString(string_data)\n",
      "print datum.channels, datum.height, datum.width"
     ],
     "language": "python",
     "metadata": {},
     "outputs": [
      {
       "output_type": "stream",
       "stream": "stdout",
       "text": [
        "3 512 683\n"
       ]
      }
     ],
     "prompt_number": 9
    },
    {
     "cell_type": "code",
     "collapsed": false,
     "input": [
      "print len(string_data)"
     ],
     "language": "python",
     "metadata": {},
     "outputs": [
      {
       "ename": "TypeError",
       "evalue": "object of type 'NoneType' has no len()",
       "output_type": "pyerr",
       "traceback": [
        "\u001b[1;31m---------------------------------------------------------------------------\u001b[0m\n\u001b[1;31mTypeError\u001b[0m                                 Traceback (most recent call last)",
        "\u001b[1;32m<ipython-input-5-66b54f908314>\u001b[0m in \u001b[0;36m<module>\u001b[1;34m()\u001b[0m\n\u001b[1;32m----> 1\u001b[1;33m \u001b[1;32mprint\u001b[0m \u001b[0mlen\u001b[0m\u001b[1;33m(\u001b[0m\u001b[0mstring_data\u001b[0m\u001b[1;33m)\u001b[0m\u001b[1;33m\u001b[0m\u001b[0m\n\u001b[0m",
        "\u001b[1;31mTypeError\u001b[0m: object of type 'NoneType' has no len()"
       ]
      }
     ],
     "prompt_number": 5
    },
    {
     "cell_type": "code",
     "collapsed": false,
     "input": [
      "# lmdb_fn = caffe_root + 'examples/uniform_set/VGG_ILSVRC_16_layers_parser_fc7/stitch_fc7_longside_1024_lmdb'\n",
      "# lmdb_fn='/home/zyan3/proj/caffe_private_hdcnn/examples/imagenet/VGG_16_layer_val_fc8_lmdb'\n",
      "lmdb_fn='/home/zyan3/proj/dl-image-enhance/data/uniform_set/stitch_fc7_longside_1024_lmdb'\n",
      "lmdb = lmdb.open(lmdb_fn)\n",
      "txn=lmdb.begin()"
     ],
     "language": "python",
     "metadata": {},
     "outputs": [],
     "prompt_number": 4
    },
    {
     "cell_type": "code",
     "collapsed": false,
     "input": [
      "img_num = 1\n",
      "# tgt_shape = (4096,168,256)\n",
      "for i in range(img_num):\n",
      "    key = '%d' % i\n",
      "    print 'key %s' % key\n",
      "    string_data = txn.get(key)\n",
      "#     string_data = db.Get(key)\n",
      "    datum = caffe_pb2.Datum()\n",
      "    datum.ParseFromString(string_data)\n",
      "    print 'datum ch %d h %d w %d' % (datum.channels,datum.height, datum.width)\n",
      "    data_m = np.asarray(datum.float_data,dtype=np.single)\n",
      "    tgt_shape=(datum.channels,datum.height, datum.width)\n",
      "    data_m=data_m.reshape(tgt_shape)\n",
      "    print data_m.shape"
     ],
     "language": "python",
     "metadata": {},
     "outputs": [
      {
       "output_type": "stream",
       "stream": "stdout",
       "text": [
        "key 0\n",
        "datum ch 4096 h 168 w 256"
       ]
      },
      {
       "output_type": "stream",
       "stream": "stdout",
       "text": [
        "\n",
        "(4096, 168, 256)"
       ]
      },
      {
       "output_type": "stream",
       "stream": "stdout",
       "text": [
        "\n"
       ]
      }
     ],
     "prompt_number": 5
    },
    {
     "cell_type": "code",
     "collapsed": false,
     "input": [
      "print data_m[0,:5,:5]\n",
      "print np.min(data_m),np.max(data_m)\n",
      "print np.nanmin(data_m)"
     ],
     "language": "python",
     "metadata": {},
     "outputs": [
      {
       "output_type": "stream",
       "stream": "stdout",
       "text": [
        "[[ 0.04635626  0.12740147  0.17193174  0.1948961   0.34838769]\n",
        " [-0.         -0.          0.01303947  0.03603715  0.21240935]\n",
        " [-0.         -0.          0.03967148  0.06320572  0.15348637]\n",
        " [-0.         -0.         -0.         -0.          0.08155799]\n",
        " [-0.         -0.         -0.         -0.          0.14262289]]\n",
        "nan"
       ]
      },
      {
       "output_type": "stream",
       "stream": "stdout",
       "text": [
        " nan\n",
        "-0.0"
       ]
      },
      {
       "output_type": "stream",
       "stream": "stdout",
       "text": [
        "\n"
       ]
      }
     ],
     "prompt_number": 9
    },
    {
     "cell_type": "code",
     "collapsed": false,
     "input": [
      "print np.sum(np.isnan(data_m))\n",
      "print datum.channels * datum.height * datum.width"
     ],
     "language": "python",
     "metadata": {},
     "outputs": [
      {
       "output_type": "stream",
       "stream": "stdout",
       "text": [
        "20971488\n",
        "176160768\n"
       ]
      }
     ],
     "prompt_number": 11
    },
    {
     "cell_type": "code",
     "collapsed": false,
     "input": [
      "print data_m.shape\n",
      "vis_square(data_m[100:164], padval=1)"
     ],
     "language": "python",
     "metadata": {},
     "outputs": [
      {
       "output_type": "stream",
       "stream": "stdout",
       "text": [
        "(4096, 168, 256)\n"
       ]
      },
      {
       "metadata": {},
       "output_type": "display_data",
       "png": "[encoded data removed]",
       "text": [
        "<matplotlib.figure.Figure at 0x7fa2a7572210>"
       ]
      }
     ],
     "prompt_number": 11
    }
   ],
   "metadata": {}
  }
 ]
}