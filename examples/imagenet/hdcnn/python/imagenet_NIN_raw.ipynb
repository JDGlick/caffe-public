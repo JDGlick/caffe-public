{
 "metadata": {
  "kernelspec": {
   "codemirror_mode": {
    "name": "ipython",
    "version": 2
   },
   "display_name": "IPython (Python 2)",
   "language": "python",
   "name": "python2"
  },
  "name": "",
  "signature": "sha256:f8085cbb5f7b452fea37bb20acd828ea2f2a9e8da8bcf9b06ce0eb4c568d7ec6"
 },
 "nbformat": 3,
 "nbformat_minor": 0,
 "worksheets": [
  {
   "cells": [
    {
     "cell_type": "markdown",
     "metadata": {},
     "source": [
      "This script is used for training a hd-cnn + NIN network.\n",
      "\n",
      "Copyright Zhicheng Yan"
     ]
    },
    {
     "cell_type": "code",
     "collapsed": false,
     "input": [
      "import os\n",
      "import numpy as np\n",
      "import numpy.random as rd\n",
      "import matplotlib.pyplot as plt\n",
      "%matplotlib inline\n",
      "import scipy.linalg\n",
      "from sklearn.cluster import k_means\n",
      "from sklearn.cluster import *\n",
      "import string\n",
      "import copy\n",
      "import math\n",
      "\n",
      "\n",
      "# Make sure that caffe is on the python path:\n",
      "caffe_root = os.environ['CAFFE_PROJ_DIR']\n",
      "caffe_local_root = os.environ['CAFFE_LOCAL_PROJ_DIR']\n",
      "import sys\n",
      "sys.path.insert(0, caffe_root + 'python')\n",
      "sys.path.insert(0, caffe_root + 'python/util')\n",
      "import caffe\n",
      "from util_func import *\n",
      "\n",
      "\n",
      "plt.rcParams['figure.figsize'] = (5, 5)\n",
      "plt.rcParams['image.interpolation'] = 'nearest'\n",
      "plt.rcParams['image.cmap'] = 'gray'\n",
      "\n",
      "print 'caffe root',caffe_root\n",
      "print 'caffe_local_root',caffe_local_root"
     ],
     "language": "python",
     "metadata": {},
     "outputs": [
      {
       "output_type": "stream",
       "stream": "stdout",
       "text": [
        "caffe root /home/zyan3/proj/caffe_private_hdcnn/\n",
        "caffe_local_root /home/zyan3/local/proj/caffe_private_hdcnn/\n"
       ]
      }
     ],
     "prompt_number": 1
    },
    {
     "cell_type": "code",
     "collapsed": false,
     "input": [
      "num_val, num_class = 100000, 1000"
     ],
     "language": "python",
     "metadata": {},
     "outputs": [],
     "prompt_number": 3
    },
    {
     "cell_type": "code",
     "collapsed": false,
     "input": [
      "'''\n",
      "read 1000-class probabilities of 100K train_val images\n",
      "'''\n",
      "n_jobs=4\n",
      "prob_ftr_dir = caffe_local_root + 'examples/imagenet/hdcnn/nin4-small_new_version/train_val/_prob'\n",
      "\n",
      "probs = Parallel(n_jobs=n_jobs)\\\n",
      "(delayed(read_layer_ftr)(prob_ftr_dir, idx) for idx in range(num_val))\n",
      "probs=np.asarray(probs)"
     ],
     "language": "python",
     "metadata": {},
     "outputs": [],
     "prompt_number": 3
    },
    {
     "cell_type": "code",
     "collapsed": false,
     "input": [
      "'''load fine label names'''\n",
      "synset_id = []\n",
      "label_names = []\n",
      "f=open(caffe_root + 'data/ilsvrc12/synset_words.txt')\n",
      "c=0\n",
      "for line in f:\n",
      "    words = line.split(' ')\n",
      "    synset_id += [words[0]]\n",
      "    words[-1] = words[-1][:-1]\n",
      "    label_names += [' '.join(words[1:])]\n",
      "    c+=1\n",
      "f.close()\n",
      "print label_names[:3]"
     ],
     "language": "python",
     "metadata": {},
     "outputs": [
      {
       "output_type": "stream",
       "stream": "stdout",
       "text": [
        "['tench, Tinca tinca', 'goldfish, Carassius auratus', 'great white shark, white shark, man-eater, man-eating shark, Carcharodon carcharias']\n"
       ]
      }
     ],
     "prompt_number": 4
    },
    {
     "cell_type": "code",
     "collapsed": false,
     "input": [
      "'''load (name, label) for testing images'''\n",
      "train_img_list= caffe_root + 'data/ilsvrc12/train_train.txt'\n",
      "val_img_list = caffe_root + 'data/ilsvrc12/train_val.txt'\n",
      "train_img_names,train_img_labels=read_val_image_list(train_img_list)\n",
      "val_img_names,val_img_labels=read_val_image_list(val_img_list)\n",
      "train_img_labels,val_img_labels=np.asarray(train_img_labels),np.asarray(val_img_labels)"
     ],
     "language": "python",
     "metadata": {},
     "outputs": [
      {
       "output_type": "stream",
       "stream": "stdout",
       "text": [
        "1181167 validation images \n",
        "100000 validation images "
       ]
      },
      {
       "output_type": "stream",
       "stream": "stdout",
       "text": [
        "\n"
       ]
      }
     ],
     "prompt_number": 5
    },
    {
     "cell_type": "code",
     "collapsed": false,
     "input": [
      "pred_labels_val = np.zeros((num_val),dtype=np.int32)\n",
      "accuracy = 0.\n",
      "for i in range(num_val):\n",
      "    idx=np.argsort(prob[i,:])[::-1]\n",
      "    pred_labels_val[i] = idx[0]\n",
      "correct_idx = np.nonzero((val_img_labels - pred_labels_val)==0)[0]\n",
      "accuracy = len(correct_idx) / np.float32(num_val)\n",
      "print 'accuracy %4.3f' % accuracy"
     ],
     "language": "python",
     "metadata": {},
     "outputs": [
      {
       "output_type": "stream",
       "stream": "stdout",
       "text": [
        "accuracy 0.614\n"
       ]
      }
     ],
     "prompt_number": 6
    },
    {
     "cell_type": "code",
     "collapsed": false,
     "input": [
      "'''plot confusion matrix'''\n",
      "confusion_mat = np.zeros((num_class,num_class))\n",
      "for i in range(num_class):\n",
      "    idx=np.nonzero(val_img_labels==i)[0]\n",
      "    pred_label_ = pred_labels_val[idx]\n",
      "    confusion_mat[i,:] = np.float64(np.bincount(pred_label_,minlength=num_class))/np.float64(len(idx))    \n",
      "plt.figure()\n",
      "plt.title('confusion matrix on train_val set')\n",
      "plt.imshow(confusion_mat)"
     ],
     "language": "python",
     "metadata": {},
     "outputs": [
      {
       "metadata": {},
       "output_type": "pyout",
       "prompt_number": 7,
       "text": [
        "<matplotlib.image.AxesImage at 0x7f8744c46f10>"
       ]
      },
      {
       "metadata": {},
       "output_type": "display_data",
       "png": "[encoded data removed]",
       "text": [
        "<matplotlib.figure.Figure at 0x7f8744c46bd0>"
       ]
      }
     ],
     "prompt_number": 7
    },
    {
     "cell_type": "code",
     "collapsed": false,
     "input": [
      "dist_mat = 1.0 - confusion_mat\n",
      "'''set diagonal elements to 0'''\n",
      "dist_mat[range(num_class),range(num_class)]=0\n",
      "dist_mat = 0.5 * (dist_mat + dist_mat.T)\n",
      "plt.figure()\n",
      "plt.title('distance matrix on train-val set')\n",
      "plt.imshow(dist_mat)"
     ],
     "language": "python",
     "metadata": {},
     "outputs": [
      {
       "metadata": {},
       "output_type": "pyout",
       "prompt_number": 8,
       "text": [
        "<matplotlib.image.AxesImage at 0x7f87457dae10>"
       ]
      },
      {
       "metadata": {},
       "output_type": "display_data",
       "png": "[encoded data removed]",
       "text": [
        "<matplotlib.figure.Figure at 0x7f8799c6d550>"
       ]
      }
     ],
     "prompt_number": 8
    },
    {
     "cell_type": "code",
     "collapsed": false,
     "input": [
      "'''Laplacian eigenmap dimensionality reduction\n",
      "construct adjacency graph W (symmetric) using k-NN'''\n",
      "W=np.zeros((num_class,num_class))\n",
      "\n",
      "# 11 clusters\n",
      "# k_nn, t, dim = 20, 0.5, 1\n",
      "# 22 clusters\n",
      "# k_nn, t, dim = 20, 0.95, 3\n",
      "# 35 clusters\n",
      "# k_nn, t, dim = 20, 0.7, 10\n",
      "# 59 clusters\n",
      "# k_nn, t, dim = 20, 0.7, 20\n",
      "# 76 clusters\n",
      "# k_nn, t, dim = 30, 0.9, 30\n",
      "# 89 clusters\n",
      "k_nn, t, dim = 30, 0.8, 80\n",
      "# 91 clusters\n",
      "# k_nn, t, dim = 30, 0.8, 80\n",
      "# 118 clusters\n",
      "# k_nn, t, dim = 10, 0.8, 100\n",
      "# 132 clusters\n",
      "# k_nn, t, dim = 5, 0.9, 100\n",
      "# 151 clusters\n",
      "# k_nn, t, dim = 5, 0.9, 200\n",
      "# 152 clusters\n",
      "# k_nn, t, dim = 5, 0.9, 200\n",
      "# 173 clusters\n",
      "# k_nn, t, dim = 4, 0.8, 200\n",
      "\n",
      "for i in range(num_class):\n",
      "    idx=np.argsort(dist_mat[i,:])[1:k_nn+1]\n",
      "    W[i,idx]=np.exp(-dist_mat[i,idx] / t)\n",
      "    W[idx,i]=W[i,idx]\n",
      "D=np.zeros(W.shape)\n",
      "for i in range(num_class):\n",
      "    D[i,i]=np.sum(W[i,:])\n",
      "L=D-W\n",
      "eig_val,eig_vec=scipy.linalg.eig(L,D)\n",
      "ftr=eig_vec[:,1:dim+1]\n",
      "print eig_vec[:10,0] # the 1st eigenvector should be all ones\n",
      "eigval_cumsum = np.cumsum(np.real(eig_val))\n",
      "plt.plot(eigval_cumsum)"
     ],
     "language": "python",
     "metadata": {},
     "outputs": [
      {
       "output_type": "stream",
       "stream": "stdout",
       "text": [
        "[-0.03162278 -0.03162278 -0.03162278 -0.03162278 -0.03162278 -0.03162278\n",
        " -0.03162278 -0.03162278 -0.03162278 -0.03162278]\n"
       ]
      },
      {
       "metadata": {},
       "output_type": "pyout",
       "prompt_number": 109,
       "text": [
        "[<matplotlib.lines.Line2D at 0x7f87450dc150>]"
       ]
      },
      {
       "metadata": {},
       "output_type": "display_data",
       "png": "[encoded data removed]",
       "text": [
        "<matplotlib.figure.Figure at 0x7f8745104310>"
       ]
      }
     ],
     "prompt_number": 109
    },
    {
     "cell_type": "code",
     "collapsed": false,
     "input": [
      "'''affinity propagation clustering'''\n",
      "if 1:\n",
      "#     11 clusters\n",
      "#     affinity_propagation_cluster = AffinityPropagation(damping=0.99, max_iter=5000, convergence_iter=25, copy=True) \n",
      "#     22 clusters\n",
      "#     affinity_propagation_cluster = AffinityPropagation(damping=0.98, max_iter=5000, convergence_iter=50, copy=True)\n",
      "#     35 clusters\n",
      "#     affinity_propagation_cluster = AffinityPropagation(damping=0.95, max_iter=5000, convergence_iter=25, copy=True) \n",
      "#     59 clusters\n",
      "#     affinity_propagation_cluster = AffinityPropagation(damping=0.9, max_iter=5000, convergence_iter=50, copy=True)\n",
      "#     76 clusters\n",
      "#     affinity_propagation_cluster = AffinityPropagation(damping=0.7, max_iter=5000, convergence_iter=50, copy=True)\n",
      "#     89 clusters\n",
      "    affinity_propagation_cluster = AffinityPropagation(damping=0.6, max_iter=5000, convergence_iter=50, copy=True)\n",
      "#     91 clusters\n",
      "#     affinity_propagation_cluster = AffinityPropagation(damping=0.6, max_iter=5000, convergence_iter=50, copy=True)\n",
      "#     118 clusters\n",
      "#     affinity_propagation_cluster = AffinityPropagation(damping=0.6, max_iter=5000, convergence_iter=50, copy=True)\n",
      "#   132 clusters\n",
      "#     affinity_propagation_cluster = AffinityPropagation(damping=0.6, max_iter=5000, convergence_iter=50, copy=True)\n",
      "#   151 clusters\n",
      "#     affinity_propagation_cluster = AffinityPropagation(damping=0.6, max_iter=10000, convergence_iter=20, copy=True)\n",
      "#   152 clusters\n",
      "#     affinity_propagation_cluster = AffinityPropagation(damping=0.6, max_iter=10000, convergence_iter=20, copy=True)\n",
      "\n",
      "#   173 clusters\n",
      "#     affinity_propagation_cluster = AffinityPropagation(damping=0.6, max_iter=10000, convergence_iter=20, copy=True)\n",
      "    \n",
      "    cluster_labels = affinity_propagation_cluster.fit_predict(ftr)\n",
      "    unique_cluster_label = np.unique(cluster_labels)\n",
      "    n_cluster = unique_cluster_label.shape[0]\n",
      "    cluster_members=[None]*n_cluster\n",
      "    cluster_sizes = np.zeros((n_cluster))\n",
      "    \n",
      "    print '%d clusters' % n_cluster\n",
      "    for i in range(n_cluster):\n",
      "        idx = np.nonzero(cluster_labels == unique_cluster_label[i])[0]\n",
      "        cluster_members[i]=list(idx)\n",
      "        cluster_sizes[i] = len(idx)\n",
      "        print 'cluster %d size %d ' % (i, len(idx))\n",
      "        for j in range(len(idx)):\n",
      "            print '[%s],' % label_names[idx[j]],\n",
      "        print ' '  \n",
      "    plt.hist(cluster_sizes, bins=10)"
     ],
     "language": "python",
     "metadata": {},
     "outputs": [
      {
       "output_type": "stream",
       "stream": "stdout",
       "text": [
        "89 clusters\n",
        "cluster 0 size 8 \n",
        "[great white shark, white shark, man-eater, man-eating shark, Carcharodon carcharias], [tiger shark, Galeocerdo cuvieri], [hammerhead, hammerhead shark], [electric ray, crampfish, numbfish, torpedo], [dugong, Dugong dugon], [barracouta, snoek], [sturgeon], [gar, garfish, garpike, billfish, Lepisosteus osseus],  \n",
        "cluster 1 size 8 \n",
        "[brambling, Fringilla montifringilla], [junco, snowbird], [robin, American robin, Turdus migratorius], [bulbul], [chickadee], [coucal], [bee eater], [hummingbird],  \n",
        "cluster 2 size 3 \n",
        "[jay], [magpie], [peacock],  \n",
        "cluster 3 size 4 \n",
        "[loggerhead, loggerhead turtle, Caretta caretta], [mud turtle], [terrapin], [box turtle, box tortoise],  \n",
        "cluster 4 size 5 \n",
        "[common iguana, iguana, Iguana iguana], [agama], [frilled lizard, Chlamydosaurus kingi], [Komodo dragon, Komodo lizard, dragon lizard, giant lizard, Varanus komodoensis], [African crocodile, Nile crocodile, Crocodylus niloticus],  \n",
        "cluster 5 size 8 \n",
        "[tree frog, tree-frog], [American chameleon, anole, Anolis carolinensis], [green lizard, Lacerta viridis], [green snake, grass snake], [vine snake], [green mamba], [grasshopper, hopper], [walking stick, walkingstick, stick insect],  \n",
        "cluster 6 size 12 \n",
        "[common newt, Triturus vulgaris], [eft], [spotted salamander, Ambystoma maculatum], [bullfrog, Rana catesbeiana], [tailed frog, bell toad, ribbed toad, tailed toad, Ascaphus trui], [banded gecko], [whiptail, whiptail lizard], [alligator lizard], [African chameleon, Chamaeleo chamaeleon], [American alligator, Alligator mississipiensis], [rock python, rock snake, Python sebae], [sidewinder, horned rattlesnake, Crotalus cerastes],  \n",
        "cluster 7 size 10 \n",
        "[thunder snake, worm snake, Carphophis amoenus], [ringneck snake, ring-necked snake, ring snake], [hognose snake, puff adder, sand viper], [king snake, kingsnake], [garter snake, grass snake], [night snake, Hypsiglena torquata], [boa constrictor, Constrictor constrictor], [Indian cobra, Naja naja], [horned viper, cerastes, sand viper, horned asp, Cerastes cornutus], [diamondback, diamondback rattlesnake, Crotalus adamanteus],  \n",
        "cluster 8 size 10 \n",
        "[kite], [goose], [white stork, Ciconia ciconia], [black stork, Ciconia nigra], [spoonbill], [little blue heron, Egretta caerulea], [American egret, great white heron, Egretta albus], [crane], [pelican], [albatross, mollymawk],  \n",
        "cluster 9 size 9 \n",
        "[wallaby, brush kangaroo], [Border collie], [wood rabbit, cottontail, cottontail rabbit], [hare], [fox squirrel, eastern fox squirrel, Sciurus niger], [marmot], [guinea pig, Cavia cobaya], [llama], [weasel],  \n",
        "cluster 10 size 14 \n",
        "[sea snake], [sea anemone, anemone], [brain coral], [flatworm, platyhelminth], [sea slug, nudibranch], [chiton, coat-of-mail shell, sea cradle, polyplacophore], [chambered nautilus, pearly nautilus, nautilus], [starfish, sea star], [sea urchin], [sea cucumber, holothurian], [eel], [lionfish], [puffer, pufferfish, blowfish, globefish], [coral reef],  \n",
        "cluster 11 size 8 \n",
        "[scorpion], [rock crab, Cancer irroratus], [fiddler crab], [king crab, Alaska crab, Alaskan king crab, Alaska king crab, Paralithodes camtschatica], [American lobster, Northern lobster, Maine lobster, Homarus americanus], [spiny lobster, langouste, rock lobster, crawfish, crayfish, sea crawfish], [crayfish, crawfish, crawdad, crawdaddy], [hermit crab],  \n",
        "cluster 12 size 10 \n",
        "[hen], [house finch, linnet, Carpodacus mexicanus], [great grey owl, great gray owl, Strix nebulosa], [black grouse], [ruffed grouse, partridge, Bonasa umbellus], [prairie chicken, prairie grouse, prairie fowl], [quail], [bittern], [limpkin, Aramus pictus], [proboscis monkey, Nasalis larvatus],  \n",
        "cluster 13 size 7 \n",
        "[macaw], [hornbill], [toucan], [black swan, Cygnus atratus], [European gallinule, Porphyrio porphyrio], [American coot, marsh hen, mud hen, water hen, Fulica americana], [oystercatcher, oyster catcher],  \n",
        "cluster 14 size 10 \n",
        "[water ouzel, dipper], [ptarmigan], [partridge], [drake], [red-breasted merganser, Mergus serrator], [bustard], [ruddy turnstone, Arenaria interpres], [red-backed sandpiper, dunlin, Erolia alpina], [redshank, Tringa totanus], [dowitcher],  \n",
        "cluster 15 size 7 \n",
        "[stingray], [leatherback turtle, leatherback, leathery turtle, Dermochelys coriacea], [king penguin, Aptenodytes patagonica], [killer whale, killer, orca, grampus, sea wolf, Orcinus orca], [sea lion], [ice bear, polar bear, Ursus Maritimus, Thalarctos maritimus], [scuba diver],  \n",
        "cluster 16 size 8 \n",
        "[Rhodesian ridgeback], [bloodhound, sleuthhound], [redbone], [Weimaraner], [Chesapeake Bay retriever], [vizsla, Hungarian pointer], [Doberman, Doberman pinscher], [Mexican hairless],  \n",
        "cluster 17 size 6 \n",
        "[basset, basset hound], [beagle], [bluetick], [Walker hound, Walker foxhound], [English foxhound], [Ibizan hound, Ibizan Podenco],  \n",
        "cluster 18 size 16 \n",
        "[Chihuahua], [Italian greyhound], [whippet], [Norwegian elkhound, elkhound], [Staffordshire bullterrier, Staffordshire bull terrier], [American Staffordshire terrier, Staffordshire terrier, American pit bull terrier, pit bull terrier], [Boston bull, Boston terrier], [malinois], [kelpie], [miniature pinscher], [boxer], [bull mastiff], [French bulldog], [basenji], [pug, pug-dog], [Brabancon griffon],  \n",
        "cluster 19 size 11 \n",
        "[Border terrier], [Irish terrier], [Norfolk terrier], [Norwich terrier], [Yorkshire terrier], [Airedale, Airedale terrier], [cairn, cairn terrier], [Australian terrier], [silky terrier, Sydney silky], [German shepherd, German shepherd dog, German police dog, alsatian], [Leonberg],  \n",
        "cluster 20 size 7 \n",
        "[Irish wolfhound], [otterhound, otter hound], [wire-haired fox terrier], [Lakeland terrier], [soft-coated wheaten terrier], [English setter], [briard],  \n",
        "cluster 21 size 8 \n",
        "[Bedlington terrier], [Sealyham terrier, Sealyham], [clumber, clumber spaniel], [komondor], [Great Pyrenees], [toy poodle], [miniature poodle], [standard poodle],  \n",
        "cluster 22 size 15 \n",
        "[Japanese spaniel], [Maltese dog, Maltese terrier, Maltese], [Pekinese, Pekingese, Peke], [Shih-Tzu], [papillon], [Afghan hound, Afghan], [Dandie Dinmont, Dandie Dinmont terrier], [miniature schnauzer], [standard schnauzer], [Tibetan terrier, chrysanthemum dog], [West Highland white terrier], [Lhasa, Lhasa apso], [cocker spaniel, English cocker spaniel, cocker], [Old English sheepdog, bobtail], [affenpinscher, monkey pinscher, monkey dog],  \n",
        "cluster 23 size 8 \n",
        "[giant schnauzer], [flat-coated retriever], [Gordon setter], [Irish water spaniel], [schipperke], [groenendael], [Newfoundland, Newfoundland dog], [gorilla, Gorilla gorilla],  \n",
        "cluster 24 size 10 \n",
        "[Blenheim spaniel], [Saluki, gazelle hound], [golden retriever], [Labrador retriever], [German short-haired pointer], [Irish setter, red setter], [Sussex spaniel], [Great Dane], [Siamese cat, Siamese], [hog, pig, grunter, squealer, Sus scrofa],  \n",
        "cluster 25 size 5 \n",
        "[borzoi, Russian wolfhound], [Brittany spaniel], [English springer, English springer spaniel], [Welsh springer spaniel], [Saint Bernard, St Bernard],  \n",
        "cluster 26 size 5 \n",
        "[Scottish deerhound, deerhound], [Kerry blue terrier], [Scotch terrier, Scottish terrier, Scottie], [curly-coated retriever], [Bouvier des Flandres, Bouviers des Flandres],  \n",
        "cluster 27 size 7 \n",
        "[toy terrier], [black-and-tan coonhound], [Rottweiler], [Greater Swiss Mountain dog], [Bernese mountain dog], [Appenzeller], [EntleBucher],  \n",
        "cluster 28 size 7 \n",
        "[kuvasz], [Eskimo dog, husky], [malamute, malemute, Alaskan malamute], [Siberian husky], [Samoyed, Samoyede], [white wolf, Arctic wolf, Canis lupus tundrarum], [Arctic fox, white fox, Alopex lagopus],  \n",
        "cluster 29 size 8 \n",
        "[Shetland sheepdog, Shetland sheep dog, Shetland], [collie], [Tibetan mastiff], [Pomeranian], [chow, chow chow], [keeshond], [Pembroke, Pembroke Welsh corgi], [Cardigan, Cardigan Welsh corgi],  \n",
        "cluster 30 size 10 \n",
        "[timber wolf, grey wolf, gray wolf, Canis lupus], [red wolf, maned wolf, Canis rufus, Canis niger], [coyote, prairie wolf, brush wolf, Canis latrans], [dingo, warrigal, warragal, Canis dingo], [dhole, Cuon alpinus], [red fox, Vulpes vulpes], [kit fox, Vulpes macrotis], [grey fox, gray fox, Urocyon cinereoargenteus], [lion, king of beasts, Panthera leo], [mongoose],  \n",
        "cluster 31 size 8 \n",
        "[African hunting dog, hyena dog, Cape hunting dog, Lycaon pictus], [hyena, hyaena], [cougar, puma, catamount, mountain lion, painter, panther, Felis concolor], [lynx, catamount], [ram, tup], [bighorn, bighorn sheep, cimarron, Rocky Mountain bighorn, Rocky Mountain sheep, Ovis canadensis], [ibex, Capra ibex], [Arabian camel, dromedary, Camelus dromedarius],  \n",
        "cluster 32 size 8 \n",
        "[tabby, tabby cat], [tiger cat], [Egyptian cat], [leopard, Panthera pardus], [snow leopard, ounce, Panthera uncia], [jaguar, panther, Panthera onca, Felis onca], [tiger, Panthera tigris], [cheetah, chetah, Acinonyx jubatus],  \n",
        "cluster 33 size 24 \n",
        "[harvestman, daddy longlegs, Phalangium opilio], [barn spider, Araneus cavaticus], [black widow, Latrodectus mactans], [wolf spider, hunting spider], [tick], [centipede], [ladybug, ladybeetle, lady beetle, ladybird, ladybird beetle], [ground beetle, carabid beetle], [long-horned beetle, longicorn, longicorn beetle], [leaf beetle, chrysomelid], [dung beetle], [rhinoceros beetle], [weevil], [fly], [bee], [ant, emmet, pismire], [cricket], [cockroach, roach], [mantis, mantid], [cicada, cicala], [leafhopper], [lacewing, lacewing fly], [cabbage butterfly], [honeycomb],  \n",
        "cluster 34 size 15 \n",
        "[goldfinch, Carduelis carduelis], [indigo bunting, indigo finch, indigo bird, Passerina cyanea], [European fire salamander, Salamandra salamandra], [black and gold garden spider, Argiope aurantia], [garden spider, Aranea diademata], [jacamar], [echidna, spiny anteater, anteater], [meerkat, mierkat], [tiger beetle], [admiral], [ringlet, ringlet butterfly], [monarch, monarch butterfly, milkweed butterfly, Danaus plexippus], [sulphur butterfly, sulfur butterfly], [lycaenid, lycaenid butterfly], [sorrel],  \n",
        "cluster 35 size 8 \n",
        "[tusker], [American black bear, black bear, Ursus americanus, Euarctos americanus], [wild boar, boar, Sus scrofa], [hippopotamus, hippo, river horse, Hippopotamus amphibius], [ox], [water buffalo, water ox, Asiatic buffalo, Bubalus bubalis], [bison], [Indian elephant, Elephas maximus],  \n",
        "cluster 36 size 6 \n",
        "[ostrich, Struthio camelus], [zebra], [warthog], [hartebeest], [impala, Aepyceros melampus], [gazelle],  \n",
        "cluster 37 size 7 \n",
        "[platypus, duckbill, duckbilled platypus, duck-billed platypus, Ornithorhynchus anatinus], [wombat], [brown bear, bruin, Ursus arctos], [beaver], [mink], [polecat, fitch, foulmart, foumart, Mustela putorius], [otter],  \n",
        "cluster 38 size 16 \n",
        "[chimpanzee, chimp, Pan troglodytes], [gibbon, Hylobates lar], [siamang, Hylobates syndactylus, Symphalangus syndactylus], [guenon, guenon monkey], [patas, hussar monkey, Erythrocebus patas], [baboon], [macaque], [langur], [colobus, colobus monkey], [marmoset], [capuchin, ringtail, Cebus capucinus], [howler monkey, howler], [titi, titi monkey], [spider monkey, Ateles geoffroyi], [squirrel monkey, Saimiri sciureus], [indri, indris, Indri indri, Indri brevicaudatus],  \n",
        "cluster 39 size 15 \n",
        "[lorikeet], [flamingo], [African elephant, Loxodonta africana], [lesser panda, red panda, panda, bear cat, cat bear, Ailurus fulgens], [giant panda, panda, panda bear, coon bear, Ailuropoda melanoleuca], [rock beauty, Holocanthus tricolor], [anemone fish], [planetarium], [steam locomotive], [cardoon], [geyser], [rapeseed], [daisy], [yellow lady's slipper, yellow lady-slipper, Cypripedium calceolus, Cypripedium parviflorum], [agaric],  \n",
        "cluster 40 size 14 \n",
        "[acoustic guitar], [banjo], [barbell], [bassoon], [cello, violoncello], [cornet, horn, trumpet, trump], [drum, membranophone, tympan], [drumstick], [electric guitar], [French horn, horn], [sax, saxophone], [stage], [trombone], [violin, fiddle],  \n",
        "cluster 41 size 34 \n",
        "[bannister, banister, balustrade, balusters, handrail], [birdhouse], [bobsled, bobsleigh, bob], [bow], [chime, bell, gong], [coil, spiral, volute, whorl, helix], [dial telephone, dial phone], [dining table, board], [disk brake, disc brake], [electric fan, blower], [grand piano, grand], [greenhouse, nursery, glasshouse], [guillotine], [hook, claw], [lampshade, lamp shade], [lumbermill, sawmill], [paddlewheel, paddle wheel], [patio, terrace], [picket fence, paling], [pier], [radio telescope, radio reflector], [screw], [shovel], [soccer ball], [solar dish, solar collector, solar furnace], [swab, swob, mop], [switch, electric switch, electrical switch], [television, television system], [throne], [umbrella], [window screen], [window shade], [yurt], [corn],  \n",
        "cluster 42 size 6 \n",
        "[balance beam, beam], [bikini, two-piece], [maillot], [maillot, tank suit], [swimming trunks, bathing trunks], [volleyball],  \n",
        "cluster 43 size 14 \n",
        "[binder, ring-binder], [brass, memorial tablet, plaque], [carton], [crate], [doormat, welcome mat], [envelope], [jigsaw puzzle], [packet], [photocopier], [slide rule, slipstick], [web site, website, internet site, site], [crossword puzzle, crossword], [book jacket, dust cover, dust jacket, dust wrapper], [menu],  \n",
        "cluster 44 size 20 \n",
        "[axolotl, mud puppy, Ambystoma mexicanum], [analog clock], [barometer], [bottlecap], [digital watch], [face powder], [gong, tam-tam], [jack-o'-lantern], [loupe, jeweler's loupe], [magnetic compass], [mask], [pick, plectrum, plectron], [puck, hockey puck], [scale, weighing machine], [shield, buckler], [spotlight, spot], [stopwatch, stop watch], [tray], [wall clock], [whiskey jug],  \n",
        "cluster 45 size 26 \n",
        "[cock], [conch], [slug], [hamster], [black-footed ferret, ferret, Mustela nigripes], [armadillo], [barrow, garden cart, lawn cart, wheelbarrow], [bonnet, poke bonnet], [bucket, pail], [candle, taper, wax light], [goblet], [golf ball], [measuring cup], [mixing bowl], [pedestal, plinth, footstall], [pitcher, ewer], [quill, quill pen], [quilt, comforter, comfort, puff], [radiator], [rain barrel], [steel drum], [stretcher], [vacuum, vacuum cleaner], [water jug], [wooden spoon], [red wine],  \n",
        "cluster 46 size 13 \n",
        "[can opener, tin opener], [carpenter's kit, tool kit], [cleaver, meat cleaver, chopper], [corkscrew, bottle screw], [fountain pen], [holster], [pencil sharpener], [plane, carpenter's plane, woodworking plane], [power drill], [revolver, six-gun, six-shooter], [scabbard], [screwdriver], [sewing machine],  \n",
        "cluster 47 size 4 \n",
        "[castle], [stupa, tope], [water tower], [hay],  \n",
        "cluster 48 size 9 \n",
        "[altar], [beacon, lighthouse, beacon light, pharos], [bell cote, bell cot], [church, church building], [dome], [organ, pipe organ], [palace], [triumphal arch], [vault],  \n",
        "cluster 49 size 20 \n",
        "[vulture], [bathing cap, swimming cap], [bearskin, busby, shako], [binoculars, field glasses, opera glasses], [brassiere, bra, bandeau], [chain mail, ring mail, mail, chain armor, chain armour, ring armor, ring armour], [clog, geta, patten, sabot], [cowboy hat, ten-gallon hat], [crash helmet], [dumbbell], [hamper], [hand blower, blow dryer, blow drier, hair dryer, hair drier], [padlock], [shower cap], [sombrero], [spider web, spider's web], [thimble], [totem pole], [wig], [toilet tissue, toilet paper, bathroom tissue],  \n",
        "cluster 50 size 22 \n",
        "[coho, cohoe, coho salmon, blue jack, silver salmon, Oncorhynchus kisutch], [croquet ball], [crutch], [flagpole, flagstaff], [flute, transverse flute], [folding chair], [harmonica, mouth organ, harp, mouth harp], [harp], [horizontal bar, high bar], [lipstick, lip rouge], [maraca], [military uniform], [miniskirt, mini], [oxygen mask], [paintbrush], [parallel bars, bars], [pole], [racket, racquet], [swing], [torch], [ice lolly, lolly, lollipop, popsicle], [groom, bridegroom],  \n",
        "cluster 51 size 2 \n",
        "[cuirass], [pickelhaube],  \n",
        "cluster 52 size 10 \n",
        "[barn], [boathouse], [dam, dike, dyke], [freight car], [maze, labyrinth], [park bench], [steel arch bridge], [suspension bridge], [viaduct], [lakeside, lakeshore],  \n",
        "cluster 53 size 9 \n",
        "[computer keyboard, keypad], [desk], [desktop computer], [hand-held computer, hand-held microcomputer], [home theater, home theatre], [laptop, laptop computer], [printer], [screen, CRT screen], [space bar],  \n",
        "cluster 54 size 8 \n",
        "[chest], [dishwasher, dish washer, dishwashing machine], [entertainment center], [file, file cabinet, filing cabinet], [fire screen, fireguard], [microwave, microwave oven], [refrigerator, icebox], [safe],  \n",
        "cluster 55 size 13 \n",
        "[catamaran], [container ship, containership, container vessel], [dock, dockage, docking facility], [drilling platform, offshore rig], [fireboat], [lifeboat], [liner, ocean liner], [pirate, pirate ship], [schooner], [speedboat], [submarine, pigboat, sub, U-boat], [trimaran], [yawl],  \n",
        "cluster 56 size 7 \n",
        "[bassinet], [crib, cot], [four-poster], [plate rack], [rocking chair, rocker], [studio couch, day bed], [table lamp],  \n",
        "cluster 57 size 10 \n",
        "[amphibian, amphibious vehicle], [fire engine, fire truck], [forklift], [garbage truck, dustcart], [go-kart], [golfcart, golf cart], [space shuttle], [tow truck, tow car, wrecker], [trailer truck, tractor trailer, trucking rig, rig, articulated lorry, semi], [traffic light, traffic signal, stoplight],  \n",
        "cluster 58 size 6 \n",
        "[half track], [harvester, reaper], [lawn mower, mower], [snowplow, snowplough], [thresher, thrasher, threshing machine], [tractor],  \n",
        "cluster 59 size 19 \n",
        "[triceratops], [jellyfish], [Persian cat], [accordion, piano accordion, squeeze box], [backpack, back pack, knapsack, packsack, rucksack, haversack], [coffee mug], [combination lock], [cradle], [gondola], [iron, smoothing iron], [marimba, xylophone], [plastic bag], [reel], [remote control, remote], [shopping cart], [teddy, teddy bear], [toaster], [upright, upright piano], [whistle],  \n",
        "cluster 60 size 4 \n",
        "[bicycle-built-for-two, tandem bicycle, tandem], [jinrikisha, ricksha, rickshaw], [tricycle, trike, velocipede], [unicycle, monocycle],  \n",
        "cluster 61 size 13 \n",
        "[abaya], [apron], [cloak], [gown], [hoopskirt, crinoline], [kimono], [overskirt], [pajama, pyjama, pj's, jammies], [sarong], [sleeping bag], [suit, suit of clothes], [trench coat], [vestment],  \n",
        "cluster 62 size 7 \n",
        "[balloon], [crane], [maypole], [parachute, chute], [pinwheel], [street sign], [bubble],  \n",
        "cluster 63 size 11 \n",
        "[ambulance], [cab, hack, taxi, taxicab], [electric locomotive], [jeep, landrover], [limousine, limo], [minibus], [passenger car, coach, carriage], [police van, police wagon, paddy wagon, patrol wagon, wagon, black Maria], [recreational vehicle, RV, R.V.], [streetcar, tram, tramcar, trolley, trolley car], [trolleybus, trolley coach, trackless trolley],  \n",
        "cluster 64 size 22 \n",
        "[tench, Tinca tinca], [goldfish, Carassius auratus], [water snake], [koala, koala bear, kangaroo bear, native bear, Phascolarctos cinereus], [three-toed sloth, ai, Bradypus tridactylus], [orangutan, orang, orangutang, Pongo pygmaeus], [Madagascar cat, ring-tailed lemur, Lemur catta], [chainlink fence], [mobile home, manufactured home], [Model T], [modem], [monastery], [monitor], [moped], [mortar], [mortarboard], [mosque], [mosquito net], [obelisk], [spindle], [sundial], [tennis ball],  \n",
        "cluster 65 size 24 \n",
        "[Gila monster, Heloderma suspectum], [sulphur-crested cockatoo, Kakatoe galerita, Cacatua galerita], [snail], [grey whale, gray whale, devilfish, Eschrichtius gibbosus, Eschrichtius robustus], [Angora, Angora rabbit], [abacus], [bullet train, bullet], [fountain], [lens cap, lens cover], [motor scooter, scooter], [mountain bike, all-terrain bike, off-roader], [mountain tent], [mouse, computer mouse], [mousetrap], [nipple], [notebook, notebook computer], [oboe, hautboy, hautbois], [ocarina, sweet potato], [odometer, hodometer, mileometer, milometer], [oil filter], [oscilloscope, scope, cathode-ray oscilloscope, CRO], [ping-pong ball], [space heater], [typewriter keyboard],  \n",
        "cluster 66 size 18 \n",
        "[African grey, African gray, Psittacus erithacus], [dragonfly, darning needle, devil's darning needle, sewing needle, snake feeder, snake doctor, mosquito hawk, skeeter hawk], [porcupine, hedgehog], [broom], [hammer], [hatchet], [letter opener, paper knife, paperknife], [manhole cover], [matchstick], [moving van], [muzzle], [nail], [neck brace], [necklace], [stone wall], [theater curtain, theatre curtain], [tile roof], [ear, spike, capitulum],  \n",
        "cluster 67 size 8 \n",
        "[ashcan, trash can, garbage can, wastebin, ash bin, ash-bin, ashbin, dustbin, trash barrel, trash bin], [cash machine, cash dispenser, automated teller machine, automatic teller machine, automated teller, automatic teller, ATM], [cassette player], [digital clock], [gas pump, gasoline pump, petrol pump, island dispenser], [parking meter], [pay-phone, pay-station], [vending machine],  \n",
        "cluster 68 size 8 \n",
        "[beach wagon, station wagon, wagon, estate car, beach waggon, station waggon, waggon], [car wheel], [convertible], [grille, radiator grille], [minivan], [pickup, pickup truck], [racer, race car, racing car], [sports car, sport car],  \n",
        "cluster 69 size 4 \n",
        "[dogsled, dog sled, dog sleigh], [horse cart, horse-cart], [oxcart], [plow, plough],  \n",
        "cluster 70 size 12 \n",
        "[cardigan], [Christmas stocking], [dishrag, dishcloth], [feather boa, boa], [fur coat], [handkerchief, hankie, hanky, hankey], [mitten], [poncho], [sock], [stole], [velvet], [wool, woolen, woollen],  \n",
        "cluster 71 size 9 \n",
        "[aircraft carrier, carrier, flattop, attack aircraft carrier], [airliner], [airship, dirigible], [cannon], [missile], [projectile, missile], [tank, army tank, armored combat vehicle, armoured combat vehicle], [warplane, military plane], [wing],  \n",
        "cluster 72 size 13 \n",
        "[cassette], [CD player], [espresso maker], [hard disc, hard disk, fixed disk], [joystick], [loudspeaker, speaker, speaker unit, loudspeaker system, speaker system], [Polaroid camera, Polaroid Land camera], [projector], [radio, wireless], [reflex camera], [stove], [tape player], [washer, automatic washer, washing machine],  \n",
        "cluster 73 size 5 \n",
        "[baseball], [basketball], [football helmet], [rugby ball], [ballplayer, baseball player],  \n",
        "cluster 74 size 36 \n",
        "[bald eagle, American eagle, Haliaeetus leucocephalus], [nematode, nematode worm, roundworm], [dalmatian, coach dog, carriage dog], [sloth bear, Melursus ursinus, Ursus ursinus], [damselfly], [ballpoint, ballpoint pen, ballpen, Biro], [Band Aid], [bath towel], [bib], [bolo tie, bolo, bola tie, bola], [chain], [chain saw, chainsaw], [hair slide], [knot], [lighter, light, igniter, ignitor], [mailbag, postbag], [microphone, mike], [panpipe, pandean pipe, syrinx], [pencil box, pencil case], [pillow], [plunger, plumber's helper], [prayer rug, prayer mat], [rifle], [rubber eraser, rubber, pencil eraser], [rule, ruler], [safety pin], [scoreboard], [shopping basket], [spatula], [stethoscope], [syringe], [thatch, thatched roof], [tripod], [wallet, billfold, notecase, pocketbook], [worm fence, snake fence, snake-rail fence, Virginia fence], [hip, rose hip, rosehip],  \n",
        "cluster 75 size 18 \n",
        "[trilobite], [barber chair], [car mirror], [carousel, carrousel, merry-go-round, roundabout, whirligig], [cellular telephone, cellular phone, cellphone, cell, mobile phone], [diaper, nappy, napkin], [iPod], [knee pad], [pool table, billiard table, snooker table], [running shoe], [sandal], [school bus], [seat belt, seatbelt], [ski mask], [snorkel], [sunglass], [sunglasses, dark glasses, shades], [sweatshirt],  \n",
        "cluster 76 size 2 \n",
        "[ski], [snowmobile],  \n",
        "cluster 77 size 14 \n",
        "[caldron, cauldron], [Crock Pot], [Dutch oven], [frying pan, frypan, skillet], [soup bowl], [strainer], [wok], [consomme], [hot pot, hotpot], [trifle], [ice cream, icecream], [carbonara], [chocolate sauce, chocolate syrup], [espresso],  \n",
        "cluster 78 size 13 \n",
        "[barbershop], [bookshop, bookstore, bookstall], [butcher shop, meat market], [cinema, movie theater, movie theatre, movie house, picture palace], [confectionery, confectionary, candy store], [grocery store, grocery, food market, market], [library], [restaurant, eating house, eating place, eatery], [shoe shop, shoe-shop, shoe store], [slot, one-armed bandit], [tobacco shop, tobacconist shop, tobacconist], [toyshop], [comic book],  \n",
        "cluster 79 size 21 \n",
        "[skunk, polecat, wood pussy], [badger], [apiary, bee house], [bathtub, bathing tub, bath, tub], [buckle], [coffeepot], [cowboy boot], [ladle], [milk can], [paper towel], [potter's wheel], [purse], [rotisserie], [shower curtain], [soap dispenser], [teapot], [toilet seat], [tub, vat], [waffle iron], [washbasin, handbasin, washbowl, lavabo, wash-hand basin], [cup],  \n",
        "cluster 80 size 9 \n",
        "[bookcase], [chiffonier, commode], [china cabinet, china closet], [medicine chest, medicine cabinet], [prison, prison house], [shoji], [sliding door], [turnstile], [wardrobe, closet, press],  \n",
        "cluster 81 size 22 \n",
        "[barrel, cask], [beaker], [beer bottle], [beer glass], [breastplate, aegis, egis], [cocktail shaker], [hair spray], [hourglass], [lotion], [mailbox, letter box], [perfume, essence], [Petri dish], [piggy bank, penny bank], [pill bottle], [pop bottle, soda bottle], [punching bag, punch bag, punching ball, punchball], [saltshaker, salt shaker], [sunscreen, sunblock, sun blocker], [vase], [water bottle], [wine bottle], [eggnog],  \n",
        "cluster 82 size 11 \n",
        "[tarantula], [academic gown, academic robe, judge's robe], [assault rifle, assault gun], [bow tie, bow-tie, bowtie], [bulletproof vest], [gasmask, respirator, gas helmet], [jean, blue jean, denim], [jersey, T-shirt, tee shirt], [lab coat, laboratory coat], [Loafer], [Windsor tie],  \n",
        "cluster 83 size 18 \n",
        "[Dungeness crab, Cancer magister], [bakery, bakeshop, bakehouse], [plate], [guacamole], [French loaf], [bagel, beigel], [pretzel], [cheeseburger], [hotdog, hot dog, red hot], [mashed potato], [spaghetti squash], [acorn squash], [butternut squash], [dough], [meat loaf, meatloaf], [pizza, pizza pie], [potpie], [burrito],  \n",
        "cluster 84 size 9 \n",
        "[pot, flowerpot], [head cabbage], [broccoli], [cauliflower], [zucchini, courgette], [cucumber, cuke], [artichoke, globe artichoke], [pineapple, ananas], [custard apple],  \n",
        "cluster 85 size 10 \n",
        "[bell pepper], [Granny Smith], [strawberry], [orange], [lemon], [fig], [banana], [jackfruit, jak, jack], [pomegranate], [acorn],  \n",
        "cluster 86 size 7 \n",
        "[cliff dwelling], [megalith, megalithic structure], [alp], [cliff, drop, drop-off], [promontory, headland, head, foreland], [valley, vale], [volcano],  \n",
        "cluster 87 size 6 \n",
        "[breakwater, groin, groyne, mole, bulwark, seawall, jetty], [canoe], [paddle, boat paddle], [wreck], [sandbar, sand bar], [seashore, coast, seacoast, sea-coast],  \n",
        "cluster 88 size 9 \n",
        "[isopod], [mushroom], [buckeye, horse chestnut, conker], [coral fungus], [gyromitra], [stinkhorn, carrion fungus], [earthstar], [hen-of-the-woods, hen of the woods, Polyporus frondosus, Grifola frondosa], [bolete],  \n"
       ]
      },
      {
       "metadata": {},
       "output_type": "display_data",
       "png": "[encoded data removed]",
       "text": [
        "<matplotlib.figure.Figure at 0x7f8745775cd0>"
       ]
      }
     ],
     "prompt_number": 110
    },
    {
     "cell_type": "code",
     "collapsed": true,
     "input": [
      "''' compute a  histogram of the percentage of images \n",
      "that are classified as a label in the same cluster of its groundtruth label\n",
      "'''\n",
      "def plot_cluster_coverage(num_class, cluster_mbs,confusion_mat):\n",
      "    cluster_coverage=np.zeros((num_class))\n",
      "    for i in range(len(cluster_mbs)):\n",
      "        for j in range(len(cluster_mbs[i])):\n",
      "            class_id=cluster_mbs[i][j]\n",
      "            cluster_coverage[class_id]=np.sum(confusion_mat[class_id,cluster_mbs[i]])\n",
      "    n, bins, patches=plt.hist(cluster_coverage,bins=20)    "
     ],
     "language": "python",
     "metadata": {},
     "outputs": [],
     "prompt_number": 14
    },
    {
     "cell_type": "code",
     "collapsed": true,
     "input": [
      "def get_confusion_count(rows,cols,mat):\n",
      "    mc,mr=np.meshgrid(cols,rows)\n",
      "    return np.sum(mat[mr,mc])"
     ],
     "language": "python",
     "metadata": {},
     "outputs": [],
     "prompt_number": 22
    },
    {
     "cell_type": "code",
     "collapsed": false,
     "input": [
      "print n_cluster, save_dir"
     ],
     "language": "python",
     "metadata": {},
     "outputs": [
      {
       "output_type": "stream",
       "stream": "stdout",
       "text": [
        "89 imagenet12_NIN_89clusters/\n"
       ]
      }
     ],
     "prompt_number": 133
    },
    {
     "cell_type": "code",
     "collapsed": false,
     "input": [
      "'''assume each class has equal size\n",
      "for each cluster, add a number of out-of-cluster classes until \n",
      "it accounts for a threshold ratio of the number of times images with labels in the expanded cluster are \n",
      "misclassified into a label in the original cluster by the gating part\n",
      "'''\n",
      "if 0:\n",
      "    all_mb=range(num_class)\n",
      "    thres=0.99\n",
      "    max_exp_clu_size=200\n",
      "    exp_cluster_members=[None]*n_cluster\n",
      "    for i in range(n_cluster):\n",
      "        exp_cluster_members[i]=list(cluster_members[i])\n",
      "        ac=np.sum(confusion_mat[:,cluster_members[i]])\n",
      "        c_ac=getb_confusion_count(exp_cluster_members[i],cluster_members[i],confusion_mat)\n",
      "        if (c_ac/ac)<thres:\n",
      "            rest_mb=[it for it in all_mb if not it in exp_cluster_members[i]]\n",
      "            mc,mr=np.meshgrid(cluster_members[i],rest_mb)\n",
      "            confusion_mat_sub=confusion_mat[mr,mc]\n",
      "            rowsum=np.sum(confusion_mat_sub,axis=1)\n",
      "            rowsum_sorted=np.sort(rowsum)[::-1]\n",
      "            rowsum_sortid=np.argsort(rowsum)[::-1]\n",
      "            row_cumsum=np.cumsum(rowsum_sorted)+c_ac\n",
      "            ratio=row_cumsum/ac\n",
      "            ids=np.nonzero(ratio>=thres)[0]\n",
      "            for j in range(min(ids[0],max_exp_clu_size-len(cluster_members[i]))):\n",
      "                new_mb=rest_mb[rowsum_sortid[j]]\n",
      "                exp_cluster_members[i]+=[new_mb]\n",
      "        exp_cluster_members[i] = sorted(exp_cluster_members[i])\n",
      "    #     '''verify'''\n",
      "    #     mc,mr=np.meshgrid(cluster_members[i],exp_cluster_members[i])\n",
      "    #     confusion_mat_sub=confusion_mat[mr,mc]\n",
      "    #     c_ac=np.sum(confusion_mat_sub)\n",
      "    all_mb_count=sum([len(mbs) for mbs in exp_cluster_members])\n",
      "    print 'sum of number of members in all clusters',all_mb_count\n",
      "    n, bins, patches=plt.hist([len(exp_clus) for exp_clus in exp_cluster_members],bins=20)\n",
      "    print exp_cluster_members[0]"
     ],
     "language": "python",
     "metadata": {},
     "outputs": [
      {
       "output_type": "stream",
       "stream": "stdout",
       "text": [
        "sum of number of members in all clusters 16449\n",
        "[0, 1, 38, 39, 73, 84, 88, 90, 91, 93, 94, 96, 114, 124, 136, 186, 189, 309, 365, 392, 393, 396, 397, 452, 514, 616, 684, 686, 723, 749, 801, 957, 973, 989, 990, 991]\n"
       ]
      },
      {
       "metadata": {},
       "output_type": "display_data",
       "png": "[encoded data removed]",
       "text": [
        "<matplotlib.figure.Figure at 0x7fbd47206dd0>"
       ]
      }
     ],
     "prompt_number": 23
    },
    {
     "cell_type": "code",
     "collapsed": false,
     "input": [
      "''' Adding extra classes to each branch to compensate for coarse misclassification at gating part\n",
      "For each branch, sort all classes out of branch based on likelihood that they're misclassified into the branch\n",
      "Take the top ones and also limit the total number of classes within each branch\n",
      "'''\n",
      "all_mb=range(num_class)\n",
      "# for 89 clusters\n",
      "score_thres=1.0/(2.0*n_cluster)\n",
      "# for 152 clusters\n",
      "# score_thres=0.01 \n",
      "max_exp_clu_size=200\n",
      "extra_cluster_members=[None]*n_cluster\n",
      "exp_cluster_members=[None]*n_cluster\n",
      "\n",
      "for i in range(n_cluster):\n",
      "    non_member = np.asarray(np.setdiff1d(range(num_class),cluster_members[i]))\n",
      "#     print non_member.shape\n",
      "    score=np.zeros((non_member.shape[0]))\n",
      "    for j in range(non_member.shape[0]):\n",
      "        idx=np.nonzero(val_img_labels==non_member[j])[0]\n",
      "        lc_prob=probs[idx,:][:,cluster_members[i]]\n",
      "        score[j]=np.mean(np.sum(lc_prob,axis=1))\n",
      "    score_sorted=np.sort(score)[::-1]\n",
      "    idx_sort=np.argsort(score)[::-1]\n",
      "    idx2=np.nonzero(score_sorted>=score_thres)[0]\n",
      "    if len(idx2)+len(cluster_members[i])> max_exp_clu_size:\n",
      "        idx2=idx2[:(max_exp_clu_size-len(cluster_members[i]))]\n",
      "    extra_cluster_members[i]=[non_member[idx_sort[id]] for id in idx2]\n",
      "#     print 'cluster member %d' % len(cluster_members[i])\n",
      "#     for j in cluster_members[i]:\n",
      "#         print label_names[j]\n",
      "#     print 'extra member %d' % len(extra_cluster_members[i])\n",
      "#     for j in extra_cluster_members[i]:\n",
      "#         print label_names[j]\n",
      "    exp_cluster_members[i]=cluster_members[i]+extra_cluster_members[i]\n",
      "#     print len(exp_cluster_members[i])\n",
      "    assert len(exp_cluster_members[i])==np.unique(np.asarray(exp_cluster_members[i])).shape[0]"
     ],
     "language": "python",
     "metadata": {},
     "outputs": [],
     "prompt_number": 142
    },
    {
     "cell_type": "code",
     "collapsed": false,
     "input": [
      "total_member=sum([len(cluster) for cluster in exp_cluster_members])\n",
      "print 'total_member %d' % total_member\n",
      "plt.hist([len(cluster) for cluster in exp_cluster_members],bins=20)"
     ],
     "language": "python",
     "metadata": {},
     "outputs": [
      {
       "output_type": "stream",
       "stream": "stdout",
       "text": [
        "total_member 11249\n"
       ]
      },
      {
       "metadata": {},
       "output_type": "pyout",
       "prompt_number": 143,
       "text": [
        "(array([  2.,   2.,   1.,   5.,   9.,   3.,   2.,   9.,   1.,   8.,   7.,\n",
        "          3.,   2.,   2.,   5.,   0.,   2.,   1.,   0.,  25.]),\n",
        " array([  26. ,   34.7,   43.4,   52.1,   60.8,   69.5,   78.2,   86.9,\n",
        "          95.6,  104.3,  113. ,  121.7,  130.4,  139.1,  147.8,  156.5,\n",
        "         165.2,  173.9,  182.6,  191.3,  200. ]),\n",
        " <a list of 20 Patch objects>)"
       ]
      },
      {
       "metadata": {},
       "output_type": "display_data",
       "png": "[encoded data removed]",
       "text": [
        "<matplotlib.figure.Figure at 0x7f873a20cf50>"
       ]
      }
     ],
     "prompt_number": 143
    },
    {
     "cell_type": "code",
     "collapsed": false,
     "input": [
      "plot_cluster_coverage(num_class,cluster_members,confusion_mat)"
     ],
     "language": "python",
     "metadata": {},
     "outputs": [
      {
       "metadata": {},
       "output_type": "display_data",
       "png": "[encoded data removed]",
       "text": [
        "<matplotlib.figure.Figure at 0x7f873a20cdd0>"
       ]
      }
     ],
     "prompt_number": 144
    },
    {
     "cell_type": "code",
     "collapsed": false,
     "input": [
      "plot_cluster_coverage(num_class,exp_cluster_members,confusion_mat)"
     ],
     "language": "python",
     "metadata": {},
     "outputs": [
      {
       "metadata": {},
       "output_type": "display_data",
       "png": "[encoded data removed]",
       "text": [
        "<matplotlib.figure.Figure at 0x7f874500a450>"
       ]
      }
     ],
     "prompt_number": 145
    },
    {
     "cell_type": "code",
     "collapsed": false,
     "input": [
      "'''use k-means to cluster categories\n",
      "categories within the same cluster are confusing to each other'''\n",
      "if 0:\n",
      "    n_cluster, n_init, max_iter = 6, 100, 5000\n",
      "    centroid,label,inertia=k_means(ftr,n_cluster,n_init=n_init,max_iter=max_iter)\n",
      "    plt.figure()\n",
      "    cluster_members=[None]*n_cluster\n",
      "    for i in range(n_cluster):\n",
      "        idx=np.nonzero(label==i)[0]\n",
      "        cluster_members[i]=idx\n",
      "        print 'cluster %d size %d ' % (i, len(idx))\n",
      "        for j in range(len(idx)):\n",
      "            print '%s,' % label_names[idx[j]],\n",
      "        print ' '\n",
      "        cluster_confusion_mat = confusion_mat[idx,:][:,idx]\n",
      "        plt.subplot(1,n_cluster,i+1)\n",
      "        plt.imshow(cluster_confusion_mat)"
     ],
     "language": "python",
     "metadata": {},
     "outputs": [],
     "prompt_number": 35
    },
    {
     "cell_type": "code",
     "collapsed": false,
     "input": [
      "label_2_clusterid = np.zeros((num_class))\n",
      "for i in range(n_cluster):\n",
      "#     print 'cluster %d size %d' %(i, len(cluster_members[i]))\n",
      "    for j in range(len(cluster_members[i])):\n",
      "        label_2_clusterid[cluster_members[i][j]] = i\n",
      "\n",
      "label_2_clusterid_file = caffe_root +\\\n",
      "'data/ilsvrc12/label_2_clusterid_%dclusters_nin4-small_new_version.txt' % (n_cluster)\n",
      "\n",
      "f=open(label_2_clusterid_file,'w')\n",
      "for i in range(num_class):\n",
      "    f.write('%d\\n' % label_2_clusterid[i])\n",
      "f.close()"
     ],
     "language": "python",
     "metadata": {},
     "outputs": [],
     "prompt_number": 146
    },
    {
     "cell_type": "code",
     "collapsed": false,
     "input": [
      "'''calculate coarse category classification accuracy when classification layer \n",
      "(FC layer) has one neuron for each fine category '''\n",
      "'''\n",
      "read 1000-class probabilities of 50K val set images\n",
      "'''\n",
      "val50k_img_list = caffe_root + 'data/ilsvrc12/val.txt'\n",
      "val50k_img_names,val50k_img_labels=read_val_image_list(val50k_img_list)\n",
      "\n",
      "\n",
      "n_jobs=4\n",
      "val50k_prob_ftr_dir = caffe_local_root + 'examples/imagenet/hdcnn/nin4-small_new_version/val/_prob'\n",
      "num_val50k=50000\n",
      "val50k_prob = Parallel(n_jobs=n_jobs)\\\n",
      "(delayed(read_layer_ftr)(val50k_prob_ftr_dir, idx) for idx in range(num_val50k))\n",
      "val50k_prob=np.asarray(val50k_prob)\n",
      "val50k_pred_lbs=np.argmax(val50k_prob,axis=1)"
     ],
     "language": "python",
     "metadata": {},
     "outputs": [
      {
       "output_type": "stream",
       "stream": "stdout",
       "text": [
        "50000 validation images \n"
       ]
      }
     ],
     "prompt_number": 81
    },
    {
     "cell_type": "code",
     "collapsed": false,
     "input": [
      "'''calculate coarse category classification accuracy when classification layer \n",
      "(FC layer) has one neuron for each fine category '''\n",
      "'''\n",
      "read 1000-class probabilities of 50K val set images\n",
      "'''\n",
      "fine_accu=sum([1 if gt==pred else 0 for (gt,pred) in zip(val50k_img_labels, val50k_pred_lbs)])/float(len(val50k_img_labels))\n",
      "coarse_accu=sum([1 if label_2_clusterid[gt]==label_2_clusterid[pred] else 0 for (gt,pred) in zip(val50k_img_labels,val50k_pred_lbs)])/float(len(val50k_img_labels))\n",
      "print 'fine classification accuracy %4.3f' % fine_accu\n",
      "print 'coarse classification accuracy %4.3f' % coarse_accu"
     ],
     "language": "python",
     "metadata": {},
     "outputs": [
      {
       "output_type": "stream",
       "stream": "stdout",
       "text": [
        "fine classification accuracy 0.586\n",
        "coarse classification accuracy 0.688\n"
       ]
      }
     ],
     "prompt_number": 147
    },
    {
     "cell_type": "code",
     "collapsed": false,
     "input": [
      "'''compute aggregated coarse probability'''\n",
      "val50k_coarse_prob = np.zeros((val50k_prob.shape[0],n_cluster))\n",
      "for i in range(val50k_coarse_prob.shape[0]):\n",
      "    if i%1000==0:\n",
      "        print '%d out of %d' % (i,val50k_coarse_prob.shape[0])\n",
      "    for j in range(val50k_prob.shape[1]):\n",
      "        val50k_coarse_prob[i, label_2_clusterid[j]] += val50k_prob[i][j]\n",
      "\n",
      "    "
     ],
     "language": "python",
     "metadata": {},
     "outputs": [
      {
       "output_type": "stream",
       "stream": "stdout",
       "text": [
        "0 out of 50000\n",
        "1000 out of 50000"
       ]
      },
      {
       "output_type": "stream",
       "stream": "stdout",
       "text": [
        "\n",
        "2000 out of 50000"
       ]
      },
      {
       "output_type": "stream",
       "stream": "stdout",
       "text": [
        "\n",
        "3000 out of 50000"
       ]
      },
      {
       "output_type": "stream",
       "stream": "stdout",
       "text": [
        "\n",
        "4000 out of 50000"
       ]
      },
      {
       "output_type": "stream",
       "stream": "stdout",
       "text": [
        "\n",
        "5000 out of 50000"
       ]
      },
      {
       "output_type": "stream",
       "stream": "stdout",
       "text": [
        "\n",
        "6000 out of 50000"
       ]
      },
      {
       "output_type": "stream",
       "stream": "stdout",
       "text": [
        "\n",
        "7000 out of 50000"
       ]
      },
      {
       "output_type": "stream",
       "stream": "stdout",
       "text": [
        "\n",
        "8000 out of 50000"
       ]
      },
      {
       "output_type": "stream",
       "stream": "stdout",
       "text": [
        "\n",
        "9000 out of 50000"
       ]
      },
      {
       "output_type": "stream",
       "stream": "stdout",
       "text": [
        "\n",
        "10000 out of 50000"
       ]
      },
      {
       "output_type": "stream",
       "stream": "stdout",
       "text": [
        "\n",
        "11000 out of 50000"
       ]
      },
      {
       "output_type": "stream",
       "stream": "stdout",
       "text": [
        "\n",
        "12000 out of 50000"
       ]
      },
      {
       "output_type": "stream",
       "stream": "stdout",
       "text": [
        "\n",
        "13000 out of 50000"
       ]
      },
      {
       "output_type": "stream",
       "stream": "stdout",
       "text": [
        "\n",
        "14000 out of 50000"
       ]
      },
      {
       "output_type": "stream",
       "stream": "stdout",
       "text": [
        "\n",
        "15000 out of 50000"
       ]
      },
      {
       "output_type": "stream",
       "stream": "stdout",
       "text": [
        "\n",
        "16000 out of 50000"
       ]
      },
      {
       "output_type": "stream",
       "stream": "stdout",
       "text": [
        "\n",
        "17000 out of 50000"
       ]
      },
      {
       "output_type": "stream",
       "stream": "stdout",
       "text": [
        "\n",
        "18000 out of 50000"
       ]
      },
      {
       "output_type": "stream",
       "stream": "stdout",
       "text": [
        "\n",
        "19000 out of 50000"
       ]
      },
      {
       "output_type": "stream",
       "stream": "stdout",
       "text": [
        "\n",
        "20000 out of 50000"
       ]
      },
      {
       "output_type": "stream",
       "stream": "stdout",
       "text": [
        "\n",
        "21000 out of 50000"
       ]
      },
      {
       "output_type": "stream",
       "stream": "stdout",
       "text": [
        "\n",
        "22000 out of 50000"
       ]
      },
      {
       "output_type": "stream",
       "stream": "stdout",
       "text": [
        "\n",
        "23000 out of 50000"
       ]
      },
      {
       "output_type": "stream",
       "stream": "stdout",
       "text": [
        "\n",
        "24000 out of 50000"
       ]
      },
      {
       "output_type": "stream",
       "stream": "stdout",
       "text": [
        "\n",
        "25000 out of 50000"
       ]
      },
      {
       "output_type": "stream",
       "stream": "stdout",
       "text": [
        "\n",
        "26000 out of 50000"
       ]
      },
      {
       "output_type": "stream",
       "stream": "stdout",
       "text": [
        "\n",
        "27000 out of 50000"
       ]
      },
      {
       "output_type": "stream",
       "stream": "stdout",
       "text": [
        "\n",
        "28000 out of 50000"
       ]
      },
      {
       "output_type": "stream",
       "stream": "stdout",
       "text": [
        "\n",
        "29000 out of 50000"
       ]
      },
      {
       "output_type": "stream",
       "stream": "stdout",
       "text": [
        "\n",
        "30000 out of 50000"
       ]
      },
      {
       "output_type": "stream",
       "stream": "stdout",
       "text": [
        "\n",
        "31000 out of 50000"
       ]
      },
      {
       "output_type": "stream",
       "stream": "stdout",
       "text": [
        "\n",
        "32000 out of 50000"
       ]
      },
      {
       "output_type": "stream",
       "stream": "stdout",
       "text": [
        "\n",
        "33000 out of 50000"
       ]
      },
      {
       "output_type": "stream",
       "stream": "stdout",
       "text": [
        "\n",
        "34000 out of 50000"
       ]
      },
      {
       "output_type": "stream",
       "stream": "stdout",
       "text": [
        "\n",
        "35000 out of 50000"
       ]
      },
      {
       "output_type": "stream",
       "stream": "stdout",
       "text": [
        "\n",
        "36000 out of 50000"
       ]
      },
      {
       "output_type": "stream",
       "stream": "stdout",
       "text": [
        "\n",
        "37000 out of 50000"
       ]
      },
      {
       "output_type": "stream",
       "stream": "stdout",
       "text": [
        "\n",
        "38000 out of 50000"
       ]
      },
      {
       "output_type": "stream",
       "stream": "stdout",
       "text": [
        "\n",
        "39000 out of 50000"
       ]
      },
      {
       "output_type": "stream",
       "stream": "stdout",
       "text": [
        "\n",
        "40000 out of 50000"
       ]
      },
      {
       "output_type": "stream",
       "stream": "stdout",
       "text": [
        "\n",
        "41000 out of 50000"
       ]
      },
      {
       "output_type": "stream",
       "stream": "stdout",
       "text": [
        "\n",
        "42000 out of 50000"
       ]
      },
      {
       "output_type": "stream",
       "stream": "stdout",
       "text": [
        "\n",
        "43000 out of 50000"
       ]
      },
      {
       "output_type": "stream",
       "stream": "stdout",
       "text": [
        "\n",
        "44000 out of 50000"
       ]
      },
      {
       "output_type": "stream",
       "stream": "stdout",
       "text": [
        "\n",
        "45000 out of 50000"
       ]
      },
      {
       "output_type": "stream",
       "stream": "stdout",
       "text": [
        "\n",
        "46000 out of 50000"
       ]
      },
      {
       "output_type": "stream",
       "stream": "stdout",
       "text": [
        "\n",
        "47000 out of 50000"
       ]
      },
      {
       "output_type": "stream",
       "stream": "stdout",
       "text": [
        "\n",
        "48000 out of 50000"
       ]
      },
      {
       "output_type": "stream",
       "stream": "stdout",
       "text": [
        "\n",
        "49000 out of 50000"
       ]
      },
      {
       "output_type": "stream",
       "stream": "stdout",
       "text": [
        "\n"
       ]
      }
     ],
     "prompt_number": 163
    },
    {
     "cell_type": "code",
     "collapsed": false,
     "input": [
      "''' estimate the time savings if conditional executions are enabled\n",
      "'''\n",
      "beta=10.0\n",
      "thres=1.0/(beta*n_cluster)\n",
      "idx=np.nonzero(val50k_coarse_prob<thres)\n",
      "n_total=val50k_coarse_prob.shape[0]*val50k_coarse_prob.shape[1]\n",
      "print '%d out of %d %5.4f' % (len(idx[0]),n_total,float(len(idx[0]))/float(n_total))"
     ],
     "language": "python",
     "metadata": {},
     "outputs": [
      {
       "output_type": "stream",
       "stream": "stdout",
       "text": [
        "3900195 out of 4450000 0.8764\n"
       ]
      }
     ],
     "prompt_number": 165
    },
    {
     "cell_type": "code",
     "collapsed": false,
     "input": [
      "''' read previously computed label_2_clusterid_file into workplace'''\n",
      "if 0:\n",
      "    n_cluster = 173\n",
      "    label_2_clusterid_file = caffe_root +\\\n",
      "    'data/ilsvrc12/label_2_clusterid_%dclusters_nin4-small_new_version.txt' % (n_cluster)\n",
      "    label_2_clusterid = np.zeros((num_class))\n",
      "    f=open(label_2_clusterid_file)\n",
      "    for i,line in enumerate(f.readlines()):\n",
      "        label_2_clusterid[i]=int(line)\n",
      "    f.close()\n",
      "\n",
      "    print '%d validation set images' % len(val50k_prob)\n",
      "    assert len(val50k_prob)==len(val50k_img_labels)\n",
      "\n",
      "    rc=0\n",
      "    val50k_img_pred_labels = [] \n",
      "    for i,prob in enumerate(val50k_prob):\n",
      "        val50k_img_pred_labels += [np.argmax(prob)]\n",
      "\n",
      "    fine_accu=sum([1 if gt==pred else 0 for (gt,pred) in zip(val50k_img_labels,val50k_img_pred_labels)])/float(len(val50k_img_pred_labels))\n",
      "    coarse_accu=sum([1 if label_2_clusterid[gt]==label_2_clusterid[pred] else 0 for (gt,pred) in zip(val50k_img_labels,val50k_img_pred_labels)])/float(len(val50k_img_pred_labels))\n",
      "    print 'fine classification accuracy %4.3f' % fine_accu\n",
      "    print 'coarse classification accuracy %4.3f' % coarse_accu\n"
     ],
     "language": "python",
     "metadata": {},
     "outputs": [
      {
       "ename": "NameError",
       "evalue": "name 'caffe_root' is not defined",
       "output_type": "pyerr",
       "traceback": [
        "\u001b[1;31m---------------------------------------------------------------------------\u001b[0m\n\u001b[1;31mNameError\u001b[0m                                 Traceback (most recent call last)",
        "\u001b[1;32m<ipython-input-1-85f233cae32d>\u001b[0m in \u001b[0;36m<module>\u001b[1;34m()\u001b[0m\n\u001b[0;32m      1\u001b[0m \u001b[0mn_cluster\u001b[0m \u001b[1;33m=\u001b[0m \u001b[1;36m173\u001b[0m\u001b[1;33m\u001b[0m\u001b[0m\n\u001b[1;32m----> 2\u001b[1;33m \u001b[0mlabel_2_clusterid_file\u001b[0m \u001b[1;33m=\u001b[0m \u001b[0mcaffe_root\u001b[0m \u001b[1;33m+\u001b[0m\u001b[1;34m'data/ilsvrc12/label_2_clusterid_%dclusters_nin4-small_new_version.txt'\u001b[0m \u001b[1;33m%\u001b[0m \u001b[1;33m(\u001b[0m\u001b[0mn_cluster\u001b[0m\u001b[1;33m)\u001b[0m\u001b[1;33m\u001b[0m\u001b[0m\n\u001b[0m\u001b[0;32m      3\u001b[0m \u001b[0mlabel_2_clusterid\u001b[0m \u001b[1;33m=\u001b[0m \u001b[0mnp\u001b[0m\u001b[1;33m.\u001b[0m\u001b[0mzeros\u001b[0m\u001b[1;33m(\u001b[0m\u001b[1;33m(\u001b[0m\u001b[0mnum_class\u001b[0m\u001b[1;33m)\u001b[0m\u001b[1;33m)\u001b[0m\u001b[1;33m\u001b[0m\u001b[0m\n\u001b[0;32m      4\u001b[0m \u001b[0mf\u001b[0m\u001b[1;33m=\u001b[0m\u001b[0mopen\u001b[0m\u001b[1;33m(\u001b[0m\u001b[0mlabel_2_clusterid_file\u001b[0m\u001b[1;33m)\u001b[0m\u001b[1;33m\u001b[0m\u001b[0m\n\u001b[0;32m      5\u001b[0m \u001b[1;32mfor\u001b[0m \u001b[0mi\u001b[0m\u001b[1;33m,\u001b[0m\u001b[0mline\u001b[0m \u001b[1;32min\u001b[0m \u001b[0menumerate\u001b[0m\u001b[1;33m(\u001b[0m\u001b[0mf\u001b[0m\u001b[1;33m.\u001b[0m\u001b[0mreadlines\u001b[0m\u001b[1;33m(\u001b[0m\u001b[1;33m)\u001b[0m\u001b[1;33m)\u001b[0m\u001b[1;33m:\u001b[0m\u001b[1;33m\u001b[0m\u001b[0m\n",
        "\u001b[1;31mNameError\u001b[0m: name 'caffe_root' is not defined"
       ]
      }
     ],
     "prompt_number": 1
    },
    {
     "cell_type": "code",
     "collapsed": false,
     "input": [
      "''' \n",
      "read cluster%d_labels.txt files\n",
      "read exp_cluster%02d_label_map.txt files\n",
      "'''\n",
      "if 0:\n",
      "    n_cluster = 173\n",
      "    data_dir = caffe_root+'data/ilsvrc12/cluster_confusion_mat_%dclusters_nin4-small_new_version/' % (n_cluster)\n",
      "\n",
      "    cluster_members=[None]*n_cluster\n",
      "    exp_cluster_members =[None]*n_cluster\n",
      "\n",
      "    for i in range(n_cluster):\n",
      "        f=open(data_dir+'cluster%02d_labels.txt'%i,'r')\n",
      "        cluster_members[i]=[]\n",
      "        for line in f:\n",
      "            cluster_members[i]+=[int(line)]\n",
      "        f.close()\n",
      "\n",
      "\n",
      "        f=open(data_dir + 'exp_cluster%02d_label_map.txt' % i,'r')\n",
      "        exp_cluster_members[i]=[]\n",
      "        for line in f:\n",
      "            nums= line.split()\n",
      "            exp_cluster_members[i]+=[int(nums[0])]\n",
      "        f.close()"
     ],
     "language": "python",
     "metadata": {},
     "outputs": [],
     "prompt_number": 57
    },
    {
     "cell_type": "code",
     "collapsed": false,
     "input": [
      "'''for each cluster, write down the labels it owns'''\n",
      "data_dir = caffe_root+'data/ilsvrc12/cluster_confusion_mat_%dclusters_nin4-small_new_version/' % (n_cluster)\n",
      "if not os.path.exists(data_dir):\n",
      "    os.mkdir(data_dir)\n",
      "    \n",
      "for i in range(n_cluster):\n",
      "    f = open(data_dir + 'cluster%02d_labels.txt' % i,'w')\n",
      "    for j in range(len(cluster_members[i])):\n",
      "        f.write('%d\\n' % cluster_members[i][j])\n",
      "    f.close()\n",
      "    \n",
      "'''For each expanded cluster, prepare a training set with image's label remapped '''\n",
      "for i in range(n_cluster):\n",
      "    f=open(data_dir + 'exp_cluster%02d_label_map.txt' % i,'w')\n",
      "    for j in range(len(exp_cluster_members[i])):\n",
      "        f.write('%d %d\\n' % (exp_cluster_members[i][j],j))\n",
      "    f.close()    "
     ],
     "language": "python",
     "metadata": {},
     "outputs": [],
     "prompt_number": 148
    },
    {
     "cell_type": "code",
     "collapsed": true,
     "input": [],
     "language": "python",
     "metadata": {},
     "outputs": [],
     "prompt_number": 63
    },
    {
     "cell_type": "code",
     "collapsed": false,
     "input": [
      "conv1_name_line,conv1_top_line, relu0_bottom_line,relu0_top_line,\\\n",
      "cccp1_bottom_line=15,18,41,42,47\n",
      "conv1_blobs_lr1_line,conv1_blobs_lr2_line=19,20\n",
      "\n",
      "cccp1_name_line,cccp1_top_line,relu1_bottom_line,\\\n",
      "relu1_top_line,cccp2_bottom_line=45,48,69,70,75\n",
      "cccp1_blobs_lr1_line,cccp1_blobs_lr2_line=49,50\n",
      "\n",
      "cccp2_name_line,cccp2_top_line,relu2_bottom_line,\\\n",
      "relu2_top_line,pool1_bottom_line=73,76,97,98,103\n",
      "cccp2_blobs_lr1_line,cccp2_blobs_lr2_line=77,78\n",
      "\n",
      "conv2_name_line,conv2_top_line,relu3_bottom_line,relu3_top_line,\\\n",
      "cccp3_bottom_line =112,115,139,140,145\n",
      "conv2_blobs_lr1_line,conv2_blobs_lr2_line=116,117\n",
      "\n",
      "cccp3_name_line,cccp3_top_line,relu5_bottom_line,\\\n",
      "relu5_top_line,cccp4_bottom_line=143,146,167,168,173\n",
      "cccp3_blobs_lr1_line,cccp3_blobs_lr2_line=147,148\n",
      "\n",
      "cccp4_name_line,cccp4_top_line,relu6_bottom_line,\\\n",
      "relu6_top_line,pool2_bottom_line=171,174,195,196,201\n",
      "cccp4_blobs_lr1_line,cccp4_blobs_lr2_line=175, 176\n",
      "\n",
      "conv3_name_line,conv3_top_line,relu7_bottom_line,relu7_top_line,\\\n",
      "cccp5_bottom_line=210,213,237,238,243\n",
      "conv3_blobs_lr1_line,conv3_blobs_lr2_line=214,215\n",
      "\n",
      "cccp5_name_line,cccp5_top_line, relu8_bottom_line, relu8_top_line,\\\n",
      "cccp6_bottom_line=241,244,265,266,271\n",
      "cccp5_blobs_lr1_line,cccp5_blobs_lr2_line=245,246\n",
      "\n",
      "cccp6_name_line,cccp6_top_line, relu9_bottom_line, relu9_top_line,\\\n",
      "pool3_bottom_line=269, 272, 293,294,299\n",
      "cccp6_blobs_lr1_line,cccp6_blobs_lr2_line=273,274\n",
      "\n",
      "conv4_name_line,conv4_top_line,relu10_bottom_line,relu10_top_line,\\\n",
      "cccp7_bottom_line=317, 320, 344,345,350\n",
      "conv4_blobs_lr1_line,conv4_blobs_lr2_line=321,322\n",
      "\n",
      "cccp7_name_line,cccp7_top_line, relu11_bottom_line, relu11_top_line,\\\n",
      "cccp8_bottom_line=348, 351, 372,373, 378\n",
      "cccp7_blobs_lr1_line,cccp7_blobs_lr2_line=352,353\n",
      "\n",
      "cccp8_name_line,cccp8_top_line, relu12_bottom_line, relu12_top_line,\\\n",
      "pool4_bottom_line=376, 379, 400,401,406\n",
      "cccp8_blobs_lr1_line,cccp8_blobs_lr2_line=380,381\n",
      "cccp8_num_output_line=385\n",
      "\n",
      "net_proto_source_line, net_cccp8_outputnum_line = 7, 385"
     ],
     "language": "python",
     "metadata": {},
     "outputs": [],
     "prompt_number": 149
    },
    {
     "cell_type": "code",
     "collapsed": true,
     "input": [
      "def read_text(fn):\n",
      "    text=[]\n",
      "    f=open(fn)\n",
      "    for line in f:\n",
      "        text+=[line]\n",
      "    f.close()\n",
      "    return text\n",
      "\n",
      "def write_text(fn,text):\n",
      "    f=open(fn,'w')\n",
      "    f.writelines(text)\n",
      "    f.close()"
     ],
     "language": "python",
     "metadata": {},
     "outputs": [],
     "prompt_number": 65
    },
    {
     "cell_type": "code",
     "collapsed": true,
     "input": [
      "def update_train_test_clusterid(proto):\n",
      "    proto[conv1_name_line]='\\tname: \"clusterid_conv1\"\\n' \n",
      "    proto[conv1_top_line]='\\ttop: \"clusterid_conv1\"\\n' \n",
      "    proto[relu0_bottom_line]='\\tbottom: \"clusterid_conv1\"\\n' \n",
      "    proto[relu0_top_line]='\\ttop: \"clusterid_conv1\"\\n'     \n",
      "    proto[cccp1_bottom_line]='\\tbottom: \"clusterid_conv1\"\\n'\n",
      "\n",
      "    \n",
      "    proto[cccp1_name_line]='\\tname: \"clusterid_cccp1\"\\n' \n",
      "    proto[cccp1_top_line]='\\ttop: \"clusterid_cccp1\"\\n' \n",
      "    proto[relu1_bottom_line]='\\tbottom: \"clusterid_cccp1\"\\n'\n",
      "    proto[relu1_top_line]='\\ttop: \"clusterid_cccp1\"\\n' \n",
      "    proto[cccp2_bottom_line]='\\tbottom: \"clusterid_cccp1\"\\n'\n",
      "    \n",
      "    \n",
      "    proto[cccp2_name_line]='\\tname: \"clusterid_cccp2\"\\n' \n",
      "    proto[cccp2_top_line]='\\ttop: \"clusterid_cccp2\"\\n' \n",
      "    proto[relu2_bottom_line]='\\tbottom: \"clusterid_cccp2\"\\n' \n",
      "    proto[relu2_top_line]='\\ttop: \"clusterid_cccp2\"\\n' \n",
      "    proto[pool1_bottom_line]='\\tbottom: \"clusterid_cccp2\"\\n' \n",
      "    \n",
      "    proto[conv2_name_line]='\\tname: \"clusterid_conv2\"\\n' \n",
      "    proto[conv2_top_line]='\\ttop: \"clusterid_conv2\"\\n' \n",
      "    proto[relu3_bottom_line]='\\tbottom: \"clusterid_conv2\"\\n' \n",
      "    proto[relu3_top_line]='\\ttop: \"clusterid_conv2\"\\n' \n",
      "    proto[cccp3_bottom_line]='\\tbottom: \"clusterid_conv2\"\\n' \n",
      "  \n",
      "    proto[cccp3_name_line]='\\tname: \"clusterid_cccp3\"\\n' \n",
      "    proto[cccp3_top_line]='\\ttop: \"clusterid_cccp3\"\\n' \n",
      "    proto[relu5_bottom_line]='\\tbottom: \"clusterid_cccp3\"\\n' \n",
      "    proto[relu5_top_line]='\\ttop: \"clusterid_cccp3\"\\n' \n",
      "    proto[cccp4_bottom_line]='\\tbottom: \"clusterid_cccp3\"\\n'  \n",
      "    \n",
      "    proto[cccp4_name_line]='\\tname: \"clusterid_cccp4\"\\n'\n",
      "    proto[cccp4_top_line]='\\ttop: \"clusterid_cccp4\"\\n' \n",
      "    proto[relu6_bottom_line]='\\tbottom: \"clusterid_cccp4\"\\n' \n",
      "    proto[relu6_top_line]='\\ttop: \"clusterid_cccp4\"\\n' \n",
      "    proto[pool2_bottom_line]='\\tbottom: \"clusterid_cccp4\"\\n'       \n",
      "    \n",
      "    proto[conv3_name_line]='\\tname: \"clusterid_conv3\"\\n' \n",
      "    proto[conv3_top_line]='\\ttop: \"clusterid_conv3\"\\n' \n",
      "    proto[relu7_bottom_line]='\\tbottom: \"clusterid_conv3\"\\n' \n",
      "    proto[relu7_top_line]='\\ttop: \"clusterid_conv3\"\\n'     \n",
      "    proto[cccp5_bottom_line]='\\tbottom: \"clusterid_conv3\"\\n' \n",
      " \n",
      "    \n",
      "    proto[cccp5_name_line]='\\tname: \"clusterid_cccp5\"\\n' \n",
      "    proto[cccp5_top_line]='\\ttop: \"clusterid_cccp5\"\\n' \n",
      "    proto[relu8_bottom_line]='\\tbottom: \"clusterid_cccp5\"\\n' \n",
      "    proto[relu8_top_line]='\\ttop: \"clusterid_cccp5\"\\n' \n",
      "    proto[cccp6_bottom_line]='\\tbottom: \"clusterid_cccp5\"\\n' \n",
      "   \n",
      "    \n",
      "    proto[cccp6_name_line]='\\tname: \"clusterid_cccp6\"\\n' \n",
      "    proto[cccp6_top_line]='\\ttop: \"clusterid_cccp6\"\\n' \n",
      "    proto[relu9_bottom_line]='\\tbottom: \"clusterid_cccp6\"\\n'\n",
      "    proto[relu9_top_line]='\\ttop: \"clusterid_cccp6\"\\n' \n",
      "    proto[pool3_bottom_line]='\\tbottom: \"clusterid_cccp6\"\\n' \n",
      "\n",
      "    proto[conv4_name_line]='\\tname: \"clusterid_conv4-1024\"\\n' \n",
      "    proto[conv4_top_line]='\\ttop: \"clusterid_conv4\"\\n' \n",
      "    proto[relu10_bottom_line]='\\tbottom: \"clusterid_conv4\"\\n' \n",
      "    proto[relu10_top_line]='\\ttop: \"clusterid_conv4\"\\n'    \n",
      "    proto[cccp7_bottom_line]='\\tbottom: \"clusterid_conv4\"\\n'\n",
      "    \n",
      "    proto[cccp7_name_line]='\\tname: \"clusterid_cccp7-1024\"\\n' \n",
      "    proto[cccp7_top_line]='\\ttop: \"clusterid_cccp7\"\\n' \n",
      "    proto[relu11_bottom_line]='\\tbottom: \"clusterid_cccp7\"\\n' \n",
      "    proto[relu11_top_line]='\\ttop: \"clusterid_cccp7\"\\n'\n",
      "    proto[cccp8_bottom_line]='\\tbottom: \"clusterid_cccp7\"\\n'\n",
      "    \n",
      "    proto[cccp8_name_line]='\\tname: \"clusterid_cccp8-1024\"\\n' \n",
      "    proto[cccp8_top_line]='\\ttop: \"clusterid_cccp8\"\\n' \n",
      "    proto[relu12_bottom_line]='\\tbottom: \"clusterid_cccp8\"\\n' \n",
      "    proto[relu12_top_line]='\\ttop: \"clusterid_cccp8\"\\n' \n",
      "    proto[pool4_bottom_line]='\\tbottom: \"clusterid_cccp8\"\\n'        "
     ],
     "language": "python",
     "metadata": {},
     "outputs": [],
     "prompt_number": 27
    },
    {
     "cell_type": "code",
     "collapsed": false,
     "input": [
      "num_gpu=2\n",
      "version ='v2.0'\n",
      "example_dir = caffe_root + 'examples/imagenet/'\n",
      "save_dir = 'imagenet12_NIN_%dclusters/'%(n_cluster)\n",
      "save_subdir = save_dir + '%s/'%(version)\n",
      "print example_dir\n",
      "print save_dir\n",
      "print save_subdir\n",
      "if not os.path.exists(example_dir+save_dir):\n",
      "    os.mkdir(example_dir+save_dir)\n",
      "if not os.path.exists(example_dir+save_subdir):\n",
      "    os.mkdir(example_dir+save_subdir)    "
     ],
     "language": "python",
     "metadata": {},
     "outputs": [
      {
       "output_type": "stream",
       "stream": "stdout",
       "text": [
        "/home/zyan3/proj/caffe_private_decision-cnn/examples/imagenet/\n",
        "imagenet12_NIN_89clusters/\n",
        "imagenet12_NIN_89clusters/v2.0/\n"
       ]
      }
     ],
     "prompt_number": 150
    },
    {
     "cell_type": "code",
     "collapsed": false,
     "input": [
      "'''\n",
      "prepare solver/train/test.prototxt for training a network using clusterid as labels\n",
      "'''\n",
      "if 0:\n",
      "    solver_proto='nin4-small_new_version_solver.prototxt'\n",
      "    solver_proto_output='nin4-small_new_version_clusterid_%dclusters_solver.prototxt' % (n_cluster)\n",
      "\n",
      "    train_proto, test_proto, deploy_proto=\\\n",
      "    'nin4-small_new_version_train.prototxt',\\\n",
      "    'nin4-small_new_version_val.prototxt',\\\n",
      "    'nin4-small_new_version_deploy.prototxt'\n",
      "\n",
      "    solver_proto_template=read_text(example_dir+solver_proto)\n",
      "\n",
      "    train_proto_template=read_text(example_dir+train_proto)\n",
      "    test_proto_template=read_text(example_dir+test_proto)\n",
      "    deploy_proto_template=read_text(example_dir+deploy_proto)\n",
      "\n",
      "    solver_proto_trainnet_line,solver_proto_testnet_line,\\\n",
      "    solver_proto_stepsize_line,solver_proto_max_iter_line,\\\n",
      "    solver_proto_prefix_line,solver_proto_deviceid_line=0,1,7,9,13,15\n",
      "\n",
      "\n",
      "\n",
      "    trainnet_nm = 'nin4-small_new_version_clusterid_%dclusters_train.prototxt'%\\\n",
      "    (n_cluster)\n",
      "    valnet_nm = 'nin4-small_new_version_clusterid_%dclusters_val.prototxt'%\\\n",
      "    (n_cluster)\n",
      "    deploynet_nm = 'nin4-small_new_version_clusterid_%dclusters_deploy.prototxt'%\\\n",
      "    (n_cluster)    \n",
      "\n",
      "    solver_proto_ = copy.deepcopy(solver_proto_template)\n",
      "    solver_proto_[solver_proto_trainnet_line] = \\\n",
      "    'train_net: \"%s%s\"\\n' % (save_dir,trainnet_nm)\n",
      "    solver_proto_[solver_proto_testnet_line] = \\\n",
      "    'test_net: \"%s%s\"\\n' % (save_dir, valnet_nm)\n",
      "\n",
      "    solver_proto_[solver_proto_prefix_line] = \\\n",
      "    'snapshot_prefix: \"%simagenet12_NIN_clusterid_%dclusters\"\\n' \\\n",
      "    % (save_dir,n_cluster)\n",
      "\n",
      "    solver_proto_[solver_proto_deviceid_line]= 'device_id: %d' % (i%num_gpu)\n",
      "\n",
      "    write_text(example_dir+save_dir+solver_proto_output,solver_proto_)\n",
      "\n",
      "    train_proto_ = copy.deepcopy(train_proto_template)\n",
      "    train_proto_[net_cccp8_outputnum_line] = '\\t\\tnum_output: %d\\n' % n_cluster\n",
      "    train_proto_[net_proto_source_line] = \\\n",
      "    '\\tsource: \"/home/yzc/data/imagenet/ilsvrc_12/imagenet-clusterid-%dclusters-nin4-small_new_version-train-leveldb\"\\n'\\\n",
      "    % n_cluster\n",
      "    update_train_test_clusterid(train_proto_)\n",
      "\n",
      "    write_text(example_dir+save_dir+trainnet_nm,train_proto_)\n",
      "\n",
      "    test_proto_ = copy.deepcopy(test_proto_template)\n",
      "    test_proto_[net_cccp8_outputnum_line] = '\\t\\tnum_output: %d\\n' % n_cluster\n",
      "    test_proto_[net_proto_source_line] = \\\n",
      "    '\\tsource: \"/home/yzc/data/imagenet/ilsvrc_12/imagenet-clusterid-%dclusters-nin4-small_new_version-val-leveldb\"\\n'\\\n",
      "    %n_cluster\n",
      "    update_train_test_clusterid(test_proto_)\n",
      "\n",
      "    write_text(example_dir+save_dir+valnet_nm,test_proto_)\n",
      "\n",
      "    deploy_proto_ = copy.deepcopy(deploy_proto_template)\n",
      "    update_train_test_clusterid(deploy_proto_)\n",
      "    write_text(example_dir+save_dir+deploynet_nm,deploy_proto_)"
     ],
     "language": "python",
     "metadata": {},
     "outputs": [],
     "prompt_number": 163
    },
    {
     "cell_type": "code",
     "collapsed": false,
     "input": [
      "'''\n",
      "two-time branching component pretraining\n",
      "branching components share parameters in layers conv1 ~ cccp7\n",
      "'''\n",
      "def update_train_test(proto, cluster_id, cccp8_num_output=0):\n",
      "#     proto[conv1_name_line]='\\tname: \"cluster%02d_conv1\"\\n' % cluster_id\n",
      "#     proto[conv1_top_line]='\\ttop: \"cluster%02d_conv1\"\\n' % cluster_id\n",
      "#     proto[relu0_bottom_line]='\\tbottom: \"cluster%02d_conv1\"\\n' % cluster_id\n",
      "#     proto[relu0_top_line]='\\ttop: \"cluster%02d_conv1\"\\n' % cluster_id\n",
      "#     proto[cccp1_bottom_line]='\\tbottom: \"cluster%02d_conv1\"\\n' % cluster_id\n",
      "    proto[conv1_blobs_lr1_line]='\\tblobs_lr: 0\\n'\n",
      "    proto[conv1_blobs_lr2_line]='\\tblobs_lr: 0\\n'\n",
      "    \n",
      "#     proto[cccp1_name_line]='\\tname: \"cluster%02d_cccp1\"\\n' % cluster_id\n",
      "#     proto[cccp1_top_line]='\\ttop: \"cluster%02d_cccp1\"\\n' % cluster_id\n",
      "#     proto[relu1_bottom_line]='\\tbottom: \"cluster%02d_cccp1\"\\n' % cluster_id\n",
      "#     proto[relu1_top_line]='\\ttop: \"cluster%02d_cccp1\"\\n' % cluster_id\n",
      "#     proto[cccp2_bottom_line]='\\tbottom: \"cluster%02d_cccp1\"\\n' % cluster_id    \n",
      "    proto[cccp1_blobs_lr1_line]='\\tblobs_lr: 0\\n'\n",
      "    proto[cccp1_blobs_lr2_line]='\\tblobs_lr: 0\\n'      \n",
      "    \n",
      "#     proto[cccp2_name_line]='\\tname: \"cluster%02d_cccp2\"\\n' % cluster_id\n",
      "#     proto[cccp2_top_line]='\\ttop: \"cluster%02d_cccp2\"\\n' % cluster_id\n",
      "#     proto[relu2_bottom_line]='\\tbottom: \"cluster%02d_cccp2\"\\n' % cluster_id\n",
      "#     proto[relu2_top_line]='\\ttop: \"cluster%02d_cccp2\"\\n' % cluster_id\n",
      "#     proto[pool1_bottom_line]='\\tbottom: \"cluster%02d_cccp2\"\\n' % cluster_id\n",
      "    proto[cccp2_blobs_lr1_line]='\\tblobs_lr: 0\\n'\n",
      "    proto[cccp2_blobs_lr2_line]='\\tblobs_lr: 0\\n'   \n",
      "    \n",
      "#     proto[conv2_name_line]='\\tname: \"cluster%02d_conv2\"\\n' % cluster_id\n",
      "#     proto[conv2_top_line]='\\ttop: \"cluster%02d_conv2\"\\n' % cluster_id\n",
      "#     proto[relu3_bottom_line]='\\tbottom: \"cluster%02d_conv2\"\\n' % cluster_id\n",
      "#     proto[relu3_top_line]='\\ttop: \"cluster%02d_conv2\"\\n' % cluster_id\n",
      "#     proto[cccp3_bottom_line]='\\tbottom: \"cluster%02d_conv2\"\\n' % cluster_id\n",
      "    proto[conv2_blobs_lr1_line]='\\tblobs_lr: 0\\n'\n",
      "    proto[conv2_blobs_lr2_line]='\\tblobs_lr: 0\\n'  \n",
      "    \n",
      "#     proto[cccp3_name_line]='\\tname: \"cluster%02d_cccp3\"\\n' % cluster_id\n",
      "#     proto[cccp3_top_line]='\\ttop: \"cluster%02d_cccp3\"\\n' % cluster_id\n",
      "#     proto[relu5_bottom_line]='\\tbottom: \"cluster%02d_cccp3\"\\n' % cluster_id\n",
      "#     proto[relu5_top_line]='\\ttop: \"cluster%02d_cccp3\"\\n' % cluster_id\n",
      "#     proto[cccp4_bottom_line]='\\tbottom: \"cluster%02d_cccp3\"\\n' % cluster_id   \n",
      "    proto[cccp3_blobs_lr1_line]='\\tblobs_lr: 0\\n'\n",
      "    proto[cccp3_blobs_lr2_line]='\\tblobs_lr: 0\\n'  \n",
      "    \n",
      "#     proto[cccp4_name_line]='\\tname: \"cluster%02d_cccp4\"\\n' % cluster_id\n",
      "#     proto[cccp4_top_line]='\\ttop: \"cluster%02d_cccp4\"\\n' % cluster_id\n",
      "#     proto[relu6_bottom_line]='\\tbottom: \"cluster%02d_cccp4\"\\n' % cluster_id\n",
      "#     proto[relu6_top_line]='\\ttop: \"cluster%02d_cccp4\"\\n' % cluster_id\n",
      "#     proto[pool2_bottom_line]='\\tbottom: \"cluster%02d_cccp4\"\\n' % cluster_id       \n",
      "    proto[cccp4_blobs_lr1_line]='\\tblobs_lr: 0\\n'\n",
      "    proto[cccp4_blobs_lr2_line]='\\tblobs_lr: 0\\n'  \n",
      "    \n",
      "#     proto[conv3_name_line]='\\tname: \"cluster%02d_conv3\"\\n' % cluster_id\n",
      "#     proto[conv3_top_line]='\\ttop: \"cluster%02d_conv3\"\\n' % cluster_id\n",
      "#     proto[relu7_bottom_line]='\\tbottom: \"cluster%02d_conv3\"\\n' % cluster_id\n",
      "#     proto[relu7_top_line]='\\ttop: \"cluster%02d_conv3\"\\n' % cluster_id\n",
      "#     proto[cccp5_bottom_line]='\\tbottom: \"cluster%02d_conv3\"\\n' % cluster_id\n",
      "    proto[conv3_blobs_lr1_line]='\\tblobs_lr: 0\\n'\n",
      "    proto[conv3_blobs_lr2_line]='\\tblobs_lr: 0\\n' \n",
      "    \n",
      "#     proto[cccp5_name_line]='\\tname: \"cluster%02d_cccp5\"\\n' % cluster_id\n",
      "#     proto[cccp5_top_line]='\\ttop: \"cluster%02d_cccp5\"\\n' % cluster_id\n",
      "#     proto[relu8_bottom_line]='\\tbottom: \"cluster%02d_cccp5\"\\n' % cluster_id\n",
      "#     proto[relu8_top_line]='\\ttop: \"cluster%02d_cccp5\"\\n' % cluster_id\n",
      "#     proto[cccp6_bottom_line]='\\tbottom: \"cluster%02d_cccp5\"\\n' % cluster_id \n",
      "    proto[cccp5_blobs_lr1_line]='\\tblobs_lr: 0\\n'\n",
      "    proto[cccp5_blobs_lr2_line]='\\tblobs_lr: 0\\n'     \n",
      "    \n",
      "    \n",
      "#     proto[cccp6_name_line]='\\tname: \"cluster%02d_cccp6\"\\n' % cluster_id\n",
      "#     proto[cccp6_top_line]='\\ttop: \"cluster%02d_cccp6\"\\n' % cluster_id\n",
      "#     proto[relu9_bottom_line]='\\tbottom: \"cluster%02d_cccp6\"\\n' % cluster_id\n",
      "#     proto[relu9_top_line]='\\ttop: \"cluster%02d_cccp6\"\\n' % cluster_id\n",
      "#     proto[pool3_bottom_line]='\\tbottom: \"cluster%02d_cccp6\"\\n' % cluster_id\n",
      "    proto[cccp6_blobs_lr1_line]='\\tblobs_lr: 0\\n'\n",
      "    proto[cccp6_blobs_lr2_line]='\\tblobs_lr: 0\\n'\n",
      "    \n",
      "    proto[conv4_name_line]='\\tname: \"cluster%02d_conv4-1024\"\\n' % cluster_id\n",
      "    proto[conv4_top_line]='\\ttop: \"cluster%02d_conv4-1024\"\\n' % cluster_id\n",
      "    proto[relu10_bottom_line]='\\tbottom: \"cluster%02d_conv4-1024\"\\n' % cluster_id\n",
      "    proto[relu10_top_line]='\\ttop: \"cluster%02d_conv4-1024\"\\n' % cluster_id\n",
      "    proto[cccp7_bottom_line]='\\tbottom: \"cluster%02d_conv4-1024\"\\n' % cluster_id\n",
      "#     proto[conv4_blobs_lr1_line]='\\tblobs_lr: 0\\n'\n",
      "#     proto[conv4_blobs_lr2_line]='\\tblobs_lr: 0\\n'\n",
      "\n",
      "    proto[cccp7_name_line]='\\tname: \"cluster%02d_cccp7-1024\"\\n' % cluster_id\n",
      "    proto[cccp7_top_line]='\\ttop: \"cluster%02d_cccp7-1024\"\\n' % cluster_id\n",
      "    proto[relu11_bottom_line]='\\tbottom: \"cluster%02d_cccp7-1024\"\\n' % cluster_id\n",
      "    proto[relu11_top_line]='\\ttop: \"cluster%02d_cccp7-1024\"\\n' % cluster_id\n",
      "    proto[cccp8_bottom_line]='\\tbottom: \"cluster%02d_cccp7-1024\"\\n' % cluster_id \n",
      "#     proto[cccp7_blobs_lr1_line]='\\tblobs_lr: 0\\n'\n",
      "#     proto[cccp7_blobs_lr2_line]='\\tblobs_lr: 0\\n' \n",
      "    \n",
      "    proto[cccp8_name_line]='\\tname: \"cluster%02d_cccp8-1024_compact\"\\n' % cluster_id\n",
      "    proto[cccp8_top_line]='\\ttop: \"cluster%02d_cccp8-1024\"\\n' % cluster_id\n",
      "    proto[relu12_bottom_line]='\\tbottom: \"cluster%02d_cccp8-1024\"\\n' % cluster_id\n",
      "    proto[relu12_top_line]='\\ttop: \"cluster%02d_cccp8-1024\"\\n' % cluster_id\n",
      "    proto[pool4_bottom_line]='\\tbottom: \"cluster%02d_cccp8-1024\"\\n' % cluster_id \n",
      "#     proto[cccp8_blobs_lr1_line]='\\tblobs_lr: 0\\n'\n",
      "#     proto[cccp8_blobs_lr2_line]='\\tblobs_lr: 0\\n'\n",
      "    if cccp8_num_output>0:\n",
      "        proto[cccp8_num_output_line]='\\t\\tnum_output: %d\\n' % cccp8_num_output"
     ],
     "language": "python",
     "metadata": {},
     "outputs": [],
     "prompt_number": 151
    },
    {
     "cell_type": "code",
     "collapsed": false,
     "input": [
      "version='v2.0'\n",
      "print n_cluster, version, save_dir"
     ],
     "language": "python",
     "metadata": {},
     "outputs": [
      {
       "output_type": "stream",
       "stream": "stdout",
       "text": [
        "89 v2.0 imagenet12_NIN_89clusters/\n"
       ]
      }
     ],
     "prompt_number": 172
    },
    {
     "cell_type": "code",
     "collapsed": false,
     "input": [
      "'''\n",
      "two-time branching components pre-training\n",
      "As an existance proof, train a separate CNN for each cluster \n",
      "prepare solver/train/test.prototxt for each cluster\n",
      "'''\n",
      "max_iter = [40000]\n",
      "stepsize=[15000]\n",
      "solver_proto=['nin4-small_new_version_solver.prototxt']\n",
      "\n",
      "solver_proto_output=['imagenet12_NIN_%dclusters_%s_solver.prototxt' % (n_cluster,version)]\n",
      "print solver_proto_output\n",
      "\n",
      "train_proto, test_proto, deploy_proto=\\\n",
      "'nin4-small_new_version_train.prototxt',\\\n",
      "'nin4-small_new_version_val.prototxt',\\\n",
      "'nin4-small_new_version_deploy.prototxt'\n",
      "\n",
      "solver_proto_templates = [None]*len(solver_proto)\n",
      "for i in range(len(solver_proto)):\n",
      "    solver_proto_templates[i]=[]\n",
      "    f=open(example_dir + solver_proto[i],'r')\n",
      "    for line in f:\n",
      "        solver_proto_templates[i]+=[line]\n",
      "    f.close()\n",
      "\n",
      "train_proto_template,test_proto_template,deploy_proto_template=[],[],[]\n",
      "f=open(example_dir+train_proto,'r')\n",
      "for line in f:\n",
      "    train_proto_template+=[line]\n",
      "f.close()\n",
      "f=open(example_dir+test_proto,'r')\n",
      "for line in f:\n",
      "    test_proto_template+=[line]\n",
      "f.close()\n",
      "f=open(example_dir+deploy_proto,'r')\n",
      "for line in f:\n",
      "    deploy_proto_template+=[line]\n",
      "f.close()\n",
      "    \n",
      "solver_proto_trainnet_line,solver_proto_testnet_line,solver_proto_test_iter_line,\\\n",
      "solver_proto_stepsize_line,solver_proto_max_iter_line,\\\n",
      "solver_snapshot_proto_line, solver_proto_prefix_line,solver_proto_deviceid_line=\\\n",
      "0,1,2,7,9,12,13,15\n",
      "\n",
      "train_test_proto_source_line = 7\n",
      "\n",
      "for i in range(n_cluster):\n",
      "    cccp8_num_output_i = len(exp_cluster_members[i])\n",
      "                             \n",
      "    trainnet_nm = 'cluster%02d_imagenet12_NIN_%dclusters_%s_train.prototxt'%\\\n",
      "    (i,n_cluster,version)\n",
      "    valnet_nm = 'cluster%02d_imagenet12_NIN_%dclusters_%s_val.prototxt'%\\\n",
      "    (i,n_cluster,version)\n",
      "    deploynet_nm = 'cluster%02d_imagenet12_NIN_%dclusters_%s_deploy.prototxt'%\\\n",
      "    (i,n_cluster,version)    \n",
      "    \n",
      "    for j in range(len(solver_proto)):\n",
      "        solver_proto_ = copy.deepcopy(solver_proto_templates[j])\n",
      "        solver_proto_[solver_proto_trainnet_line] = \\\n",
      "    'train_net: \"%s%s\"\\n' % (save_subdir,trainnet_nm)\n",
      "        solver_proto_[solver_proto_testnet_line] = \\\n",
      "        'test_net: \"%s%s\"\\n'% (save_subdir, valnet_nm)\n",
      "        solver_proto_[solver_proto_test_iter_line] = \\\n",
      "        'test_iter: %d \\n' % math.ceil( len(exp_cluster_members[i]) * 130.0 / 100.0)\n",
      "\n",
      "        solver_proto_[solver_proto_stepsize_line] = 'stepsize: %d\\n' % stepsize[j]\n",
      "        solver_proto_[solver_proto_max_iter_line] = 'max_iter: %d\\n' % max_iter[j]\n",
      "        solver_proto_[solver_snapshot_proto_line] = 'snapshot: 5000\\n'\n",
      "        solver_proto_[solver_proto_prefix_line] = \\\n",
      "    'snapshot_prefix: \"%scluster%02d_imagenet12_NIN_%dclusters_%s\"\\n' \\\n",
      "    % (save_subdir,i,n_cluster,version)\n",
      "        \n",
      "        solver_proto_[solver_proto_deviceid_line]= 'device_id: %d' % (i%num_gpu)\n",
      "    \n",
      "        f=open(example_dir+save_subdir+'cluster%02d_%s' %(i, solver_proto_output[j]),'w')\n",
      "        f.writelines(solver_proto_)\n",
      "        f.close()\n",
      "    \n",
      "    train_proto_ = copy.deepcopy(train_proto_template)\n",
      "    train_proto_[train_test_proto_source_line] = \\\n",
      "    '\\tsource: \"/home/zyan3/local/data/imagenet/%scluster_confusion_mat_%dclusters_NIN/imagenet_cluster%02d_NIN_train_leveldb\"\\n'\\\n",
      "    % (save_dir,n_cluster,i)\n",
      "    update_train_test(train_proto_, i, cccp8_num_output_i)\n",
      "    \n",
      "    f=open(example_dir+save_subdir+trainnet_nm,'w')\n",
      "    f.writelines(train_proto_)\n",
      "    f.close()\n",
      "    \n",
      "    test_proto_ = copy.deepcopy(test_proto_template)\n",
      "    test_proto_[train_test_proto_source_line] = \\\n",
      "    '\\tsource: \"/home/zyan3/local/data/imagenet/%scluster_confusion_mat_%dclusters_NIN/imagenet_cluster%02d_NIN_val_leveldb\"\\n'\\\n",
      "    % (save_dir,n_cluster,i)  \n",
      "    update_train_test(test_proto_, i, cccp8_num_output_i)\n",
      "    \n",
      "    f=open(example_dir+save_subdir+valnet_nm,'w')\n",
      "    f.writelines(test_proto_)\n",
      "    f.close()\n",
      "    \n",
      "    deploy_proto_ = copy.deepcopy(deploy_proto_template)\n",
      "    update_train_test(deploy_proto_, i, cccp8_num_output_i)\n",
      "    f=open(example_dir+save_subdir+deploynet_nm,'w')\n",
      "    f.writelines(deploy_proto_)\n",
      "    f.close()    "
     ],
     "language": "python",
     "metadata": {},
     "outputs": [
      {
       "output_type": "stream",
       "stream": "stdout",
       "text": [
        "['imagenet12_NIN_89clusters_v2.0_solver.prototxt']\n"
       ]
      }
     ],
     "prompt_number": 174
    },
    {
     "cell_type": "code",
     "collapsed": false,
     "input": [
      "print n_cluster,version, save_dir, save_subdir"
     ],
     "language": "python",
     "metadata": {},
     "outputs": [
      {
       "output_type": "stream",
       "stream": "stdout",
       "text": [
        "89 v2.0 imagenet12_NIN_89clusters/ imagenet12_NIN_89clusters/v2.0/\n"
       ]
      }
     ],
     "prompt_number": 175
    },
    {
     "cell_type": "code",
     "collapsed": false,
     "input": [
      "'''\n",
      "prepare final HD-CNN solver prototxt files\n",
      "'''\n",
      "\n",
      "example_dir = caffe_root + 'examples/imagenet/'\n",
      "solver_proto=['nin4-small_new_version_solver.prototxt']\n",
      "\n",
      "solver_proto_output=['hdcnn-nin4-small_%dclusters_%s_solver.prototxt'%(n_cluster,version)]\n",
      "\n",
      "solver_proto_templates = [None]*len(solver_proto)\n",
      "for i in range(len(solver_proto)):\n",
      "    solver_proto_templates[i]=[]\n",
      "    f=open(example_dir + solver_proto[i],'r')\n",
      "    for line in f:\n",
      "        solver_proto_templates[i]+=[line]\n",
      "    f.close()\n",
      "    \n",
      "solver_proto_trainnet_line,solver_proto_testnet_line,\\\n",
      "solver_proto_baselr_line, solver_proto_stepsize_line, solver_proto_max_iter_line,\\\n",
      "solver_proto_prefix_line,solver_proto_deviceid_line=0,1,4, 7,9,13,15\n",
      "\n",
      "base_lr = [0.001]\n",
      "stepsize = [50000]\n",
      "max_iter = [100000]\n",
      "\n",
      "for j in range(len(solver_proto)):\n",
      "    solver_proto_ = copy.deepcopy(solver_proto_templates[j])\n",
      "    solver_proto_[solver_proto_trainnet_line] = \\\n",
      "    'train_net: \"%shdcnn-nin4-small_%dclusters_%s_train.prototxt\"\\n'\\\n",
      "    % (save_subdir,n_cluster,version)\n",
      "    solver_proto_[solver_proto_testnet_line] = \\\n",
      "    'test_net: \"%shdcnn-nin4-small_%dclusters_%s_val.prototxt\"\\n'\\\n",
      "    % (save_subdir,n_cluster,version)\n",
      "        \n",
      "    solver_proto_[solver_proto_baselr_line] = 'base_lr: %5.4f\\n' % base_lr[j]\n",
      "    solver_proto_[solver_proto_stepsize_line] = 'stepsize: %d\\n' % stepsize[j]\n",
      "    solver_proto_[solver_proto_max_iter_line] = 'max_iter: %d\\n' % max_iter[j]\n",
      "    solver_proto_[solver_proto_prefix_line] = \\\n",
      "'snapshot_prefix: \"%shdcnn-nin4-small_%dclusters_%s_finetune_from_NIN\"\\n' \\\n",
      "% (save_subdir,n_cluster,version)\n",
      "\n",
      "    solver_proto_[solver_proto_deviceid_line]= 'device_id: 0\\n'\n",
      "\n",
      "    solver_fn=example_dir+save_subdir+solver_proto_output[j]\n",
      "    print solver_fn\n",
      "    f=open(solver_fn,'w')\n",
      "    f.writelines(solver_proto_)\n",
      "    f.close()    "
     ],
     "language": "python",
     "metadata": {},
     "outputs": [
      {
       "output_type": "stream",
       "stream": "stdout",
       "text": [
        "/home/zyan3/proj/caffe_private_decision-cnn/examples/imagenet/imagenet12_NIN_89clusters/v2.0/hdcnn-nin4-small_89clusters_v2.0_solver.prototxt\n"
       ]
      }
     ],
     "prompt_number": 176
    },
    {
     "cell_type": "code",
     "collapsed": false,
     "input": [
      "'''\n",
      "prepare final HD-CNN {train,val} prototxt files\n",
      "'''\n",
      "nin4_small_train_def_fn = caffe_root + 'examples/imagenet/nin4-small_new_version_train.prototxt'\n",
      "nin4_small_train_def = read_text(nin4_small_train_def_fn)"
     ],
     "language": "python",
     "metadata": {},
     "outputs": [],
     "prompt_number": 126
    },
    {
     "cell_type": "code",
     "collapsed": true,
     "input": [
      "lay_nams=['conv1', 'relu0','cccp1','relu1','cccp2','relu2','pool0',\n",
      "          'conv2','relu3','cccp3','relu5','cccp4','relu6','pool2',\n",
      "          'conv3','relu7','cccp5','relu8','cccp6','relu9','pool3','drop',\n",
      "         'conv4-1024','relu10','cccp7-1024','relu11','cccp8-1024','relu12','pool4']"
     ],
     "language": "python",
     "metadata": {},
     "outputs": [],
     "prompt_number": 127
    },
    {
     "cell_type": "code",
     "collapsed": false,
     "input": [
      "lin_nums=[]\n",
      "for lay_nam in lay_nams:\n",
      "    lin_nums_=[]\n",
      "    for i in range(len(nin4_small_train_def)):\n",
      "        id=nin4_small_train_def[i].find('\"'+lay_nam+'\"')\n",
      "        if id>=0:\n",
      "            lin_nums_+=[i]\n",
      "    lin_nums += [lin_nums_]\n",
      "print lin_nums"
     ],
     "language": "python",
     "metadata": {},
     "outputs": [
      {
       "output_type": "stream",
       "stream": "stdout",
       "text": [
        "[[15, 18, 41, 42, 47], [39], [45, 48, 69, 70, 75], [67], [73, 76, 97, 98, 103], [95], [101, 104, 114], [112, 115, 139, 140, 145], [137], [143, 146, 167, 168, 173], [165], [171, 174, 195, 196, 201], [193], [199, 202, 212], [210, 213, 237, 238, 243], [235], [241, 244, 265, 266, 271], [263], [269, 272, 293, 294, 299], [291], [297, 300, 310, 311, 319], [308], [317, 320, 344, 345, 350], [342], [348, 351, 372, 373, 378], [370], [376, 379, 400, 401, 406], [398], [404, 407, 417]]\n"
       ]
      }
     ],
     "prompt_number": 128
    },
    {
     "cell_type": "code",
     "collapsed": true,
     "input": [
      "def find_layer_id(lay_names,lay_name):\n",
      "    for i in range(len(lay_names)):\n",
      "        if lay_names[i]==lay_name:\n",
      "            return i\n",
      "    return -1"
     ],
     "language": "python",
     "metadata": {},
     "outputs": [],
     "prompt_number": 129
    },
    {
     "cell_type": "code",
     "collapsed": false,
     "input": [
      "data_lay_rang = [0,15]\n",
      "mid_lay_rang=[15,414]\n",
      "loss_lay_rang=[414,421]\n",
      "share_lay_last_nm='drop'\n",
      "share_lay_last_id=find_layer_id(lay_nams,share_lay_last_nm)\n",
      "print 'share_lay_last_id:%d' % share_lay_last_id"
     ],
     "language": "python",
     "metadata": {},
     "outputs": [
      {
       "output_type": "stream",
       "stream": "stdout",
       "text": [
        "share_lay_last_id:21\n"
       ]
      }
     ],
     "prompt_number": 177
    },
    {
     "cell_type": "code",
     "collapsed": true,
     "input": [
      "'''replace layer names with customized names'''\n",
      "# def customize_layer_name(text,lay_nams,lin_nums,insert_prefix, insert_suffix,  insert_text,prefix=True,lin_num_offset=0):\n",
      "def customize_layer_name(text,lay_nams,lin_nums,insert_prefix, insert_suffix, lin_num_offset=0):\n",
      "    for i in range(len(lay_nams)):\n",
      "        lin_nums_=lin_nums[i]\n",
      "        for lin_num in lin_nums_:\n",
      "            lin_num = lin_num - lin_num_offset\n",
      "            if lin_num > len(text):\n",
      "                continue\n",
      "            id=text[lin_num].find(lay_nams[i])\n",
      "            if id<0:\n",
      "                print '%s is not found in: %s' % (lay_nams[i],text[lin_num])\n",
      "            assert id>=0\n",
      "            text[lin_num]=text[lin_num][:id]+insert_prefix+lay_nams[i]\\\n",
      "            +insert_suffix+text[lin_num][id+len(lay_nams[i]):]\n",
      "            \n",
      "            \n",
      "#             if prefix:\n",
      "#                 text[lin_num]=text[lin_num][:id]+insert_text+text[lin_num][id:]\n",
      "#             else:\n",
      "#                 text[lin_num]=text[lin_num][:id+len(lay_nams[i])]+\\\n",
      "#                 insert_text+text[lin_num][id+len(lay_namsm[i]):]\n",
      "    return text"
     ],
     "language": "python",
     "metadata": {},
     "outputs": [],
     "prompt_number": 178
    },
    {
     "cell_type": "code",
     "collapsed": false,
     "input": [
      "print n_cluster,version"
     ],
     "language": "python",
     "metadata": {},
     "outputs": [
      {
       "output_type": "stream",
       "stream": "stdout",
       "text": [
        "89 v2.0\n"
       ]
      }
     ],
     "prompt_number": 181
    },
    {
     "cell_type": "code",
     "collapsed": false,
     "input": [
      "per_cluster_tr_batch_size = 5\n",
      "source_lin_num = 7\n",
      "batch_size_lin_num = 9\n",
      "mirror_lin_num = 11\n",
      "\n",
      "for stage in ['train','val']:\n",
      "    hdcnn_nin4_small_def_fn = caffe_root +\\\n",
      "    'examples/imagenet/imagenet12_NIN_%dclusters/%s/hdcnn-nin4-small_%dclusters_%s_%s.prototxt'\\\n",
      "    % (n_cluster,version, n_cluster, version, stage)\n",
      "\n",
      "    hdcnn_nin4_small_def = []\n",
      "\n",
      "    '''write data layer part'''\n",
      "    for lin_num in range(data_lay_rang[0],data_lay_rang[1]):\n",
      "        hdcnn_nin4_small_def += [nin4_small_train_def[lin_num]]\n",
      "    hdcnn_nin4_small_def[source_lin_num] = '\\t\\tsource: \"/home/zyan3/local/data/imagenet/ilsvrc12/imagenet_%s_leveldb\"\\n' % stage\n",
      "#     stage_batch_size = (n_cluster*per_cluster_tr_batch_size) if stage=='train' else 100\n",
      "    stage_batch_size = 100\n",
      "    hdcnn_nin4_small_def[batch_size_lin_num] = '\\t\\tbatch_size: %d\\n' % stage_batch_size\n",
      "    hdcnn_nin4_small_def[mirror_lin_num]='\\t\\tmirror: %s\\n' % ('true' if stage == 'train' else 'false')\n",
      "\n",
      "    '''write gating part'''\n",
      "    for lin_num in range(mid_lay_rang[0],mid_lay_rang[1]):\n",
      "        hdcnn_nin4_small_def += [nin4_small_train_def[lin_num]]\n",
      "    hdcnn_nin4_small_def[net_cccp8_outputnum_line] = '\\t\\tnum_output: %d\\n' % num_class\n",
      "\n",
      "    hdcnn_nin4_small_def=customize_layer_name(hdcnn_nin4_small_def,lay_nams,lin_nums,\\\n",
      "                                              '','')\n",
      "    '''write SOFTMAX fine-classification layer in the gating part'''\n",
      "    hdcnn_nin4_small_def +=['layers {\\n',\\\n",
      "                            '\\tname: \"fine_branch_prob\"\\n',\\\n",
      "                            '\\ttype: SOFTMAX\\n',\\\n",
      "                            '\\tbottom: \"pool4\"\\n',\\\n",
      "                            '\\ttop: \"fine_branch_prob\"\\n',\\\n",
      "                            '}\\n']\n",
      "    '''write fine2coarse classification layer in the gating part'''\n",
      "    hdcnn_nin4_small_def +=['layers {\\n',\\\n",
      "                            '\\tname: \"coarse_branch_prob\"\\n',\\\n",
      "                            '\\ttype: FINE2COARSE_PROB\\n',\\\n",
      "                            '\\tbottom: \"fine_branch_prob\"\\n',\\\n",
      "                            '\\ttop: \"coarse_branch_prob\"\\n'\\\n",
      "                            '\\tfine2coarse_prob_layer_param{\\n',\\\n",
      "                            '\\t\\tnum_coarse: %d\\n' % n_cluster]\n",
      "    for i in range(label_2_clusterid.shape[0]):\n",
      "        hdcnn_nin4_small_def += ['\\t\\tfine2coarse: %d\\n'%label_2_clusterid[i]]\n",
      "    hdcnn_nin4_small_def += ['\\t}\\n',\\\n",
      "                             '}\\n']    \n",
      "\n",
      "    \n",
      "\n",
      "    '''write shared layers in branching parts'''\n",
      "#     for lin_num in range(lin_nums[0][0]-1,lin_nums[share_lay_last_id+1][0]-1):\n",
      "#         hdcnn_nin4_small_def += [nin4_small_train_def[lin_num]]\n",
      "\n",
      "    '''write independent layers in branching parts'''\n",
      "    for i in range(n_cluster):\n",
      "        br_def=[]\n",
      "        for lin_num in range(lin_nums[share_lay_last_id+1][0]-1,mid_lay_rang[1]):\n",
      "            br_def+=[nin4_small_train_def[lin_num]]\n",
      "        br_lay_nams=[lay_nams[id] for id in range(share_lay_last_id+1,len(lay_nams))]\n",
      "        if i==0:\n",
      "            print 'br_lay_nams',br_lay_nams\n",
      "        br_lin_nums=[lin_nums[id] for id in range(share_lay_last_id+1,len(lay_nams))]\n",
      "    #     for j in range(len(br_lin_nums)):\n",
      "    #         for k in range(len(br_lin_nums[j])):\n",
      "    #             br_lin_nums[j][k]=br_lin_nums[j][k]-\n",
      "        br_def=customize_layer_name(br_def,br_lay_nams,br_lin_nums,'cluster%02d_'%i,\\\n",
      "                                    '_compact',lin_nums[share_lay_last_id+1][0]-1)\n",
      "        br_def[cccp8_num_output_line-br_lin_nums[0][0]+1]='\\t\\tnum_output: %d\\n' % len(exp_cluster_members[i])\n",
      "        \n",
      "        \n",
      "        \n",
      "        br_def += ['layers {\\n',\\\n",
      "                  'name: \"cluster%02d_prob_compact\"\\n'%i,\\\n",
      "                  'type: SOFTMAX\\n',\\\n",
      "                  'bottom: \"cluster%02d_pool4_compact\"\\n'%i,\\\n",
      "                  'top: \"cluster%02d_prob_compact\"\\n'%i,\\\n",
      "                  '}\\n']\n",
      "\n",
      "\n",
      "        for br_def_lin in br_def:\n",
      "            hdcnn_nin4_small_def += [br_def_lin]\n",
      "\n",
      "    hdcnn_nin4_small_def += ['layers {\\n',\\\n",
      "                            '\\tname: \"compact_probabilistic_average_prob\"\\n',\\\n",
      "                            '\\ttype: COMPACT_PROBABLISTIC_AVERAGE_PROB\\n']\n",
      "    for i in range(n_cluster):\n",
      "        hdcnn_nin4_small_def+= ['\\tbottom: \"cluster%02d_prob_compact\"\\n'%i]\n",
      "    hdcnn_nin4_small_def+=['\\tbottom: \"coarse_branch_prob\"\\n',\\\n",
      "                           '\\ttop: \"compact_probabilistic_average_prob\"\\n',\\\n",
      "                           '\\tcompact_probabilistic_average_prob_layer_param{\\n',\\\n",
      "                           '\\t\\tnum_class:%d\\n'%num_class]\n",
      "    for i in range(n_cluster):\n",
      "        hdcnn_nin4_small_def+=['\\t\\tcompact_classify_layer_param{\\n']\n",
      "        for j in range(len(exp_cluster_members[i])):\n",
      "            hdcnn_nin4_small_def+=['\\t\\t\\tclass_id:%d\\n'%exp_cluster_members[i][j]]\n",
      "        hdcnn_nin4_small_def+=['\\t\\t}\\n']\n",
      "    hdcnn_nin4_small_def+=['\\t}\\n',\\\n",
      "                           '}\\n']\n",
      "\n",
      "    if stage == 'train':\n",
      "        hdcnn_nin4_small_def += ['layers {\\n',\\\n",
      "                                '\\tname: \"loss\"\\n',\\\n",
      "                                '\\ttype: MULTINOMIAL_LOGISTIC_SPARSITY_LOSS\\n',\\\n",
      "                                '\\tbottom: \"compact_probabilistic_average_prob\"\\n',\\\n",
      "                                '\\tbottom: \"label\"\\n',\\\n",
      "                                '\\tbottom: \"coarse_branch_prob\"\\n',\\\n",
      "                                '\\tmultinomial_logistic_sparsity_loss_param{\\n',\n",
      "                                '\\t\\tsparsity_lamda: 50\\n']\n",
      "        for i in range(n_cluster):\n",
      "            hdcnn_nin4_small_def += ['\\t\\ttarget_sparsity: %4.3f\\n'% (float(len(exp_cluster_members[i])) / float(num_class))]\n",
      "\n",
      "        hdcnn_nin4_small_def+=['\\t\\t}\\n',\\\n",
      "                              '\\t}\\n']\n",
      "    else:\n",
      "        hdcnn_nin4_small_def+=['layers {\\n',\\\n",
      "                               '\\tname: \"accuracy\"\\n',\\\n",
      "                               '\\ttype: ACCURACY\\n',\\\n",
      "                               '\\tbottom: \"compact_probabilistic_average_prob\"\\n',\\\n",
      "                               '\\tbottom: \"label\"\\n',\\\n",
      "                               '\\ttop: \"accuracy\"\\n',\\\n",
      "                               '}\\n']\n",
      "\n",
      "\n",
      "    print 'write file:%s'%hdcnn_nin4_small_def_fn\n",
      "    f=open(hdcnn_nin4_small_def_fn,'w')\n",
      "    for ln in hdcnn_nin4_small_def:\n",
      "        f.write(ln)\n",
      "    f.close()"
     ],
     "language": "python",
     "metadata": {},
     "outputs": [
      {
       "output_type": "stream",
       "stream": "stdout",
       "text": [
        "br_lay_nams ['conv4-1024', 'relu10', 'cccp7-1024', 'relu11', 'cccp8-1024', 'relu12', 'pool4']\n",
        "write file:/home/zyan3/proj/caffe_private_decision-cnn/examples/imagenet/imagenet12_NIN_89clusters/v2.0/hdcnn-nin4-small_89clusters_v2.0_train.prototxt\n",
        "br_lay_nams ['conv4-1024', 'relu10', 'cccp7-1024', 'relu11', 'cccp8-1024', 'relu12', 'pool4']\n",
        "write file:/home/zyan3/proj/caffe_private_decision-cnn/examples/imagenet/imagenet12_NIN_89clusters/v2.0/hdcnn-nin4-small_89clusters_v2.0_val.prototxt"
       ]
      },
      {
       "output_type": "stream",
       "stream": "stdout",
       "text": [
        "\n"
       ]
      }
     ],
     "prompt_number": 182
    },
    {
     "cell_type": "code",
     "collapsed": false,
     "input": [
      "print save_dir"
     ],
     "language": "python",
     "metadata": {},
     "outputs": [
      {
       "output_type": "stream",
       "stream": "stdout",
       "text": [
        "imagenet12_NIN_173clusters/\n"
       ]
      }
     ],
     "prompt_number": 71
    },
    {
     "cell_type": "code",
     "collapsed": true,
     "input": [
      "'''write script for finetuning HD-CNN'''\n",
      "\n",
      "f=open(example_dir+'finetune_hdcnn_from_nin4-small_%dclusters_%s.sh'%(n_cluster,version),'w')\n",
      "f.write('#!/bin/bash\\n')\n",
      "f.write('TOOLS=../../build/tools\\n')\n",
      "f.write('GLOG_logtostderr=1 $TOOLS/finetune_net_exact_match.bin \\\\\\n')\n",
      "f.write('\\t%s%s \\\\\\n'%(save_subdir, solver_proto_output[0]))\n",
      "f.write('\\tcaffe_nin4-small_new_version_train_iter_450000 \\\\\\n')\n",
      "for i in range(n_cluster):\n",
      "    f.write('\\t%scluster%02d_imagenet12_NIN_%dclusters_%s_iter_25000 \\\\\\n'%(save_subdir,i,n_cluster,version))\n",
      "f.close()"
     ],
     "language": "python",
     "metadata": {},
     "outputs": [],
     "prompt_number": 139
    }
   ],
   "metadata": {}
  }
 ]
}