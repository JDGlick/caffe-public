{
 "cells": [
  {
   "cell_type": "code",
   "execution_count": 1,
   "metadata": {
    "collapsed": false
   },
   "outputs": [
    {
     "name": "stdout",
     "output_type": "stream",
     "text": [
      "caffe_root  /home/zyan3/proj/caffe_private_hdcnn/\n",
      "model_dir  /home/zyan3/proj/caffe_private_hdcnn/models/nin_imagenet/89clusters/89clusters_v2.0/\n",
      "example_dir  /home/zyan3/proj/caffe_private_hdcnn/examples/imagenet/\n",
      "data_dir  /home/zyan3/proj/caffe_private_hdcnn/data/ilsvrc12/\n"
     ]
    }
   ],
   "source": [
    "import sys\n",
    "import os\n",
    "import numpy as np\n",
    "import matplotlib.pyplot as plt\n",
    "%matplotlib inline\n",
    "import leveldb\n",
    "import lmdb\n",
    "import time\n",
    "\n",
    "caffe_root = os.environ['CAFFE_PROJ_DIR']\n",
    "print 'caffe_root ',caffe_root\n",
    "sys.path.insert(0, caffe_root + 'python')\n",
    "sys.path.append(caffe_root + 'python/util')\n",
    "import caffe\n",
    "from util_func import *\n",
    "\n",
    "sys.path.append(caffe_root + 'python/caffe/proto')\n",
    "import caffe_pb2\n",
    "\n",
    "# Set the right path to your model definition file, pretrained model weights,\n",
    "# and the image you would like to classify.\n",
    "\n",
    "'''building block net ImageNet-NIN'''\n",
    "# model_dir=caffe_root+'models/nin_imagenet/'\n",
    "# MODEL_FILE =model_dir + 'deploy.prototxt'\n",
    "# PRETRAINED = model_dir + 'nin_imagenet_train_iter_0.caffemodel'\n",
    "# raw_scale=255\n",
    "\n",
    "'''HDCNN (ImageNet-NIN)'''\n",
    "model_dir=caffe_root+'models/nin_imagenet/89clusters/89clusters_v2.0/'\n",
    "MODEL_FILE =model_dir + 'hdcnn_deploy.prototxt'\n",
    "PRETRAINED = model_dir + 'hdcnn_iter_0.caffemodel'\n",
    "raw_scale=255\n",
    "\n",
    "# model_dir=caffe_root+'models/VGG_ILSVRC_16_layers/211839e770f7b538e2d8/'\n",
    "# MODEL_FILE =model_dir + 'deploy.prototxt'\n",
    "# PRETRAINED = model_dir + 'VGG_ILSVRC_16_layers.caffemodel'\n",
    "# raw_scale=255\n",
    "\n",
    "# model_dir = caffe_root + 'models/bvlc_reference_caffenet/'\n",
    "# MODEL_FILE = model_dir + 'deploy.prototxt'\n",
    "# PRETRAINED = model_dir + 'bvlc_reference_caffenet.caffemodel'\n",
    "# raw_scale=255\n",
    "\n",
    "\n",
    "example_dir=caffe_root+'examples/imagenet/'\n",
    "data_dir=caffe_root+'data/ilsvrc12/'\n",
    "print 'model_dir ',model_dir\n",
    "print 'example_dir ',example_dir\n",
    "print 'data_dir ',data_dir"
   ]
  },
  {
   "cell_type": "code",
   "execution_count": 4,
   "metadata": {
    "collapsed": false
   },
   "outputs": [
    {
     "name": "stdout",
     "output_type": "stream",
     "text": [
      "/home/zyan3/proj/caffe_private_hdcnn/models/nin_imagenet/89clusters/89clusters_v2.0/hdcnn_deploy.prototxt\n",
      "/home/zyan3/proj/caffe_private_hdcnn/models/nin_imagenet/89clusters/89clusters_v2.0/\n"
     ]
    }
   ],
   "source": [
    "print MODEL_FILE\n",
    "print model_dir\n"
   ]
  },
  {
   "cell_type": "code",
   "execution_count": 3,
   "metadata": {
    "collapsed": false
   },
   "outputs": [
    {
     "name": "stdout",
     "output_type": "stream",
     "text": [
      "num_class: 1000\n"
     ]
    }
   ],
   "source": [
    "label_names=read_text(data_dir + 'synset_words.txt')\n",
    "num_class=len(label_names)\n",
    "print 'num_class: %d' % num_class"
   ]
  },
  {
   "cell_type": "code",
   "execution_count": 4,
   "metadata": {
    "collapsed": true
   },
   "outputs": [],
   "source": [
    "caffe.set_mode_gpu()\n",
    "caffe.init_device(0)"
   ]
  },
  {
   "cell_type": "code",
   "execution_count": 5,
   "metadata": {
    "collapsed": false
   },
   "outputs": [],
   "source": [
    "# caffe.init_device(1)\n",
    "# when loading individual images using caffe.io.load_image, channel_swap=(2,1,0)\n",
    "# when loading images from preprocessed database, channel_swap=(0,1,2)\n",
    "net = caffe.Classifier(MODEL_FILE, PRETRAINED,\n",
    "                       mean=np.load(caffe_root + 'python/caffe/imagenet/ilsvrc_2012_mean.npy'),\n",
    "                       channel_swap=(0,1,2),\n",
    "                       raw_scale=raw_scale,\n",
    "                       image_dims=(256,256))"
   ]
  },
  {
   "cell_type": "code",
   "execution_count": 6,
   "metadata": {
    "collapsed": false
   },
   "outputs": [
    {
     "name": "stdout",
     "output_type": "stream",
     "text": [
      "50000 validation images \n"
     ]
    }
   ],
   "source": [
    "val_img_list_fn = data_dir + 'val.txt'\n",
    "val_img_names, val_img_labels=read_val_image_list(val_img_list_fn)\n",
    "num_val = len(val_img_names)"
   ]
  },
  {
   "cell_type": "code",
   "execution_count": 7,
   "metadata": {
    "collapsed": false
   },
   "outputs": [],
   "source": [
    "# val_lmdb_fn = '/home/zyan3/local/data/imagenet/ilsvrc12/ilsvrc12_val_size384_lmdb'\n",
    "val_lmdb_fn = '/home/zyan3/local/data/imagenet/ilsvrc12/ilsvrc12_val_size_256_lmdb'\n",
    "val_lmdb = lmdb.open(val_lmdb_fn)\n",
    "txn=val_lmdb.begin()"
   ]
  },
  {
   "cell_type": "code",
   "execution_count": 13,
   "metadata": {
    "collapsed": false
   },
   "outputs": [
    {
     "name": "stdout",
     "output_type": "stream",
     "text": [
      "(50000,)\n",
      "[ 10.54082394  13.047719    10.93774033  10.80950356  12.81902122\n",
      "   7.62698412  10.96177673  15.34332657   9.05166626  13.00399876]\n"
     ]
    }
   ],
   "source": [
    "prediction_single_sum=np.sum(prediction_single,axis=1)\n",
    "print prediction_single_sum.shape\n",
    "print prediction_single_sum[:10]\n",
    "'''need L1 normalization'''"
   ]
  },
  {
   "cell_type": "code",
   "execution_count": 11,
   "metadata": {
    "collapsed": false
   },
   "outputs": [
    {
     "name": "stdout",
     "output_type": "stream",
     "text": [
      "/home/zyan3/proj/caffe_private_hdcnn/models/nin_imagenet/89clusters/89clusters_v2.0/\n"
     ]
    }
   ],
   "source": [
    "print model_dir"
   ]
  },
  {
   "cell_type": "code",
   "execution_count": 10,
   "metadata": {
    "collapsed": false
   },
   "outputs": [
    {
     "name": "stdout",
     "output_type": "stream",
     "text": [
      "batch 1 out of 100\n",
      "10-view test elapsed time 384.57 seconds. top 1 accu 0.660 top 5 accuracy 0.872\n",
      "batch 2 out of 100\n",
      "10-view test elapsed time 385.35 seconds. top 1 accu 0.614 top 5 accuracy 0.830\n",
      "batch 3 out of 100\n",
      "10-view test elapsed time 393.44 seconds. top 1 accu 0.652 top 5 accuracy 0.856\n",
      "batch 4 out of 100\n",
      "10-view test elapsed time 389.55 seconds. top 1 accu 0.604 top 5 accuracy 0.810\n",
      "batch 5 out of 100\n",
      "10-view test elapsed time 389.14 seconds. top 1 accu 0.656 top 5 accuracy 0.860\n",
      "batch 6 out of 100\n",
      "10-view test elapsed time 391.40 seconds. top 1 accu 0.652 top 5 accuracy 0.828\n",
      "batch 7 out of 100\n",
      "10-view test elapsed time 386.56 seconds. top 1 accu 0.658 top 5 accuracy 0.862\n",
      "batch 8 out of 100\n",
      "10-view test elapsed time 388.45 seconds. top 1 accu 0.646 top 5 accuracy 0.826\n",
      "batch 9 out of 100\n",
      "10-view test elapsed time 390.71 seconds. top 1 accu 0.610 top 5 accuracy 0.830\n",
      "batch 10 out of 100\n",
      "10-view test elapsed time 388.43 seconds. top 1 accu 0.668 top 5 accuracy 0.830\n",
      "batch 11 out of 100\n",
      "10-view test elapsed time 396.73 seconds. top 1 accu 0.612 top 5 accuracy 0.808\n",
      "batch 12 out of 100\n",
      "10-view test elapsed time 394.68 seconds. top 1 accu 0.630 top 5 accuracy 0.834\n",
      "batch 13 out of 100\n",
      "10-view test elapsed time 393.44 seconds. top 1 accu 0.628 top 5 accuracy 0.844\n",
      "batch 14 out of 100\n",
      "10-view test elapsed time 385.10 seconds. top 1 accu 0.654 top 5 accuracy 0.844\n",
      "batch 15 out of 100\n",
      "10-view test elapsed time 390.24 seconds. top 1 accu 0.650 top 5 accuracy 0.866\n",
      "batch 16 out of 100\n",
      "10-view test elapsed time 385.01 seconds. top 1 accu 0.622 top 5 accuracy 0.854\n",
      "batch 17 out of 100\n",
      "10-view test elapsed time 385.09 seconds. top 1 accu 0.660 top 5 accuracy 0.838\n",
      "batch 18 out of 100\n",
      "10-view test elapsed time 386.45 seconds. top 1 accu 0.604 top 5 accuracy 0.846\n",
      "batch 19 out of 100\n",
      "10-view test elapsed time 386.47 seconds. top 1 accu 0.692 top 5 accuracy 0.862\n",
      "batch 20 out of 100\n",
      "10-view test elapsed time 390.40 seconds. top 1 accu 0.644 top 5 accuracy 0.818\n",
      "batch 21 out of 100\n",
      "10-view test elapsed time 386.46 seconds. top 1 accu 0.634 top 5 accuracy 0.836\n",
      "batch 22 out of 100\n",
      "10-view test elapsed time 384.81 seconds. top 1 accu 0.626 top 5 accuracy 0.838\n",
      "batch 23 out of 100\n",
      "10-view test elapsed time 387.58 seconds. top 1 accu 0.650 top 5 accuracy 0.844\n",
      "batch 24 out of 100\n",
      "10-view test elapsed time 382.16 seconds. top 1 accu 0.618 top 5 accuracy 0.822\n",
      "batch 25 out of 100\n",
      "10-view test elapsed time 382.74 seconds. top 1 accu 0.652 top 5 accuracy 0.878\n",
      "batch 26 out of 100\n",
      "10-view test elapsed time 384.83 seconds. top 1 accu 0.614 top 5 accuracy 0.840\n",
      "batch 27 out of 100\n",
      "10-view test elapsed time 382.30 seconds. top 1 accu 0.602 top 5 accuracy 0.834\n",
      "batch 28 out of 100\n",
      "10-view test elapsed time 384.13 seconds. top 1 accu 0.638 top 5 accuracy 0.844\n",
      "batch 29 out of 100\n",
      "10-view test elapsed time 384.69 seconds. top 1 accu 0.632 top 5 accuracy 0.830\n",
      "batch 30 out of 100\n",
      "10-view test elapsed time 391.92 seconds. top 1 accu 0.626 top 5 accuracy 0.818\n",
      "batch 31 out of 100\n",
      "10-view test elapsed time 382.64 seconds. top 1 accu 0.640 top 5 accuracy 0.860\n",
      "batch 32 out of 100\n",
      "10-view test elapsed time 388.78 seconds. top 1 accu 0.658 top 5 accuracy 0.844\n",
      "batch 33 out of 100\n",
      "10-view test elapsed time 385.25 seconds. top 1 accu 0.592 top 5 accuracy 0.830\n",
      "batch 34 out of 100\n",
      "10-view test elapsed time 381.57 seconds. top 1 accu 0.640 top 5 accuracy 0.850\n",
      "batch 35 out of 100\n",
      "10-view test elapsed time 382.07 seconds. top 1 accu 0.650 top 5 accuracy 0.848\n",
      "batch 36 out of 100\n",
      "10-view test elapsed time 382.25 seconds. top 1 accu 0.612 top 5 accuracy 0.850\n",
      "batch 37 out of 100\n",
      "10-view test elapsed time 385.77 seconds. top 1 accu 0.600 top 5 accuracy 0.838\n",
      "batch 38 out of 100\n",
      "10-view test elapsed time 384.53 seconds. top 1 accu 0.608 top 5 accuracy 0.866\n",
      "batch 39 out of 100\n",
      "10-view test elapsed time 385.68 seconds. top 1 accu 0.638 top 5 accuracy 0.856\n",
      "batch 40 out of 100\n",
      "10-view test elapsed time 385.39 seconds. top 1 accu 0.644 top 5 accuracy 0.840\n",
      "batch 41 out of 100\n",
      "10-view test elapsed time 386.34 seconds. top 1 accu 0.632 top 5 accuracy 0.840\n",
      "batch 42 out of 100\n",
      "10-view test elapsed time 385.45 seconds. top 1 accu 0.676 top 5 accuracy 0.848\n",
      "batch 43 out of 100\n",
      "10-view test elapsed time 382.29 seconds. top 1 accu 0.636 top 5 accuracy 0.870\n",
      "batch 44 out of 100\n",
      "10-view test elapsed time 384.91 seconds. top 1 accu 0.636 top 5 accuracy 0.872\n",
      "batch 45 out of 100\n",
      "10-view test elapsed time 383.94 seconds. top 1 accu 0.614 top 5 accuracy 0.830\n",
      "batch 46 out of 100\n",
      "10-view test elapsed time 385.96 seconds. top 1 accu 0.630 top 5 accuracy 0.852\n",
      "batch 47 out of 100\n",
      "10-view test elapsed time 383.11 seconds. top 1 accu 0.632 top 5 accuracy 0.844\n",
      "batch 48 out of 100\n",
      "10-view test elapsed time 384.88 seconds. top 1 accu 0.562 top 5 accuracy 0.818\n",
      "batch 49 out of 100\n",
      "10-view test elapsed time 386.25 seconds. top 1 accu 0.640 top 5 accuracy 0.854\n",
      "batch 50 out of 100\n",
      "10-view test elapsed time 384.05 seconds. top 1 accu 0.632 top 5 accuracy 0.842\n",
      "batch 51 out of 100\n",
      "10-view test elapsed time 384.51 seconds. top 1 accu 0.644 top 5 accuracy 0.840\n",
      "batch 52 out of 100\n",
      "10-view test elapsed time 384.12 seconds. top 1 accu 0.630 top 5 accuracy 0.852\n",
      "batch 53 out of 100\n",
      "10-view test elapsed time 383.26 seconds. top 1 accu 0.608 top 5 accuracy 0.860\n",
      "batch 54 out of 100\n",
      "10-view test elapsed time 386.44 seconds. top 1 accu 0.650 top 5 accuracy 0.818\n",
      "batch 55 out of 100\n",
      "10-view test elapsed time 383.50 seconds. top 1 accu 0.612 top 5 accuracy 0.816\n",
      "batch 56 out of 100\n",
      "10-view test elapsed time 384.93 seconds. top 1 accu 0.630 top 5 accuracy 0.866\n",
      "batch 57 out of 100\n",
      "10-view test elapsed time 386.06 seconds. top 1 accu 0.670 top 5 accuracy 0.856\n",
      "batch 58 out of 100\n",
      "10-view test elapsed time 382.49 seconds. top 1 accu 0.638 top 5 accuracy 0.846\n",
      "batch 59 out of 100\n",
      "10-view test elapsed time 381.95 seconds. top 1 accu 0.620 top 5 accuracy 0.820\n",
      "batch 60 out of 100\n",
      "10-view test elapsed time 385.49 seconds. top 1 accu 0.682 top 5 accuracy 0.848\n",
      "batch 61 out of 100\n",
      "10-view test elapsed time 390.88 seconds. top 1 accu 0.634 top 5 accuracy 0.842\n",
      "batch 62 out of 100\n",
      "10-view test elapsed time 385.31 seconds. top 1 accu 0.612 top 5 accuracy 0.838\n",
      "batch 63 out of 100\n",
      "10-view test elapsed time 384.60 seconds. top 1 accu 0.640 top 5 accuracy 0.826\n",
      "batch 64 out of 100\n",
      "10-view test elapsed time 383.64 seconds. top 1 accu 0.644 top 5 accuracy 0.852\n",
      "batch 65 out of 100\n",
      "10-view test elapsed time 384.89 seconds. top 1 accu 0.626 top 5 accuracy 0.858\n",
      "batch 66 out of 100\n",
      "10-view test elapsed time 385.36 seconds. top 1 accu 0.584 top 5 accuracy 0.802\n",
      "batch 67 out of 100\n",
      "10-view test elapsed time 385.54 seconds. top 1 accu 0.656 top 5 accuracy 0.860\n",
      "batch 68 out of 100\n",
      "10-view test elapsed time 388.28 seconds. top 1 accu 0.586 top 5 accuracy 0.820\n",
      "batch 69 out of 100\n",
      "10-view test elapsed time 385.47 seconds. top 1 accu 0.636 top 5 accuracy 0.830\n",
      "batch 70 out of 100\n",
      "10-view test elapsed time 386.78 seconds. top 1 accu 0.660 top 5 accuracy 0.864\n",
      "batch 71 out of 100\n",
      "10-view test elapsed time 383.89 seconds. top 1 accu 0.630 top 5 accuracy 0.848\n",
      "batch 72 out of 100\n",
      "10-view test elapsed time 382.03 seconds. top 1 accu 0.640 top 5 accuracy 0.836\n",
      "batch 73 out of 100\n",
      "10-view test elapsed time 382.62 seconds. top 1 accu 0.680 top 5 accuracy 0.854\n",
      "batch 74 out of 100\n",
      "10-view test elapsed time 385.16 seconds. top 1 accu 0.590 top 5 accuracy 0.850\n",
      "batch 75 out of 100\n",
      "10-view test elapsed time 387.37 seconds. top 1 accu 0.628 top 5 accuracy 0.830\n",
      "batch 76 out of 100\n",
      "10-view test elapsed time 386.91 seconds. top 1 accu 0.634 top 5 accuracy 0.840\n",
      "batch 77 out of 100\n",
      "10-view test elapsed time 383.58 seconds. top 1 accu 0.658 top 5 accuracy 0.862\n",
      "batch 78 out of 100\n",
      "10-view test elapsed time 385.46 seconds. top 1 accu 0.618 top 5 accuracy 0.838\n",
      "batch 79 out of 100\n",
      "10-view test elapsed time 387.11 seconds. top 1 accu 0.636 top 5 accuracy 0.846\n",
      "batch 80 out of 100\n",
      "10-view test elapsed time 386.56 seconds. top 1 accu 0.638 top 5 accuracy 0.832\n",
      "batch 81 out of 100\n",
      "10-view test elapsed time 383.85 seconds. top 1 accu 0.642 top 5 accuracy 0.872\n",
      "batch 82 out of 100\n",
      "10-view test elapsed time 384.86 seconds. top 1 accu 0.600 top 5 accuracy 0.822\n",
      "batch 83 out of 100\n",
      "10-view test elapsed time 387.84 seconds. top 1 accu 0.622 top 5 accuracy 0.854\n",
      "batch 84 out of 100\n",
      "10-view test elapsed time 384.16 seconds. top 1 accu 0.612 top 5 accuracy 0.838\n",
      "batch 85 out of 100\n",
      "10-view test elapsed time 385.02 seconds. top 1 accu 0.638 top 5 accuracy 0.844\n",
      "batch 86 out of 100\n",
      "10-view test elapsed time 382.64 seconds. top 1 accu 0.612 top 5 accuracy 0.816\n",
      "batch 87 out of 100\n",
      "10-view test elapsed time 390.00 seconds. top 1 accu 0.636 top 5 accuracy 0.834\n",
      "batch 88 out of 100\n",
      "10-view test elapsed time 385.19 seconds. top 1 accu 0.604 top 5 accuracy 0.844\n",
      "batch 89 out of 100\n",
      "10-view test elapsed time 387.10 seconds. top 1 accu 0.642 top 5 accuracy 0.840\n",
      "batch 90 out of 100\n",
      "10-view test elapsed time 387.54 seconds. top 1 accu 0.620 top 5 accuracy 0.824\n",
      "batch 91 out of 100\n",
      "10-view test elapsed time 384.77 seconds. top 1 accu 0.634 top 5 accuracy 0.838\n",
      "batch 92 out of 100\n",
      "10-view test elapsed time 385.05 seconds. top 1 accu 0.644 top 5 accuracy 0.854\n",
      "batch 93 out of 100\n",
      "10-view test elapsed time 386.11 seconds. top 1 accu 0.628 top 5 accuracy 0.832\n",
      "batch 94 out of 100\n",
      "10-view test elapsed time 388.24 seconds. top 1 accu 0.646 top 5 accuracy 0.832\n",
      "batch 95 out of 100\n",
      "10-view test elapsed time 385.14 seconds. top 1 accu 0.626 top 5 accuracy 0.842\n",
      "batch 96 out of 100\n",
      "10-view test elapsed time 385.61 seconds. top 1 accu 0.648 top 5 accuracy 0.838\n",
      "batch 97 out of 100\n",
      "10-view test elapsed time 385.17 seconds. top 1 accu 0.648 top 5 accuracy 0.838\n",
      "batch 98 out of 100\n",
      "10-view test elapsed time 385.28 seconds. top 1 accu 0.642 top 5 accuracy 0.846\n",
      "batch 99 out of 100\n",
      "10-view test elapsed time 384.71 seconds. top 1 accu 0.656 top 5 accuracy 0.832\n",
      "batch 100 out of 100\n",
      "10-view test elapsed time 386.31 seconds. top 1 accu 0.642 top 5 accuracy 0.852\n",
      "-----------results-----------\n",
      "w/o oversample top 1 accuracy: 0.0000\n",
      "with 10-view oversample top 1 accuracy: 0.6334\n",
      "w/o oversample top 5 accuracy: 0.0000\n",
      "with 10-view oversample top 5 accuracy: 0.8420\n"
     ]
    }
   ],
   "source": [
    "num_val = 50000\n",
    "batch_size = 500\n",
    "\n",
    "# num_val = 200\n",
    "# batch_size = 50\n",
    "\n",
    "batch_num = num_val / batch_size\n",
    "\n",
    "topk=[1,5]\n",
    "topk_accu_central_crop={}\n",
    "topk_accu_10_view={}\n",
    "for k in topk:\n",
    "    topk_accu_central_crop[str(k)]=0\n",
    "    topk_accu_10_view[str(k)]=0\n",
    "\n",
    "pred_labels_central_crop = np.zeros((num_val),dtype=np.int32)\n",
    "pred_labels_10_view = np.zeros((num_val),dtype=np.int32)\n",
    "\n",
    "'''in the case of fine2multicoarse, need to do L1 normalization to make prediction a valid probability distribution'''\n",
    "prediction_single=np.zeros((num_val, num_class), dtype=np.single)\n",
    "prediction_multi=np.zeros((num_val, num_class), dtype=np.single)\n",
    "gt_labels=np.zeros((num_val),dtype=np.int32)\n",
    "\n",
    "for i in range(batch_num):\n",
    "    print 'batch %d out of %d' % (i+1, batch_num)\n",
    "    start, end = i*batch_size,(i+1)*batch_size\n",
    "    \n",
    "    test_imgs =[]\n",
    "    test_img_labels=[]\n",
    "    for j in range(start,end):\n",
    "        key = '%s' %(val_img_names[j])\n",
    "        string_data=txn.get(key)\n",
    "        datum = caffe_pb2.Datum()\n",
    "        datum.ParseFromString(string_data)    \n",
    "        data_array = np.fromstring(datum.data, dtype=np.uint8) \n",
    "        data_array = np.float32(data_array)    \n",
    "        data_array = data_array.reshape((datum.channels, datum.height, datum.width))\n",
    "        data_array = np.transpose(data_array,(1,2,0))\n",
    "        data_array /= 255.0\n",
    "        test_imgs += [data_array]\n",
    "        test_img_labels += [datum.label]\n",
    "    gt_labels[start:end]=np.asarray(test_img_labels)\n",
    "    \n",
    "    '''single view test'''\n",
    "    st_time=time.time()\n",
    "    prediction = net.predict(test_imgs, oversample = False)\n",
    "    prediction_single[start:end, :]=prediction\n",
    "    \n",
    "    pred_labels = np.zeros((batch_size, max(topk)),dtype=np.int32)\n",
    "    for j in range(batch_size):\n",
    "        idx=np.argsort(prediction[j,:])[::-1]\n",
    "        pred_labels[j,:]=idx[:max(topk)]\n",
    "    pred_labels_central_crop[start:end]=pred_labels[:,0]\n",
    "        \n",
    "    batch_topk_accu, batch_topk_guesses = top_k_accuracy(pred_labels, test_img_labels, topk)\n",
    "    for key, value in batch_topk_accu.iteritems():\n",
    "        topk_accu_central_crop[key] += value\n",
    "    ep_time=time.time()-st_time\n",
    "    print 'single view test elapsed time %3.2f seconds. top %d accu %4.3f top %d accuracy %4.3f' % \\\n",
    "    (ep_time,topk[0],batch_topk_accu[str(topk[0])], topk[-1],batch_topk_accu[str(topk[-1])])\n",
    "    \n",
    "    '''10-view test'''\n",
    "    st_time=time.time()\n",
    "    prediction = net.predict(test_imgs, oversample = True)\n",
    "    prediction_multi[start:end,:]=prediction\n",
    "    pred_labels = np.zeros((batch_size, max(topk)),dtype=np.int32)\n",
    "    for j in range(batch_size):\n",
    "        idx=np.argsort(prediction[j,:])[::-1]\n",
    "        pred_labels[j,:]=idx[:max(topk)]\n",
    "    pred_labels_10_view[start:end]=pred_labels[:,0]\n",
    "    \n",
    "    batch_topk_accu, batch_topk_guesses = top_k_accuracy(pred_labels, test_img_labels, topk)\n",
    "    for key, value in batch_topk_accu.iteritems():\n",
    "        topk_accu_10_view[key] += value\n",
    "    ep_time=time.time()-st_time\n",
    "    print '10-view test elapsed time %3.2f seconds. top %d accu %4.3f top %d accuracy %4.3f' % \\\n",
    "    (ep_time,topk[0],batch_topk_accu[str(topk[0])], topk[-1],batch_topk_accu[str(topk[-1])])\n",
    "    \n",
    "print '-----------results-----------'\n",
    "for key, value in topk_accu_central_crop.iteritems():\n",
    "    topk_accu_central_crop[key]/=batch_num\n",
    "    print 'w/o oversample top %s accuracy: %5.4f' % (key,topk_accu_central_crop[key])\n",
    "    topk_accu_10_view[key]/=batch_num\n",
    "    print 'with 10-view oversample top %s accuracy: %5.4f' % (key,topk_accu_10_view[key])\n",
    "\n",
    "'''save prediction data into file'''\n",
    "net_prediction={}\n",
    "net_prediction['single']=prediction_single\n",
    "net_prediction['multi']=prediction_multi\n",
    "net_prediction['gt_labels']=gt_labels\n",
    "pickle(model_dir + 'net_predictions', net_prediction)"
   ]
  },
  {
   "cell_type": "code",
   "execution_count": null,
   "metadata": {
    "collapsed": true
   },
   "outputs": [],
   "source": [
    "print '-----------results-----------'\n",
    "for key, value in topk_accu_central_crop.iteritems():\n",
    "    topk_accu_central_crop[key]/=batch_num\n",
    "    print 'w/o oversample top %s accuracy: %5.4f' % (key,topk_accu_central_crop[key])\n",
    "    topk_accu_10_view[key]/=batch_num\n",
    "    print 'with 10-view oversample top %s accuracy: %5.4f' % (key,topk_accu_10_view[key])"
   ]
  },
  {
   "cell_type": "code",
   "execution_count": 16,
   "metadata": {
    "collapsed": false
   },
   "outputs": [],
   "source": [
    "dict={}\n",
    "dict['pred_labels_central_crop']=pred_labels_central_crop\n",
    "dict['pred_labels_10_view']=pred_labels_10_view\n",
    "pickle(model_dir + '89clusters/89clusters_v2.0/vgg_16_layer_validation_results', dict)"
   ]
  },
  {
   "cell_type": "code",
   "execution_count": 5,
   "metadata": {
    "collapsed": false
   },
   "outputs": [],
   "source": [
    "'''load prediction data from file'''\n",
    "net_prediction=unpickle(model_dir+'net_predictions')\n"
   ]
  },
  {
   "cell_type": "code",
   "execution_count": null,
   "metadata": {
    "collapsed": true
   },
   "outputs": [],
   "source": []
  },
  {
   "cell_type": "code",
   "execution_count": null,
   "metadata": {
    "collapsed": true
   },
   "outputs": [],
   "source": []
  }
 ],
 "metadata": {
  "kernelspec": {
   "display_name": "Python 2",
   "language": "python",
   "name": "python2"
  },
  "language_info": {
   "codemirror_mode": {
    "name": "ipython",
    "version": 2
   },
   "file_extension": ".py",
   "mimetype": "text/x-python",
   "name": "python",
   "nbconvert_exporter": "python",
   "pygments_lexer": "ipython2",
   "version": "2.7.6"
  }
 },
 "nbformat": 4,
 "nbformat_minor": 0
}
