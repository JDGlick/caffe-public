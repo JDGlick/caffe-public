{
 "metadata": {
  "name": "",
  "signature": "sha256:b784e35a0cf3c5217b9c4e2f29500087a784adddb21202b95283d9cadd9ee890"
 },
 "nbformat": 3,
 "nbformat_minor": 0,
 "worksheets": [
  {
   "cells": [
    {
     "cell_type": "code",
     "collapsed": false,
     "input": [
      "import sys\n",
      "import os\n",
      "import numpy as np\n",
      "import matplotlib.pyplot as plt\n",
      "%matplotlib inline\n",
      "import leveldb\n",
      "import lmdb\n",
      "import time\n",
      "\n",
      "caffe_root = os.environ['CAFFE_PROJ_DIR']\n",
      "print 'caffe_root ',caffe_root\n",
      "sys.path.insert(0, caffe_root + 'python')\n",
      "sys.path.append(caffe_root + 'python/util')\n",
      "import caffe\n",
      "from util_func import *\n",
      "\n",
      "sys.path.append(caffe_root + 'python/caffe/proto')\n",
      "import caffe_pb2\n",
      "\n",
      "# Set the right path to your model definition file, pretrained model weights,\n",
      "# and the image you would like to classify.\n",
      "\n",
      "model_dir=caffe_root+'models/VGG_ILSVRC_16_layers/211839e770f7b538e2d8/'\n",
      "MODEL_FILE =model_dir + 'deploy.prototxt'\n",
      "PRETRAINED = model_dir + 'VGG_ILSVRC_16_layers.caffemodel'\n",
      "raw_scale=255\n",
      "\n",
      "# model_dir = caffe_root + 'models/bvlc_reference_caffenet/'\n",
      "# MODEL_FILE = model_dir + 'deploy.prototxt'\n",
      "# PRETRAINED = model_dir + 'bvlc_reference_caffenet.caffemodel'\n",
      "# raw_scale=255\n",
      "\n",
      "\n",
      "example_dir=caffe_root+'examples/imagenet/'\n",
      "data_dir=caffe_root+'data/ilsvrc12/'\n",
      "print 'model_dir ',model_dir\n",
      "print 'example_dir ',example_dir\n",
      "print 'data_dir ',data_dir"
     ],
     "language": "python",
     "metadata": {},
     "outputs": [
      {
       "output_type": "stream",
       "stream": "stdout",
       "text": [
        "caffe_root  /home/zyan3/proj/caffe_private_hdcnn/\n",
        "model_dir "
       ]
      },
      {
       "output_type": "stream",
       "stream": "stdout",
       "text": [
        " /home/zyan3/proj/caffe_private_hdcnn/models/VGG_ILSVRC_16_layers/211839e770f7b538e2d8/\n",
        "example_dir  /home/zyan3/proj/caffe_private_hdcnn/examples/imagenet/\n",
        "data_dir  /home/zyan3/proj/caffe_private_hdcnn/data/ilsvrc12/\n"
       ]
      }
     ],
     "prompt_number": 1
    },
    {
     "cell_type": "code",
     "collapsed": false,
     "input": [
      "label_names=read_text(data_dir + 'synset_words.txt')\n",
      "num_class=len(label_names)\n",
      "print 'num_class: %d' % num_class"
     ],
     "language": "python",
     "metadata": {},
     "outputs": [
      {
       "output_type": "stream",
       "stream": "stdout",
       "text": [
        "num_class: 1000\n"
       ]
      }
     ],
     "prompt_number": 2
    },
    {
     "cell_type": "code",
     "collapsed": false,
     "input": [
      "caffe.set_mode_gpu()\n",
      "caffe.init_device(0)\n",
      "caffe.init_device(1)\n",
      "# when loading individual images using caffe.io.load_image, channel_swap=(2,1,0)\n",
      "# when loading images from preprocessed database, channel_swap=(0,1,2)\n",
      "net = caffe.Classifier(MODEL_FILE, PRETRAINED,\n",
      "                       mean=np.load(caffe_root + 'python/caffe/imagenet/ilsvrc_2012_mean.npy'),\n",
      "                       channel_swap=(0,1,2),\n",
      "                       raw_scale=raw_scale,\n",
      "                       image_dims=(256,256))"
     ],
     "language": "python",
     "metadata": {},
     "outputs": [],
     "prompt_number": 3
    },
    {
     "cell_type": "code",
     "collapsed": false,
     "input": [
      "val_img_list_fn = data_dir + 'val.txt'\n",
      "val_img_names, val_img_labels=read_val_image_list(val_img_list_fn)\n",
      "num_val = len(val_img_names)"
     ],
     "language": "python",
     "metadata": {},
     "outputs": [
      {
       "output_type": "stream",
       "stream": "stdout",
       "text": [
        "50000 validation images \n"
       ]
      }
     ],
     "prompt_number": 4
    },
    {
     "cell_type": "code",
     "collapsed": false,
     "input": [
      "val_lmdb_fn = '/home/zyan3/local/data/imagenet/ilsvrc12/ilsvrc12_val_size384_lmdb'\n",
      "val_lmdb = lmdb.open(val_lmdb_fn)\n",
      "txn=val_lmdb.begin()"
     ],
     "language": "python",
     "metadata": {},
     "outputs": [],
     "prompt_number": 5
    },
    {
     "cell_type": "code",
     "collapsed": false,
     "input": [
      "num_val = 50000\n",
      "batch_size = 1000\n",
      "\n",
      "# num_val = 100\n",
      "# batch_size = 50\n",
      "\n",
      "\n",
      "batch_num = num_val / batch_size\n",
      "\n",
      "topk=[1,5]\n",
      "topk_accu_central_crop={}\n",
      "topk_accu_10_view={}\n",
      "for k in topk:\n",
      "    topk_accu_central_crop[str(k)]=0\n",
      "    topk_accu_10_view[str(k)]=0\n",
      "\n",
      "pred_labels_central_crop = np.zeros((num_val),dtype=np.int32)\n",
      "pred_labels_10_view = np.zeros((num_val),dtype=np.int32)\n",
      "\n",
      "for i in range(batch_num):\n",
      "    print 'batch %d out of %d' % (i+1, batch_num)\n",
      "    start, end = i*batch_size,(i+1)*batch_size\n",
      "    \n",
      "    test_imgs =[]\n",
      "    test_img_labels=[]\n",
      "    for j in range(start,end):\n",
      "        key = '%08d_%s' %(j,val_img_names[j])\n",
      "        string_data=txn.get(key)\n",
      "        datum = caffe_pb2.Datum()\n",
      "        datum.ParseFromString(string_data)    \n",
      "        data_array = np.fromstring(datum.data, dtype=np.uint8) \n",
      "        data_array = np.float32(data_array)    \n",
      "        data_array = data_array.reshape((datum.channels, datum.height, datum.width))\n",
      "        data_array = np.transpose(data_array,(1,2,0))\n",
      "        data_array /= 255.0\n",
      "        test_imgs += [data_array]\n",
      "        test_img_labels += [datum.label]\n",
      "    \n",
      "    '''single view test'''\n",
      "    st_time=time.time()\n",
      "    prediction = net.predict(test_imgs, oversample = False)\n",
      "    pred_labels = np.zeros((batch_size, max(topk)),dtype=np.int32)\n",
      "    for j in range(batch_size):\n",
      "        idx=np.argsort(prediction[j,:])[::-1]\n",
      "        pred_labels[j,:]=idx[:max(topk)]\n",
      "    pred_labels_central_crop[start:end]=pred_labels[:,0]\n",
      "        \n",
      "    batch_topk_accu = top_k_accuracy(pred_labels, test_img_labels, topk)\n",
      "    for key, value in batch_topk_accu.iteritems():\n",
      "        topk_accu_central_crop[key] += value\n",
      "    ep_time=time.time()-st_time\n",
      "    print 'single view test elapsed time %3.2f seconds. top %d accuracy %4.3f' % \\\n",
      "    (ep_time,topk[-1],batch_topk_accu[str(topk[-1])])\n",
      "    \n",
      "    '''10-view test'''\n",
      "    st_time=time.time()\n",
      "    prediction = net.predict(test_imgs, oversample = True)\n",
      "    pred_labels = np.zeros((batch_size, max(topk)),dtype=np.int32)\n",
      "    for j in range(batch_size):\n",
      "        idx=np.argsort(prediction[j,:])[::-1]\n",
      "        pred_labels[j,:]=idx[:max(topk)]\n",
      "    pred_labels_10_view[start:end]=pred_labels[:,0]\n",
      "    \n",
      "    batch_topk_accu = top_k_accuracy(pred_labels, test_img_labels, topk)\n",
      "    for key, value in batch_topk_accu.iteritems():\n",
      "        topk_accu_10_view[key] += value\n",
      "    ep_time=time.time()-st_time\n",
      "    print '10-view test elapsed time %3.2f seconds. top %d accuracy %4.3f' % \\\n",
      "    (ep_time,topk[-1],batch_topk_accu[str(topk[-1])])\n",
      "    \n",
      "print '-----------results-----------'\n",
      "for key, value in topk_accu_central_crop.iteritems():\n",
      "    topk_accu_central_crop[key]/=batch_num\n",
      "    print 'w/o oversample top %s accuracy: %5.4f' % (key,topk_accu_central_crop[key])\n",
      "    topk_accu_10_view[key]/=batch_num\n",
      "    print 'with 10-view oversample top %s accuracy: %5.4f' % (key,topk_accu_10_view[key])\n"
     ],
     "language": "python",
     "metadata": {},
     "outputs": [
      {
       "output_type": "stream",
       "stream": "stdout",
       "text": [
        "batch 1 out of 50\n",
        "single view test elapsed time 18.74 seconds. top 5 accuracy 0.892"
       ]
      },
      {
       "output_type": "stream",
       "stream": "stdout",
       "text": [
        "\n",
        "10-view test elapsed time 130.40 seconds. top 5 accuracy 0.890"
       ]
      },
      {
       "output_type": "stream",
       "stream": "stdout",
       "text": [
        "\n",
        "batch 2 out of 50\n",
        "single view test elapsed time 20.63 seconds. top 5 accuracy 0.876"
       ]
      },
      {
       "output_type": "stream",
       "stream": "stdout",
       "text": [
        "\n",
        "10-view test elapsed time 138.75 seconds. top 5 accuracy 0.886"
       ]
      },
      {
       "output_type": "stream",
       "stream": "stdout",
       "text": [
        "\n",
        "batch 3 out of 50\n",
        "single view test elapsed time 21.35 seconds. top 5 accuracy 0.880"
       ]
      },
      {
       "output_type": "stream",
       "stream": "stdout",
       "text": [
        "\n",
        "10-view test elapsed time 143.84 seconds. top 5 accuracy 0.892"
       ]
      },
      {
       "output_type": "stream",
       "stream": "stdout",
       "text": [
        "\n",
        "batch 4 out of 50\n",
        "single view test elapsed time 18.73 seconds. top 5 accuracy 0.890"
       ]
      },
      {
       "output_type": "stream",
       "stream": "stdout",
       "text": [
        "\n",
        "10-view test elapsed time 127.79 seconds. top 5 accuracy 0.896"
       ]
      },
      {
       "output_type": "stream",
       "stream": "stdout",
       "text": [
        "\n",
        "batch 5 out of 50\n",
        "single view test elapsed time 18.65 seconds. top 5 accuracy 0.884"
       ]
      },
      {
       "output_type": "stream",
       "stream": "stdout",
       "text": [
        "\n",
        "10-view test elapsed time 129.25 seconds. top 5 accuracy 0.889"
       ]
      },
      {
       "output_type": "stream",
       "stream": "stdout",
       "text": [
        "\n",
        "batch 6 out of 50\n",
        "single view test elapsed time 18.50 seconds. top 5 accuracy 0.878"
       ]
      },
      {
       "output_type": "stream",
       "stream": "stdout",
       "text": [
        "\n",
        "10-view test elapsed time 126.33 seconds. top 5 accuracy 0.880"
       ]
      },
      {
       "output_type": "stream",
       "stream": "stdout",
       "text": [
        "\n",
        "batch 7 out of 50\n",
        "single view test elapsed time 18.09 seconds. top 5 accuracy 0.876"
       ]
      },
      {
       "output_type": "stream",
       "stream": "stdout",
       "text": [
        "\n",
        "10-view test elapsed time 126.35 seconds. top 5 accuracy 0.882"
       ]
      },
      {
       "output_type": "stream",
       "stream": "stdout",
       "text": [
        "\n",
        "batch 8 out of 50\n",
        "single view test elapsed time 18.72 seconds. top 5 accuracy 0.878"
       ]
      },
      {
       "output_type": "stream",
       "stream": "stdout",
       "text": [
        "\n",
        "10-view test elapsed time 128.81 seconds. top 5 accuracy 0.887"
       ]
      },
      {
       "output_type": "stream",
       "stream": "stdout",
       "text": [
        "\n",
        "batch 9 out of 50\n",
        "single view test elapsed time 18.58 seconds. top 5 accuracy 0.884"
       ]
      },
      {
       "output_type": "stream",
       "stream": "stdout",
       "text": [
        "\n",
        "10-view test elapsed time 126.21 seconds. top 5 accuracy 0.895"
       ]
      },
      {
       "output_type": "stream",
       "stream": "stdout",
       "text": [
        "\n",
        "batch 10 out of 50\n",
        "single view test elapsed time 18.01 seconds. top 5 accuracy 0.881"
       ]
      },
      {
       "output_type": "stream",
       "stream": "stdout",
       "text": [
        "\n",
        "10-view test elapsed time 125.55 seconds. top 5 accuracy 0.898"
       ]
      },
      {
       "output_type": "stream",
       "stream": "stdout",
       "text": [
        "\n",
        "batch 11 out of 50\n",
        "single view test elapsed time 18.69 seconds. top 5 accuracy 0.882"
       ]
      },
      {
       "output_type": "stream",
       "stream": "stdout",
       "text": [
        "\n",
        "10-view test elapsed time 126.56 seconds. top 5 accuracy 0.890"
       ]
      },
      {
       "output_type": "stream",
       "stream": "stdout",
       "text": [
        "\n",
        "batch 12 out of 50\n",
        "single view test elapsed time 18.54 seconds. top 5 accuracy 0.878"
       ]
      },
      {
       "output_type": "stream",
       "stream": "stdout",
       "text": [
        "\n",
        "10-view test elapsed time 127.17 seconds. top 5 accuracy 0.889"
       ]
      },
      {
       "output_type": "stream",
       "stream": "stdout",
       "text": [
        "\n",
        "batch 13 out of 50\n",
        "single view test elapsed time 17.99 seconds. top 5 accuracy 0.880"
       ]
      },
      {
       "output_type": "stream",
       "stream": "stdout",
       "text": [
        "\n",
        "10-view test elapsed time 127.94 seconds. top 5 accuracy 0.889"
       ]
      },
      {
       "output_type": "stream",
       "stream": "stdout",
       "text": [
        "\n",
        "batch 14 out of 50\n",
        "single view test elapsed time 18.57 seconds. top 5 accuracy 0.874"
       ]
      },
      {
       "output_type": "stream",
       "stream": "stdout",
       "text": [
        "\n",
        "10-view test elapsed time 128.76 seconds. top 5 accuracy 0.880"
       ]
      },
      {
       "output_type": "stream",
       "stream": "stdout",
       "text": [
        "\n",
        "batch 15 out of 50\n",
        "single view test elapsed time 18.83 seconds. top 5 accuracy 0.877"
       ]
      },
      {
       "output_type": "stream",
       "stream": "stdout",
       "text": [
        "\n",
        "10-view test elapsed time 127.41 seconds. top 5 accuracy 0.882"
       ]
      },
      {
       "output_type": "stream",
       "stream": "stdout",
       "text": [
        "\n",
        "batch 16 out of 50\n",
        "single view test elapsed time 18.44 seconds. top 5 accuracy 0.887"
       ]
      },
      {
       "output_type": "stream",
       "stream": "stdout",
       "text": [
        "\n",
        "10-view test elapsed time 128.36 seconds. top 5 accuracy 0.897"
       ]
      },
      {
       "output_type": "stream",
       "stream": "stdout",
       "text": [
        "\n",
        "batch 17 out of 50\n",
        "single view test elapsed time 17.97 seconds. top 5 accuracy 0.876"
       ]
      },
      {
       "output_type": "stream",
       "stream": "stdout",
       "text": [
        "\n",
        "10-view test elapsed time 127.84 seconds. top 5 accuracy 0.881"
       ]
      },
      {
       "output_type": "stream",
       "stream": "stdout",
       "text": [
        "\n",
        "batch 18 out of 50\n",
        "single view test elapsed time 17.72 seconds. top 5 accuracy 0.866"
       ]
      },
      {
       "output_type": "stream",
       "stream": "stdout",
       "text": [
        "\n",
        "10-view test elapsed time 126.53 seconds. top 5 accuracy 0.884"
       ]
      },
      {
       "output_type": "stream",
       "stream": "stdout",
       "text": [
        "\n",
        "batch 19 out of 50\n",
        "single view test elapsed time 17.82 seconds. top 5 accuracy 0.885"
       ]
      },
      {
       "output_type": "stream",
       "stream": "stdout",
       "text": [
        "\n",
        "10-view test elapsed time 126.96 seconds. top 5 accuracy 0.892"
       ]
      },
      {
       "output_type": "stream",
       "stream": "stdout",
       "text": [
        "\n",
        "batch 20 out of 50\n",
        "single view test elapsed time 18.04 seconds. top 5 accuracy 0.877"
       ]
      },
      {
       "output_type": "stream",
       "stream": "stdout",
       "text": [
        "\n",
        "10-view test elapsed time 127.27 seconds. top 5 accuracy 0.885"
       ]
      },
      {
       "output_type": "stream",
       "stream": "stdout",
       "text": [
        "\n",
        "batch 21 out of 50\n",
        "single view test elapsed time 17.95 seconds. top 5 accuracy 0.888"
       ]
      },
      {
       "output_type": "stream",
       "stream": "stdout",
       "text": [
        "\n",
        "10-view test elapsed time 126.14 seconds. top 5 accuracy 0.904"
       ]
      },
      {
       "output_type": "stream",
       "stream": "stdout",
       "text": [
        "\n",
        "batch 22 out of 50\n",
        "single view test elapsed time 17.86 seconds. top 5 accuracy 0.895"
       ]
      },
      {
       "output_type": "stream",
       "stream": "stdout",
       "text": [
        "\n",
        "10-view test elapsed time 124.02 seconds. top 5 accuracy 0.900"
       ]
      },
      {
       "output_type": "stream",
       "stream": "stdout",
       "text": [
        "\n",
        "batch 23 out of 50\n",
        "single view test elapsed time 17.62 seconds. top 5 accuracy 0.870"
       ]
      },
      {
       "output_type": "stream",
       "stream": "stdout",
       "text": [
        "\n",
        "10-view test elapsed time 124.05 seconds. top 5 accuracy 0.880"
       ]
      },
      {
       "output_type": "stream",
       "stream": "stdout",
       "text": [
        "\n",
        "batch 24 out of 50\n",
        "single view test elapsed time 17.69 seconds. top 5 accuracy 0.871"
       ]
      },
      {
       "output_type": "stream",
       "stream": "stdout",
       "text": [
        "\n",
        "10-view test elapsed time 123.61 seconds. top 5 accuracy 0.883"
       ]
      },
      {
       "output_type": "stream",
       "stream": "stdout",
       "text": [
        "\n",
        "batch 25 out of 50\n",
        "single view test elapsed time 17.63 seconds. top 5 accuracy 0.877"
       ]
      },
      {
       "output_type": "stream",
       "stream": "stdout",
       "text": [
        "\n",
        "10-view test elapsed time 127.04 seconds. top 5 accuracy 0.891"
       ]
      },
      {
       "output_type": "stream",
       "stream": "stdout",
       "text": [
        "\n",
        "batch 26 out of 50\n",
        "single view test elapsed time 17.58 seconds. top 5 accuracy 0.881"
       ]
      },
      {
       "output_type": "stream",
       "stream": "stdout",
       "text": [
        "\n",
        "10-view test elapsed time 124.54 seconds. top 5 accuracy 0.880"
       ]
      },
      {
       "output_type": "stream",
       "stream": "stdout",
       "text": [
        "\n",
        "batch 27 out of 50\n",
        "single view test elapsed time 17.94 seconds. top 5 accuracy 0.877"
       ]
      },
      {
       "output_type": "stream",
       "stream": "stdout",
       "text": [
        "\n",
        "10-view test elapsed time 124.99 seconds. top 5 accuracy 0.885"
       ]
      },
      {
       "output_type": "stream",
       "stream": "stdout",
       "text": [
        "\n",
        "batch 28 out of 50\n",
        "single view test elapsed time 17.93 seconds. top 5 accuracy 0.869"
       ]
      },
      {
       "output_type": "stream",
       "stream": "stdout",
       "text": [
        "\n",
        "10-view test elapsed time 127.56 seconds. top 5 accuracy 0.881"
       ]
      },
      {
       "output_type": "stream",
       "stream": "stdout",
       "text": [
        "\n",
        "batch 29 out of 50\n",
        "single view test elapsed time 17.98 seconds. top 5 accuracy 0.889"
       ]
      },
      {
       "output_type": "stream",
       "stream": "stdout",
       "text": [
        "\n",
        "10-view test elapsed time 126.92 seconds. top 5 accuracy 0.898"
       ]
      },
      {
       "output_type": "stream",
       "stream": "stdout",
       "text": [
        "\n",
        "batch 30 out of 50\n",
        "single view test elapsed time 18.88 seconds. top 5 accuracy 0.874"
       ]
      },
      {
       "output_type": "stream",
       "stream": "stdout",
       "text": [
        "\n",
        "10-view test elapsed time 124.27 seconds. top 5 accuracy 0.888"
       ]
      },
      {
       "output_type": "stream",
       "stream": "stdout",
       "text": [
        "\n",
        "batch 31 out of 50\n",
        "single view test elapsed time 17.83 seconds. top 5 accuracy 0.878"
       ]
      },
      {
       "output_type": "stream",
       "stream": "stdout",
       "text": [
        "\n",
        "10-view test elapsed time 126.69 seconds. top 5 accuracy 0.879"
       ]
      },
      {
       "output_type": "stream",
       "stream": "stdout",
       "text": [
        "\n",
        "batch 32 out of 50\n",
        "single view test elapsed time 17.99 seconds. top 5 accuracy 0.873"
       ]
      },
      {
       "output_type": "stream",
       "stream": "stdout",
       "text": [
        "\n",
        "10-view test elapsed time 124.27 seconds. top 5 accuracy 0.885"
       ]
      },
      {
       "output_type": "stream",
       "stream": "stdout",
       "text": [
        "\n",
        "batch 33 out of 50\n",
        "single view test elapsed time 17.70 seconds. top 5 accuracy 0.859"
       ]
      },
      {
       "output_type": "stream",
       "stream": "stdout",
       "text": [
        "\n",
        "10-view test elapsed time 124.29 seconds. top 5 accuracy 0.860"
       ]
      },
      {
       "output_type": "stream",
       "stream": "stdout",
       "text": [
        "\n",
        "batch 34 out of 50\n",
        "single view test elapsed time 18.06 seconds. top 5 accuracy 0.901"
       ]
      },
      {
       "output_type": "stream",
       "stream": "stdout",
       "text": [
        "\n",
        "10-view test elapsed time 126.92 seconds. top 5 accuracy 0.902"
       ]
      },
      {
       "output_type": "stream",
       "stream": "stdout",
       "text": [
        "\n",
        "batch 35 out of 50\n",
        "single view test elapsed time 17.89 seconds. top 5 accuracy 0.875"
       ]
      },
      {
       "output_type": "stream",
       "stream": "stdout",
       "text": [
        "\n",
        "10-view test elapsed time 124.91 seconds. top 5 accuracy 0.884"
       ]
      },
      {
       "output_type": "stream",
       "stream": "stdout",
       "text": [
        "\n",
        "batch 36 out of 50\n",
        "single view test elapsed time 17.73 seconds. top 5 accuracy 0.877"
       ]
      },
      {
       "output_type": "stream",
       "stream": "stdout",
       "text": [
        "\n",
        "10-view test elapsed time 126.69 seconds. top 5 accuracy 0.876"
       ]
      },
      {
       "output_type": "stream",
       "stream": "stdout",
       "text": [
        "\n",
        "batch 37 out of 50\n",
        "single view test elapsed time 18.11 seconds. top 5 accuracy 0.899"
       ]
      },
      {
       "output_type": "stream",
       "stream": "stdout",
       "text": [
        "\n",
        "10-view test elapsed time 124.56 seconds. top 5 accuracy 0.901"
       ]
      },
      {
       "output_type": "stream",
       "stream": "stdout",
       "text": [
        "\n",
        "batch 38 out of 50\n",
        "single view test elapsed time 17.73 seconds. top 5 accuracy 0.888"
       ]
      },
      {
       "output_type": "stream",
       "stream": "stdout",
       "text": [
        "\n",
        "10-view test elapsed time 128.04 seconds. top 5 accuracy 0.895"
       ]
      },
      {
       "output_type": "stream",
       "stream": "stdout",
       "text": [
        "\n",
        "batch 39 out of 50\n",
        "single view test elapsed time 17.61 seconds. top 5 accuracy 0.887"
       ]
      },
      {
       "output_type": "stream",
       "stream": "stdout",
       "text": [
        "\n",
        "10-view test elapsed time 124.24 seconds. top 5 accuracy 0.890"
       ]
      },
      {
       "output_type": "stream",
       "stream": "stdout",
       "text": [
        "\n",
        "batch 40 out of 50\n",
        "single view test elapsed time 17.49 seconds. top 5 accuracy 0.890"
       ]
      },
      {
       "output_type": "stream",
       "stream": "stdout",
       "text": [
        "\n",
        "10-view test elapsed time 126.97 seconds. top 5 accuracy 0.889"
       ]
      },
      {
       "output_type": "stream",
       "stream": "stdout",
       "text": [
        "\n",
        "batch 41 out of 50\n",
        "single view test elapsed time 17.62 seconds. top 5 accuracy 0.872"
       ]
      },
      {
       "output_type": "stream",
       "stream": "stdout",
       "text": [
        "\n",
        "10-view test elapsed time 125.68 seconds. top 5 accuracy 0.879"
       ]
      },
      {
       "output_type": "stream",
       "stream": "stdout",
       "text": [
        "\n",
        "batch 42 out of 50\n",
        "single view test elapsed time 17.66 seconds. top 5 accuracy 0.860"
       ]
      },
      {
       "output_type": "stream",
       "stream": "stdout",
       "text": [
        "\n",
        "10-view test elapsed time 126.49 seconds. top 5 accuracy 0.876"
       ]
      },
      {
       "output_type": "stream",
       "stream": "stdout",
       "text": [
        "\n",
        "batch 43 out of 50\n",
        "single view test elapsed time 17.59 seconds. top 5 accuracy 0.874"
       ]
      },
      {
       "output_type": "stream",
       "stream": "stdout",
       "text": [
        "\n",
        "10-view test elapsed time 126.39 seconds. top 5 accuracy 0.879"
       ]
      },
      {
       "output_type": "stream",
       "stream": "stdout",
       "text": [
        "\n",
        "batch 44 out of 50\n",
        "single view test elapsed time 17.52 seconds. top 5 accuracy 0.891"
       ]
      },
      {
       "output_type": "stream",
       "stream": "stdout",
       "text": [
        "\n",
        "10-view test elapsed time 127.28 seconds. top 5 accuracy 0.897"
       ]
      },
      {
       "output_type": "stream",
       "stream": "stdout",
       "text": [
        "\n",
        "batch 45 out of 50\n",
        "single view test elapsed time 17.56 seconds. top 5 accuracy 0.878"
       ]
      },
      {
       "output_type": "stream",
       "stream": "stdout",
       "text": [
        "\n",
        "10-view test elapsed time 126.14 seconds. top 5 accuracy 0.885"
       ]
      },
      {
       "output_type": "stream",
       "stream": "stdout",
       "text": [
        "\n",
        "batch 46 out of 50\n",
        "single view test elapsed time 17.49 seconds. top 5 accuracy 0.894"
       ]
      },
      {
       "output_type": "stream",
       "stream": "stdout",
       "text": [
        "\n",
        "10-view test elapsed time 125.49 seconds. top 5 accuracy 0.903"
       ]
      },
      {
       "output_type": "stream",
       "stream": "stdout",
       "text": [
        "\n",
        "batch 47 out of 50\n",
        "single view test elapsed time 17.67 seconds. top 5 accuracy 0.887"
       ]
      },
      {
       "output_type": "stream",
       "stream": "stdout",
       "text": [
        "\n",
        "10-view test elapsed time 123.70 seconds. top 5 accuracy 0.887"
       ]
      },
      {
       "output_type": "stream",
       "stream": "stdout",
       "text": [
        "\n",
        "batch 48 out of 50\n",
        "single view test elapsed time 17.56 seconds. top 5 accuracy 0.872"
       ]
      },
      {
       "output_type": "stream",
       "stream": "stdout",
       "text": [
        "\n",
        "10-view test elapsed time 124.76 seconds. top 5 accuracy 0.879"
       ]
      },
      {
       "output_type": "stream",
       "stream": "stdout",
       "text": [
        "\n",
        "batch 49 out of 50\n",
        "single view test elapsed time 17.52 seconds. top 5 accuracy 0.877"
       ]
      },
      {
       "output_type": "stream",
       "stream": "stdout",
       "text": [
        "\n",
        "10-view test elapsed time 124.18 seconds. top 5 accuracy 0.887"
       ]
      },
      {
       "output_type": "stream",
       "stream": "stdout",
       "text": [
        "\n",
        "batch 50 out of 50\n",
        "single view test elapsed time 17.57 seconds. top 5 accuracy 0.882"
       ]
      },
      {
       "output_type": "stream",
       "stream": "stdout",
       "text": [
        "\n",
        "10-view test elapsed time 124.29 seconds. top 5 accuracy 0.886"
       ]
      },
      {
       "output_type": "stream",
       "stream": "stdout",
       "text": [
        "\n",
        "-----------results-----------\n",
        "w/o oversample top 1 accuracy: 0.6770\n",
        "with 10-view oversample top 1 accuracy: 0.6902\n",
        "w/o oversample top 5 accuracy: 0.8801\n",
        "with 10-view oversample top 5 accuracy: 0.8875\n"
       ]
      }
     ],
     "prompt_number": 6
    },
    {
     "cell_type": "code",
     "collapsed": false,
     "input": [
      "dict={}\n",
      "dict['pred_labels_central_crop']=pred_labels_central_crop\n",
      "dict['pred_labels_10_view']=pred_labels_10_view"
     ],
     "language": "python",
     "metadata": {},
     "outputs": [],
     "prompt_number": 16
    },
    {
     "cell_type": "code",
     "collapsed": false,
     "input": [
      "pickle(example_dir + 'vgg_16_layer_validation_results', dict)"
     ],
     "language": "python",
     "metadata": {},
     "outputs": [],
     "prompt_number": 17
    }
   ],
   "metadata": {}
  }
 ]
}