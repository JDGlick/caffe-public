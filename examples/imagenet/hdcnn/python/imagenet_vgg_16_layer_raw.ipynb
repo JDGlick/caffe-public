{
 "metadata": {
  "name": "",
  "signature": "sha256:e6fe92a56229296d078f8d62a5349b6b8e5b94f12cda3f670f734d91540a582b"
 },
 "nbformat": 3,
 "nbformat_minor": 0,
 "worksheets": [
  {
   "cells": [
    {
     "cell_type": "code",
     "collapsed": false,
     "input": [
      "import os\n",
      "import numpy as np\n",
      "import numpy.random as rd\n",
      "import matplotlib.pyplot as plt\n",
      "%matplotlib inline\n",
      "import scipy.linalg\n",
      "from sklearn.cluster import k_means\n",
      "from sklearn.cluster import *\n",
      "import copy\n",
      "import leveldb\n",
      "import lmdb\n",
      "from random import shuffle\n",
      "\n",
      "# Make sure that caffe is on the python path:\n",
      "caffe_root = os.environ['CAFFE_PROJ_DIR']\n",
      "caffe_local_root = os.environ['CAFFE_LOCAL_PROJ_DIR']\n",
      "print 'caffe_root',caffe_root\n",
      "print 'caffe_local_root',caffe_local_root\n",
      "\n",
      "import sys\n",
      "sys.path.append(caffe_root + 'python')\n",
      "sys.path.append(caffe_root + 'python/util')\n",
      "import caffe\n",
      "from util_func import *\n",
      "\n",
      "sys.path.append(caffe_root + 'python/caffe/proto')\n",
      "import caffe_pb2\n",
      "\n",
      "plt.rcParams['figure.figsize'] = (5, 5)\n",
      "plt.rcParams['image.interpolation'] = 'nearest'\n",
      "plt.rcParams['image.cmap'] = 'gray'"
     ],
     "language": "python",
     "metadata": {},
     "outputs": [
      {
       "output_type": "stream",
       "stream": "stdout",
       "text": [
        "caffe_root /home/zyan3/proj/caffe_private_hdcnn/\n",
        "caffe_local_root /home/zyan3/local/proj/caffe_private_hdcnn/\n"
       ]
      }
     ],
     "prompt_number": 1
    },
    {
     "cell_type": "code",
     "collapsed": false,
     "input": [
      "local_data_dir = '/home/zyan3/local/data/imagenet/'\n",
      "model_dir=caffe_root+'models/VGG_ILSVRC_16_layers/211839e770f7b538e2d8/'\n",
      "example_dir=caffe_root+'examples/imagenet/'\n",
      "# num_val, num_class = 50000, 1000\n",
      "print 'model_dir ',model_dir\n",
      "print 'example_dir ',example_dir"
     ],
     "language": "python",
     "metadata": {},
     "outputs": [
      {
       "output_type": "stream",
       "stream": "stdout",
       "text": [
        "model_dir  /home/zyan3/proj/caffe_private_hdcnn/models/VGG_ILSVRC_16_layers/211839e770f7b538e2d8/\n",
        "example_dir  /home/zyan3/proj/caffe_private_hdcnn/examples/imagenet/\n"
       ]
      }
     ],
     "prompt_number": 2
    },
    {
     "cell_type": "code",
     "collapsed": false,
     "input": [
      "lmdb_open = 1\n",
      "val_lmdb_fn=caffe_root + 'examples/imagenet/VGG_16_layer_val_fc8_lmdb'\n",
      "val_lmdb = lmdb.open(val_lmdb_fn)\n",
      "txn=val_lmdb.begin()"
     ],
     "language": "python",
     "metadata": {},
     "outputs": [],
     "prompt_number": 3
    },
    {
     "cell_type": "code",
     "collapsed": false,
     "input": [
      "# lmdb_open = 0\n",
      "# val_leveldb_fn=caffe_root + 'examples/imagenet/VGG_16_layer_val_fc8_leveldb'\n",
      "# db = leveldb.LevelDB(val_leveldb_fn)"
     ],
     "language": "python",
     "metadata": {},
     "outputs": [],
     "prompt_number": 3
    },
    {
     "cell_type": "code",
     "collapsed": false,
     "input": [
      "'''\n",
      "read 100-class probabilities for validation images from leveldb\n",
      "'''\n",
      "num_val,num_class=50000,1000\n",
      "val_prob=np.zeros((num_val,num_class))\n",
      "for i in range(num_val):\n",
      "    key='%d'%i\n",
      "    if lmdb_open == 1:\n",
      "        str_data=txn.get(key)\n",
      "    else:\n",
      "        str_data=db.Get(key)\n",
      "    datum = caffe_pb2.Datum()\n",
      "    datum.ParseFromString(str_data)    \n",
      "    for j in range(num_class):\n",
      "        val_prob[i,j]=datum.float_data[j]\n",
      "val_prob=softmax(val_prob)"
     ],
     "language": "python",
     "metadata": {},
     "outputs": [
      {
       "output_type": "stream",
       "stream": "stdout",
       "text": [
        "compute softmax probabilities\n",
        "num 50000 dim 1000\n"
       ]
      }
     ],
     "prompt_number": 4
    },
    {
     "cell_type": "code",
     "collapsed": false,
     "input": [
      "'''load fine label names'''\n",
      "label_names = []\n",
      "f=open(caffe_root + 'data/ilsvrc12/synset_words.txt')\n",
      "for line in f:\n",
      "    label_names += [line[:-1]]\n",
      "f.close()"
     ],
     "language": "python",
     "metadata": {},
     "outputs": [],
     "prompt_number": 5
    },
    {
     "cell_type": "code",
     "collapsed": false,
     "input": [
      "'''load (name, label) for training/validation images'''\n",
      "train_img_list= caffe_root + 'data/ilsvrc12/train.txt'\n",
      "val_img_list = caffe_root + 'data/ilsvrc12/val.txt'\n",
      "train_img_names,train_img_labels=read_val_image_list(train_img_list)\n",
      "val_img_names,val_img_labels=read_val_image_list(val_img_list)\n",
      "train_img_labels,val_img_labels=np.asarray(train_img_labels),np.asarray(val_img_labels)\n",
      "class_num = np.max(train_img_labels) + 1\n",
      "print '%d classes' % class_num"
     ],
     "language": "python",
     "metadata": {},
     "outputs": [
      {
       "output_type": "stream",
       "stream": "stdout",
       "text": [
        "1281167 validation images \n",
        "50000 validation images "
       ]
      },
      {
       "output_type": "stream",
       "stream": "stdout",
       "text": [
        "\n",
        "1000 classes\n"
       ]
      }
     ],
     "prompt_number": 6
    },
    {
     "cell_type": "code",
     "collapsed": false,
     "input": [
      "print val_prob.shape\n",
      "top_k = 5\n",
      "pred_labels_val = np.zeros((num_val, top_k),dtype=np.int32)\n",
      "accuracy = 0.\n",
      "for i in range(num_val):\n",
      "    idx=np.argsort(val_prob[i,:])[::-1]\n",
      "    pred_labels_val[i,:] = idx[:top_k]\n",
      "\n",
      "accuracies=top_k_accuracy(pred_labels_val,val_img_labels,[1,5])\n",
      "for k in [1,5]:\n",
      "    print 'k ',k\n",
      "    print 'top %d accuracy: %5.4f' % (k,accuracies[str(k)])"
     ],
     "language": "python",
     "metadata": {},
     "outputs": [
      {
       "output_type": "stream",
       "stream": "stdout",
       "text": [
        "(50000, 1000)\n",
        "k "
       ]
      },
      {
       "output_type": "stream",
       "stream": "stdout",
       "text": [
        " 1\n",
        "top 1 accuracy: 0.7051\n",
        "k  5\n",
        "top 5 accuracy: 0.8959\n"
       ]
      }
     ],
     "prompt_number": 7
    },
    {
     "cell_type": "code",
     "collapsed": false,
     "input": [
      "'''plot confusion matrix'''\n",
      "confusion_mat = np.zeros((num_class,num_class))\n",
      "for i in range(num_class):\n",
      "    idx=np.nonzero(val_img_labels==i)[0]\n",
      "    pred_label_ = pred_labels_val[idx, 0]\n",
      "    confusion_mat[i,:] = np.float64(np.bincount(pred_label_,minlength=num_class))/np.float64(len(idx))    \n",
      "plt.figure()\n",
      "plt.title('confusion matrix on validation set')\n",
      "plt.imshow(confusion_mat)"
     ],
     "language": "python",
     "metadata": {},
     "outputs": [
      {
       "metadata": {},
       "output_type": "pyout",
       "prompt_number": 8,
       "text": [
        "<matplotlib.image.AxesImage at 0x7fb38d0abd50>"
       ]
      },
      {
       "metadata": {},
       "output_type": "display_data",
       "png": "[encoded data removed]",
       "text": [
        "<matplotlib.figure.Figure at 0x7fb38d0aba50>"
       ]
      }
     ],
     "prompt_number": 8
    },
    {
     "cell_type": "code",
     "collapsed": false,
     "input": [
      "dist_mat = 1.0 - confusion_mat\n",
      "'''set diagonal elements to 0'''\n",
      "dist_mat[range(num_class),range(num_class)]=0\n",
      "dist_mat = 0.5 * (dist_mat + dist_mat.T)\n",
      "plt.figure()\n",
      "plt.title('distance matrix on validation set')\n",
      "plt.imshow(dist_mat)"
     ],
     "language": "python",
     "metadata": {},
     "outputs": [
      {
       "metadata": {},
       "output_type": "pyout",
       "prompt_number": 9,
       "text": [
        "<matplotlib.image.AxesImage at 0x7fb38cbfe490>"
       ]
      },
      {
       "metadata": {},
       "output_type": "display_data",
       "png": "[encoded data removed]",
       "text": [
        "<matplotlib.figure.Figure at 0x7fb3ab0b4550>"
       ]
      }
     ],
     "prompt_number": 9
    },
    {
     "cell_type": "code",
     "collapsed": false,
     "input": [
      "'''Laplacian eigenmap dimensionality reduction\n",
      "construct adjacency graph W (symmetric) using k-NN'''\n",
      "W=np.zeros((num_class,num_class))\n",
      "\n",
      "# ''' old 20 clusteres'''\n",
      "# k_nn, t, dim = 5, 0.99, 1\n",
      "\n",
      "# ''' old 84 clusteres'''\n",
      "# k_nn, t, dim = 30, 0.8, 80\n",
      "\n",
      "''' new 84 clusteres'''\n",
      "k_nn, t, dim = 30, 0.8, 30\n",
      "\n",
      "for i in range(num_class):\n",
      "    idx=np.argsort(dist_mat[i,:])[1:k_nn+1]\n",
      "    W[i,idx]=np.exp(-dist_mat[i,idx] / t)\n",
      "    W[idx,i]=W[i,idx]\n",
      "D=np.zeros(W.shape)\n",
      "for i in range(num_class):\n",
      "    D[i,i]=np.sum(W[i,:])\n",
      "L=D-W\n",
      "eig_val,eig_vec=scipy.linalg.eig(L,D)\n",
      "ftr=eig_vec[:,1:dim+1]\n",
      "print eig_vec[:10,0] # the 1st eigenvector should be all ones\n",
      "eigval_cumsum = np.cumsum(np.real(eig_val))\n",
      "plt.plot(eigval_cumsum)"
     ],
     "language": "python",
     "metadata": {},
     "outputs": [
      {
       "output_type": "stream",
       "stream": "stdout",
       "text": [
        "[-0.03162278 -0.03162278 -0.03162278 -0.03162278 -0.03162278 -0.03162278\n",
        " -0.03162278 -0.03162278 -0.03162278 -0.03162278]\n"
       ]
      },
      {
       "metadata": {},
       "output_type": "pyout",
       "prompt_number": 10,
       "text": [
        "[<matplotlib.lines.Line2D at 0x7fb38b9549d0>]"
       ]
      },
      {
       "metadata": {},
       "output_type": "display_data",
       "png": "[encoded data removed]",
       "text": [
        "<matplotlib.figure.Figure at 0x7fb3f16dee10>"
       ]
      }
     ],
     "prompt_number": 10
    },
    {
     "cell_type": "code",
     "collapsed": false,
     "input": [
      "'''affinity propagation clustering'''\n",
      "if 1:\n",
      "    \n",
      "#     '''old 20 clusters'''\n",
      "#     affinity_propagation_cluster = AffinityPropagation(damping=0.99, max_iter=5000, convergence_iter=50, copy=True) \n",
      "    \n",
      "#     '''old 84 clusters'''\n",
      "#     affinity_propagation_cluster = AffinityPropagation(damping=0.6, max_iter=5000, convergence_iter=50, copy=True) \n",
      "    \n",
      "    ''' new 84 clusters'''\n",
      "    affinity_propagation_cluster = AffinityPropagation(damping=0.6, max_iter=5000, convergence_iter=50, copy=True) \n",
      "    \n",
      "    cluster_labels = affinity_propagation_cluster.fit_predict(ftr)\n",
      "    unique_cluster_label = np.unique(cluster_labels)\n",
      "    n_cluster = unique_cluster_label.shape[0]\n",
      "    cluster_members=[None]*n_cluster\n",
      "\n",
      "    print '%d clusters ' % n_cluster\n",
      "    for i in range(n_cluster):\n",
      "        idx = np.nonzero(cluster_labels == unique_cluster_label[i])[0]\n",
      "        cluster_members[i]=list(idx)\n",
      "        print 'cluster %d size %d ' % (i, len(idx))\n",
      "        for j in range(len(idx)):\n",
      "            print '%s,' % label_names[idx[j]],\n",
      "        print ' '\n",
      "    print '%d clusters ' % n_cluster\n",
      "    n, bins, patches=plt.hist([len(clus) for clus in cluster_members],bins=50)"
     ],
     "language": "python",
     "metadata": {},
     "outputs": [
      {
       "output_type": "stream",
       "stream": "stdout",
       "text": [
        "84 clusters \n",
        "cluster 0 size 13 \n",
        "n01484850 great white shark, white shark, man-eater, man-eating shark, Carcharodon carcharias, n01491361 tiger shark, Galeocerdo cuvieri, n01494475 hammerhead, hammerhead shark, n01496331 electric ray, crampfish, numbfish, torpedo, n01498041 stingray, n01664065 loggerhead, loggerhead turtle, Caretta caretta, n01665541 leatherback turtle, leatherback, leathery turtle, Dermochelys coriacea, n02074367 dugong, Dugong dugon, n02077923 sea lion, n02514041 barracouta, snoek, n02640242 sturgeon, n04251144 snorkel, n10565667 scuba diver,  \n",
        "cluster 1 size 12 \n",
        "n01629819 European fire salamander, Salamandra salamandra, n01632458 spotted salamander, Ambystoma maculatum, n01632777 axolotl, mud puppy, Ambystoma mexicanum, n01644373 tree frog, tree-frog, n01667114 mud turtle, n01667778 terrapin, n01669191 box turtle, box tortoise, n01682714 American chameleon, anole, Anolis carolinensis, n01692333 Gila monster, Heloderma suspectum, n01694178 African chameleon, Chamaeleo chamaeleon, n01698640 American alligator, Alligator mississipiensis, n02641379 gar, garfish, garpike, billfish, Lepisosteus osseus,  \n",
        "cluster 2 size 8 \n",
        "n01630670 common newt, Triturus vulgaris, n01631663 eft, n01641577 bullfrog, Rana catesbeiana, n01644900 tailed frog, bell toad, ribbed toad, tailed toad, Ascaphus trui, n01675722 banded gecko, n01677366 common iguana, iguana, Iguana iguana, n01695060 Komodo dragon, Komodo lizard, dragon lizard, giant lizard, Varanus komodoensis, n01739381 vine snake,  \n",
        "cluster 3 size 5 \n",
        "n01685808 whiptail, whiptail lizard, n01687978 agama, n01688243 frilled lizard, Chlamydosaurus kingi, n01689811 alligator lizard, n01693334 green lizard, Lacerta viridis,  \n",
        "cluster 4 size 12 \n",
        "n01728920 ringneck snake, ring-necked snake, ring snake, n01729977 green snake, grass snake, n01734418 king snake, kingsnake, n01735189 garter snake, grass snake, n01742172 boa constrictor, Constrictor constrictor, n01744401 rock python, rock snake, Python sebae, n01748264 Indian cobra, Naja naja, n01749939 green mamba, n01753488 horned viper, cerastes, sand viper, horned asp, Cerastes cornutus, n01755581 diamondback, diamondback rattlesnake, Crotalus adamanteus, n01756291 sidewinder, horned rattlesnake, Crotalus cerastes, n01784675 centipede,  \n",
        "cluster 5 size 4 \n",
        "n01728572 thunder snake, worm snake, Carphophis amoenus, n01729322 hognose snake, puff adder, sand viper, n01737021 water snake, n01740131 night snake, Hypsiglena torquata,  \n",
        "cluster 6 size 24 \n",
        "n01770081 harvestman, daddy longlegs, Phalangium opilio, n01770393 scorpion, n01773157 black and gold garden spider, Argiope aurantia, n01773549 barn spider, Araneus cavaticus, n01773797 garden spider, Aranea diademata, n01774384 black widow, Latrodectus mactans, n01774750 tarantula, n01930112 nematode, nematode worm, roundworm, n01983481 American lobster, Northern lobster, Maine lobster, Homarus americanus, n02165105 tiger beetle, n02165456 ladybug, ladybeetle, lady beetle, ladybird, ladybird beetle, n02167151 ground beetle, carabid beetle, n02172182 dung beetle, n02177972 weevil, n02190166 fly, n02206856 bee, n02226429 grasshopper, hopper, n02236044 mantis, mantid, n02256656 cicada, cicala, n02259212 leafhopper, n02264363 lacewing, lacewing fly, n02268443 dragonfly, darning needle, devil's darning needle, sewing needle, snake feeder, snake doctor, mosquito hawk, skeeter hawk, n02279972 monarch, monarch butterfly, milkweed butterfly, Danaus plexippus, n04275548 spider web, spider's web,  \n",
        "cluster 7 size 6 \n",
        "n01775062 wolf spider, hunting spider, n01776313 tick, n02168699 long-horned beetle, longicorn, longicorn beetle, n02219486 ant, emmet, pismire, n02231487 walking stick, walkingstick, stick insect, n02233338 cockroach, roach,  \n",
        "cluster 8 size 18 \n",
        "n01443537 goldfish, Carassius auratus, n01751748 sea snake, n01910747 jellyfish, n01914609 sea anemone, anemone, n01917289 brain coral, n01943899 conch, n01944390 snail, n01945685 slug, n01955084 chiton, coat-of-mail shell, sea cradle, polyplacophore, n01978287 Dungeness crab, Cancer magister, n01980166 fiddler crab, n02319095 sea urchin, n02606052 rock beauty, Holocanthus tricolor, n02607072 anemone fish, n02643566 lionfish, n13040303 stinkhorn, carrion fungus, n13044778 earthstar, n13052670 hen-of-the-woods, hen of the woods, Polyporus frondosus, Grifola frondosa,  \n",
        "cluster 9 size 12 \n",
        "n01950731 sea slug, nudibranch, n01978455 rock crab, Cancer irroratus, n01981276 king crab, Alaska crab, Alaskan king crab, Alaska king crab, Paralithodes camtschatica, n01984695 spiny lobster, langouste, rock lobster, crawfish, crayfish, sea crawfish, n01985128 crayfish, crawfish, crawdad, crawdaddy, n01986214 hermit crab, n01990800 isopod, n02317335 starfish, sea star, n02321529 sea cucumber, holothurian, n02526121 eel, n02655020 puffer, pufferfish, blowfish, globefish, n09256479 coral reef,  \n",
        "cluster 10 size 67 \n",
        "n01514668 cock, n01530575 brambling, Fringilla montifringilla, n01531178 goldfinch, Carduelis carduelis, n01532829 house finch, linnet, Carpodacus mexicanus, n01534433 junco, snowbird, n01537544 indigo bunting, indigo finch, indigo bird, Passerina cyanea, n01558993 robin, American robin, Turdus migratorius, n01560419 bulbul, n01580077 jay, n01582220 magpie, n01592084 chickadee, n01601694 water ouzel, dipper, n01608432 kite, n01614925 bald eagle, American eagle, Haliaeetus leucocephalus, n01616318 vulture, n01622779 great grey owl, great gray owl, Strix nebulosa, n01795545 black grouse, n01796340 ptarmigan, n01797886 ruffed grouse, partridge, Bonasa umbellus, n01798484 prairie chicken, prairie grouse, prairie fowl, n01806143 peacock, n01806567 quail, n01807496 partridge, n01817953 African grey, African gray, Psittacus erithacus, n01819313 sulphur-crested cockatoo, Kakatoe galerita, Cacatua galerita, n01820546 lorikeet, n01824575 coucal, n01828970 bee eater, n01829413 hornbill, n01833805 hummingbird, n01843065 jacamar, n01843383 toucan, n01847000 drake, n01855032 red-breasted merganser, Mergus serrator, n01855672 goose, n01860187 black swan, Cygnus atratus, n01872401 echidna, spiny anteater, anteater, n02002556 white stork, Ciconia ciconia, n02006656 spoonbill, n02007558 flamingo, n02009229 little blue heron, Egretta caerulea, n02009912 American egret, great white heron, Egretta albus, n02011460 bittern, n02013706 limpkin, Aramus pictus, n02017213 European gallinule, Porphyrio porphyrio, n02018207 American coot, marsh hen, mud hen, water hen, Fulica americana, n02018795 bustard, n02025239 ruddy turnstone, Arenaria interpres, n02027492 red-backed sandpiper, dunlin, Erolia alpina, n02028035 redshank, Tringa totanus, n02033041 dowitcher, n02037110 oystercatcher, oyster catcher, n02051845 pelican, n02058221 albatross, mollymawk, n02277742 ringlet, ringlet butterfly, n02280649 cabbage butterfly, n02281787 lycaenid, lycaenid butterfly, n02342885 hamster, n02389026 sorrel, n02422699 impala, Aepyceros melampus, n02423022 gazelle, n02510455 giant panda, panda, panda bear, coon bear, Ailuropoda melanoleuca, n03297495 espresso maker, n04118776 rule, ruler, n04153751 screw, n04409515 tennis ball, n09288635 geyser,  \n",
        "cluster 11 size 10 \n",
        "n02085620 Chihuahua, n02087046 toy terrier, n02091032 Italian greyhound, n02091134 whippet, n02091244 Ibizan hound, Ibizan Podenco, n02096585 Boston bull, Boston terrier, n02107312 miniature pinscher, n02110806 basenji, n02113978 Mexican hairless, n02115641 dingo, warrigal, warragal, Canis dingo,  \n",
        "cluster 12 size 8 \n",
        "n02087394 Rhodesian ridgeback, n02089973 English foxhound, n02090379 redbone, n02091831 Saluki, gazelle hound, n02093428 American Staffordshire terrier, Staffordshire terrier, American pit bull terrier, pit bull terrier, n02099712 Labrador retriever, n02108089 boxer, n02109047 Great Dane,  \n",
        "cluster 13 size 10 \n",
        "n02093754 Border terrier, n02093991 Irish terrier, n02094114 Norfolk terrier, n02094258 Norwich terrier, n02094433 Yorkshire terrier, n02095570 Lakeland terrier, n02096177 cairn, cairn terrier, n02096294 Australian terrier, n02096437 Dandie Dinmont, Dandie Dinmont terrier, n02097658 silky terrier, Sydney silky,  \n",
        "cluster 14 size 14 \n",
        "n02085936 Maltese dog, Maltese terrier, Maltese, n02090721 Irish wolfhound, n02091635 otterhound, otter hound, n02095314 wire-haired fox terrier, n02095889 Sealyham terrier, Sealyham, n02096051 Airedale, Airedale terrier, n02097047 miniature schnauzer, n02097298 Scotch terrier, Scottish terrier, Scottie, n02097474 Tibetan terrier, chrysanthemum dog, n02098105 soft-coated wheaten terrier, n02098286 West Highland white terrier, n02098413 Lhasa, Lhasa apso, n02113624 toy poodle, n02113712 miniature poodle,  \n",
        "cluster 15 size 17 \n",
        "n02097130 giant schnauzer, n02099267 flat-coated retriever, n02099429 curly-coated retriever, n02100735 English setter, n02101006 Gordon setter, n02101388 Brittany spaniel, n02102040 English springer, English springer spaniel, n02102177 Welsh springer spaniel, n02102318 cocker spaniel, English cocker spaniel, cocker, n02102480 Sussex spaniel, n02102973 Irish water spaniel, n02105056 groenendael, n02105251 briard, n02106382 Bouvier des Flandres, Bouviers des Flandres, n02108551 Tibetan mastiff, n02111277 Newfoundland, Newfoundland dog, n02113799 standard poodle,  \n",
        "cluster 16 size 21 \n",
        "n02088238 basset, basset hound, n02088364 beagle, n02088466 bloodhound, sleuthhound, n02088632 bluetick, n02089078 black-and-tan coonhound, n02089867 Walker hound, Walker foxhound, n02092339 Weimaraner, n02093256 Staffordshire bullterrier, Staffordshire bull terrier, n02099849 Chesapeake Bay retriever, n02100236 German short-haired pointer, n02100583 vizsla, Hungarian pointer, n02105412 kelpie, n02107142 Doberman, Doberman pinscher, n02107574 Greater Swiss Mountain dog, n02107683 Bernese mountain dog, n02108000 EntleBucher, n02108422 bull mastiff, n02108915 French bulldog, n02109525 Saint Bernard, St Bernard, n02113023 Pembroke, Pembroke Welsh corgi, n02113186 Cardigan, Cardigan Welsh corgi,  \n",
        "cluster 17 size 11 \n",
        "n02104029 kuvasz, n02104365 schipperke, n02105855 Shetland sheepdog, Shetland sheep dog, Shetland, n02106166 Border collie, n02106550 Rottweiler, n02107908 Appenzeller, n02109961 Eskimo dog, husky, n02110063 malamute, malemute, Alaskan malamute, n02110185 Siberian husky, n02114367 timber wolf, grey wolf, gray wolf, Canis lupus, n03218198 dogsled, dog sled, dog sleigh,  \n",
        "cluster 18 size 22 \n",
        "n02085782 Japanese spaniel, n02086240 Shih-Tzu, n02086646 Blenheim spaniel, n02086910 papillon, n02088094 Afghan hound, Afghan, n02090622 borzoi, Russian wolfhound, n02092002 Scottish deerhound, deerhound, n02093647 Bedlington terrier, n02093859 Kerry blue terrier, n02097209 standard schnauzer, n02099601 golden retriever, n02100877 Irish setter, red setter, n02101556 clumber, clumber spaniel, n02105505 komondor, n02105641 Old English sheepdog, bobtail, n02106030 collie, n02106662 German shepherd, German shepherd dog, German police dog, alsatian, n02110627 affenpinscher, monkey pinscher, monkey dog, n02111129 Leonberg, n02111500 Great Pyrenees, n02112137 chow, chow chow, n02112350 keeshond,  \n",
        "cluster 19 size 37 \n",
        "n01514859 hen, n01518878 ostrich, Struthio camelus, n01697457 African crocodile, Nile crocodile, Crocodylus niloticus, n01704323 triceratops, n02071294 killer whale, killer, orca, grampus, sea wolf, Orcinus orca, n02091467 Norwegian elkhound, elkhound, n02105162 malinois, n02110341 dalmatian, coach dog, carriage dog, n02110958 pug, pug-dog, n02111889 Samoyed, Samoyede, n02112018 Pomeranian, n02112706 Brabancon griffon, n02114548 white wolf, Arctic wolf, Canis lupus tundrarum, n02114712 red wolf, maned wolf, Canis rufus, Canis niger, n02115913 dhole, Cuon alpinus, n02116738 African hunting dog, hyena dog, Cape hunting dog, Lycaon pictus, n02119022 red fox, Vulpes vulpes, n02119789 kit fox, Vulpes macrotis, n02120079 Arctic fox, white fox, Alopex lagopus, n02123394 Persian cat, n02128385 leopard, Panthera pardus, n02128757 snow leopard, ounce, Panthera uncia, n02128925 jaguar, panther, Panthera onca, Felis onca, n02129604 tiger, Panthera tigris, n02130308 cheetah, chetah, Acinonyx jubatus, n02132136 brown bear, bruin, Ursus arctos, n02134084 ice bear, polar bear, Ursus Maritimus, Thalarctos maritimus, n02281406 sulphur butterfly, sulfur butterfly, n02325366 wood rabbit, cottontail, cottontail rabbit, n02328150 Angora, Angora rabbit, n02363005 beaver, n02422106 hartebeest, n02454379 armadillo, n02509815 lesser panda, red panda, panda, bear cat, cat bear, Ailurus fulgens, n03208938 disk brake, disc brake, n04204347 shopping cart, n04458633 totem pole,  \n",
        "cluster 20 size 9 \n",
        "n02123045 tabby, tabby cat, n02123159 tiger cat, n02123597 Siamese cat, Siamese, n02124075 Egyptian cat, n02804414 bassinet, n03887697 paper towel, n03958227 plastic bag, n04033995 quilt, comforter, comfort, puff, n15075141 toilet tissue, toilet paper, bathroom tissue,  \n",
        "cluster 21 size 3 \n",
        "n02169497 leaf beetle, chrysomelid, n02174001 rhinoceros beetle, n02229544 cricket,  \n",
        "cluster 22 size 23 \n",
        "n01818515 macaw, n01871265 tusker, n02114855 coyote, prairie wolf, brush wolf, Canis latrans, n02117135 hyena, hyaena, n02361337 marmot, n02364673 guinea pig, Cavia cobaya, n02395406 hog, pig, grunter, squealer, Sus scrofa, n02396427 wild boar, boar, Sus scrofa, n02397096 warthog, n02398521 hippopotamus, hippo, river horse, Hippopotamus amphibius, n02403003 ox, n02408429 water buffalo, water ox, Asiatic buffalo, Bubalus bubalis, n02410509 bison, n02412080 ram, tup, n02415577 bighorn, bighorn sheep, cimarron, Rocky Mountain bighorn, Rocky Mountain sheep, Ovis canadensis, n02417914 ibex, Capra ibex, n02437312 Arabian camel, dromedary, Camelus dromedarius, n02504013 Indian elephant, Elephas maximus, n02504458 African elephant, Loxodonta africana, n03743016 megalith, megalithic structure, n04111531 rotisserie, n07802026 hay, n11879895 rapeseed,  \n",
        "cluster 23 size 25 \n",
        "n01873310 platypus, duckbill, duckbilled platypus, duck-billed platypus, Ornithorhynchus anatinus, n01877812 wallaby, brush kangaroo, n01882714 koala, koala bear, kangaroo bear, native bear, Phascolarctos cinereus, n01883070 wombat, n02120505 grey fox, gray fox, Urocyon cinereoargenteus, n02125311 cougar, puma, catamount, mountain lion, painter, panther, Felis concolor, n02127052 lynx, catamount, n02129165 lion, king of beasts, Panthera leo, n02133161 American black bear, black bear, Ursus americanus, Euarctos americanus, n02134418 sloth bear, Melursus ursinus, Ursus ursinus, n02137549 mongoose, n02138441 meerkat, mierkat, n02326432 hare, n02356798 fox squirrel, eastern fox squirrel, Sciurus niger, n02437616 llama, n02441942 weasel, n02442845 mink, n02443114 polecat, fitch, foulmart, foumart, Mustela putorius, n02443484 black-footed ferret, ferret, Mustela nigripes, n02444819 otter, n02445715 skunk, polecat, wood pussy, n02447366 badger, n02480495 orangutan, orang, orangutang, Pongo pygmaeus, n02497673 Madagascar cat, ring-tailed lemur, Lemur catta, n04204238 shopping basket,  \n",
        "cluster 24 size 6 \n",
        "n02346627 porcupine, hedgehog, n02483362 gibbon, Hylobates lar, n02483708 siamang, Hylobates syndactylus, Symphalangus syndactylus, n02484975 guenon, guenon monkey, n02486261 patas, hussar monkey, Erythrocebus patas, n02490219 marmoset,  \n",
        "cluster 25 size 13 \n",
        "n02457408 three-toed sloth, ai, Bradypus tridactylus, n02480855 gorilla, Gorilla gorilla, n02481823 chimpanzee, chimp, Pan troglodytes, n02486410 baboon, n02487347 macaque, n02488291 langur, n02488702 colobus, colobus monkey, n02492035 capuchin, ringtail, Cebus capucinus, n02492660 howler monkey, howler, n02493509 titi, titi monkey, n02493793 spider monkey, Ateles geoffroyi, n02494079 squirrel monkey, Saimiri sciureus, n02500267 indri, indris, Indri indri, Indri brevicaudatus,  \n",
        "cluster 26 size 7 \n",
        "n02667093 abaya, n03045698 cloak, n03404251 fur coat, n03534580 hoopskirt, crinoline, n03594734 jean, blue jean, denim, n03595614 jersey, T-shirt, tee shirt, n04370456 sweatshirt,  \n",
        "cluster 27 size 19 \n",
        "n02687172 aircraft carrier, carrier, flattop, attack aircraft carrier, n02690373 airliner, n02692877 airship, dirigible, n02704792 amphibian, amphibious vehicle, n02950826 cannon, n02981792 catamaran, n03240683 drilling platform, offshore rig, n03344393 fireboat, n03662601 lifeboat, n03673027 liner, ocean liner, n03903868 pedestal, plinth, footstall, n04008634 projectile, missile, n04147183 schooner, n04266014 space shuttle, n04347754 submarine, pigboat, sub, U-boat, n04483307 trimaran, n04552348 warplane, military plane, n04592741 wing, n04612504 yawl,  \n",
        "cluster 28 size 16 \n",
        "n02701002 ambulance, n02814533 beach wagon, station wagon, wagon, estate car, beach waggon, station waggon, waggon, n02930766 cab, hack, taxi, taxicab, n02974003 car wheel, n03100240 convertible, n03345487 fire engine, fire truck, n03445924 golfcart, golf cart, n03459775 grille, radiator grille, n03594945 jeep, landrover, n03670208 limousine, limo, n03895866 passenger car, coach, carriage, n03930630 pickup, pickup truck, n03977966 police van, police wagon, paddy wagon, patrol wagon, wagon, black Maria, n04037443 racer, race car, racing car, n04285008 sports car, sport car, n04461696 tow truck, tow car, wrecker,  \n",
        "cluster 29 size 5 \n",
        "n02788148 bannister, banister, balustrade, balusters, handrail, n03347037 fire screen, fireguard, n03899768 patio, terrace, n04005630 prison, prison house, n04501370 turnstile,  \n",
        "cluster 30 size 12 \n",
        "n02747177 ashcan, trash can, garbage can, wastebin, ash bin, ash-bin, ashbin, dustbin, trash barrel, trash bin, n02795169 barrel, cask, n03443371 goblet, n03937543 pill bottle, n03991062 pot, flowerpot, n03992509 potter's wheel, n04049303 rain barrel, n04398044 teapot, n04447861 toilet seat, n04553703 washbasin, handbasin, washbowl, lavabo, wash-hand basin, n07892512 red wine, n07930864 cup,  \n",
        "cluster 31 size 8 \n",
        "n02804610 bassoon, n03110669 cornet, horn, trumpet, trump, n03372029 flute, transverse flute, n03452741 grand piano, grand, n03494278 harmonica, mouth organ, harp, mouth harp, n03970156 plunger, plumber's helper, n04296562 stage, n04536866 violin, fiddle,  \n",
        "cluster 32 size 4 \n",
        "n02807133 bathing cap, swimming cap, n02837789 bikini, two-piece, n02892767 brassiere, bra, bandeau, n04355933 sunglass,  \n",
        "cluster 33 size 9 \n",
        "n02730930 apron, n02808304 bath towel, n02834397 bib, n03026506 Christmas stocking, n03188531 diaper, nappy, napkin, n03485794 handkerchief, hankie, hanky, hankey, n03938244 pillow, n04235860 sleeping bag, n04525038 velvet,  \n",
        "cluster 34 size 3 \n",
        "n02808440 bathtub, bathing tub, bath, tub, n04371430 swimming trunks, bathing trunks, n04493381 tub, vat,  \n",
        "cluster 35 size 7 \n",
        "n02815834 beaker, n02823750 beer glass, n03062245 cocktail shaker, n04131690 saltshaker, salt shaker, n04423845 thimble, n04557648 water bottle, n07932039 eggnog,  \n",
        "cluster 36 size 13 \n",
        "n02865351 bolo tie, bolo, bola tie, bola, n02877765 bottlecap, n02910353 buckle, n02999410 chain, n03476684 hair slide, n03532672 hook, claw, n03627232 knot, n03929660 pick, plectrum, plectron, n04127249 safety pin, n04317175 stethoscope, n04367480 swab, swob, mop, n04476259 tray, n04579432 whistle,  \n",
        "cluster 37 size 10 \n",
        "n02870880 bookcase, n03014705 chest, n03016953 chiffonier, commode, n03018349 china cabinet, china closet, n03127925 crate, n03337140 file, file cabinet, filing cabinet, n03661043 library, n03742115 medicine chest, medicine cabinet, n04070727 refrigerator, icebox, n04550184 wardrobe, closet, press,  \n",
        "cluster 38 size 31 \n",
        "n02002724 black stork, Ciconia nigra, n02012849 crane, n02086079 Pekinese, Pekingese, Peke, n02489166 proboscis monkey, Nasalis larvatus, n02672831 accordion, piano accordion, squeeze box, n02727426 apiary, bee house, n02817516 bearskin, busby, shako, n02892201 brass, memorial tablet, plaque, n02965783 car mirror, n03075370 combination lock, n03445777 golf ball, n03590841 jack-o'-lantern, n03598930 jigsaw puzzle, n03599486 jinrikisha, ricksha, rickshaw, n03602883 joystick, n03874293 paddlewheel, paddle wheel, n03888605 parallel bars, bars, n03930313 picket fence, paling, n03935335 piggy bank, penny bank, n03982430 pool table, billiard table, snooker table, n04238763 slide rule, slipstick, n04258138 solar dish, solar collector, solar furnace, n04346328 stupa, tope, n04355338 sundial, n04417672 thatch, thatched roof, n04486054 triumphal arch, n04542943 waffle iron, n04613696 yurt, n06359193 web site, website, internet site, site, n07565083 menu, n13037406 gyromitra,  \n",
        "cluster 39 size 10 \n",
        "n02894605 breakwater, groin, groyne, mole, bulwark, seawall, jetty, n03160309 dam, dike, dyke, n03216828 dock, dockage, docking facility, n09246464 cliff, drop, drop-off, n09332890 lakeside, lakeshore, n09399592 promontory, headland, head, foreland, n09421951 sandbar, sand bar, n09428293 seashore, coast, seacoast, sea-coast, n09468604 valley, vale, n09472597 volcano,  \n",
        "cluster 40 size 3 \n",
        "n02927161 butcher shop, meat market, n03461385 grocery store, grocery, food market, market, n03482405 hamper,  \n",
        "cluster 41 size 19 \n",
        "n02978881 cassette, n02979186 cassette player, n02988304 CD player, n02992529 cellular telephone, cellular phone, cellphone, cell, mobile phone, n03180011 desktop computer, n03196217 digital clock, n03197337 digital watch, n03485407 hand-held computer, hand-held microcomputer, n03492542 hard disc, hard disk, fixed disk, n03584254 iPod, n03584829 iron, smoothing iron, n03642806 laptop, laptop computer, n03976467 Polaroid camera, Polaroid Land camera, n04004767 printer, n04041544 radio, wireless, n04074963 remote control, remote, n04328186 stopwatch, stop watch, n04392985 tape player, n04404412 television, television system,  \n",
        "cluster 42 size 11 \n",
        "n02676566 acoustic guitar, n02787622 banjo, n02992211 cello, violoncello, n03249569 drum, membranophone, tympan, n03272010 electric guitar, n03394916 French horn, horn, n03495258 harp, n03884397 panpipe, pandean pipe, syrinx, n04141076 sax, saxophone, n04487394 trombone, n04515003 upright, upright piano,  \n",
        "cluster 43 size 6 \n",
        "n02939185 caldron, cauldron, n03017168 chime, bell, gong, n03447721 gong, tam-tam, n04192698 shield, buckler, n04277352 spindle, n04548280 wall clock,  \n",
        "cluster 44 size 11 \n",
        "n02791124 barber chair, n02879718 bow, n02906734 broom, n03141823 crutch, n03187595 dial telephone, dial phone, n03467068 guillotine, n03944341 pinwheel, n04039381 racket, racquet, n04067472 reel, n04208210 shovel, n04482393 tricycle, trike, velocipede,  \n",
        "cluster 45 size 15 \n",
        "n02948072 candle, taper, wax light, n03314780 face powder, n03424325 gasmask, respirator, gas helmet, n03476991 hair spray, n03483316 hand blower, blow dryer, blow drier, hair dryer, hair drier, n03630383 lab coat, laboratory coat, n03666591 lighter, light, igniter, ignitor, n03676483 lipstick, lip rouge, n03690938 lotion, n03691459 loudspeaker, speaker, speaker unit, loudspeaker system, speaker system, n03692522 loupe, jeweler's loupe, n03759954 microphone, mike, n04357314 sunscreen, sunblock, sun blocker, n04376876 syringe, n04456115 torch,  \n",
        "cluster 46 size 15 \n",
        "n02797295 barrow, garden cart, lawn cart, wheelbarrow, n03000684 chain saw, chainsaw, n03376595 folding chair, n03384352 forklift, n03478589 half track, n03496892 harvester, reaper, n03538406 horse cart, horse-cart, n03649909 lawn mower, mower, n03868242 oxcart, n03967562 plow, plough, n04252225 snowplow, snowplough, n04336792 stretcher, n04428191 thresher, thrasher, threshing machine, n04465501 tractor, n04467665 trailer truck, tractor trailer, trucking rig, rig, articulated lorry, semi,  \n",
        "cluster 47 size 8 \n",
        "n02669723 academic gown, academic robe, judge's robe, n03617480 kimono, n04023962 punching bag, punch bag, punching ball, punchball, n04081281 restaurant, eating house, eating place, eatery, n04136333 sarong, n04399382 teddy, teddy bear, n04479046 trench coat, n04584207 wig,  \n",
        "cluster 48 size 6 \n",
        "n02909870 bucket, pail, n03633091 ladle, n04270147 spatula, n04332243 strainer, n04596742 wok, n04597913 wooden spoon,  \n",
        "cluster 49 size 19 \n",
        "n02536864 coho, cohoe, coho salmon, blue jack, silver salmon, Oncorhynchus kisutch, n02790996 barbell, n02835271 bicycle-built-for-two, tandem bicycle, tandem, n02883205 bow tie, bow-tie, bowtie, n02916936 bulletproof vest, n03000247 chain mail, ring mail, mail, chain armor, chain armour, ring armor, ring armour, n03047690 clog, geta, patten, sabot, n03124170 cowboy hat, ten-gallon hat, n03127747 crash helmet, n03623198 knee pad, n03680355 Loafer, n03733131 maypole, n04120489 running shoe, n04133789 sandal, n04200800 shoe shop, shoe-shop, shoe store, n04254680 soccer ball, n04371774 swing, n04509417 unicycle, monocycle, n10148035 groom, bridegroom,  \n",
        "cluster 50 size 5 \n",
        "n03761084 microwave, microwave oven, n03763968 military uniform, n03764736 milk can, n03770439 miniskirt, mini, n03866082 overskirt,  \n",
        "cluster 51 size 4 \n",
        "n03769881 minibus, n03770679 minivan, n03773504 missile, n03775071 mitten,  \n",
        "cluster 52 size 27 \n",
        "n01440764 tench, Tinca tinca, n03775546 mixing bowl, n03776460 mobile home, manufactured home, n03777568 Model T, n03777754 modem, n03781244 monastery, n03782006 monitor, n03785016 moped, n03786901 mortar, n03787032 mortarboard, n03788195 mosque, n03788365 mosquito net, n03791053 motor scooter, scooter, n03792782 mountain bike, all-terrain bike, off-roader, n03792972 mountain tent, n03793489 mouse, computer mouse, n03794056 mousetrap, n03796401 moving van, n03803284 muzzle, n03804744 nail, n03814639 neck brace, n03814906 necklace, n03825788 nipple, n03832673 notebook, notebook computer, n03837869 obelisk, n03976657 pole, n04040759 radiator,  \n",
        "cluster 53 size 6 \n",
        "n03838899 oboe, hautboy, hautbois, n03840681 ocarina, sweet potato, n03841143 odometer, hodometer, mileometer, milometer, n03843555 oil filter, n03854065 organ, pipe organ, n03857828 oscilloscope, scope, cathode-ray oscilloscope, CRO,  \n",
        "cluster 54 size 5 \n",
        "n02791270 barbershop, n02977058 cash machine, cash dispenser, automated teller machine, automatic teller machine, automated teller, automatic teller, ATM, n03425413 gas pump, gasoline pump, petrol pump, island dispenser, n03902125 pay-phone, pay-station, n04517823 vacuum, vacuum cleaner,  \n",
        "cluster 55 size 6 \n",
        "n03063599 coffee mug, n03063689 coffeepot, n03950228 pitcher, ewer, n04522168 vase, n04560804 water jug, n04579145 whiskey jug,  \n",
        "cluster 56 size 5 \n",
        "n02823428 beer bottle, n03916031 perfume, essence, n03983396 pop bottle, soda bottle, n04254120 soap dispenser, n04591713 wine bottle,  \n",
        "cluster 57 size 6 \n",
        "n02841315 binoculars, field glasses, opera glasses, n03657121 lens cap, lens cover, n04009552 projector, n04069434 reflex camera, n04372370 switch, electric switch, electrical switch, n04485082 tripod,  \n",
        "cluster 58 size 10 \n",
        "n02749479 assault rifle, assault gun, n02966687 carpenter's kit, tool kit, n03109150 corkscrew, bottle screw, n03498962 hatchet, n03527444 holster, n03874599 padlock, n03954731 plane, carpenter's plane, woodworking plane, n04086273 revolver, six-gun, six-shooter, n04090263 rifle, n04141327 scabbard,  \n",
        "cluster 59 size 17 \n",
        "n02860847 bobsled, bobsleigh, bob, n02895154 breastplate, aegis, egis, n02966193 carousel, carrousel, merry-go-round, roundabout, whirligig, n03134739 croquet ball, n03146219 cuirass, n03255030 dumbbell, n03379051 football helmet, n03535780 horizontal bar, high bar, n03868863 oxygen mask, n03873416 paddle, boat paddle, n03920288 Petri dish, n04019541 puck, hockey puck, n04118538 rugby ball, n04228054 ski, n04259630 sombrero, n09229709 bubble, n09835506 ballplayer, baseball player,  \n",
        "cluster 60 size 3 \n",
        "n04141975 scale, weighing machine, n04179913 sewing machine, n04330267 stove,  \n",
        "cluster 61 size 13 \n",
        "n02708093 analog clock, n02843684 birdhouse, n03032252 cinema, movie theater, movie theatre, movie house, picture palace, n03709823 mailbag, postbag, n03710193 mailbox, letter box, n03891332 parking meter, n04149813 scoreboard, n04243546 slot, one-armed bandit, n04326547 stone wall, n04335435 streetcar, tram, tramcar, trolley, trolley car, n04525305 vending machine, n06794110 street sign, n06874185 traffic light, traffic signal, stoplight,  \n",
        "cluster 62 size 13 \n",
        "n02666196 abacus, n02783161 ballpoint, ballpoint pen, ballpen, Biro, n02951585 can opener, tin opener, n03041632 cleaver, meat cleaver, chopper, n03250847 drumstick, n03388183 fountain pen, n03481172 hammer, n03658185 letter opener, paper knife, paperknife, n03876231 paintbrush, n03995372 power drill, n04033901 quill, quill pen, n04116512 rubber eraser, rubber, pencil eraser, n04154565 screwdriver,  \n",
        "cluster 63 size 6 \n",
        "n02699494 altar, n03201208 dining table, board, n04201297 shoji, n04239074 sliding door, n04589890 window screen, n04590129 window shade,  \n",
        "cluster 64 size 3 \n",
        "n03124043 cowboy boot, n03450230 gown, n04229816 ski mask,  \n",
        "cluster 65 size 6 \n",
        "n03065424 coil, spiral, volute, whorl, helix, n03271574 electric fan, blower, n03637318 lampshade, lamp shade, n04265275 space heater, n04286575 spotlight, spot, n04380533 table lamp,  \n",
        "cluster 66 size 40 \n",
        "n01768244 trilobite, n01924916 flatworm, platyhelminth, n01968897 chambered nautilus, pearly nautilus, nautilus, n02056570 king penguin, Aptenodytes patagonica, n02066245 grey whale, gray whale, devilfish, Eschrichtius gibbosus, Eschrichtius robustus, n02268853 damselfly, n02276258 admiral, n02391049 zebra, n02794156 barometer, n02799071 baseball, n02802426 basketball, n02917067 bullet train, bullet, n02951358 canoe, n03042490 cliff dwelling, n03207743 dishrag, dishcloth, n03272562 electric locomotive, n03393912 freight car, n03417042 garbage truck, dustcart, n03444034 go-kart, n03544143 hourglass, n03888257 parachute, chute, n03929855 pickelhaube, n03956157 planetarium, n04044716 radio telescope, radio reflector, n04065272 recreational vehicle, RV, R.V., n04125021 safe, n04146614 school bus, n04252077 snowmobile, n04264628 space bar, n04273569 speedboat, n04310018 steam locomotive, n04389033 tank, army tank, armored combat vehicle, armoured combat vehicle, n04487081 trolleybus, trolley coach, trackless trolley, n04505470 typewriter keyboard, n04562935 water tower, n07730033 cardoon, n11939491 daisy, n12057211 yellow lady's slipper, yellow lady-slipper, Cypripedium calceolus, Cypripedium parviflorum, n12985857 coral fungus, n12998815 agaric,  \n",
        "cluster 67 size 16 \n",
        "n02793495 barn, n02814860 beacon, lighthouse, beacon light, pharos, n02859443 boathouse, n03095699 container ship, containership, container vessel, n03126707 crane, n03220513 dome, n03355925 flagpole, flagstaff, n03388043 fountain, n03447447 gondola, n03933933 pier, n03947888 pirate, pirate ship, n04311004 steel arch bridge, n04366367 suspension bridge, n04532670 viaduct, n04606251 wreck, n09193705 alp,  \n",
        "cluster 68 size 18 \n",
        "n02777292 balance beam, beam, n02782093 balloon, n03325584 feather boa, boa, n03706229 magnetic compass, n03710637 maillot, n03710721 maillot, tank suit, n03717622 manhole cover, n03720891 maraca, n03721384 marimba, xylophone, n03724870 mask, n03729826 matchstick, n03733281 maze, labyrinth, n03942813 ping-pong ball, n04209133 shower cap, n04311174 steel drum, n04507155 umbrella, n04540053 volleyball, n07615774 ice lolly, lolly, lollipop, popsicle,  \n",
        "cluster 69 size 8 \n",
        "n02869837 bonnet, poke bonnet, n02963159 cardigan, n03530642 honeycomb, n03980874 poncho, n04254777 sock, n04325704 stole, n04532106 vestment, n04599235 wool, woolen, woollen,  \n",
        "cluster 70 size 9 \n",
        "n03131574 crib, cot, n03388549 four-poster, n03877472 pajama, pyjama, pj's, jammies, n03998194 prayer rug, prayer mat, n04099969 rocking chair, rocker, n04209239 shower curtain, n04344873 studio couch, day bed, n04418357 theater curtain, theatre curtain, n04429376 throne,  \n",
        "cluster 71 size 6 \n",
        "n02825657 bell cote, bell cot, n02980441 castle, n03028079 church, church building, n03877845 palace, n04435653 tile roof, n04523525 vault,  \n",
        "cluster 72 size 7 \n",
        "n02840245 binder, ring-binder, n03223299 doormat, welcome mat, n03291819 envelope, n03908618 pencil box, pencil case, n03908714 pencil sharpener, n04026417 purse, n04548362 wallet, billfold, notecase, pocketbook,  \n",
        "cluster 73 size 9 \n",
        "n03179701 desk, n03207941 dishwasher, dish washer, dishwashing machine, n03290653 entertainment center, n03529860 home theater, home theatre, n03924679 photocopier, n03961711 plate rack, n04152593 screen, CRT screen, n04442312 toaster, n04554684 washer, automatic washer, washing machine,  \n",
        "cluster 74 size 4 \n",
        "n02769748 backpack, back pack, knapsack, packsack, rucksack, haversack, n04350905 suit, suit of clothes, n04356056 sunglasses, dark glasses, shades, n04591157 Windsor tie,  \n",
        "cluster 75 size 5 \n",
        "n03000134 chainlink fence, n03457902 greenhouse, nursery, glasshouse, n03697007 lumbermill, sawmill, n03891251 park bench, n04604644 worm fence, snake fence, snake-rail fence, Virginia fence,  \n",
        "cluster 76 size 5 \n",
        "n02786058 Band Aid, n03085013 computer keyboard, keypad, n03125729 cradle, n04162706 seat belt, seatbelt, n06785654 crossword puzzle, crossword,  \n",
        "cluster 77 size 8 \n",
        "n02871525 bookshop, bookstore, bookstall, n02971356 carton, n03089624 confectionery, confectionary, candy store, n03871628 packet, n04443257 tobacco shop, tobacconist shop, tobacconist, n04462240 toyshop, n06596364 comic book, n07248320 book jacket, dust cover, dust jacket, dust wrapper,  \n",
        "cluster 78 size 6 \n",
        "n03133878 Crock Pot, n03259280 Dutch oven, n03400231 frying pan, frypan, skillet, n04263257 soup bowl, n07584110 consomme, n07590611 hot pot, hotpot,  \n",
        "cluster 79 size 11 \n",
        "n02776631 bakery, bakeshop, bakehouse, n07684084 French loaf, n07693725 bagel, beigel, n07695742 pretzel, n07697313 cheeseburger, n07697537 hotdog, hot dog, red hot, n07745940 strawberry, n07860988 dough, n07871810 meat loaf, meatloaf, n07873807 pizza, pizza pie, n07880968 burrito,  \n",
        "cluster 80 size 1 \n",
        "n07718472 cucumber, cuke,  \n",
        "cluster 81 size 26 \n",
        "n07613480 trifle, n07714571 head cabbage, n07714990 broccoli, n07715103 cauliflower, n07716358 zucchini, courgette, n07716906 spaghetti squash, n07717410 acorn squash, n07717556 butternut squash, n07718747 artichoke, globe artichoke, n07720875 bell pepper, n07734744 mushroom, n07742313 Granny Smith, n07747607 orange, n07749582 lemon, n07753113 fig, n07753275 pineapple, ananas, n07753592 banana, n07754684 jackfruit, jak, jack, n07760859 custard apple, n07768694 pomegranate, n07831146 carbonara, n12267677 acorn, n12620546 hip, rose hip, rosehip, n12768682 buckeye, horse chestnut, conker, n13054560 bolete, n13133613 ear, spike, capitulum,  \n",
        "cluster 82 size 7 \n",
        "n07579787 plate, n07583066 guacamole, n07614500 ice cream, icecream, n07711569 mashed potato, n07836838 chocolate sauce, chocolate syrup, n07875152 potpie, n12144580 corn,  \n",
        "cluster 83 size 2 \n",
        "n03733805 measuring cup, n07920052 espresso,  \n",
        "84 clusters \n"
       ]
      },
      {
       "metadata": {},
       "output_type": "display_data",
       "png": "[encoded data removed]",
       "text": [
        "<matplotlib.figure.Figure at 0x7fb38cb6ba50>"
       ]
      }
     ],
     "prompt_number": 11
    },
    {
     "cell_type": "code",
     "collapsed": false,
     "input": [
      "version ='v2.0'\n",
      "example_dir = caffe_root + 'examples/imagenet/'\n",
      "print 'example_dir',example_dir\n",
      "if not os.path.exists(example_dir): \n",
      "    os.mkdir(example_dir)\n",
      "\n",
      "save_dir = model_dir + '%dclusters/'%n_cluster \n",
      "if not os.path.exists(save_dir):\n",
      "    os.mkdir(save_dir)\n",
      "save_dir += '%dclusters_%s/'%(n_cluster,version)\n",
      "if not os.path.exists(save_dir):\n",
      "    os.mkdir(save_dir)\n",
      "\n",
      "data_dir = caffe_root+'data/ilsvrc12/cluster_confusion_mat_%dclusters_VGG_16_layer/%s/' % (n_cluster,version)\n",
      "if not os.path.exists(data_dir):\n",
      "    os.mkdir(data_dir)\n",
      "print 'save_dir',save_dir\n",
      "print 'data_dir',data_dir\n",
      "print 'n_cluster',n_cluster"
     ],
     "language": "python",
     "metadata": {},
     "outputs": [
      {
       "output_type": "stream",
       "stream": "stdout",
       "text": [
        "example_dir /home/zyan3/proj/caffe_private_hdcnn/examples/imagenet/\n",
        "save_dir /home/zyan3/proj/caffe_private_hdcnn/models/VGG_ILSVRC_16_layers/211839e770f7b538e2d8/84clusters/84clusters_v2.0/\n",
        "data_dir /home/zyan3/proj/caffe_private_hdcnn/data/ilsvrc12/cluster_confusion_mat_84clusters_VGG_16_layer/v2.0/\n",
        "n_cluster 84\n"
       ]
      }
     ],
     "prompt_number": 12
    },
    {
     "cell_type": "code",
     "collapsed": false,
     "input": [
      "''' Adding extra classes to each branch to compensate for coarse misclassification at gating part\n",
      "For each branch, sort all classes out of branch based on likelihood that they're misclassified into the branch\n",
      "Take the top ones and also limit the total number of classes within each branch\n",
      "'''\n",
      "all_mb=range(num_class)\n",
      "\n",
      "# for 20 clusters, v0.0\n",
      "# score_thres=1.0/(12.0*n_cluster)\n",
      "# max_exp_clu_size=500\n",
      "\n",
      "# # for 84 clusters, v0.0\n",
      "# score_thres=1.0/(12.0*n_cluster)\n",
      "# max_exp_clu_size=200\n",
      "\n",
      "# for 84 clusters, v1.0\n",
      "# score_thres=1.0/(6.0*n_cluster)\n",
      "# max_exp_clu_size=500\n",
      "\n",
      "# for 84 clusters, v2.0\n",
      "score_thres=1.0/(3.0*n_cluster)\n",
      "max_exp_clu_size=200\n",
      "\n",
      "extra_cluster_members=[None]*n_cluster\n",
      "exp_cluster_members=[None]*n_cluster\n",
      "\n",
      "for i in range(n_cluster):\n",
      "    if len(cluster_members[i]) >= max_exp_clu_size:\n",
      "        exp_cluster_members[i] = cluster_members[i]\n",
      "        continue\n",
      "        \n",
      "    non_member = np.asarray(np.setdiff1d(range(num_class),cluster_members[i]))\n",
      "#     print non_member.shape\n",
      "    score=np.zeros((non_member.shape[0]))\n",
      "    for j in range(non_member.shape[0]):\n",
      "        idx=np.nonzero(val_img_labels==non_member[j])[0]\n",
      "        lc_prob=val_prob[idx,:][:,cluster_members[i]]\n",
      "        score[j]=np.mean(np.sum(lc_prob,axis=1))\n",
      "    score_sorted=np.sort(score)[::-1]\n",
      "    idx_sort=np.argsort(score)[::-1]\n",
      "    idx2=np.nonzero(score_sorted>=score_thres)[0]\n",
      "    if len(idx2)+len(cluster_members[i])> max_exp_clu_size:\n",
      "        idx2=idx2[:(max_exp_clu_size-len(cluster_members[i]))]\n",
      "    extra_cluster_members[i]=[non_member[idx_sort[id]] for id in idx2]\n",
      "    exp_cluster_members[i]=cluster_members[i]+extra_cluster_members[i]\n",
      "    assert len(exp_cluster_members[i])==np.unique(np.asarray(exp_cluster_members[i])).shape[0]\n",
      "#     print 'exp_cluster_members %d size %d' % (i,len(exp_cluster_members[i]))\n",
      "\n",
      "total_member=sum([len(cluster) for cluster in exp_cluster_members])\n",
      "print 'total_member %d' % total_member\n",
      "plt.hist([len(cluster) for cluster in exp_cluster_members],bins=50)"
     ],
     "language": "python",
     "metadata": {},
     "outputs": [
      {
       "output_type": "stream",
       "stream": "stdout",
       "text": [
        "total_member 11548\n"
       ]
      },
      {
       "metadata": {},
       "output_type": "pyout",
       "prompt_number": 13,
       "text": [
        "(array([  1.,   0.,   0.,   0.,   2.,   0.,   0.,   1.,   2.,   1.,   0.,\n",
        "          0.,   2.,   1.,   2.,   1.,   1.,   4.,   2.,   1.,   0.,   0.,\n",
        "          3.,   1.,   1.,   1.,   2.,   2.,   2.,   5.,   1.,   4.,   1.,\n",
        "          1.,   1.,   2.,   2.,   2.,   0.,   1.,   2.,   1.,   2.,   0.,\n",
        "          1.,   2.,   2.,   1.,   3.,  17.]),\n",
        " array([  23.  ,   26.54,   30.08,   33.62,   37.16,   40.7 ,   44.24,\n",
        "          47.78,   51.32,   54.86,   58.4 ,   61.94,   65.48,   69.02,\n",
        "          72.56,   76.1 ,   79.64,   83.18,   86.72,   90.26,   93.8 ,\n",
        "          97.34,  100.88,  104.42,  107.96,  111.5 ,  115.04,  118.58,\n",
        "         122.12,  125.66,  129.2 ,  132.74,  136.28,  139.82,  143.36,\n",
        "         146.9 ,  150.44,  153.98,  157.52,  161.06,  164.6 ,  168.14,\n",
        "         171.68,  175.22,  178.76,  182.3 ,  185.84,  189.38,  192.92,\n",
        "         196.46,  200.  ]),\n",
        " <a list of 50 Patch objects>)"
       ]
      },
      {
       "metadata": {},
       "output_type": "display_data",
       "png": "[encoded data removed]",
       "text": [
        "<matplotlib.figure.Figure at 0x7fb38b70be90>"
       ]
      }
     ],
     "prompt_number": 13
    },
    {
     "cell_type": "code",
     "collapsed": false,
     "input": [
      "plot_cluster_coverage(num_class,cluster_members,confusion_mat)"
     ],
     "language": "python",
     "metadata": {},
     "outputs": [
      {
       "metadata": {},
       "output_type": "display_data",
       "png": "[encoded data removed]",
       "text": [
        "<matplotlib.figure.Figure at 0x7fb3f0e85e90>"
       ]
      }
     ],
     "prompt_number": 14
    },
    {
     "cell_type": "code",
     "collapsed": false,
     "input": [
      "plot_cluster_coverage(num_class,exp_cluster_members,confusion_mat)"
     ],
     "language": "python",
     "metadata": {},
     "outputs": [
      {
       "metadata": {},
       "output_type": "display_data",
       "png": "[encoded data removed]",
       "text": [
        "<matplotlib.figure.Figure at 0x7fb38b4fc490>"
       ]
      }
     ],
     "prompt_number": 15
    },
    {
     "cell_type": "code",
     "collapsed": false,
     "input": [
      "label_2_clusterid = np.zeros((class_num))\n",
      "for i in range(n_cluster):\n",
      "#     print 'cluster %d size %d' %(i, len(cluster_members[i]))\n",
      "    for j in range(len(cluster_members[i])):\n",
      "        label_2_clusterid[cluster_members[i][j]] = i\n",
      "\n",
      "label_2_clusterid_file = caffe_root + 'data/ilsvrc12/label_2_clusterid_%dclusters_%s_VGG_16_layer.txt' % (n_cluster,version)\n",
      "\n",
      "f=open(label_2_clusterid_file,'w')\n",
      "for i in range(class_num):\n",
      "    f.write('%d\\n' % label_2_clusterid[i])\n",
      "f.close()"
     ],
     "language": "python",
     "metadata": {},
     "outputs": [],
     "prompt_number": 16
    },
    {
     "cell_type": "code",
     "collapsed": false,
     "input": [
      "'''calculate coarse category classification accuracy when classification layer \n",
      "(FC layer) has one neuron for each fine category '''\n",
      "'''\n",
      "read 1000-class probabilities of 50K validation set images\n",
      "'''\n",
      "val_pred_lbs=np.argmax(val_prob,axis=1)\n",
      "\n",
      "fine_accu=sum([1 if gt==pred else 0 for (gt,pred) in zip(val_img_labels, val_pred_lbs)])/float(len(val_pred_lbs))\n",
      "coarse_accu=sum([1 if label_2_clusterid[gt]==label_2_clusterid[pred] else 0 for (gt,pred) in zip(val_img_labels,val_pred_lbs)])/float(len(val_pred_lbs))\n",
      "print 'fine classification accuracy %4.3f' % fine_accu\n",
      "print 'coarse classification accuracy %4.3f' % coarse_accu"
     ],
     "language": "python",
     "metadata": {},
     "outputs": [
      {
       "output_type": "stream",
       "stream": "stdout",
       "text": [
        "fine classification accuracy 0.705\n",
        "coarse classification accuracy 0.786\n"
       ]
      }
     ],
     "prompt_number": 17
    },
    {
     "cell_type": "code",
     "collapsed": false,
     "input": [
      "print data_dir"
     ],
     "language": "python",
     "metadata": {},
     "outputs": [
      {
       "output_type": "stream",
       "stream": "stdout",
       "text": [
        "/home/zyan3/proj/caffe_private_hdcnn/data/ilsvrc12/cluster_confusion_mat_84clusters_VGG_16_layer/v2.0/\n"
       ]
      }
     ],
     "prompt_number": 18
    },
    {
     "cell_type": "code",
     "collapsed": false,
     "input": [
      "'''for each cluster, write down the labels it owns'''\n",
      "if not os.path.exists(data_dir):\n",
      "    os.mkdir(data_dir)\n",
      "    \n",
      "for i in range(n_cluster):\n",
      "    f = open(data_dir + 'cluster%02d_labels.txt' % i,'w')\n",
      "    for j in range(len(cluster_members[i])):\n",
      "        f.write('%d\\n' % cluster_members[i][j])\n",
      "    f.close()\n",
      "    \n",
      "'''For each expanded cluster, prepare a training set with image's label remapped '''\n",
      "for i in range(n_cluster):\n",
      "    f=open(data_dir + 'exp_cluster%02d_label_map.txt' % i,'w')\n",
      "    for j in range(len(exp_cluster_members[i])):\n",
      "        f.write('%d %d\\n' % (exp_cluster_members[i][j],j))\n",
      "    f.close()    "
     ],
     "language": "python",
     "metadata": {},
     "outputs": [],
     "prompt_number": 19
    },
    {
     "cell_type": "code",
     "collapsed": false,
     "input": [
      "print train_img_labels[0]\n",
      "print val_img_labels[:5]\n",
      "print val_img_names[:5]\n",
      "print val_img_labels.shape\n",
      "print len(exp_cluster_members[0])"
     ],
     "language": "python",
     "metadata": {},
     "outputs": [
      {
       "output_type": "stream",
       "stream": "stdout",
       "text": [
        "0\n",
        "[ 65 970 230 809 516]\n",
        "['ILSVRC2012_val_00000001.JPEG', 'ILSVRC2012_val_00000002.JPEG', 'ILSVRC2012_val_00000003.JPEG', 'ILSVRC2012_val_00000004.JPEG', 'ILSVRC2012_val_00000005.JPEG']\n",
        "(50000,)\n",
        "200\n"
       ]
      }
     ],
     "prompt_number": 276
    },
    {
     "cell_type": "code",
     "collapsed": false,
     "input": [
      "'''for each cluster, write down a selective file list'''\n",
      "for i in range(n_cluster):\n",
      "    print '%d out of %d clusters' % (i+1,n_cluster)\n",
      "    name_label_list=[]\n",
      "    f=open(data_dir+'selective_list_cluster%02d_train.txt'%i,'w')\n",
      "    for j in range(train_img_labels.shape[0]):\n",
      "        tr_img_label = train_img_labels[j]\n",
      "        count = exp_cluster_members[i].count(tr_img_label)\n",
      "        if count > 1:\n",
      "            print 'error count ',count\n",
      "        if count == 1:\n",
      "            index=exp_cluster_members[i].index(tr_img_label)\n",
      "            name_label_list += [(train_img_names[j],index)]\n",
      "#     print name_label_list[0],name_label_list[1]\n",
      "    shuffle(name_label_list)\n",
      "#     print name_label_list[0],name_label_list[1]\n",
      "    \n",
      "    for j in range(len(name_label_list)):\n",
      "        f.write('%s %d\\n'%(name_label_list[j][0],name_label_list[j][1]))\n",
      "    f.close()\n",
      "    print 'cluster:%02d. %d training images' %(i, len(name_label_list))\n",
      "    \n",
      "    \n",
      "    name_label_list=[]\n",
      "    f=open(data_dir+'selective_list_cluster%02d_val.txt'%i,'w')\n",
      "    for j in range(val_img_labels.shape[0]):\n",
      "        val_img_label=val_img_labels[j]\n",
      "        count = exp_cluster_members[i].count(val_img_label)\n",
      "        if count > 1:\n",
      "            print 'error count',count\n",
      "        if count == 1:\n",
      "            index=exp_cluster_members[i].index(val_img_label)\n",
      "            name_label_list += [(val_img_names[j],index)]\n",
      "    shuffle(name_label_list)\n",
      "    for j in range(len(name_label_list)):\n",
      "        f.write('%s %d\\n'%(name_label_list[j][0],name_label_list[j][1]))    \n",
      "    f.close()\n",
      "    print 'cluster:%02d. %d validation images' %(i, len(name_label_list))\n",
      "    "
     ],
     "language": "python",
     "metadata": {},
     "outputs": [
      {
       "output_type": "stream",
       "stream": "stdout",
       "text": [
        "1 out of 84 clusters\n",
        "cluster:00. 129733 training images"
       ]
      },
      {
       "output_type": "stream",
       "stream": "stdout",
       "text": [
        "\n",
        "cluster:00. 5050 validation images"
       ]
      },
      {
       "output_type": "stream",
       "stream": "stdout",
       "text": [
        "\n",
        "2 out of 84 clusters\n",
        "cluster:01. 130541 training images"
       ]
      },
      {
       "output_type": "stream",
       "stream": "stdout",
       "text": [
        "\n",
        "cluster:01. 5050 validation images"
       ]
      },
      {
       "output_type": "stream",
       "stream": "stdout",
       "text": [
        "\n",
        "3 out of 84 clusters\n",
        "cluster:02. 114389 training images"
       ]
      },
      {
       "output_type": "stream",
       "stream": "stdout",
       "text": [
        "\n",
        "cluster:02. 4450 validation images"
       ]
      },
      {
       "output_type": "stream",
       "stream": "stdout",
       "text": [
        "\n",
        "4 out of 84 clusters\n",
        "cluster:03. 61960 training images"
       ]
      },
      {
       "output_type": "stream",
       "stream": "stdout",
       "text": [
        "\n",
        "cluster:03. 2400 validation images"
       ]
      },
      {
       "output_type": "stream",
       "stream": "stdout",
       "text": [
        "\n",
        "5 out of 84 clusters\n",
        "cluster:04. 107685 training images"
       ]
      },
      {
       "output_type": "stream",
       "stream": "stdout",
       "text": [
        "\n",
        "cluster:04. 4200 validation images"
       ]
      },
      {
       "output_type": "stream",
       "stream": "stdout",
       "text": [
        "\n",
        "6 out of 84 clusters\n",
        "cluster:05. 67167 training images"
       ]
      },
      {
       "output_type": "stream",
       "stream": "stdout",
       "text": [
        "\n",
        "cluster:05. 2600 validation images"
       ]
      },
      {
       "output_type": "stream",
       "stream": "stdout",
       "text": [
        "\n",
        "7 out of 84 clusters\n",
        "cluster:06. 187109 training images"
       ]
      },
      {
       "output_type": "stream",
       "stream": "stdout",
       "text": [
        "\n",
        "cluster:06. 7250 validation images"
       ]
      },
      {
       "output_type": "stream",
       "stream": "stdout",
       "text": [
        "\n",
        "8 out of 84 clusters\n",
        "cluster:07. 103833 training images"
       ]
      },
      {
       "output_type": "stream",
       "stream": "stdout",
       "text": [
        "\n",
        "cluster:07. 4000 validation images"
       ]
      },
      {
       "output_type": "stream",
       "stream": "stdout",
       "text": [
        "\n",
        "9 out of 84 clusters\n",
        "cluster:08. 220876 training images"
       ]
      },
      {
       "output_type": "stream",
       "stream": "stdout",
       "text": [
        "\n",
        "cluster:08. 8600 validation images"
       ]
      },
      {
       "output_type": "stream",
       "stream": "stdout",
       "text": [
        "\n",
        "10 out of 84 clusters\n",
        "cluster:09. 172069 training images"
       ]
      },
      {
       "output_type": "stream",
       "stream": "stdout",
       "text": [
        "\n",
        "cluster:09. 6700 validation images"
       ]
      },
      {
       "output_type": "stream",
       "stream": "stdout",
       "text": [
        "\n",
        "11 out of 84 clusters\n",
        "cluster:10. 257408 training images"
       ]
      },
      {
       "output_type": "stream",
       "stream": "stdout",
       "text": [
        "\n",
        "cluster:10. 10000 validation images"
       ]
      },
      {
       "output_type": "stream",
       "stream": "stdout",
       "text": [
        "\n",
        "12 out of 84 clusters\n",
        "cluster:11. 162914 training images"
       ]
      },
      {
       "output_type": "stream",
       "stream": "stdout",
       "text": [
        "\n",
        "cluster:11. 6400 validation images"
       ]
      },
      {
       "output_type": "stream",
       "stream": "stdout",
       "text": [
        "\n",
        "13 out of 84 clusters\n",
        "cluster:12. 109573 training images"
       ]
      },
      {
       "output_type": "stream",
       "stream": "stdout",
       "text": [
        "\n",
        "cluster:12. 4350 validation images"
       ]
      },
      {
       "output_type": "stream",
       "stream": "stdout",
       "text": [
        "\n",
        "14 out of 84 clusters\n",
        "cluster:13. 107845 training images"
       ]
      },
      {
       "output_type": "stream",
       "stream": "stdout",
       "text": [
        "\n",
        "cluster:13. 4250 validation images"
       ]
      },
      {
       "output_type": "stream",
       "stream": "stdout",
       "text": [
        "\n",
        "15 out of 84 clusters\n",
        "cluster:14. 140944 training images"
       ]
      },
      {
       "output_type": "stream",
       "stream": "stdout",
       "text": [
        "\n",
        "cluster:14. 5550 validation images"
       ]
      },
      {
       "output_type": "stream",
       "stream": "stdout",
       "text": [
        "\n",
        "16 out of 84 clusters\n",
        "cluster:15. 187149 training images"
       ]
      },
      {
       "output_type": "stream",
       "stream": "stdout",
       "text": [
        "\n",
        "cluster:15. 7400 validation images"
       ]
      },
      {
       "output_type": "stream",
       "stream": "stdout",
       "text": [
        "\n",
        "17 out of 84 clusters\n",
        "cluster:16. 206953 training images"
       ]
      },
      {
       "output_type": "stream",
       "stream": "stdout",
       "text": [
        "\n",
        "cluster:16. 8150 validation images"
       ]
      },
      {
       "output_type": "stream",
       "stream": "stdout",
       "text": [
        "\n",
        "18 out of 84 clusters\n",
        "cluster:17. 171463 training images"
       ]
      },
      {
       "output_type": "stream",
       "stream": "stdout",
       "text": [
        "\n",
        "cluster:17. 6750 validation images"
       ]
      },
      {
       "output_type": "stream",
       "stream": "stdout",
       "text": [
        "\n",
        "19 out of 84 clusters\n",
        "cluster:18. 194305 training images"
       ]
      },
      {
       "output_type": "stream",
       "stream": "stdout",
       "text": [
        "\n",
        "cluster:18. 7650 validation images"
       ]
      },
      {
       "output_type": "stream",
       "stream": "stdout",
       "text": [
        "\n",
        "20 out of 84 clusters\n",
        "cluster:19. 257457 training images"
       ]
      },
      {
       "output_type": "stream",
       "stream": "stdout",
       "text": [
        "\n",
        "cluster:19. 10000 validation images"
       ]
      },
      {
       "output_type": "stream",
       "stream": "stdout",
       "text": [
        "\n",
        "21 out of 84 clusters\n",
        "cluster:20. 182467 training images"
       ]
      },
      {
       "output_type": "stream",
       "stream": "stdout",
       "text": [
        "\n",
        "cluster:20. 7100 validation images"
       ]
      },
      {
       "output_type": "stream",
       "stream": "stdout",
       "text": [
        "\n",
        "22 out of 84 clusters\n",
        "cluster:21. 51833 training images"
       ]
      },
      {
       "output_type": "stream",
       "stream": "stdout",
       "text": [
        "\n",
        "cluster:21. 2000 validation images"
       ]
      },
      {
       "output_type": "stream",
       "stream": "stdout",
       "text": [
        "\n",
        "23 out of 84 clusters\n",
        "cluster:22. 242275 training images"
       ]
      },
      {
       "output_type": "stream",
       "stream": "stdout",
       "text": [
        "\n",
        "cluster:22. 9400 validation images"
       ]
      },
      {
       "output_type": "stream",
       "stream": "stdout",
       "text": [
        "\n",
        "24 out of 84 clusters\n",
        "cluster:23. 237379 training images"
       ]
      },
      {
       "output_type": "stream",
       "stream": "stdout",
       "text": [
        "\n",
        "cluster:23. 9200 validation images"
       ]
      },
      {
       "output_type": "stream",
       "stream": "stdout",
       "text": [
        "\n",
        "25 out of 84 clusters\n",
        "cluster:24. 68778 training images"
       ]
      },
      {
       "output_type": "stream",
       "stream": "stdout",
       "text": [
        "\n",
        "cluster:24. 2650 validation images"
       ]
      },
      {
       "output_type": "stream",
       "stream": "stdout",
       "text": [
        "\n",
        "26 out of 84 clusters\n",
        "cluster:25. 98659 training images"
       ]
      },
      {
       "output_type": "stream",
       "stream": "stdout",
       "text": [
        "\n",
        "cluster:25. 3800 validation images"
       ]
      },
      {
       "output_type": "stream",
       "stream": "stdout",
       "text": [
        "\n",
        "27 out of 84 clusters\n",
        "cluster:26. 134702 training images"
       ]
      },
      {
       "output_type": "stream",
       "stream": "stdout",
       "text": [
        "\n",
        "cluster:26. 5350 validation images"
       ]
      },
      {
       "output_type": "stream",
       "stream": "stdout",
       "text": [
        "\n",
        "28 out of 84 clusters\n",
        "cluster:27. 214243 training images"
       ]
      },
      {
       "output_type": "stream",
       "stream": "stdout",
       "text": [
        "\n",
        "cluster:27. 8350 validation images"
       ]
      },
      {
       "output_type": "stream",
       "stream": "stdout",
       "text": [
        "\n",
        "29 out of 84 clusters\n",
        "cluster:28. 177566 training images"
       ]
      },
      {
       "output_type": "stream",
       "stream": "stdout",
       "text": [
        "\n",
        "cluster:28. 6900 validation images"
       ]
      },
      {
       "output_type": "stream",
       "stream": "stdout",
       "text": [
        "\n",
        "30 out of 84 clusters\n",
        "cluster:29. 149707 training images"
       ]
      },
      {
       "output_type": "stream",
       "stream": "stdout",
       "text": [
        "\n",
        "cluster:29. 5850 validation images"
       ]
      },
      {
       "output_type": "stream",
       "stream": "stdout",
       "text": [
        "\n",
        "31 out of 84 clusters\n",
        "cluster:30. 254081 training images"
       ]
      },
      {
       "output_type": "stream",
       "stream": "stdout",
       "text": [
        "\n",
        "cluster:30. 10000 validation images"
       ]
      },
      {
       "output_type": "stream",
       "stream": "stdout",
       "text": [
        "\n",
        "32 out of 84 clusters\n",
        "cluster:31. 238380 training images"
       ]
      },
      {
       "output_type": "stream",
       "stream": "stdout",
       "text": [
        "\n",
        "cluster:31. 9350 validation images"
       ]
      },
      {
       "output_type": "stream",
       "stream": "stdout",
       "text": [
        "\n",
        "33 out of 84 clusters\n",
        "cluster:32. 88433 training images"
       ]
      },
      {
       "output_type": "stream",
       "stream": "stdout",
       "text": [
        "\n",
        "cluster:32. 3500 validation images"
       ]
      },
      {
       "output_type": "stream",
       "stream": "stdout",
       "text": [
        "\n",
        "34 out of 84 clusters\n",
        "cluster:33. 193353 training images"
       ]
      },
      {
       "output_type": "stream",
       "stream": "stdout",
       "text": [
        "\n",
        "cluster:33. 7600 validation images"
       ]
      },
      {
       "output_type": "stream",
       "stream": "stdout",
       "text": [
        "\n",
        "35 out of 84 clusters\n",
        "cluster:34. 94002 training images"
       ]
      },
      {
       "output_type": "stream",
       "stream": "stdout",
       "text": [
        "\n",
        "cluster:34. 3700 validation images"
       ]
      },
      {
       "output_type": "stream",
       "stream": "stdout",
       "text": [
        "\n",
        "36 out of 84 clusters\n",
        "cluster:35. 162955 training images"
       ]
      },
      {
       "output_type": "stream",
       "stream": "stdout",
       "text": [
        "\n",
        "cluster:35. 6400 validation images"
       ]
      },
      {
       "output_type": "stream",
       "stream": "stdout",
       "text": [
        "\n",
        "37 out of 84 clusters\n",
        "cluster:36. 254498 training images"
       ]
      },
      {
       "output_type": "stream",
       "stream": "stdout",
       "text": [
        "\n",
        "cluster:36. 10000 validation images"
       ]
      },
      {
       "output_type": "stream",
       "stream": "stdout",
       "text": [
        "\n",
        "38 out of 84 clusters\n",
        "cluster:37. 232592 training images"
       ]
      },
      {
       "output_type": "stream",
       "stream": "stdout",
       "text": [
        "\n",
        "cluster:37. 9150 validation images"
       ]
      },
      {
       "output_type": "stream",
       "stream": "stdout",
       "text": [
        "\n",
        "39 out of 84 clusters\n",
        "cluster:38. 254844 training images"
       ]
      },
      {
       "output_type": "stream",
       "stream": "stdout",
       "text": [
        "\n",
        "cluster:38. 10000 validation images"
       ]
      },
      {
       "output_type": "stream",
       "stream": "stdout",
       "text": [
        "\n",
        "40 out of 84 clusters\n",
        "cluster:39. 202069 training images"
       ]
      },
      {
       "output_type": "stream",
       "stream": "stdout",
       "text": [
        "\n",
        "cluster:39. 7850 validation images"
       ]
      },
      {
       "output_type": "stream",
       "stream": "stdout",
       "text": [
        "\n",
        "41 out of 84 clusters\n",
        "cluster:40. 108187 training images"
       ]
      },
      {
       "output_type": "stream",
       "stream": "stdout",
       "text": [
        "\n",
        "cluster:40. 4200 validation images"
       ]
      },
      {
       "output_type": "stream",
       "stream": "stdout",
       "text": [
        "\n",
        "42 out of 84 clusters\n",
        "cluster:41. 253555 training images"
       ]
      },
      {
       "output_type": "stream",
       "stream": "stdout",
       "text": [
        "\n",
        "cluster:41. 10000 validation images"
       ]
      },
      {
       "output_type": "stream",
       "stream": "stdout",
       "text": [
        "\n",
        "43 out of 84 clusters\n",
        "cluster:42. 197594 training images"
       ]
      },
      {
       "output_type": "stream",
       "stream": "stdout",
       "text": [
        "\n",
        "cluster:42. 7750 validation images"
       ]
      },
      {
       "output_type": "stream",
       "stream": "stdout",
       "text": [
        "\n",
        "44 out of 84 clusters\n",
        "cluster:43. 160182 training images"
       ]
      },
      {
       "output_type": "stream",
       "stream": "stdout",
       "text": [
        "\n",
        "cluster:43. 6300 validation images"
       ]
      },
      {
       "output_type": "stream",
       "stream": "stdout",
       "text": [
        "\n",
        "45 out of 84 clusters\n",
        "cluster:44. 254726 training images"
       ]
      },
      {
       "output_type": "stream",
       "stream": "stdout",
       "text": [
        "\n",
        "cluster:44. 10000 validation images"
       ]
      },
      {
       "output_type": "stream",
       "stream": "stdout",
       "text": [
        "\n",
        "46 out of 84 clusters\n",
        "cluster:45. 253578 training images"
       ]
      },
      {
       "output_type": "stream",
       "stream": "stdout",
       "text": [
        "\n",
        "cluster:45. 10000 validation images"
       ]
      },
      {
       "output_type": "stream",
       "stream": "stdout",
       "text": [
        "\n",
        "47 out of 84 clusters\n",
        "cluster:46. 256440 training images"
       ]
      },
      {
       "output_type": "stream",
       "stream": "stdout",
       "text": [
        "\n",
        "cluster:46. 10000 validation images"
       ]
      },
      {
       "output_type": "stream",
       "stream": "stdout",
       "text": [
        "\n",
        "48 out of 84 clusters\n",
        "cluster:47. 230529 training images"
       ]
      },
      {
       "output_type": "stream",
       "stream": "stdout",
       "text": [
        "\n",
        "cluster:47. 9050 validation images"
       ]
      },
      {
       "output_type": "stream",
       "stream": "stdout",
       "text": [
        "\n",
        "49 out of 84 clusters\n",
        "cluster:48. 244503 training images"
       ]
      },
      {
       "output_type": "stream",
       "stream": "stdout",
       "text": [
        "\n",
        "cluster:48. 9600 validation images"
       ]
      },
      {
       "output_type": "stream",
       "stream": "stdout",
       "text": [
        "\n",
        "50 out of 84 clusters\n",
        "cluster:49. 255312 training images"
       ]
      },
      {
       "output_type": "stream",
       "stream": "stdout",
       "text": [
        "\n",
        "cluster:49. 10000 validation images"
       ]
      },
      {
       "output_type": "stream",
       "stream": "stdout",
       "text": [
        "\n",
        "51 out of 84 clusters\n",
        "cluster:50. 160080 training images"
       ]
      },
      {
       "output_type": "stream",
       "stream": "stdout",
       "text": [
        "\n",
        "cluster:50. 6350 validation images"
       ]
      },
      {
       "output_type": "stream",
       "stream": "stdout",
       "text": [
        "\n",
        "52 out of 84 clusters\n",
        "cluster:51. 87571 training images"
       ]
      },
      {
       "output_type": "stream",
       "stream": "stdout",
       "text": [
        "\n",
        "cluster:51. 3400 validation images"
       ]
      },
      {
       "output_type": "stream",
       "stream": "stdout",
       "text": [
        "\n",
        "53 out of 84 clusters\n",
        "cluster:52. 254049 training images"
       ]
      },
      {
       "output_type": "stream",
       "stream": "stdout",
       "text": [
        "\n",
        "cluster:52. 10000 validation images"
       ]
      },
      {
       "output_type": "stream",
       "stream": "stdout",
       "text": [
        "\n",
        "54 out of 84 clusters\n",
        "cluster:53. 147703 training images"
       ]
      },
      {
       "output_type": "stream",
       "stream": "stdout",
       "text": [
        "\n",
        "cluster:53. 5850 validation images"
       ]
      },
      {
       "output_type": "stream",
       "stream": "stdout",
       "text": [
        "\n",
        "55 out of 84 clusters\n",
        "cluster:54. 158957 training images"
       ]
      },
      {
       "output_type": "stream",
       "stream": "stdout",
       "text": [
        "\n",
        "cluster:54. 6250 validation images"
       ]
      },
      {
       "output_type": "stream",
       "stream": "stdout",
       "text": [
        "\n",
        "56 out of 84 clusters\n",
        "cluster:55. 141998 training images"
       ]
      },
      {
       "output_type": "stream",
       "stream": "stdout",
       "text": [
        "\n",
        "cluster:55. 5600 validation images"
       ]
      },
      {
       "output_type": "stream",
       "stream": "stdout",
       "text": [
        "\n",
        "57 out of 84 clusters\n",
        "cluster:56. 157106 training images"
       ]
      },
      {
       "output_type": "stream",
       "stream": "stdout",
       "text": [
        "\n",
        "cluster:56. 6200 validation images"
       ]
      },
      {
       "output_type": "stream",
       "stream": "stdout",
       "text": [
        "\n",
        "58 out of 84 clusters\n",
        "cluster:57. 168018 training images"
       ]
      },
      {
       "output_type": "stream",
       "stream": "stdout",
       "text": [
        "\n",
        "cluster:57. 6650 validation images"
       ]
      },
      {
       "output_type": "stream",
       "stream": "stdout",
       "text": [
        "\n",
        "59 out of 84 clusters\n",
        "cluster:58. 246028 training images"
       ]
      },
      {
       "output_type": "stream",
       "stream": "stdout",
       "text": [
        "\n",
        "cluster:58. 9700 validation images"
       ]
      },
      {
       "output_type": "stream",
       "stream": "stdout",
       "text": [
        "\n",
        "60 out of 84 clusters\n",
        "cluster:59. 254307 training images"
       ]
      },
      {
       "output_type": "stream",
       "stream": "stdout",
       "text": [
        "\n",
        "cluster:59. 10000 validation images"
       ]
      },
      {
       "output_type": "stream",
       "stream": "stdout",
       "text": [
        "\n",
        "61 out of 84 clusters\n",
        "cluster:60. 108047 training images"
       ]
      },
      {
       "output_type": "stream",
       "stream": "stdout",
       "text": [
        "\n",
        "cluster:60. 4300 validation images"
       ]
      },
      {
       "output_type": "stream",
       "stream": "stdout",
       "text": [
        "\n",
        "62 out of 84 clusters\n",
        "cluster:61. 254731 training images"
       ]
      },
      {
       "output_type": "stream",
       "stream": "stdout",
       "text": [
        "\n",
        "cluster:61. 10000 validation images"
       ]
      },
      {
       "output_type": "stream",
       "stream": "stdout",
       "text": [
        "\n",
        "63 out of 84 clusters\n",
        "cluster:62. 253669 training images"
       ]
      },
      {
       "output_type": "stream",
       "stream": "stdout",
       "text": [
        "\n",
        "cluster:62. 10000 validation images"
       ]
      },
      {
       "output_type": "stream",
       "stream": "stdout",
       "text": [
        "\n",
        "64 out of 84 clusters\n",
        "cluster:63. 166091 training images"
       ]
      },
      {
       "output_type": "stream",
       "stream": "stdout",
       "text": [
        "\n",
        "cluster:63. 6450 validation images"
       ]
      },
      {
       "output_type": "stream",
       "stream": "stdout",
       "text": [
        "\n",
        "65 out of 84 clusters\n",
        "cluster:64. 71432 training images"
       ]
      },
      {
       "output_type": "stream",
       "stream": "stdout",
       "text": [
        "\n",
        "cluster:64. 2850 validation images"
       ]
      },
      {
       "output_type": "stream",
       "stream": "stdout",
       "text": [
        "\n",
        "66 out of 84 clusters\n",
        "cluster:65. 215049 training images"
       ]
      },
      {
       "output_type": "stream",
       "stream": "stdout",
       "text": [
        "\n",
        "cluster:65. 8400 validation images"
       ]
      },
      {
       "output_type": "stream",
       "stream": "stdout",
       "text": [
        "\n",
        "67 out of 84 clusters\n",
        "cluster:66. 256551 training images"
       ]
      },
      {
       "output_type": "stream",
       "stream": "stdout",
       "text": [
        "\n",
        "cluster:66. 10000 validation images"
       ]
      },
      {
       "output_type": "stream",
       "stream": "stdout",
       "text": [
        "\n",
        "68 out of 84 clusters\n",
        "cluster:67. 252745 training images"
       ]
      },
      {
       "output_type": "stream",
       "stream": "stdout",
       "text": [
        "\n",
        "cluster:67. 9800 validation images"
       ]
      },
      {
       "output_type": "stream",
       "stream": "stdout",
       "text": [
        "\n",
        "69 out of 84 clusters\n",
        "cluster:68. 254304 training images"
       ]
      },
      {
       "output_type": "stream",
       "stream": "stdout",
       "text": [
        "\n",
        "cluster:68. 10000 validation images"
       ]
      },
      {
       "output_type": "stream",
       "stream": "stdout",
       "text": [
        "\n",
        "70 out of 84 clusters\n",
        "cluster:69. 166137 training images"
       ]
      },
      {
       "output_type": "stream",
       "stream": "stdout",
       "text": [
        "\n",
        "cluster:69. 6500 validation images"
       ]
      },
      {
       "output_type": "stream",
       "stream": "stdout",
       "text": [
        "\n",
        "71 out of 84 clusters\n",
        "cluster:70. 216016 training images"
       ]
      },
      {
       "output_type": "stream",
       "stream": "stdout",
       "text": [
        "\n",
        "cluster:70. 8450 validation images"
       ]
      },
      {
       "output_type": "stream",
       "stream": "stdout",
       "text": [
        "\n",
        "72 out of 84 clusters\n",
        "cluster:71. 116625 training images"
       ]
      },
      {
       "output_type": "stream",
       "stream": "stdout",
       "text": [
        "\n",
        "cluster:71. 4550 validation images"
       ]
      },
      {
       "output_type": "stream",
       "stream": "stdout",
       "text": [
        "\n",
        "73 out of 84 clusters\n",
        "cluster:72. 221717 training images"
       ]
      },
      {
       "output_type": "stream",
       "stream": "stdout",
       "text": [
        "\n",
        "cluster:72. 8700 validation images"
       ]
      },
      {
       "output_type": "stream",
       "stream": "stdout",
       "text": [
        "\n",
        "74 out of 84 clusters\n",
        "cluster:73. 190545 training images"
       ]
      },
      {
       "output_type": "stream",
       "stream": "stdout",
       "text": [
        "\n",
        "cluster:73. 7500 validation images"
       ]
      },
      {
       "output_type": "stream",
       "stream": "stdout",
       "text": [
        "\n",
        "75 out of 84 clusters\n",
        "cluster:74. 99320 training images"
       ]
      },
      {
       "output_type": "stream",
       "stream": "stdout",
       "text": [
        "\n",
        "cluster:74. 3950 validation images"
       ]
      },
      {
       "output_type": "stream",
       "stream": "stdout",
       "text": [
        "\n",
        "76 out of 84 clusters\n",
        "cluster:75. 152647 training images"
       ]
      },
      {
       "output_type": "stream",
       "stream": "stdout",
       "text": [
        "\n",
        "cluster:75. 5950 validation images"
       ]
      },
      {
       "output_type": "stream",
       "stream": "stdout",
       "text": [
        "\n",
        "77 out of 84 clusters\n",
        "cluster:76. 154940 training images"
       ]
      },
      {
       "output_type": "stream",
       "stream": "stdout",
       "text": [
        "\n",
        "cluster:76. 6100 validation images"
       ]
      },
      {
       "output_type": "stream",
       "stream": "stdout",
       "text": [
        "\n",
        "78 out of 84 clusters\n",
        "cluster:77. 255073 training images"
       ]
      },
      {
       "output_type": "stream",
       "stream": "stdout",
       "text": [
        "\n",
        "cluster:77. 10000 validation images"
       ]
      },
      {
       "output_type": "stream",
       "stream": "stdout",
       "text": [
        "\n",
        "79 out of 84 clusters\n",
        "cluster:78. 84071 training images"
       ]
      },
      {
       "output_type": "stream",
       "stream": "stdout",
       "text": [
        "\n",
        "cluster:78. 3300 validation images"
       ]
      },
      {
       "output_type": "stream",
       "stream": "stdout",
       "text": [
        "\n",
        "80 out of 84 clusters\n",
        "cluster:79. 173172 training images"
       ]
      },
      {
       "output_type": "stream",
       "stream": "stdout",
       "text": [
        "\n",
        "cluster:79. 6750 validation images"
       ]
      },
      {
       "output_type": "stream",
       "stream": "stdout",
       "text": [
        "\n",
        "81 out of 84 clusters\n",
        "cluster:80. 29839 training images"
       ]
      },
      {
       "output_type": "stream",
       "stream": "stdout",
       "text": [
        "\n",
        "cluster:80. 1150 validation images\n",
        "82 out of 84 clusters\n",
        "cluster:81. 249253 training images"
       ]
      },
      {
       "output_type": "stream",
       "stream": "stdout",
       "text": [
        "\n",
        "cluster:81. 9700 validation images"
       ]
      },
      {
       "output_type": "stream",
       "stream": "stdout",
       "text": [
        "\n",
        "83 out of 84 clusters\n",
        "cluster:82. 131755 training images"
       ]
      },
      {
       "output_type": "stream",
       "stream": "stdout",
       "text": [
        "\n",
        "cluster:82. 5150 validation images"
       ]
      },
      {
       "output_type": "stream",
       "stream": "stdout",
       "text": [
        "\n",
        "84 out of 84 clusters\n",
        "cluster:83. 50504 training images"
       ]
      },
      {
       "output_type": "stream",
       "stream": "stdout",
       "text": [
        "\n",
        "cluster:83. 2000 validation images"
       ]
      },
      {
       "output_type": "stream",
       "stream": "stdout",
       "text": [
        "\n"
       ]
      }
     ],
     "prompt_number": 20
    },
    {
     "cell_type": "code",
     "collapsed": false,
     "input": [
      "def find_layer_id(lay_names,lay_name):\n",
      "    for i in range(len(lay_names)):\n",
      "        if lay_names[i]==lay_name:\n",
      "            return i\n",
      "    return -1\n",
      "\n",
      "'''replace layer names with customized names'''\n",
      "def customize_layer_name(text,lay_nams,lin_nums,insert_prefix, insert_suffix, lin_num_offset=0):\n",
      "    for i in range(len(lay_nams)):\n",
      "        lin_nums_=lin_nums[i]\n",
      "        for lin_num in lin_nums_:\n",
      "            lin_num = lin_num - lin_num_offset\n",
      "            if lin_num > len(text):\n",
      "                continue\n",
      "            id=text[lin_num].find(lay_nams[i])\n",
      "            if id<0:\n",
      "                print '%s is not found in: %s' % (lay_nams[i],text[lin_num])\n",
      "                continue\n",
      "            text[lin_num]=text[lin_num][:id]+insert_prefix+lay_nams[i]\\\n",
      "            +insert_suffix+text[lin_num][id+len(lay_nams[i]):]\n",
      "    return text\n",
      "\n",
      "def set_lr_decay_mult(text, lr_mult, decay_mult):\n",
      "    for i in range(len(text)):\n",
      "        id=text[i].find('lr_mult')\n",
      "        if id>=0:\n",
      "            text[i]=text[i][:id]+'lr_mult: %3.2f\\n'%lr_mult\n",
      "        id=text[i].find('decay_mult')\n",
      "        if id>=0:\n",
      "            text[i]=text[i][:id]+'decay_mult: %3.2f\\n'%decay_mult\n",
      "    return text"
     ],
     "language": "python",
     "metadata": {},
     "outputs": [],
     "prompt_number": 35
    },
    {
     "cell_type": "code",
     "collapsed": false,
     "input": [
      "vgg_16_layer_def_fn='train_val_multiscale_train.prototxt'\n",
      "vgg_16_layer_def=read_text(model_dir + vgg_16_layer_def_fn)\n",
      "\n",
      "lay_nams=['conv1_1', 'Relu1_1','conv1_2','Relu1_2','pool1',\n",
      "          'conv2_1','Relu2_1','conv2_2','Relu2_2','pool2',\n",
      "          'conv3_1', 'Relu3_1','conv3_2','Relu3_2','conv3_3','Relu3_3','pool3',\n",
      "          'conv4_1','Relu4_1','conv4_2','Relu4_2','conv4_3','Relu4_3','pool4',\n",
      "          'conv5_1', 'Relu5_1','conv5_2', 'Relu5_2', 'conv5_3', 'Relu5_3', 'pool5',\n",
      "          'fc6', 'Relu6', 'drop6', 'fc7', 'Relu7', 'drop7', 'fc8']\n",
      "\n",
      "lin_nums=[]\n",
      "for lay_nam in lay_nams:\n",
      "    lin_nums_=[]\n",
      "    for i in range(len(vgg_16_layer_def)):\n",
      "        id=vgg_16_layer_def[i].find('\"'+lay_nam+'\"')\n",
      "        if id>=0:\n",
      "            lin_nums_+=[i]\n",
      "    lin_nums += [lin_nums_]\n",
      "print lin_nums"
     ],
     "language": "python",
     "metadata": {},
     "outputs": [
      {
       "output_type": "stream",
       "stream": "stdout",
       "text": [
        "[[52, 53, 72, 73, 78], [74], [79, 80, 98, 99, 104], [100], [105, 106, 115], [116, 117, 135, 136, 141], [137], [142, 143, 161, 162, 167], [163], [168, 169, 178], [179, 180, 198, 199, 204], [200], [205, 206, 224, 225, 230], [226], [231, 232, 250, 251, 256], [252], [257, 258, 267], [268, 269, 287, 288, 293], [289], [294, 295, 313, 314, 319], [315], [320, 321, 339, 340, 345], [341], [346, 347, 356], [357, 358, 376, 377, 382], [378], [383, 384, 402, 403, 408], [404], [409, 410, 428, 429, 434], [430], [435, 436, 445], [446, 447, 475, 476, 481, 482, 490], [477], [483], [491, 492, 520, 521, 526, 527, 535], [522], [528], [536, 537, 563, 577, 591]]\n"
       ]
      }
     ],
     "prompt_number": 34
    },
    {
     "cell_type": "code",
     "collapsed": false,
     "input": [
      "data_lay_rang = [0,50]\n",
      "mid_lay_rang=[50,561]\n",
      "share_lay_last_nm='pool4'\n",
      "share_lay_last_id=find_layer_id(lay_nams,share_lay_last_nm)\n",
      "fc8_lay_id=find_layer_id(lay_nams,'fc8')\n",
      "print 'share_lay_last_id:%d' % share_lay_last_id\n",
      "print 'fc8_lay_id ',fc8_lay_id\n",
      "print lin_nums[share_lay_last_id+1]\n",
      "\n",
      "train_source_line,train_batch_size_line,train_selective_list_line,\\\n",
      "test_source_line,test_batch_size_line, test_selective_list_line\\\n",
      "=19,20,22,43,44,46\n",
      "net_fc8_num_output_line = 548\n",
      "net_fc6_quantization_kmean_num_cluster_line = 467\n",
      "net_fc6_conserve_gpu_memory_test_line=472\n",
      "net_fc7_quantization_kmean_num_cluster_line = 512\n",
      "net_fc7_conserve_gpu_memory_test_line=517"
     ],
     "language": "python",
     "metadata": {},
     "outputs": [
      {
       "output_type": "stream",
       "stream": "stdout",
       "text": [
        "share_lay_last_id:23\n",
        "fc8_lay_id  37\n",
        "[357, 358, 376, 377, 382]\n"
       ]
      }
     ],
     "prompt_number": 46
    },
    {
     "cell_type": "code",
     "collapsed": false,
     "input": [
      "print n_cluster, version\n",
      "print save_dir\n",
      "print model_dir\n",
      "print caffe_local_root"
     ],
     "language": "python",
     "metadata": {},
     "outputs": [
      {
       "output_type": "stream",
       "stream": "stdout",
       "text": [
        "84 v2.0\n",
        "/home/zyan3/proj/caffe_private_hdcnn/models/VGG_ILSVRC_16_layers/211839e770f7b538e2d8/84clusters/84clusters_v2.0/\n",
        "/home/zyan3/proj/caffe_private_hdcnn/models/VGG_ILSVRC_16_layers/211839e770f7b538e2d8/\n",
        "/home/zyan3/local/proj/caffe_private_hdcnn/\n"
       ]
      }
     ],
     "prompt_number": 37
    },
    {
     "cell_type": "code",
     "collapsed": false,
     "input": [
      "solver_proto_net_line,solver_proto_test_iter_line, \\\n",
      "solver_proto_base_lr_line, solver_proto_stepsize_line,\\\n",
      "solver_proto_max_iter_line,solver_proto_snapshot_line ,solver_proto_prefix_line=\\\n",
      "0,1,3,6,8,11,12"
     ],
     "language": "python",
     "metadata": {},
     "outputs": [],
     "prompt_number": 38
    },
    {
     "cell_type": "code",
     "collapsed": false,
     "input": [
      "'''\n",
      "two-time branch pre-training\n",
      "train a separate CNN for each cluster \n",
      "For each cluster, prepare solver/train_test/deploy prototxt \n",
      "'''\n",
      "# 20 clusters, last shared layer 'pool4'\n",
      "max_iter = [4000]\n",
      "snapshot=[4000]\n",
      "base_lr=[1e-3]\n",
      "stepsize =[4000]\n",
      "\n",
      "# 84 clusters, last shared layer 'drop6'\n",
      "# max_iter = [2500]\n",
      "# snapshot=[2500]\n",
      "# base_lr=[1e-3]\n",
      "# stepsize =[2500]\n",
      "\n",
      "solver_proto=['solver_multiscale_train_2gpu.prototxt']\n",
      "train_batch_size,test_batch_size=100,10\n",
      "\n",
      "\n",
      "train_test_proto, deploy_proto=\\\n",
      "vgg_16_layer_def_fn,\\\n",
      "'deploy.prototxt'\n",
      "\n",
      "solver_proto_templates = [None]*len(solver_proto)\n",
      "for i in range(len(solver_proto)):\n",
      "    solver_proto_templates[i]=[]\n",
      "    f=open(model_dir + solver_proto[i],'r')\n",
      "    for line in f:\n",
      "        solver_proto_templates[i]+=[line]\n",
      "    f.close()\n",
      "\n",
      "train_test_proto_template,deploy_proto_template=[],[]\n",
      "f=open(model_dir +  train_test_proto,'r')\n",
      "for line in f:\n",
      "    train_test_proto_template+=[line]\n",
      "f.close()\n",
      "f=open(model_dir + deploy_proto,'r')\n",
      "for line in f:\n",
      "    deploy_proto_template+=[line]\n",
      "f.close()\n",
      "\n",
      "\n",
      "\n",
      "for i in range(n_cluster):\n",
      "    fc8_num_output_i = len(exp_cluster_members[i])\n",
      "    net_nm = 'cluster%02d_%s'%\\\n",
      "    (i, train_test_proto)\n",
      "    deploynet_nm = 'cluster%02d_%s'%\\\n",
      "    (i, deploy_proto)\n",
      "    \n",
      "    for j in range(len(solver_proto)):\n",
      "        solver_proto_ = copy.deepcopy(solver_proto_templates[j])\n",
      "        solver_proto_[solver_proto_net_line] = 'net: \"%s%s\"\\n' % (save_dir,net_nm)\n",
      "    \n",
      "        solver_proto_[solver_proto_test_iter_line] = 'test_iter: %d\\n' % (len(exp_cluster_members[i])*6/test_batch_size)\n",
      "        solver_proto_[solver_proto_base_lr_line] = 'base_lr: %4.3f \\n' % base_lr[j] \n",
      "        solver_proto_[solver_proto_stepsize_line] = 'stepsize: %d\\n' % stepsize[j]       \n",
      "        solver_proto_[solver_proto_max_iter_line] = 'max_iter: %d\\n' % max_iter[j]\n",
      "        solver_proto_[solver_proto_snapshot_line] = 'snapshot: %d\\n' % snapshot[j]\n",
      "        solver_proto_[solver_proto_prefix_line] = \\\n",
      "    'snapshot_prefix: \"%scluster%02d\"\\n' \\\n",
      "    % (save_dir, i)\n",
      "            \n",
      "        f=open(save_dir+'cluster%02d_%s' %(i, solver_proto[j]),'w')\n",
      "        f.writelines(solver_proto_)\n",
      "        f.close()\n",
      "    \n",
      "    train_test_proto_ = copy.deepcopy(train_test_proto_template)\n",
      "    train_test_proto_[train_source_line] = \\\n",
      "    '\\t\\tsource: \"/home/zyan3/local/data/imagenet/ilsvrc12/ilsvrc12_train_encoded_lmdb\"\\n'\n",
      "    \n",
      "    train_test_proto_[train_batch_size_line] = '\\t\\tbatch_size: %d\\n' % train_batch_size\n",
      "    train_test_proto_[train_selective_list_line] = '\\tselective_list: \"%sselective_list_cluster%02d_train.txt\"\\n'%(data_dir,i)\n",
      "    \n",
      "    train_test_proto_[test_source_line] = \\\n",
      "    '\\t\\tsource: \"/home/zyan3/local/data/imagenet/ilsvrc12/ilsvrc12_val_encoded_lmdb\"\\n'  \n",
      "    \n",
      "    train_test_proto_[test_batch_size_line] = '\\t\\tbatch_size: %d\\n' % test_batch_size\n",
      "    train_test_proto_[test_selective_list_line] = '\\tselective_list: \"%sselective_list_cluster%02d_val.txt\"\\n'%(data_dir,i)\n",
      "    \n",
      "    customize_layer_name(train_test_proto_,lay_nams[share_lay_last_id+1:],lin_nums[share_lay_last_id+1:],\\\n",
      "                         'cluster%02d_'%i, '', lin_num_offset=0)\n",
      "    customize_layer_name(train_test_proto_,[lay_nams[fc8_lay_id]],[lin_nums[fc8_lay_id]],\\\n",
      "                         '', '_compact', lin_num_offset=0)\n",
      "    \n",
      "    train_test_proto_[:lin_nums[share_lay_last_id+1][0]-1]=\\\n",
      "    set_lr_decay_mult(train_test_proto_[:lin_nums[share_lay_last_id+1][0]-1], 0, 0)\n",
      "    train_test_proto_[net_fc8_num_output_line] = \\\n",
      "    '\\t\\t\\t\\tnum_output: %d\\n' % fc8_num_output_i\n",
      "    \n",
      "    train_test_proto_[net_fc6_quantization_kmean_num_cluster_line]='\\tquantization_kmean_num_cluster: 0\\n'\n",
      "    train_test_proto_[net_fc6_conserve_gpu_memory_test_line]='\\tconserve_gpu_memory_test: false\\n'\n",
      "   \n",
      "    train_test_proto_[net_fc7_quantization_kmean_num_cluster_line]='\\tquantization_kmean_num_cluster: 0\\n'\n",
      "    train_test_proto_[net_fc7_conserve_gpu_memory_test_line]='\\tconserve_gpu_memory_test: false\\n'\n",
      "    \n",
      "    f=open(save_dir+net_nm,'w')\n",
      "    f.writelines(train_test_proto_)\n",
      "    f.close()\n",
      "     \n",
      "#     deploy_proto_ = copy.deepcopy(deploy_proto_template)\n",
      "#     customize_layer_name(deploy_proto_,lay_nams[share_lay_last_id+1:],lin_nums[share_lay_last_id+1:],\\\n",
      "#                          'cluster%02d_'%i, '', lin_num_offset=0)\n",
      "#     customize_layer_name(deploy_proto_,[lay_nams[fc8_lay_id]],[lin_nums[fc8_lay_id]],\\\n",
      "#                          '', '_compact', lin_num_offset=0)     \n",
      "#     deploy_proto_[net_fc8_num_output_line] = \\\n",
      "#     '\\t\\t\\t\\tnum_output: %d\\n' % fc8_num_output_i    \n",
      "#     f=open(save_dir+deploynet_nm,'w')\n",
      "#     f.writelines(deploy_proto_)\n",
      "#     f.close()    "
     ],
     "language": "python",
     "metadata": {},
     "outputs": [],
     "prompt_number": 47
    },
    {
     "cell_type": "code",
     "collapsed": false,
     "input": [
      "print example_dir\n",
      "print model_dir\n",
      "print save_dir"
     ],
     "language": "python",
     "metadata": {},
     "outputs": [
      {
       "output_type": "stream",
       "stream": "stdout",
       "text": [
        "/home/zyan3/proj/caffe_private_hdcnn/examples/imagenet/\n",
        "/home/zyan3/proj/caffe_private_hdcnn/models/VGG_ILSVRC_16_layers/211839e770f7b538e2d8/\n",
        "/home/zyan3/proj/caffe_private_hdcnn/models/VGG_ILSVRC_16_layers/211839e770f7b538e2d8/84clusters/84clusters_v0.0/\n"
       ]
      }
     ],
     "prompt_number": 55
    },
    {
     "cell_type": "code",
     "collapsed": false,
     "input": [
      "'''\n",
      "prepare final HD-CNN solver prototxt files\n",
      "'''\n",
      "\n",
      "example_dir = caffe_root + 'examples/imagenet/'\n",
      "solver_proto=['solver_multiscale_train_2gpu.prototxt']\n",
      "\n",
      "solver_proto_output=['hdcnn_solver.prototxt']\n",
      "\n",
      "solver_proto_templates = [None]*len(solver_proto)\n",
      "for i in range(len(solver_proto)):\n",
      "    solver_proto_templates[i]=[]\n",
      "    f=open(model_dir + solver_proto[i],'r')\n",
      "    for line in f:\n",
      "        solver_proto_templates[i]+=[line]\n",
      "    f.close()\n",
      "    \n",
      "base_lr = [1e-4]\n",
      "stepsize = [50000]\n",
      "max_iter = [120000]\n",
      "snapshot = [5000]\n",
      "\n",
      "for j in range(len(solver_proto)):\n",
      "    net_nm = 'hdcnn_train_val.prototxt'\n",
      "    \n",
      "    solver_proto_ = copy.deepcopy(solver_proto_templates[j])\n",
      "    solver_proto_[solver_proto_net_line] = 'net: \"%s%s\"\\n' % (save_dir,net_nm)\n",
      "\n",
      "    solver_proto_[solver_proto_test_iter_line] = 'test_iter: %d\\n'  % (num_val / 10)\n",
      "    solver_proto_[solver_proto_base_lr_line] = 'base_lr: %4.3f \\n' % base_lr[j] \n",
      "    solver_proto_[solver_proto_stepsize_line] = 'stepsize: %d\\n' % stepsize[j]       \n",
      "    solver_proto_[solver_proto_max_iter_line] = 'max_iter: %d\\n' % max_iter[j]\n",
      "    solver_proto_[solver_proto_snapshot_line] = 'snapshot: %d\\n' % snapshot[j]\n",
      "    solver_proto_[solver_proto_prefix_line] = \\\n",
      "'snapshot_prefix: \"%shdcnn\"\\n' \\\n",
      "% (save_dir)    \n",
      "\n",
      "    solver_fn=save_dir+solver_proto_output[j]\n",
      "    print solver_fn\n",
      "    f=open(solver_fn,'w')\n",
      "    f.writelines(solver_proto_)\n",
      "    f.close()    "
     ],
     "language": "python",
     "metadata": {},
     "outputs": [
      {
       "output_type": "stream",
       "stream": "stdout",
       "text": [
        "/home/zyan3/proj/caffe_private_hdcnn/models/VGG_ILSVRC_16_layers/211839e770f7b538e2d8/20clusters/20clusters_v0.0/hdcnn_solver.prototxt\n"
       ]
      }
     ],
     "prompt_number": 187
    },
    {
     "cell_type": "code",
     "collapsed": false,
     "input": [
      "print net_fc8_num_output_line"
     ],
     "language": "python",
     "metadata": {},
     "outputs": [
      {
       "output_type": "stream",
       "stream": "stdout",
       "text": [
        "523\n"
       ]
      }
     ],
     "prompt_number": 36
    },
    {
     "cell_type": "code",
     "collapsed": false,
     "input": [
      "print n_cluster"
     ],
     "language": "python",
     "metadata": {},
     "outputs": [
      {
       "output_type": "stream",
       "stream": "stdout",
       "text": [
        "84\n"
       ]
      }
     ],
     "prompt_number": 54
    },
    {
     "cell_type": "code",
     "collapsed": false,
     "input": [
      "lin_nums[share_lay_last_id+1][0]-2"
     ],
     "language": "python",
     "metadata": {},
     "outputs": [
      {
       "metadata": {},
       "output_type": "pyout",
       "prompt_number": 117,
       "text": [
        "345"
       ]
      }
     ],
     "prompt_number": 117
    },
    {
     "cell_type": "code",
     "collapsed": false,
     "input": [
      "bb_net_def = vgg_16_layer_def\n",
      "\n",
      "hdcnn_def = []\n",
      "\n",
      "'''write data layer part'''\n",
      "for lin_num in range(data_lay_rang[0],data_lay_rang[1]):\n",
      "    hdcnn_def += [bb_net_def[lin_num]]\n",
      "    \n",
      "hdcnn_def[train_batch_size_line] = '\\tbatch_size: 10\\n'\n",
      "hdcnn_def[test_batch_size_line] = '\\tbatch_size: 10\\n'  \n",
      "\n",
      "\n",
      "'''write gating part'''\n",
      "for lin_num in range(mid_lay_rang[0],mid_lay_rang[1]):\n",
      "    hdcnn_def += [bb_net_def[lin_num]]\n",
      "\n",
      "'''write SOFTMAX fine-classification layer in the gating part'''\n",
      "hdcnn_def +=['layer {\\n',\\\n",
      "                        '\\tname: \"fine_branch_prob\"\\n',\\\n",
      "                        '\\ttype: \"Softmax\"\\n',\\\n",
      "                        '\\tbottom: \"fc8\"\\n',\\\n",
      "                        '\\ttop: \"fine_branch_prob\"\\n',\\\n",
      "                        '}\\n']\n",
      "'''write fine2coarse classification layer in the gating part'''\n",
      "hdcnn_def +=['layer {\\n',\\\n",
      "                        '\\tname: \"coarse_branch_prob\"\\n',\\\n",
      "                        '\\ttype: \"Fine2CoarseProb\"\\n',\\\n",
      "                        '\\tbottom: \"fine_branch_prob\"\\n',\\\n",
      "                        '\\ttop: \"coarse_branch_prob\"\\n'\\\n",
      "                        '\\tfine2coarse_prob_layer_param{\\n',\\\n",
      "                        '\\t\\tnum_coarse: %d\\n' % n_cluster]\n",
      "for i in range(label_2_clusterid.shape[0]):\n",
      "    hdcnn_def += ['\\t\\tfine2coarse: %d\\n'%label_2_clusterid[i]]\n",
      "hdcnn_def += ['\\t}\\n',\\\n",
      "                         '}\\n']    \n",
      "\n",
      "'''write independent layers in branching parts'''\n",
      "for i in range(n_cluster):\n",
      "    br_def=[]\n",
      "    lin_num_offset = lin_nums[share_lay_last_id+1][0]-2\n",
      "\n",
      "    for lin_num in range(lin_num_offset,mid_lay_rang[1]):\n",
      "        br_def+=[bb_net_def[lin_num]]\n",
      "    br_lay_nams=[lay_nams[id] for id in range(share_lay_last_id+1,len(lay_nams))]\n",
      "    if i==0:\n",
      "        print 'br_lay_nams',br_lay_nams\n",
      "    br_lin_nums=[lin_nums[id] for id in range(share_lay_last_id+1,len(lay_nams))]\n",
      "\n",
      "    br_def=customize_layer_name(br_def,br_lay_nams,br_lin_nums,'cluster%02d_'%i,\\\n",
      "                                '',lin_num_offset)\n",
      "\n",
      "    br_def=customize_layer_name(br_def,[lay_nams[fc8_lay_id]],[lin_nums[fc8_lay_id]],'',\\\n",
      "                                '_compact',lin_num_offset)   \n",
      "\n",
      "    br_def[net_fc8_num_output_line-br_lin_nums[0][0]+2]='\\tnum_output: %d\\n' % len(exp_cluster_members[i])\n",
      "\n",
      "    br_def += ['layer {\\n',\\\n",
      "              'name: \"cluster%02d_prob_compact\"\\n'%i,\\\n",
      "              'type: \"Softmax\"\\n',\\\n",
      "              'bottom: \"cluster%02d_fc8_compact\"\\n'%i,\\\n",
      "              'top: \"cluster%02d_prob_compact\"\\n'%i,\\\n",
      "              '}\\n']\n",
      "\n",
      "\n",
      "    for br_def_lin in br_def:\n",
      "        hdcnn_def += [br_def_lin]\n",
      "\n",
      "hdcnn_def += ['layer {\\n',\\\n",
      "                        '\\tname: \"compact_probabilistic_average_prob\"\\n',\\\n",
      "                        '\\ttype: \"CompactProbabilisticAverageProb\"\\n']\n",
      "for i in range(n_cluster):\n",
      "    hdcnn_def+= ['\\tbottom: \"cluster%02d_prob_compact\"\\n'%i]\n",
      "hdcnn_def+=['\\tbottom: \"coarse_branch_prob\"\\n',\\\n",
      "                       '\\ttop: \"compact_probabilistic_average_prob\"\\n',\\\n",
      "                       '\\tcompact_probabilistic_average_prob_layer_param{\\n',\\\n",
      "                       '\\t\\tnum_class:%d\\n'%num_class]\n",
      "for i in range(n_cluster):\n",
      "    hdcnn_def+=['\\t\\tcompact_classify_layer_param{\\n']\n",
      "    for j in range(len(exp_cluster_members[i])):\n",
      "        hdcnn_def+=['\\t\\t\\tclass_id:%d\\n'%exp_cluster_members[i][j]]\n",
      "    hdcnn_def+=['\\t\\t}\\n']\n",
      "hdcnn_def+=['\\t}\\n',\\\n",
      "                       '}\\n']\n",
      "\n",
      "hdcnn_def += ['layer {\\n',\\\n",
      "                        '\\tname: \"loss\"\\n',\\\n",
      "                        '\\ttype: \"MultinomialLogisticSparsityLoss\"\\n',\\\n",
      "                        '\\tbottom: \"compact_probabilistic_average_prob\"\\n',\\\n",
      "                        '\\tbottom: \"label\"\\n',\\\n",
      "                        '\\tbottom: \"coarse_branch_prob\"\\n',\\\n",
      "                        '\\ttop: \"loss\"\\n',\\\n",
      "                        '\\tmultinomial_logistic_sparsity_loss_param{\\n',\n",
      "                        '\\t\\tsparsity_lamda: 5\\n']\n",
      "for i in range(n_cluster):\n",
      "    hdcnn_def += ['\\t\\ttarget_sparsity: %4.3f\\n'% (float(len(cluster_members[i])) / float(num_class))]\n",
      "\n",
      "hdcnn_def+=['\\t\\t}\\n',\\\n",
      "                      '\\t}\\n']\n",
      "\n",
      "hdcnn_def+=['layer {\\n',\\\n",
      "                       '\\tname: \"accuracy_top1\"\\n',\\\n",
      "                       '\\ttype: \"Accuracy\"\\n',\\\n",
      "                       '\\tbottom: \"compact_probabilistic_average_prob\"\\n',\\\n",
      "                       '\\tbottom: \"label\"\\n',\\\n",
      "                       '\\ttop: \"accuracy_top1\"\\n',\\\n",
      "                       '\\tinclude {\\n',\\\n",
      "                       '\\t\\tphase: TEST\\n',\\\n",
      "                       '\\t}\\n',\\\n",
      "                       '\\taccuracy_param {\\n',\\\n",
      "                       '\\t  top_k: 1\\n',\\\n",
      "                       '\\t}\\n',\\\n",
      "                       '}\\n']\n",
      "\n",
      "hdcnn_def+=['layer {\\n',\\\n",
      "                       '\\tname: \"accuracy_top5\"\\n',\\\n",
      "                       '\\ttype: \"Accuracy\"\\n',\\\n",
      "                       '\\tbottom: \"compact_probabilistic_average_prob\"\\n',\\\n",
      "                       '\\tbottom: \"label\"\\n',\\\n",
      "                       '\\ttop: \"accuracy_top5\"\\n',\\\n",
      "                       '\\tinclude {\\n',\\\n",
      "                       '\\t\\tphase: TEST\\n',\\\n",
      "                       '\\t}\\n',\\\n",
      "                       '\\taccuracy_param {\\n',\\\n",
      "                       '\\t  top_k: 5\\n',\\\n",
      "                       '\\t}\\n',\\\n",
      "                       '}\\n']   \n",
      "\n",
      "\n",
      "net_def_fn = save_dir + 'hdcnn_train_val.prototxt'\n",
      "print 'write file:%s'%net_def_fn\n",
      "f=open(net_def_fn,'w')\n",
      "for ln in hdcnn_def:\n",
      "    f.write(ln)\n",
      "f.close()"
     ],
     "language": "python",
     "metadata": {},
     "outputs": [
      {
       "output_type": "stream",
       "stream": "stdout",
       "text": [
        "br_lay_nams ['conv5_1', 'Relu5_1', 'conv5_2', 'Relu5_2', 'conv5_3', 'Relu5_3', 'pool5', 'fc6', 'Relu6', 'drop6', 'fc7', 'Relu7', 'drop7', 'fc8']\n",
        "write file:/home/zyan3/proj/caffe_private_hdcnn/models/VGG_ILSVRC_16_layers/211839e770f7b538e2d8/84clusters/84clusters_v0.0/hdcnn_train_val.prototxt\n"
       ]
      }
     ],
     "prompt_number": 280
    },
    {
     "cell_type": "code",
     "collapsed": false,
     "input": [
      "print save_dir\n",
      "print example_dir\n",
      "print solver_proto_output[0]\n",
      "print n_cluster"
     ],
     "language": "python",
     "metadata": {},
     "outputs": [
      {
       "output_type": "stream",
       "stream": "stdout",
       "text": [
        "/home/zyan3/proj/caffe_private_hdcnn/models/VGG_ILSVRC_16_layers/211839e770f7b538e2d8/84clusters/84clusters_v1.0/\n",
        "/home/zyan3/proj/caffe_private_hdcnn/examples/imagenet/\n",
        "hdcnn_solver.prototxt\n",
        "84\n"
       ]
      }
     ],
     "prompt_number": 222
    },
    {
     "cell_type": "code",
     "collapsed": false,
     "input": [
      "n_cluster=84"
     ],
     "language": "python",
     "metadata": {},
     "outputs": [],
     "prompt_number": 244
    },
    {
     "cell_type": "code",
     "collapsed": false,
     "input": [
      "print n_cluster,version"
     ],
     "language": "python",
     "metadata": {},
     "outputs": [
      {
       "output_type": "stream",
       "stream": "stdout",
       "text": [
        "84 v0.0\n"
       ]
      }
     ],
     "prompt_number": 245
    },
    {
     "cell_type": "code",
     "collapsed": false,
     "input": [
      "'''write shell script for testing HD-CNN'''\n",
      "\n",
      "script_fn=example_dir+'test_hdcnn_VGG_16_layer_%dclusters_%s.sh'%(n_cluster,version)\n",
      "print 'script: %s' % script_fn \n",
      "f=open(script_fn,'w')\n",
      "f.write('#!/bin/bash\\n')\n",
      "f.write('TOOLS=build/tools\\n')\n",
      "f.write('GLOG_logtostderr=1 $TOOLS/caffe test  \\\\\\n')\n",
      "f.write('\\t --model=%s \\\\\\n'%(net_def_fn))\n",
      "# f.write('\\t%scifar100_NIN_float_crop_v2_iter_130000.caffemodel \\\\\\n' % model_dir)\n",
      "f.write('\\t --weights=')\n",
      "for i in range(n_cluster):\n",
      "    if i > 0:\n",
      "        f.write(',')\n",
      "    f.write('%scluster%02d_iter_4000.caffemodel'%(save_dir,i))\n",
      "f.write(' \\\\\\n')\n",
      "f.write('\\t--iterations=2 --gpu=0')\n",
      "\n",
      "# f.write('\\n')\n",
      "# f.write('GLOG_logtostderr=1 $TOOLS/caffe train \\\\\\n')\n",
      "# f.write('\\t--solver=%s%s \\\\\\n'%(save_dir, solver_proto_output[1]))\n",
      "# f.write('\\t--weights=%shdcnn_iter_%d.caffemodel \\\\\\n' % (save_dir,hdcnn_max_iter[0]))\n",
      "\n",
      "# f.write('\\n')\n",
      "# f.write('GLOG_logtostderr=1 $TOOLS/caffe train \\\\\\n')\n",
      "# f.write('\\t--solver=%s%s \\\\\\n'%(save_dir, solver_proto_output[2]))\n",
      "# f.write('\\t--weights=%shdcnn_iter_%d.caffemodel \\\\\\n' % (save_dir,hdcnn_max_iter[1]))\n",
      "\n",
      "f.close()\n",
      "\n"
     ],
     "language": "python",
     "metadata": {},
     "outputs": [
      {
       "output_type": "stream",
       "stream": "stdout",
       "text": [
        "script: /home/zyan3/proj/caffe_private_hdcnn/examples/imagenet/test_hdcnn_VGG_16_layer_84clusters_v0.0.sh\n"
       ]
      }
     ],
     "prompt_number": 247
    },
    {
     "cell_type": "code",
     "collapsed": false,
     "input": [
      "'''write shell script for finetuning HD-CNN'''\n",
      "\n",
      "script_fn=example_dir+'finetune_hdcnn_from_VGG_16_layer_%dclusters_%s.sh'%(n_cluster,version)\n",
      "print 'script: %s' % script_fn \n",
      "f=open(script_fn,'w')\n",
      "f.write('#!/bin/bash\\n')\n",
      "f.write('TOOLS=build/tools\\n')\n",
      "f.write('GLOG_logtostderr=1 $TOOLS/finetune_net_match \\\\\\n')\n",
      "f.write('\\t --match_mode=EXACT_MATCH --solver=%s%s \\\\\\n'%(save_dir, solver_proto_output[0]))\n",
      "# f.write('\\t%scifar100_NIN_float_crop_v2_iter_130000.caffemodel \\\\\\n' % model_dir)\n",
      "for i in range(n_cluster):\n",
      "    f.write('\\t%scluster%02d_iter_4000.caffemodel \\\\\\n'%(save_dir,i))\n",
      "\n",
      "# f.write('\\n')\n",
      "# f.write('GLOG_logtostderr=1 $TOOLS/caffe train \\\\\\n')\n",
      "# f.write('\\t--solver=%s%s \\\\\\n'%(save_dir, solver_proto_output[1]))\n",
      "# f.write('\\t--weights=%shdcnn_iter_%d.caffemodel \\\\\\n' % (save_dir,hdcnn_max_iter[0]))\n",
      "\n",
      "# f.write('\\n')\n",
      "# f.write('GLOG_logtostderr=1 $TOOLS/caffe train \\\\\\n')\n",
      "# f.write('\\t--solver=%s%s \\\\\\n'%(save_dir, solver_proto_output[2]))\n",
      "# f.write('\\t--weights=%shdcnn_iter_%d.caffemodel \\\\\\n' % (save_dir,hdcnn_max_iter[1]))\n",
      "\n",
      "f.close()\n",
      "\n"
     ],
     "language": "python",
     "metadata": {},
     "outputs": [
      {
       "output_type": "stream",
       "stream": "stdout",
       "text": [
        "script: /home/zyan3/proj/caffe_private_hdcnn/examples/imagenet/finetune_hdcnn_from_VGG_16_layer_20clusters_v0.0.sh\n"
       ]
      }
     ],
     "prompt_number": 189
    }
   ],
   "metadata": {}
  }
 ]
}