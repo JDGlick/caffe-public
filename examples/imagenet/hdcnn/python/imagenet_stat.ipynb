{
 "metadata": {
  "name": "",
  "signature": "sha256:4cca2cfa87bdf9feb48d16476808e23fdd56161f2517ee6631d543b5260c8d90"
 },
 "nbformat": 3,
 "nbformat_minor": 0,
 "worksheets": [
  {
   "cells": [
    {
     "cell_type": "code",
     "collapsed": false,
     "input": [
      "import sys\n",
      "import os\n",
      "import numpy as np\n",
      "import matplotlib.pyplot as plt\n",
      "%matplotlib inline\n",
      "import leveldb\n",
      "import lmdb\n",
      "import time\n",
      "import math\n",
      "\n",
      "caffe_root = os.environ['CAFFE_PROJ_DIR']\n",
      "print 'caffe_root ',caffe_root\n",
      "sys.path.insert(0, caffe_root + 'python')\n",
      "sys.path.append(caffe_root + 'python/util')\n",
      "import caffe\n",
      "from util_func import *\n",
      "\n",
      "sys.path.append(caffe_root + 'python/caffe/proto')\n",
      "import caffe_pb2\n",
      "\n",
      "example_dir=caffe_root+'examples/imagenet/'\n",
      "data_dir=caffe_root+'data/ilsvrc12/'\n",
      "print 'example_dir ',example_dir\n",
      "print 'data_dir ',data_dir"
     ],
     "language": "python",
     "metadata": {},
     "outputs": [
      {
       "output_type": "stream",
       "stream": "stdout",
       "text": [
        "caffe_root  /home/zyan3/proj/caffe_private_hdcnn/\n",
        "example_dir "
       ]
      },
      {
       "output_type": "stream",
       "stream": "stdout",
       "text": [
        " /home/zyan3/proj/caffe_private_hdcnn/examples/imagenet/\n",
        "data_dir  /home/zyan3/proj/caffe_private_hdcnn/data/ilsvrc12/\n"
       ]
      }
     ],
     "prompt_number": 1
    },
    {
     "cell_type": "code",
     "collapsed": false,
     "input": [
      "val_img_list_fn = data_dir + 'val.txt'\n",
      "val_img_names, val_img_labels=read_val_image_list(val_img_list_fn)\n",
      "num_val = len(val_img_names)"
     ],
     "language": "python",
     "metadata": {},
     "outputs": [
      {
       "output_type": "stream",
       "stream": "stdout",
       "text": [
        "50000 validation images \n"
       ]
      }
     ],
     "prompt_number": 2
    },
    {
     "cell_type": "code",
     "collapsed": false,
     "input": [
      "val_lmdb_fn = '/home/zyan3/local/data/imagenet/ilsvrc12/ilsvrc12_val_short_384_lmdb'\n",
      "val_lmdb = lmdb.open(val_lmdb_fn)\n",
      "txn=val_lmdb.begin()"
     ],
     "language": "python",
     "metadata": {},
     "outputs": [],
     "prompt_number": 5
    },
    {
     "cell_type": "code",
     "collapsed": false,
     "input": [
      "short_side_size = 384\n",
      "max_height, max_width, max_pixel_num = 0, 0, 0\n",
      "for i in range(num_val):\n",
      "    key = '%08d_%s' %(i,val_img_names[i])\n",
      "    string_data=txn.get(key)\n",
      "    datum = caffe_pb2.Datum()\n",
      "    datum.ParseFromString(string_data)\n",
      "    height, width =0, 0\n",
      "    if i%500==0:\n",
      "        print 'datum height %d width %d' % (datum.height,datum.width)\n",
      "    if datum.height >= datum.width:\n",
      "        width = short_side_size\n",
      "        height = math.ceil((float(datum.height)/float(datum.width))*short_side_size)\n",
      "    else:\n",
      "        height = short_side_size\n",
      "        width = math.ceil((float(datum.width)/float(datum.height))*short_side_size)\n",
      "    max_height=max(max_height, height)\n",
      "    max_width=max(max_width, width)\n",
      "    max_pixel_num=max(max_pixel_num,height*width)\n",
      "print 'max_height %d max_width %d max_pixel_num:%d' % (max_height,max_width,max_pixel_num)"
     ],
     "language": "python",
     "metadata": {},
     "outputs": [
      {
       "output_type": "stream",
       "stream": "stdout",
       "text": [
        "datum height 384 width 512\n",
        "datum height 384 width 574"
       ]
      },
      {
       "output_type": "stream",
       "stream": "stdout",
       "text": [
        "\n",
        "datum height 384 width 606"
       ]
      },
      {
       "output_type": "stream",
       "stream": "stdout",
       "text": [
        "\n",
        "datum height 384 width 472"
       ]
      },
      {
       "output_type": "stream",
       "stream": "stdout",
       "text": [
        "\n",
        "datum height 384 width 575"
       ]
      },
      {
       "output_type": "stream",
       "stream": "stdout",
       "text": [
        "\n",
        "datum height 384 width 577"
       ]
      },
      {
       "output_type": "stream",
       "stream": "stdout",
       "text": [
        "\n",
        "datum height 454 width 384"
       ]
      },
      {
       "output_type": "stream",
       "stream": "stdout",
       "text": [
        "\n",
        "datum height 384 width 417"
       ]
      },
      {
       "output_type": "stream",
       "stream": "stdout",
       "text": [
        "\n",
        "datum height 384 width 490"
       ]
      },
      {
       "output_type": "stream",
       "stream": "stdout",
       "text": [
        "\n",
        "datum height 384 width 484"
       ]
      },
      {
       "output_type": "stream",
       "stream": "stdout",
       "text": [
        "\n",
        "datum height 577 width 384"
       ]
      },
      {
       "output_type": "stream",
       "stream": "stdout",
       "text": [
        "\n",
        "datum height 512 width 384"
       ]
      },
      {
       "output_type": "stream",
       "stream": "stdout",
       "text": [
        "\n",
        "datum height 384 width 512"
       ]
      },
      {
       "output_type": "stream",
       "stream": "stdout",
       "text": [
        "\n",
        "datum height 471 width 384"
       ]
      },
      {
       "output_type": "stream",
       "stream": "stdout",
       "text": [
        "\n",
        "datum height 384 width 512"
       ]
      },
      {
       "output_type": "stream",
       "stream": "stdout",
       "text": [
        "\n",
        "datum height 384 width 512"
       ]
      },
      {
       "output_type": "stream",
       "stream": "stdout",
       "text": [
        "\n",
        "datum height 384 width 492"
       ]
      },
      {
       "output_type": "stream",
       "stream": "stdout",
       "text": [
        "\n",
        "datum height 512 width 384"
       ]
      },
      {
       "output_type": "stream",
       "stream": "stdout",
       "text": [
        "\n",
        "datum height 384 width 575"
       ]
      },
      {
       "output_type": "stream",
       "stream": "stdout",
       "text": [
        "\n",
        "datum height 480 width 384"
       ]
      },
      {
       "output_type": "stream",
       "stream": "stdout",
       "text": [
        "\n",
        "datum height 384 width 512"
       ]
      },
      {
       "output_type": "stream",
       "stream": "stdout",
       "text": [
        "\n",
        "datum height 384 width 442"
       ]
      },
      {
       "output_type": "stream",
       "stream": "stdout",
       "text": [
        "\n",
        "datum height 384 width 666"
       ]
      },
      {
       "output_type": "stream",
       "stream": "stdout",
       "text": [
        "\n",
        "datum height 384 width 436"
       ]
      }
     ]
    }
   ],
   "metadata": {}
  }
 ]
}