{
 "cells": [
  {
   "cell_type": "code",
   "execution_count": 1,
   "metadata": {
    "collapsed": false
   },
   "outputs": [
    {
     "name": "stdout",
     "output_type": "stream",
     "text": [
      "caffe_root  /home/zyan3/proj/caffe_private_hdcnn/\n",
      "example_dir  /home/zyan3/proj/caffe_private_hdcnn/examples/imagenet/\n",
      "data_dir  /home/zyan3/proj/caffe_private_hdcnn/data/ilsvrc12/\n"
     ]
    }
   ],
   "source": [
    "import sys\n",
    "import os\n",
    "import numpy as np\n",
    "import matplotlib.pyplot as plt\n",
    "%matplotlib inline\n",
    "import leveldb\n",
    "import lmdb\n",
    "import time\n",
    "import math\n",
    "\n",
    "caffe_root = os.environ['CAFFE_PROJ_DIR']\n",
    "print 'caffe_root ',caffe_root\n",
    "sys.path.insert(0, caffe_root + 'python')\n",
    "sys.path.append(caffe_root + 'python/util')\n",
    "import caffe\n",
    "from util_func import *\n",
    "\n",
    "sys.path.append(caffe_root + 'python/caffe/proto')\n",
    "import caffe_pb2\n",
    "\n",
    "example_dir=caffe_root+'examples/imagenet/'\n",
    "data_dir=caffe_root+'data/ilsvrc12/'\n",
    "print 'example_dir ',example_dir\n",
    "print 'data_dir ',data_dir"
   ]
  },
  {
   "cell_type": "code",
   "execution_count": 2,
   "metadata": {
    "collapsed": false
   },
   "outputs": [
    {
     "name": "stdout",
     "output_type": "stream",
     "text": [
      "50000 validation images \n"
     ]
    }
   ],
   "source": [
    "val_img_list_fn = data_dir + 'val.txt'\n",
    "val_img_names, val_img_labels=read_val_image_list(val_img_list_fn)\n",
    "num_val = len(val_img_names)"
   ]
  },
  {
   "cell_type": "code",
   "execution_count": 3,
   "metadata": {
    "collapsed": false
   },
   "outputs": [],
   "source": [
    "val_lmdb_fn = '/home/zyan3/local/data/imagenet/ilsvrc12/ilsvrc12_val_encoded_lmdb'\n",
    "val_lmdb = lmdb.open(val_lmdb_fn)\n",
    "txn=val_lmdb.begin()"
   ]
  },
  {
   "cell_type": "code",
   "execution_count": 6,
   "metadata": {
    "collapsed": false
   },
   "outputs": [
    {
     "name": "stdout",
     "output_type": "stream",
     "text": [
      "max_height 0 max_width 0 max_pixel_num:0 max_aspect_ratio:0.0000\n"
     ]
    }
   ],
   "source": [
    "short_side_size = 384\n",
    "max_height, max_width, max_pixel_num, max_aspect_ratio = 0, 0, 0, 0\n",
    "for i in range(num_val):\n",
    "    key = '%s' %(val_img_names[i])\n",
    "    string_data=txn.get(key)\n",
    "    datum = caffe_pb2.Datum()\n",
    "    datum.ParseFromString(string_data)\n",
    "    if max_height < datum.height:\n",
    "        max_height = datum.height\n",
    "    if max_width < datum.width:\n",
    "        max_width = datum.width\n",
    "    if max_pixel_num < (datum.height * datum.width):\n",
    "        max_pixel_num = (datum.height * datum.width)\n",
    "        print 'max_pixel_num %d' % max_pixel_num\n",
    "    \n",
    "#     height, width =0, 0\n",
    "#     if i%500==0:\n",
    "#         print 'datum height %d width %d' % (datum.height,datum.width)\n",
    "#     if datum.height >= datum.width:\n",
    "#         width = short_side_size\n",
    "#         height = math.ceil((float(datum.height)/float(datum.width))*short_side_size)\n",
    "#         max_aspect_ratio=max(max_aspect_ratio,float(datum.height)/float(datum.width))\n",
    "#     else:\n",
    "#         height = short_side_size\n",
    "#         width = math.ceil((float(datum.width)/float(datum.height))*short_side_size)\n",
    "#         max_aspect_ratio=max(max_aspect_ratio,float(datum.width)/float(datum.height))\n",
    "#     max_height=max(max_height, height)\n",
    "#     max_width=max(max_width, width)\n",
    "#     max_pixel_num=max(max_pixel_num,height*width)\n",
    "print 'max_height %d max_width %d max_pixel_num:%d max_aspect_ratio:%5.4f' % \\\n",
    "(max_height,max_width,max_pixel_num,max_aspect_ratio)"
   ]
  }
 ],
 "metadata": {
  "kernelspec": {
   "display_name": "Python 2",
   "language": "python",
   "name": "python2"
  },
  "language_info": {
   "codemirror_mode": {
    "name": "ipython",
    "version": 2
   },
   "file_extension": ".py",
   "mimetype": "text/x-python",
   "name": "python",
   "nbconvert_exporter": "python",
   "pygments_lexer": "ipython2",
   "version": "2.7.6"
  }
 },
 "nbformat": 4,
 "nbformat_minor": 0
}
