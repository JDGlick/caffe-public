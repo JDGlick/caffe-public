{
 "metadata": {
  "name": "",
  "signature": "sha256:7dda77a563410983046bca3f75a9bf5aa57014a1e2e6725cb696a744c8f08a0b"
 },
 "nbformat": 3,
 "nbformat_minor": 0,
 "worksheets": [
  {
   "cells": [
    {
     "cell_type": "code",
     "collapsed": false,
     "input": [
      "import sys\n",
      "import os\n",
      "import numpy as np\n",
      "import matplotlib.pyplot as plt\n",
      "%matplotlib inline\n",
      "import leveldb\n",
      "import lmdb\n",
      "import time\n",
      "import math\n",
      "\n",
      "caffe_root = os.environ['CAFFE_PROJ_DIR']\n",
      "print 'caffe_root ',caffe_root\n",
      "sys.path.insert(0, caffe_root + 'python')\n",
      "sys.path.append(caffe_root + 'python/util')\n",
      "import caffe\n",
      "from util_func import *\n",
      "\n",
      "sys.path.append(caffe_root + 'python/caffe/proto')\n",
      "import caffe_pb2\n",
      "\n",
      "example_dir=caffe_root+'examples/imagenet/'\n",
      "data_dir=caffe_root+'data/ilsvrc12/'\n",
      "print 'example_dir ',example_dir\n",
      "print 'data_dir ',data_dir"
     ],
     "language": "python",
     "metadata": {},
     "outputs": [
      {
       "output_type": "stream",
       "stream": "stdout",
       "text": [
        "caffe_root  /home/zyan3/proj/caffe_private_hdcnn/\n",
        "example_dir  /home/zyan3/proj/caffe_private_hdcnn/examples/imagenet/\n",
        "data_dir  /home/zyan3/proj/caffe_private_hdcnn/data/ilsvrc12/\n"
       ]
      }
     ],
     "prompt_number": 4
    },
    {
     "cell_type": "code",
     "collapsed": false,
     "input": [
      "val_img_list_fn = data_dir + 'val.txt'\n",
      "val_img_names, val_img_labels=read_val_image_list(val_img_list_fn)\n",
      "num_val = len(val_img_names)"
     ],
     "language": "python",
     "metadata": {},
     "outputs": [
      {
       "output_type": "stream",
       "stream": "stdout",
       "text": [
        "50000 validation images \n"
       ]
      }
     ],
     "prompt_number": 3
    },
    {
     "cell_type": "code",
     "collapsed": false,
     "input": [
      "val_lmdb_fn = '/home/zyan3/local/data/imagenet/ilsvrc12/ilsvrc12_val_short_384_lmdb'\n",
      "val_lmdb = lmdb.open(val_lmdb_fn)\n",
      "txn=val_lmdb.begin()"
     ],
     "language": "python",
     "metadata": {},
     "outputs": [],
     "prompt_number": 7
    },
    {
     "cell_type": "code",
     "collapsed": false,
     "input": [
      "short_side_size = 384\n",
      "max_height, max_width = 0, 0\n",
      "for i in range(100):\n",
      "    key = '%08d_%s' %(i,val_img_names[i])\n",
      "    string_data=txn.get(key)\n",
      "    datum = caffe_pb2.Datum()\n",
      "    datum.ParseFromString(string_data)\n",
      "    height, width =0, 0\n",
      "    if i%10==0:\n",
      "        print 'datum height %d width %d' % (datum.height,datum.width)\n",
      "    if datum.height >= datum.width:\n",
      "        width = short_side_size\n",
      "        height = math.ceil((float(datum.height)/float(datum.width))*short_side_size)\n",
      "    else:\n",
      "        height = short_side_size\n",
      "        width = math.ceil((float(datum.width)/float(datum.height))*short_side_size)\n",
      "    max_height=max(max_height, height)\n",
      "    max_width=max(max_width, width)\n",
      "print 'max_height %d max_width %d' % (max_height,max_width)"
     ],
     "language": "python",
     "metadata": {},
     "outputs": [
      {
       "output_type": "stream",
       "stream": "stdout",
       "text": [
        "datum height 384 width 512\n",
        "datum height 384 width 480\n",
        "datum height 512 width 384\n",
        "datum height 384 width 451\n",
        "datum height 511 width 384\n",
        "datum height 483 width 384\n",
        "datum height 512 width 384\n",
        "datum height 384 width 512\n",
        "datum height 384 width 512\n",
        "datum height 384 width 575\n",
        "max_height 582 max_width 1084\n"
       ]
      }
     ],
     "prompt_number": 9
    }
   ],
   "metadata": {}
  }
 ]
}