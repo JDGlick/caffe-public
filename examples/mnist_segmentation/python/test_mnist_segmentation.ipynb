{
 "cells": [
  {
   "cell_type": "code",
   "execution_count": 11,
   "metadata": {
    "collapsed": false
   },
   "outputs": [],
   "source": [
    "import numpy as np\n",
    "import matplotlib.pyplot as plt\n",
    "%matplotlib inline\n",
    "\n",
    "# Make sure that caffe is on the python path:\n",
    "caffe_root = '/usr/local/google/home/zyan/proj/caffe_private_recurrent_2d/'  # this file is expected to be in {caffe_root}/examples\n",
    "local_caffe_root='/usr/local/google/home/zyan/proj/caffe/'\n",
    "import sys\n",
    "sys.path.insert(0, caffe_root + 'python')\n",
    "\n",
    "import caffe\n",
    "\n",
    "# Set the right path to your model definition file, pretrained model weights,\n",
    "# and the image you would like to classify.\n",
    "model_name = 'grid_1_lay_HP_nolbw_nopeep_seg_lr5e-2'\n",
    "iteration = 18000\n",
    "MODEL_FILE = local_caffe_root+\\\n",
    "'google_extra/examples/mnist_segmentation/grid_1_lay_HP_nolbw_nopeep_seg_deploy.prototxt'\n",
    "PRETRAINED = local_caffe_root+\\\n",
    "'google_extra/examples/mnist_segmentation/grid_lstm_3d_1_lay/%s_iter_%d.caffemodel'%(model_name, iteration)\n",
    "\n",
    "import os\n",
    "from struct import *\n",
    "import matplotlib.pyplot as plt\n",
    "\n",
    "plt.rcParams['figure.figsize'] = (10, 10)\n",
    "plt.rcParams['image.interpolation'] = 'nea/usr/local/google/home/zyan/proj/cafferest'\n",
    "# plt.rcParams['image.cmap'] = 'gray'\n",
    "\n",
    "caffe.set_mode_cpu()\n",
    "net = caffe.Classifier(MODEL_FILE, PRETRAINED, caffe.TEST)\n"
   ]
  },
  {
   "cell_type": "code",
   "execution_count": 12,
   "metadata": {
    "collapsed": false
   },
   "outputs": [
    {
     "data": {
      "text/plain": [
       "[('data', (100, 1, 28, 28)),\n",
       " ('data_input_0_split_0', (100, 1, 28, 28)),\n",
       " ('data_input_0_split_1', (100, 1, 28, 28)),\n",
       " ('conv1_state', (100, 32, 28, 28)),\n",
       " ('conv1_state_dimension_transpose', (28, 28, 100, 32)),\n",
       " ('conv1_hidden', (100, 32, 28, 28)),\n",
       " ('conv1_hidden_dimension_transpose', (28, 28, 100, 32)),\n",
       " ('grid_lstm_3d_1_posy_posx_state', (28, 28, 100, 32)),\n",
       " ('grid_lstm_3d_1_posy_posx_hidden', (28, 28, 100, 32)),\n",
       " ('grid_lstm_3d_1_posy_negx_state', (28, 28, 100, 32)),\n",
       " ('grid_lstm_3d_1_posy_negx_hidden', (28, 28, 100, 32)),\n",
       " ('grid_lstm_3d_1_negy_posx_state', (28, 28, 100, 32)),\n",
       " ('grid_lstm_3d_1_negy_posx_hidden', (28, 28, 100, 32)),\n",
       " ('grid_lstm_3d_1_negy_negx_state', (28, 28, 100, 32)),\n",
       " ('grid_lstm_3d_1_negy_negx_hidden', (28, 28, 100, 32)),\n",
       " ('grid_lstm_3d_1_negy_negx_state_dimension_transpose', (100, 32, 28, 28)),\n",
       " ('grid_lstm_3d_1_negy_negx_hidden_dimension_transpose', (100, 32, 28, 28)),\n",
       " ('concat_state_hidden', (100, 64, 28, 28)),\n",
       " ('conv1', (100, 11, 28, 28)),\n",
       " ('prob', (100, 11, 28, 28))]"
      ]
     },
     "execution_count": 12,
     "metadata": {},
     "output_type": "execute_result"
    }
   ],
   "source": [
    "[ (layer, net.blobs[layer].data.shape) for layer in net.blobs]"
   ]
  },
  {
   "cell_type": "code",
   "execution_count": 3,
   "metadata": {
    "collapsed": false
   },
   "outputs": [
    {
     "name": "stdout",
     "output_type": "stream",
     "text": [
      "num_img 10000\n",
      "num_row 28 num_col 28\n"
     ]
    }
   ],
   "source": [
    "test_img_data_file='/usr/local/google/home/zyan/data/mnist/t10k-images.idx3-ubyte'  \n",
    "with open(test_img_data_file,'rb') as f:\n",
    "    magic_num_str = f.read(4)\n",
    "    magic_num = (unpack('>i',magic_num_str))[0]\n",
    "    num_img_str = f.read(4)\n",
    "    num_img = (unpack('>i',num_img_str))[0]\n",
    "    num_row_str = f.read(4)\n",
    "    num_row = (unpack('>i',num_row_str))[0]\n",
    "    num_col_str = f.read(4)\n",
    "    num_col = (unpack('>i',num_col_str))[0]\n",
    "    pix_byte = f.read(num_img*num_row*num_col)\n",
    "print 'num_img %d' % num_img\n",
    "print 'num_row %d num_col %d' % (num_row, num_col)"
   ]
  },
  {
   "cell_type": "code",
   "execution_count": 32,
   "metadata": {
    "collapsed": false
   },
   "outputs": [
    {
     "name": "stdout",
     "output_type": "stream",
     "text": [
      "num_img 10000\n"
     ]
    }
   ],
   "source": [
    "test_img_label_file = '/usr/local/google/home/zyan/data/mnist/t10k-labels.idx1-ubyte'\n",
    "with open(test_img_label_file,'rb') as f:\n",
    "    magic_num_str = f.read(4)\n",
    "    magic_num = (unpack('>i',magic_num_str))[0]\n",
    "    num_img_str = f.read(4)\n",
    "    num_img = (unpack('>i',num_img_str))[0]\n",
    "    print 'num_img %d' % num_img\n",
    "    label_byte = f.read(num_img)\n",
    "    test_gt_labels = np.zeros((num_img),dtype=np.int32)\n",
    "    for i in range(num_img):\n",
    "        test_gt_labels[i] = (unpack('>B',label_byte[i]))[0]"
   ]
  },
  {
   "cell_type": "code",
   "execution_count": 4,
   "metadata": {
    "collapsed": false
   },
   "outputs": [],
   "source": [
    "img_data=np.zeros((num_img, num_row, num_col, 3), dtype=np.uint8)\n",
    "net_in_data=np.zeros((num_img, 1, num_row, num_col), dtype=np.single)\n",
    "pix_c=0\n",
    "for n in range(num_img):\n",
    "    for h in range(num_row):\n",
    "        for w in range(num_col):\n",
    "            pix_val=(unpack('>B',pix_byte[pix_c]))[0]\n",
    "            img_data[n,h,w,:]=pix_val\n",
    "            net_in_data[n,0,h,w]=pix_val\n",
    "            pix_c+=1"
   ]
  },
  {
   "cell_type": "code",
   "execution_count": 5,
   "metadata": {
    "collapsed": true
   },
   "outputs": [],
   "source": [
    "'''transform the net input data'''\n",
    "data_mean = 128\n",
    "scale = 0.0078125\n",
    "net_in_data = (net_in_data - data_mean) * scale"
   ]
  },
  {
   "cell_type": "code",
   "execution_count": 6,
   "metadata": {
    "collapsed": false
   },
   "outputs": [
    {
     "name": "stdout",
     "output_type": "stream",
     "text": [
      "100\n",
      "batch 0 out of 100\n",
      "batch 10 out of 100\n",
      "batch 20 out of 100\n",
      "batch 30 out of 100\n",
      "batch 40 out of 100\n",
      "batch 50 out of 100\n",
      "batch 60 out of 100\n",
      "batch 70 out of 100\n",
      "batch 80 out of 100\n",
      "batch 90 out of 100\n"
     ]
    }
   ],
   "source": [
    "img_h,img_w=net.blobs['data'].data.shape[2],net.blobs['data'].data.shape[3]\n",
    "batch_size = net.blobs['data'].data.shape[0]\n",
    "label_num = net.blobs['prob'].data.shape[1]\n",
    "\n",
    "pred_label = np.zeros((num_img,img_h,img_w))\n",
    "\n",
    "print batch_size\n",
    "for batch in range(num_img/batch_size):\n",
    "    if batch % 10 == 0:\n",
    "        print 'batch %d out of %d' % (batch, num_img/batch_size)\n",
    "    start,end=batch*batch_size,(batch+1)*batch_size\n",
    "    net.blobs['data'].data[...] = net_in_data[start:end,:,:,:]\n",
    "    out = net.forward()\n",
    "    pred_label[start:end,:,:]=np.argmax(out['prob'],axis=1)"
   ]
  },
  {
   "cell_type": "code",
   "execution_count": 36,
   "metadata": {
    "collapsed": false
   },
   "outputs": [
    {
     "name": "stdout",
     "output_type": "stream",
     "text": [
      "digit classification error : 1.25  \n"
     ]
    }
   ],
   "source": [
    "'''classify the entire image using majority pixel voting'''\n",
    "image_classify_correct = 0\n",
    "for i in range(num_img):\n",
    "    hist,bin_edges=np.histogram(pred_label[i,:,:].flat, bins=np.arange(12))\n",
    "    if np.argmax(hist[:10]) == test_gt_labels[i]:\n",
    "        image_classify_correct += 1.0\n",
    "\n",
    "error_rate = (1.0 - (image_classify_correct / num_img)) * 100.0\n",
    "print 'digit classification error : %4.2f  ' % error_rate"
   ]
  },
  {
   "cell_type": "code",
   "execution_count": 13,
   "metadata": {
    "collapsed": false
   },
   "outputs": [],
   "source": [
    "'''visualize the segmentation results'''\n",
    "save_dir = local_caffe_root+'google_extra/examples/mnist_segmentation/grid_lstm_3d_1_lay/'+model_name+'_results/'\n",
    "if not os.path.exists(save_dir):\n",
    "    os.mkdir(save_dir)\n",
    "    \n",
    "for batch in range(num_img/50):\n",
    "# for batch in range(1):\n",
    "    count = 0\n",
    "    fig, axes = plt.subplots(nrows=10, ncols=10)\n",
    "    \n",
    "    for ax in axes.flat:\n",
    "        img_id = batch * 50 + count/2\n",
    "        if count % 2== 0:\n",
    "            img_data_for_show = img_data[img_id, :, :, 0]\n",
    "            im = ax.imshow(img_data_for_show,cmap='gray', interpolation='nearest')\n",
    "        else:\n",
    "            loc_pred_label = np.copy(pred_label[img_id,:,:])\n",
    "            '''assign a corner pixel with label 0 so that the colormap can\n",
    "            have full label range [0,10]'''\n",
    "            loc_pred_label[0,0]=0\n",
    "            im = ax.imshow(loc_pred_label, cmap='jet',interpolation='nearest')\n",
    "        ax.set_axis_off()\n",
    "        count += 1\n",
    "    \n",
    "    fig.subplots_adjust(right=0.85)\n",
    "    cbar_ax = fig.add_axes([0.90, 0.15, 0.03, 0.7])\n",
    "    cbar=fig.colorbar(im,cax=cbar_ax,ticks=np.arange(label_num))\n",
    "    for t in cbar.ax.get_yticklabels():\n",
    "        t.set_fontsize(15)   \n",
    "        \n",
    "        \n",
    "    fig.suptitle('batch %d'%(batch),fontsize=15)\n",
    "            \n",
    "    plt.savefig(save_dir+'batch_%d.jpg'%batch)\n",
    "    plt.close()    "
   ]
  },
  {
   "cell_type": "code",
   "execution_count": null,
   "metadata": {
    "collapsed": false
   },
   "outputs": [],
   "source": [
    "'''study a single test case'''\n",
    "img_id = 67\n",
    "plt.imshow(img_data[img_id,:,:,:])"
   ]
  },
  {
   "cell_type": "code",
   "execution_count": null,
   "metadata": {
    "collapsed": true
   },
   "outputs": [],
   "source": [
    "net.blobs['data'].data[0,:,:,:] = net_in_data[img_id,:,:,:]\n",
    "out = net.forward()\n",
    "pred_prob=out['prob'][0,:,:,:]\n",
    "pred_label=np.argmax(out['prob'][0,:,:,:],axis=0)\n",
    "plt.imshow(pred_label, cmap='jet')\n",
    "plt.axis('off')\n",
    "cbar=plt.colorbar(ticks=np.arange(label_num))"
   ]
  }
 ],
 "metadata": {
  "kernelspec": {
   "display_name": "Python 2",
   "language": "python",
   "name": "python2"
  },
  "language_info": {
   "codemirror_mode": {
    "name": "ipython",
    "version": 2
   },
   "file_extension": ".py",
   "mimetype": "text/x-python",
   "name": "python",
   "nbconvert_exporter": "python",
   "pygments_lexer": "ipython2",
   "version": "2.7.6"
  }
 },
 "nbformat": 4,
 "nbformat_minor": 0
}
