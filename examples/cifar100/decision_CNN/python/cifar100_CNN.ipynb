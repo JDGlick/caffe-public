{
 "metadata": {
  "kernelspec": {
   "codemirror_mode": {
    "name": "ipython",
    "version": 2
   },
   "display_name": "IPython (Python 2)",
   "language": "python",
   "name": "python2"
  },
  "name": "",
  "signature": "sha256:058730ece23aa01f71746e7cdb1864c75dc2b9a18d1256c4d6a149e52a2ae94f"
 },
 "nbformat": 3,
 "nbformat_minor": 0,
 "worksheets": [
  {
   "cells": [
    {
     "cell_type": "markdown",
     "metadata": {},
     "source": [
      "Copyright Zhicheng Yan@eBay, Aug 5, 2014"
     ]
    },
    {
     "cell_type": "code",
     "collapsed": false,
     "input": [
      "import os\n",
      "import numpy as np\n",
      "import numpy.random as rd\n",
      "import matplotlib.pyplot as plt\n",
      "%matplotlib inline\n",
      "import scipy.linalg\n",
      "from sklearn.cluster import k_means\n",
      "from sklearn.cluster import *\n",
      "import copy\n",
      "\n",
      "# Make sure that caffe is on the python path:\n",
      "# change path caffe_root as needed\n",
      "caffe_root = '/media/zyan3/label/Dropbox/private/proj/caffe_private_copy/caffe_private/'\n",
      "import sys\n",
      "sys.path.append(caffe_root + 'python')\n",
      "sys.path.append(caffe_root + 'python/util')\n",
      "from util_func import *\n",
      "\n",
      "import caffe\n",
      "\n",
      "plt.rcParams['figure.figsize'] = (5, 5)\n",
      "plt.rcParams['image.interpolation'] = 'nearest'\n",
      "plt.rcParams['image.cmap'] = 'gray'"
     ],
     "language": "python",
     "metadata": {},
     "outputs": [],
     "prompt_number": 1
    },
    {
     "cell_type": "code",
     "collapsed": false,
     "input": [
      "num_val, num_class = 10000, 100"
     ],
     "language": "python",
     "metadata": {},
     "outputs": [],
     "prompt_number": 2
    },
    {
     "cell_type": "code",
     "collapsed": false,
     "input": [
      "'''\n",
      "read 100-class probabilities for testing images\n",
      "'''\n",
      "n_jobs=4\n",
      "val_prob_ftr_dir = caffe_root + 'examples/cifar100/decision_CNN/CNN_float_crop_full8/train_val/_prob'\n",
      "val_prob = Parallel(n_jobs=n_jobs)\\\n",
      "(delayed(read_layer_ftr)(val_prob_ftr_dir, idx) for idx in range(num_val))\n",
      "val_prob=np.asarray(val_prob)"
     ],
     "language": "python",
     "metadata": {},
     "outputs": [],
     "prompt_number": 3
    },
    {
     "cell_type": "code",
     "collapsed": false,
     "input": [
      "'''load fine label names'''\n",
      "label_names = []\n",
      "f=open(caffe_root + 'data/cifar100/fine_label_names.txt')\n",
      "for line in f:\n",
      "    label_names += [line[:-1]]\n",
      "f.close()"
     ],
     "language": "python",
     "metadata": {},
     "outputs": [],
     "prompt_number": 4
    },
    {
     "cell_type": "code",
     "collapsed": false,
     "input": [
      "'''load (name, label) for testing images'''\n",
      "train_img_list= caffe_root + 'data/cifar100/train_train.txt'\n",
      "val_img_list = caffe_root + 'data/cifar100/train_val.txt'\n",
      "train_img_names,train_img_labels=read_val_image_list(train_img_list)\n",
      "val_img_names,val_img_labels=read_val_image_list(val_img_list)\n",
      "train_img_labels,val_img_labels=np.asarray(train_img_labels),np.asarray(val_img_labels)\n",
      "class_num = np.max(train_img_labels) + 1\n",
      "print '%d classes' % class_num"
     ],
     "language": "python",
     "metadata": {},
     "outputs": [
      {
       "output_type": "stream",
       "stream": "stdout",
       "text": [
        "40000 validation images \n",
        "10000 validation images \n",
        "100 classes\n"
       ]
      }
     ],
     "prompt_number": 5
    },
    {
     "cell_type": "code",
     "collapsed": false,
     "input": [
      "pred_labels_val = np.zeros((num_val),dtype=np.int32)\n",
      "for i in range(num_val):\n",
      "    idx=np.argsort(val_prob[i,:])[::-1]\n",
      "    pred_labels_val[i] = idx[0]\n",
      "correct_idx = np.nonzero((val_img_labels - pred_labels_val)==0)[0]\n",
      "accuracy = len(correct_idx) / np.float32(num_val)\n",
      "print 'accuracy %4.3f' % accuracy"
     ],
     "language": "python",
     "metadata": {},
     "outputs": [
      {
       "output_type": "stream",
       "stream": "stdout",
       "text": [
        "accuracy 0.525\n"
       ]
      }
     ],
     "prompt_number": 6
    },
    {
     "cell_type": "code",
     "collapsed": false,
     "input": [
      "uni_label = np.unique(val_img_labels)\n",
      "cls_num = len(uni_label)\n",
      "'''plot class-wise accuracy'''\n",
      "cls_accu = np.zeros((cls_num))\n",
      "for i in range(len(uni_label)):\n",
      "    idx = np.nonzero(val_img_labels==uni_label[i])[0]\n",
      "    pred_label_ = pred_labels_val[idx]\n",
      "    val_img_labels_ = val_img_labels[idx]\n",
      "    idx2 = np.nonzero(pred_label_ == val_img_labels_)[0]\n",
      "    cls_accu[i] = len(idx2) / np.float32(len(val_img_labels_))\n",
      "plt.figure()\n",
      "plt.barh([i+0.5 for i in range(cls_num)],cls_accu,align='center')"
     ],
     "language": "python",
     "metadata": {},
     "outputs": [
      {
       "metadata": {},
       "output_type": "pyout",
       "prompt_number": 7,
       "text": [
        "<Container object of 100 artists>"
       ]
      },
      {
       "metadata": {},
       "output_type": "display_data",
       "png": "[encoded data removed]",
       "text": [
        "<matplotlib.figure.Figure at 0x7f440b108990>"
       ]
      }
     ],
     "prompt_number": 7
    },
    {
     "cell_type": "code",
     "collapsed": false,
     "input": [
      "'''plot confusion matrix'''\n",
      "confusion_mat_power = 0.95\n",
      "\n",
      "confusion_mat = np.zeros((num_class,num_class))\n",
      "for i in range(num_class):\n",
      "    idx=np.nonzero(val_img_labels==i)[0]\n",
      "    pred_label_ = pred_labels_val[idx]\n",
      "    confusion_mat[i,:] = np.float64(np.bincount(pred_label_,minlength=num_class))/np.float64(len(idx))  \n",
      "    \n",
      "confusion_mat = np.power(confusion_mat, confusion_mat_power)\n",
      "\n",
      "plt.figure()\n",
      "plt.title('confusion matrix on validation set')\n",
      "plt.imshow(confusion_mat)\n",
      "\n",
      "dist_mat = 1.0 - confusion_mat\n",
      "'''set diagonal elements to 0'''\n",
      "dist_mat[range(num_class),range(num_class)]=0\n",
      "dist_mat = 0.5 * (dist_mat + dist_mat.T)\n",
      "plt.figure()\n",
      "plt.title('distance matrix on validation set')\n",
      "plt.imshow(dist_mat)"
     ],
     "language": "python",
     "metadata": {},
     "outputs": [
      {
       "metadata": {},
       "output_type": "pyout",
       "prompt_number": 8,
       "text": [
        "<matplotlib.image.AxesImage at 0x7f440bf55b90>"
       ]
      },
      {
       "metadata": {},
       "output_type": "display_data",
       "png": "[encoded data removed]",
       "text": [
        "<matplotlib.figure.Figure at 0x7f440b108d50>"
       ]
      },
      {
       "metadata": {},
       "output_type": "display_data",
       "png": "[encoded data removed]",
       "text": [
        "<matplotlib.figure.Figure at 0x7f440bf55190>"
       ]
      }
     ],
     "prompt_number": 8
    },
    {
     "cell_type": "code",
     "collapsed": false,
     "input": [
      "'''Laplacian eigenmap dimensionality reduction\n",
      "construct adjacency graph W (symmetric) using k-NN'''\n",
      "W=np.zeros((num_class,num_class))\n",
      "''' 5 clusteres affinity'''\n",
      "k_nn, t, dim = 3, 0.99, 1\n",
      "\n",
      "for i in range(num_class):\n",
      "    idx=np.argsort(dist_mat[i,:])[1:k_nn+1]\n",
      "    W[i,idx]=np.exp(-dist_mat[i,idx] / t)\n",
      "    W[idx,i]=W[i,idx]\n",
      "D=np.zeros(W.shape)\n",
      "for i in range(num_class):\n",
      "    D[i,i]=np.sum(W[i,:])\n",
      "L=D-W\n",
      "eig_val,eig_vec=scipy.linalg.eig(L,D)\n",
      "ftr=eig_vec[:,1:dim+1]\n",
      "# print eig_vec[:,0] # the 1st eigenvector should be all ones\n",
      "eigval_cumsum = np.cumsum(np.real(eig_val))\n",
      "plt.plot(eigval_cumsum)"
     ],
     "language": "python",
     "metadata": {},
     "outputs": [
      {
       "metadata": {},
       "output_type": "pyout",
       "prompt_number": 9,
       "text": [
        "[<matplotlib.lines.Line2D at 0x7f440bec3290>]"
       ]
      },
      {
       "metadata": {},
       "output_type": "display_data",
       "png": "[encoded data removed]",
       "text": [
        "<matplotlib.figure.Figure at 0x7f440b8d2c50>"
       ]
      }
     ],
     "prompt_number": 9
    },
    {
     "cell_type": "code",
     "collapsed": false,
     "input": [
      "'''affinity propagation clustering'''\n",
      "if 1:\n",
      "    ''' 5 clusters '''\n",
      "    affinity_propagation_cluster = AffinityPropagation(damping=0.99, max_iter=50000, convergence_iter=100, copy=True) \n",
      "    \n",
      "    cluster_labels = affinity_propagation_cluster.fit_predict(ftr)\n",
      "    unique_cluster_label = np.unique(cluster_labels)\n",
      "    n_cluster = unique_cluster_label.shape[0]\n",
      "    cluster_members=[None]*n_cluster\n",
      "\n",
      "    print 'n_cluster: %d' % n_cluster\n",
      "    for i in range(n_cluster):\n",
      "        idx = np.nonzero(cluster_labels == unique_cluster_label[i])[0]\n",
      "        cluster_members[i]=idx\n",
      "        print 'cluster %d size %d ' % (i, len(idx))\n",
      "        for j in range(len(idx)):\n",
      "            print '%s,' % label_names[idx[j]],\n",
      "        print ' '"
     ],
     "language": "python",
     "metadata": {},
     "outputs": [
      {
       "output_type": "stream",
       "stream": "stdout",
       "text": [
        "n_cluster: 5\n",
        "cluster 0 size 19 \n",
        "bed, bottle, bowl, can, chair, clock, couch, cup, lamp, maple_tree, oak_tree, pine_tree, plate, rocket, skyscraper, telephone, television, wardrobe, willow_tree,  \n",
        "cluster 1 size 5 \n",
        "baby, boy, girl, man, woman,  \n",
        "cluster 2 size 31 \n",
        "bear, beaver, camel, cattle, chimpanzee, dolphin, elephant, flatfish, fox, hamster, kangaroo, leopard, lion, mouse, mushroom, otter, porcupine, possum, rabbit, raccoon, ray, seal, shark, shrew, skunk, snail, squirrel, tiger, turtle, whale, wolf,  \n",
        "cluster 3 size 24 \n",
        "apple, aquarium_fish, bee, beetle, butterfly, caterpillar, cloud, cockroach, crab, crocodile, dinosaur, lizard, lobster, orange, orchid, pear, poppy, rose, snake, spider, sunflower, sweet_pepper, trout, tulip,  \n",
        "cluster 4 size 21 \n",
        "bicycle, bridge, bus, castle, forest, house, keyboard, lawn_mower, motorcycle, mountain, palm_tree, pickup_truck, plain, road, sea, streetcar, table, tank, tractor, train, worm,  \n"
       ]
      }
     ],
     "prompt_number": 10
    },
    {
     "cell_type": "code",
     "collapsed": false,
     "input": [
      "label_2_clusterid = np.zeros((class_num))\n",
      "for i in range(n_cluster):\n",
      "    print 'cluster %d size %d' %(i, len(cluster_members[i]))\n",
      "    for j in range(len(cluster_members[i])):\n",
      "        label_2_clusterid[cluster_members[i][j]] = i\n",
      "\n",
      "label_2_clusterid_file = caffe_root + 'data/cifar100/label_2_clusterid_%dclusters_CNN.txt' % (n_cluster)\n",
      "\n",
      "f=open(label_2_clusterid_file,'w')\n",
      "for i in range(class_num):\n",
      "    f.write('%d\\n' % label_2_clusterid[i])\n",
      "f.close()"
     ],
     "language": "python",
     "metadata": {},
     "outputs": [
      {
       "output_type": "stream",
       "stream": "stdout",
       "text": [
        "cluster 0 size 19\n",
        "cluster 1 size 5\n",
        "cluster 2 size 31\n",
        "cluster 3 size 24\n",
        "cluster 4 size 21\n"
       ]
      }
     ],
     "prompt_number": 11
    },
    {
     "cell_type": "code",
     "collapsed": false,
     "input": [
      "'''for each cluster, write down the labels it owns'''\n",
      "data_dir = caffe_root+'data/cifar100/cluster_confusion_mat_%dclusters_CNN/' % (n_cluster)\n",
      "if not os.path.exists(data_dir):\n",
      "    os.mkdir(data_dir)\n",
      "    \n",
      "for i in range(n_cluster):\n",
      "    f = open(data_dir + 'cluster%02d_labels.txt' % i,'w')\n",
      "    for j in range(len(cluster_members[i])):\n",
      "        f.write('%d\\n' % cluster_members[i][j])\n",
      "    f.close()"
     ],
     "language": "python",
     "metadata": {},
     "outputs": [],
     "prompt_number": 12
    },
    {
     "cell_type": "code",
     "collapsed": false,
     "input": [],
     "language": "python",
     "metadata": {},
     "outputs": []
    }
   ],
   "metadata": {}
  }
 ]
}