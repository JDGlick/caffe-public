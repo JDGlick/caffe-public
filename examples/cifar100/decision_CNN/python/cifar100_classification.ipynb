{
 "metadata": {
  "kernelspec": {
   "codemirror_mode": {
    "name": "ipython",
    "version": 2
   },
   "display_name": "IPython (Python 2)",
   "language": "python",
   "name": "python2"
  },
  "name": "",
  "signature": "sha256:0d4f5efbc726bb2091fc18e00037658dabaa20e2a384e25c18d960ca184363e8"
 },
 "nbformat": 3,
 "nbformat_minor": 0,
 "worksheets": [
  {
   "cells": [
    {
     "cell_type": "code",
     "collapsed": false,
     "input": [
      "import sys\n",
      "import os\n",
      "import numpy as np\n",
      "import matplotlib.pyplot as plt\n",
      "%matplotlib inline\n",
      "import leveldb\n",
      "import time\n",
      "\n",
      "dataset = 'cifar100'\n",
      "\n",
      "''' model type could be {HDCNN_CNN,HDCNN_NIN}'''\n",
      "model_type = 'HDCNN_NIN'\n",
      "\n",
      "caffe_root = r'/media/zyan3/label/Dropbox/private/proj/caffe_private/'\n",
      "sys.path.append(caffe_root + 'python')\n",
      "import caffe\n",
      "sys.path.append(caffe_root + 'python/caffe/proto')\n",
      "import caffe_pb2\n",
      "\n",
      "# Set the right path to your model definition file, pretrained model weights,\n",
      "# and the image you would like to classify.\n",
      "\n",
      "float_data_format = True\n",
      "\n",
      "if model_type == 'HDCNN_CNN':\n",
      "    MODEL_FILE = caffe_root + \\\n",
      "    'examples/cifar100/cifar100_CNN_float_crop_full8_gating_5clusters_v2_deploy.prototxt'\n",
      "    PRETRAINED = caffe_root + \\\n",
      "    'examples/cifar100/cifar100_CNN_float_crop_full8_gating_5clusters_v2_finetune_from_CNN_float_crop_full8_iter_40000'\n",
      "    input_scale = 255*2500\n",
      "elif model_type == 'HDCNN_NIN':\n",
      "    MODEL_FILE = caffe_root + \\\n",
      "    'examples/cifar100/cifar100_NIN_float_crop_gating_5clusters_v3.5_deploy.prototxt'\n",
      "    PRETRAINED = caffe_root + \\\n",
      "    'examples/cifar100/cifar100_NIN_float_crop_gating_5clusters_v3.5_finetune_from_NIN_float_crop_fulllabel_complete_iter_25000'\n",
      "    input_scale=255\n",
      "else:\n",
      "    print 'Error! Unknown model type: %s' % model_type"
     ],
     "language": "python",
     "metadata": {},
     "outputs": [],
     "prompt_number": 1
    },
    {
     "cell_type": "code",
     "collapsed": false,
     "input": [
      "if dataset == 'cifar10':\n",
      "    cls_name_f = open(caffe_root + 'data/cifar10/label_names.txt')\n",
      "    cls_name=[]\n",
      "    for l in cls_name_f:\n",
      "        cls_name += [l[:-1]]\n",
      "    cls_name_f.close()    \n",
      "else:\n",
      "    cls_name_f = open(caffe_root + 'data/cifar100/fine_label_names.txt')\n",
      "    cls_name=[]\n",
      "    for l in cls_name_f:\n",
      "        cls_name += [l[:-1]]\n",
      "    cls_name_f.close()"
     ],
     "language": "python",
     "metadata": {},
     "outputs": [],
     "prompt_number": 2
    },
    {
     "cell_type": "code",
     "collapsed": false,
     "input": [
      "if float_data_format:\n",
      "    mean_binary_file = caffe_root + 'examples/%s/float_mean.binaryproto' % dataset\n",
      "    mean_npy_file = caffe_root + 'examples/%s/float_mean.npy' % dataset\n",
      "else:\n",
      "    mean_binary_file = caffe_root + 'examples/%s/mean.binaryproto' % dataset\n",
      "    mean_npy_file = caffe_root + 'examples/%s/mean.npy' % dataset\n",
      "cifar100_mean_blob=caffe_pb2.BlobProto()\n",
      "f=open(mean_binary_file,'rb')\n",
      "f.seek(0, 2)\n",
      "size = f.tell()\n",
      "f.seek(0, 0)\n",
      "data=f.read(size)\n",
      "cifar100_mean_blob.ParseFromString(data)\n",
      "f.close()\n",
      "cifar100_mean = np.zeros((cifar100_mean_blob.channels,cifar100_mean_blob.height,cifar100_mean_blob.width))\n",
      "ptr=0\n",
      "for i in range(cifar100_mean_blob.channels):\n",
      "    for j in range(cifar100_mean_blob.height):\n",
      "        for k in range(cifar100_mean_blob.width):\n",
      "            cifar100_mean[i,j,k]=cifar100_mean_blob.data[ptr]\n",
      "            ptr+=1\n",
      "np.save(mean_npy_file, cifar100_mean)"
     ],
     "language": "python",
     "metadata": {},
     "outputs": [],
     "prompt_number": 3
    },
    {
     "cell_type": "code",
     "collapsed": false,
     "input": [
      "net = caffe.Classifier(MODEL_FILE, PRETRAINED,\n",
      "                       mean_file=mean_npy_file,\n",
      "                       channel_swap=(0,1,2),\n",
      "                       input_scale=input_scale,\n",
      "                       image_dims=(32,32))\n",
      "net.set_phase_test()\n",
      "net.set_mode_gpu()\n",
      "net.set_device(0)"
     ],
     "language": "python",
     "metadata": {},
     "outputs": [],
     "prompt_number": 4
    },
    {
     "cell_type": "code",
     "collapsed": false,
     "input": [
      "test_leveldb = caffe_root + 'examples/cifar100/cifar100-float-leveldb/cifar-test-leveldb'  \n",
      "test_db = leveldb.LevelDB(test_leveldb)"
     ],
     "language": "python",
     "metadata": {},
     "outputs": [],
     "prompt_number": 5
    },
    {
     "cell_type": "code",
     "collapsed": false,
     "input": [
      "'''collect testing image data'''\n",
      "if 1:\n",
      "    num_test = 10000\n",
      "    test_imgs =[None]*num_test\n",
      "    test_img_labels=np.zeros((num_test),np.int32)\n",
      "    for i in range(num_test):\n",
      "        if i%1000==0:\n",
      "            print '%d out of %d' % (i+1, num_test)\n",
      "        key = '%05d' % i\n",
      "        string_data = test_db.Get(key)\n",
      "        datum = caffe_pb2.Datum()\n",
      "        datum.ParseFromString(string_data)\n",
      "\n",
      "        if float_data_format:\n",
      "            data_array = np.asarray(datum.float_data, dtype=np.float32)\n",
      "        else:\n",
      "            data_array = np.fromstring(datum.data, dtype=np.uint8) \n",
      "            data_array = np.float32(data_array)\n",
      "        \n",
      "        data_array = data_array.reshape((datum.channels, datum.height, datum.width))\n",
      "        data_array = np.transpose(data_array,(1,2,0))\n",
      "        data_array /= 255.0    \n",
      "        test_imgs[i] = data_array\n",
      "        test_img_labels[i] = datum.label"
     ],
     "language": "python",
     "metadata": {},
     "outputs": [
      {
       "output_type": "stream",
       "stream": "stdout",
       "text": [
        "1 out of 10000\n",
        "1001 out of 10000\n",
        "2001 out of 10000\n",
        "3001 out of 10000\n",
        "4001 out of 10000\n",
        "5001 out of 10000\n",
        "6001 out of 10000\n",
        "7001 out of 10000\n",
        "8001 out of 10000\n",
        "9001 out of 10000\n"
       ]
      }
     ],
     "prompt_number": 6
    },
    {
     "cell_type": "code",
     "collapsed": false,
     "input": [
      "'''single view test'''\n",
      "st_time=time.time()\n",
      "prediction = net.predict(test_imgs, oversample = False) \n",
      "pred_label = np.argmax(prediction,axis=1)\n",
      "idx = np.nonzero(pred_label == test_img_labels)[0]\n",
      "print 'testing accuracy w/o oversample: %4.3f' % (len(idx) / np.float32(len(test_imgs)))\n",
      "ep_time=time.time()-st_time\n",
      "print 'single view test elapsed time %3.2f seconds' % ep_time    "
     ],
     "language": "python",
     "metadata": {},
     "outputs": [
      {
       "output_type": "stream",
       "stream": "stdout",
       "text": [
        "testing accuracy w/o oversample: 0.636\n",
        "single view test elapsed time 36.54 seconds\n"
       ]
      }
     ],
     "prompt_number": 7
    },
    {
     "cell_type": "code",
     "collapsed": false,
     "input": [
      "''' plot classwise accuracy '''\n",
      "uni_label = np.unique(test_img_labels)\n",
      "cls_num = len(uni_label)\n",
      "'''plot class-wise accuracy'''\n",
      "cls_accu = np.zeros((cls_num))\n",
      "for i in range(len(uni_label)):\n",
      "    idx = np.nonzero(test_img_labels==uni_label[i])[0]\n",
      "    pred_label_ = pred_label[idx]\n",
      "    test_img_labels_ = test_img_labels[idx]\n",
      "    idx2 = np.nonzero(pred_label_ == test_img_labels_)[0]\n",
      "    cls_accu[i] = len(idx2) / np.float32(len(test_img_labels_))\n",
      "plt.figure()\n",
      "plt.barh([i+0.5 for i in range(cls_num)],cls_accu,align='center')"
     ],
     "language": "python",
     "metadata": {},
     "outputs": [
      {
       "metadata": {},
       "output_type": "pyout",
       "prompt_number": 8,
       "text": [
        "<Container object of 100 artists>"
       ]
      },
      {
       "metadata": {},
       "output_type": "display_data",
       "png": "[encoded data removed]",
       "text": [
        "<matplotlib.figure.Figure at 0x7effff1d9a10>"
       ]
      }
     ],
     "prompt_number": 8
    },
    {
     "cell_type": "code",
     "collapsed": false,
     "input": [
      "'''multi-view test'''\n",
      "st_time=time.time()\n",
      "prediction = net.predict(test_imgs, oversample = True)  \n",
      "pred_label = np.argmax(prediction,axis=1)\n",
      "idx = np.nonzero(pred_label == test_img_labels)[0]\n",
      "print 'testing accuracy w/ oversample: %4.3f' % (len(idx) / np.float32(len(test_imgs)))\n",
      "ep_time=time.time()-st_time\n",
      "print 'multiview test elapsed time %3.2f seconds' % ep_time"
     ],
     "language": "python",
     "metadata": {},
     "outputs": [
      {
       "output_type": "stream",
       "stream": "stdout",
       "text": [
        "testing accuracy w/ oversample: 0.653\n",
        "multiview test elapsed time 329.20 seconds\n"
       ]
      }
     ],
     "prompt_number": 9
    }
   ],
   "metadata": {}
  }
 ]
}