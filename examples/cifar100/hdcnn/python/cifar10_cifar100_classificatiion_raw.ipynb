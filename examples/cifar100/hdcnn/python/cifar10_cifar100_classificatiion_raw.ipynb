{
 "metadata": {
  "kernelspec": {
   "codemirror_mode": {
    "name": "ipython",
    "version": 2
   },
   "display_name": "IPython (Python 2)",
   "language": "python",
   "name": "python2"
  },
  "name": "",
  "signature": "sha256:b177406c28737b4712891fda85435594bf04adc4355bf18de8c15187da2d1623"
 },
 "nbformat": 3,
 "nbformat_minor": 0,
 "worksheets": [
  {
   "cells": [
    {
     "cell_type": "code",
     "collapsed": false,
     "input": [
      "import sys\n",
      "import os\n",
      "import numpy as np\n",
      "import matplotlib.pyplot as plt\n",
      "%matplotlib inline\n",
      "import leveldb\n",
      "import time\n",
      "\n",
      "dataset = 'cifar100'\n",
      "float_data_format = True\n",
      "\n",
      "caffe_root = os.environ['CAFFE_PROJ_DIR']\n",
      "print 'caffe_root ',caffe_root\n",
      "\n",
      "sys.path.append(caffe_root + 'python')\n",
      "sys.path.append(caffe_root + 'python/util')\n",
      "import caffe\n",
      "# from util_func import *\n",
      "\n",
      "sys.path.append(caffe_root + 'python/caffe/proto')\n",
      "import caffe_pb2\n",
      "\n",
      "import sys\n",
      "sys.path.append(caffe_root + 'python')\n",
      "import caffe\n",
      "\n",
      "# Set the right path to your model definition file, pretrained model weights,\n",
      "# and the image you would like to classify.\n",
      "\n",
      "# MODEL_FILE = caffe_root + 'examples/cifar100/cifar100_float_crop_full8_deploy.prototxt'\n",
      "# PRETRAINED = caffe_root + 'examples/cifar100/cifar100_float_crop_full8_iter_100000'\n",
      "# input_scale=255 * 2500\n",
      "\n",
      "\n",
      "model_dir = caffe_root + 'models/cifar100_NIN_float_crop_v2/9clusters/9clusters_v3.0/'\n",
      "MODEL_FILE =model_dir + 'hdcnn_deploy.prototxt'\n",
      "PRETRAINED = model_dir + 'hdcnn_iter_0.caffemodel'\n",
      "input_scale=255\n",
      "\n",
      "# model_dir = caffe_root + 'models/cifar100_NIN_float_crop_v2/9clusters/9clusters_v2.0/'\n",
      "# MODEL_FILE =model_dir + 'hdcnn_deploy.prototxt'\n",
      "# PRETRAINED = model_dir + 'hdcnn_iter_0.caffemodel'\n",
      "# input_scale=255\n",
      "\n",
      "# model_dir = caffe_root + 'models/cifar100_NIN_float_crop_v2/'\n",
      "# MODEL_FILE =model_dir + 'deploy.prototxt'\n",
      "# PRETRAINED = model_dir + 'cifar100_NIN_float_crop_v2_iter_130000.caffemodel'\n",
      "# input_scale=255\n",
      "\n"
     ],
     "language": "python",
     "metadata": {},
     "outputs": [
      {
       "output_type": "stream",
       "stream": "stdout",
       "text": [
        "caffe_root  /home/zyan3/proj/caffe_private_hdcnn/\n"
       ]
      }
     ],
     "prompt_number": 1
    },
    {
     "cell_type": "code",
     "collapsed": false,
     "input": [
      "if dataset == 'cifar10':\n",
      "    cls_name_f = open(caffe_root + 'data/cifar10/label_names.txt')\n",
      "    cls_name=[]\n",
      "    for l in cls_name_f:\n",
      "        cls_name += [l[:-1]]\n",
      "    cls_name_f.close()    \n",
      "else:\n",
      "    cls_name_f = open(caffe_root + 'data/cifar100/fine_label_names.txt')\n",
      "    cls_name=[]\n",
      "    for l in cls_name_f:\n",
      "        cls_name += [l[:-1]]\n",
      "    cls_name_f.close()"
     ],
     "language": "python",
     "metadata": {},
     "outputs": [],
     "prompt_number": 2
    },
    {
     "cell_type": "code",
     "collapsed": false,
     "input": [
      "if float_data_format:\n",
      "    mean_binary_file = caffe_root + 'data/%s/float_mean.binaryproto' % dataset\n",
      "    mean_npy_file = caffe_root + 'data/%s/float_mean.npy' % dataset\n",
      "else:\n",
      "    mean_binary_file = caffe_root + 'data/%s/mean.binaryproto' % dataset\n",
      "    mean_npy_file = caffe_root + 'data/%s/mean.npy' % dataset\n",
      "cifar100_mean_blob=caffe_pb2.BlobProto()\n",
      "f=open(mean_binary_file,'rb')\n",
      "f.seek(0, 2)\n",
      "size = f.tell()\n",
      "f.seek(0, 0)\n",
      "data=f.read(size)\n",
      "cifar100_mean_blob.ParseFromString(data)\n",
      "f.close()\n",
      "cifar100_mean = np.zeros((cifar100_mean_blob.channels,cifar100_mean_blob.height,cifar100_mean_blob.width))\n",
      "ptr=0\n",
      "for i in range(cifar100_mean_blob.channels):\n",
      "    for j in range(cifar100_mean_blob.height):\n",
      "        for k in range(cifar100_mean_blob.width):\n",
      "            cifar100_mean[i,j,k]=cifar100_mean_blob.data[ptr]\n",
      "            ptr+=1\n",
      "np.save(mean_npy_file, cifar100_mean)"
     ],
     "language": "python",
     "metadata": {},
     "outputs": [],
     "prompt_number": 5
    },
    {
     "cell_type": "code",
     "collapsed": false,
     "input": [
      "caffe.set_mode_gpu()\n",
      "caffe.init_device(0)\n",
      "caffe.init_device(1)\n",
      "net = caffe.Classifier(MODEL_FILE, PRETRAINED,\n",
      "                       mean=np.load(mean_npy_file),\n",
      "                       channel_swap=(0,1,2),\n",
      "                       input_scale=input_scale,\n",
      "                       image_dims=(32,32))"
     ],
     "language": "python",
     "metadata": {},
     "outputs": [],
     "prompt_number": 6
    },
    {
     "cell_type": "code",
     "collapsed": false,
     "input": [
      "replica_id = 1\n",
      "layer_name = 'data'\n",
      "print net.blobs(replica_id)[layer_name].num\n",
      "print net.blobs(replica_id)[layer_name].channels\n",
      "print net.blobs(replica_id)[layer_name].height\n",
      "print net.blobs(replica_id)[layer_name].width\n",
      "print net.blobs(replica_id)[layer_name].data.shape\n"
     ],
     "language": "python",
     "metadata": {},
     "outputs": [
      {
       "output_type": "stream",
       "stream": "stdout",
       "text": [
        "100\n",
        "3\n",
        "26\n",
        "26\n",
        "(100, 3, 26, 26)\n"
       ]
      }
     ],
     "prompt_number": 8
    },
    {
     "cell_type": "code",
     "collapsed": false,
     "input": [
      "if float_data_format:\n",
      "    if dataset == 'cifar10':\n",
      "        test_leveldb = caffe_root + 'examples/cifar10/cifar10-float-leveldb-copy/cifar-test-leveldb'\n",
      "    else:\n",
      "        test_leveldb = caffe_root + 'examples/cifar100/cifar100-float-leveldb/cifar-test-leveldb'  \n",
      "else:\n",
      "    # to update for cifar10 case\n",
      "    test_leveldb = caffe_root + 'examples/cifar100/cifar100-leveldb/cifar100-test-leveldb'\n",
      "    \n",
      "test_db = leveldb.LevelDB(test_leveldb)"
     ],
     "language": "python",
     "metadata": {},
     "outputs": [],
     "prompt_number": 9
    },
    {
     "cell_type": "code",
     "collapsed": false,
     "input": [
      "'''collect test images only for a branching component '''\n",
      "if 0:\n",
      "    f = open(caffe_root + 'data/cifar100/cluster_confusion_mat_%dclusters/cluster%02d_labels.txt' % (n_cluster,cluster_id),'r')\n",
      "    cluster_labels=[]\n",
      "    for l in f:\n",
      "        cluster_labels += [int(l)]\n",
      "    f.close()\n",
      "    cluster_labels = np.asarray(cluster_labels)\n",
      "    print cluster_labels\n",
      "\n",
      "    '''collect testing image data'''\n",
      "    keys=list(test_db.RangeIter(include_value=False))\n",
      "    print len(keys)\n",
      "    test_imgs =[]\n",
      "    test_img_labels=[]\n",
      "    for key in keys:\n",
      "        string_data = test_db.Get(key)\n",
      "        datum = caffe_pb2.Datum()\n",
      "        datum.ParseFromString(string_data)\n",
      "\n",
      "        if float_data_format:\n",
      "            data_array = np.asarray(datum.float_data, dtype=np.float32)\n",
      "        else:\n",
      "            data_array = np.fromstring(datum.data, dtype=np.uint8) \n",
      "            data_array = np.float32(data_array)\n",
      "\n",
      "        data_array = data_array.reshape((datum.channels, datum.height, datum.width))\n",
      "        data_array = np.transpose(data_array,(1,2,0))\n",
      "        data_array /= 255.0        \n",
      "        test_imgs += [data_array]\n",
      "        test_img_labels += [datum.label]"
     ],
     "language": "python",
     "metadata": {},
     "outputs": [],
     "prompt_number": 10
    },
    {
     "cell_type": "code",
     "collapsed": false,
     "input": [
      "'''collect testing image data'''\n",
      "if 1:\n",
      "    # keys=list(test_db.RangeIter(include_value=False))\n",
      "    num_test = 10000\n",
      "    test_imgs =[None]*num_test\n",
      "    test_img_labels=np.zeros((num_test),np.int32)\n",
      "    for i in range(num_test):\n",
      "        if i%1000==0:\n",
      "            print '%d out of %d' % (i+1, num_test)\n",
      "        key = '%05d' % i\n",
      "        string_data = test_db.Get(key)\n",
      "        datum = caffe_pb2.Datum()\n",
      "        datum.ParseFromString(string_data)\n",
      "\n",
      "        if float_data_format:\n",
      "            data_array = np.asarray(datum.float_data, dtype=np.float32)\n",
      "        else:\n",
      "            data_array = np.fromstring(datum.data, dtype=np.uint8) \n",
      "            data_array = np.float32(data_array)\n",
      "        \n",
      "        data_array = data_array.reshape((datum.channels, datum.height, datum.width))\n",
      "        data_array = np.transpose(data_array,(1,2,0))\n",
      "        data_array /= 255.0    \n",
      "        test_imgs[i] = data_array\n",
      "        test_img_labels[i] = datum.label"
     ],
     "language": "python",
     "metadata": {},
     "outputs": [
      {
       "output_type": "stream",
       "stream": "stdout",
       "text": [
        "1 out of 10000\n",
        "1001 out of 10000"
       ]
      },
      {
       "output_type": "stream",
       "stream": "stdout",
       "text": [
        "\n",
        "2001 out of 10000"
       ]
      },
      {
       "output_type": "stream",
       "stream": "stdout",
       "text": [
        "\n",
        "3001 out of 10000"
       ]
      },
      {
       "output_type": "stream",
       "stream": "stdout",
       "text": [
        "\n",
        "4001 out of 10000"
       ]
      },
      {
       "output_type": "stream",
       "stream": "stdout",
       "text": [
        "\n",
        "5001 out of 10000"
       ]
      },
      {
       "output_type": "stream",
       "stream": "stdout",
       "text": [
        "\n",
        "6001 out of 10000"
       ]
      },
      {
       "output_type": "stream",
       "stream": "stdout",
       "text": [
        "\n",
        "7001 out of 10000"
       ]
      },
      {
       "output_type": "stream",
       "stream": "stdout",
       "text": [
        "\n",
        "8001 out of 10000"
       ]
      },
      {
       "output_type": "stream",
       "stream": "stdout",
       "text": [
        "\n",
        "9001 out of 10000"
       ]
      },
      {
       "output_type": "stream",
       "stream": "stdout",
       "text": [
        "\n"
       ]
      }
     ],
     "prompt_number": 11
    },
    {
     "cell_type": "code",
     "collapsed": false,
     "input": [
      "'''single view test'''\n",
      "st_time=time.time()\n",
      "prediction = net.predict(test_imgs, oversample = False) \n",
      "pred_label = np.argmax(prediction,axis=1)\n",
      "idx = np.nonzero(pred_label == test_img_labels)[0]\n",
      "print 'testing accuracy w/o oversample: %5.4f' % (len(idx) / np.float32(len(test_imgs)))\n",
      "ep_time=time.time()-st_time\n",
      "print 'single view test elapsed time %3.2f seconds' % ep_time    "
     ],
     "language": "python",
     "metadata": {},
     "outputs": [
      {
       "output_type": "stream",
       "stream": "stdout",
       "text": [
        "testing accuracy w/o oversample: 0.647\n",
        "single view test elapsed time 56.13 seconds\n"
       ]
      }
     ],
     "prompt_number": 12
    },
    {
     "cell_type": "code",
     "collapsed": false,
     "input": [
      "uni_label = np.unique(test_img_labels)\n",
      "cls_num = len(uni_label)\n",
      "'''plot class-wise accuracy'''\n",
      "cls_accu = np.zeros((cls_num))\n",
      "for i in range(len(uni_label)):\n",
      "    idx = np.nonzero(test_img_labels==uni_label[i])[0]\n",
      "    pred_label_ = pred_label[idx]\n",
      "    test_img_labels_ = test_img_labels[idx]\n",
      "    idx2 = np.nonzero(pred_label_ == test_img_labels_)[0]\n",
      "    cls_accu[i] = len(idx2) / np.float32(len(test_img_labels_))\n",
      "plt.figure()\n",
      "plt.barh([i+0.5 for i in range(cls_num)],cls_accu,align='center')\n",
      "# plt.yticks([i*5 for i in range(cls_num)],cls_name)\n",
      "\n",
      "# for i in range(cls_num):\n",
      "#     print 'class %s : \\t\\t%4.2f' % (cls_name[i],cls_accu[i])"
     ],
     "language": "python",
     "metadata": {},
     "outputs": [
      {
       "metadata": {},
       "output_type": "pyout",
       "prompt_number": 13,
       "text": [
        "<Container object of 100 artists>"
       ]
      },
      {
       "metadata": {},
       "output_type": "display_data",
       "png": "[encoded data removed]",
       "text": [
        "<matplotlib.figure.Figure at 0x7fd06bc03dd0>"
       ]
      }
     ],
     "prompt_number": 13
    },
    {
     "cell_type": "code",
     "collapsed": false,
     "input": [
      "'''multi-view test'''\n",
      "st_time=time.time()\n",
      "prediction = net.predict(test_imgs, oversample = True)  \n",
      "pred_label = np.argmax(prediction,axis=1)\n",
      "idx = np.nonzero(pred_label == test_img_labels)[0]\n",
      "print 'testing accuracy w/ oversample: %5.4f' % (len(idx) / np.float32(len(test_imgs)))\n",
      "ep_time=time.time()-st_time\n",
      "print 'multiview test elapsed time %4.3f seconds' % ep_time"
     ],
     "language": "python",
     "metadata": {},
     "outputs": [
      {
       "output_type": "stream",
       "stream": "stdout",
       "text": [
        "testing accuracy w/ oversample: 0.6647\n",
        "multiview test elapsed time 530.767 seconds\n"
       ]
      }
     ],
     "prompt_number": 14
    },
    {
     "cell_type": "code",
     "collapsed": false,
     "input": [
      "'''simple model averaging'''\n",
      "st_time=time.time()\n",
      "MODEL_FILE = caffe_root + 'examples/cifar100/cifar100_NIN_float_crop_v2_deploy.prototxt'\n",
      "float_data_format = True\n",
      "input_scale=255\n",
      "\n",
      "n_net = 5\n",
      "nets, predictions = [None] * n_net, [None] * n_net\n",
      "model_id= [1, 3,4,6,7]\n",
      "\n",
      "for i in range(n_net):\n",
      "    PRETRAINED = caffe_root + \\\n",
      "    'examples/cifar100/NIN_Full4_Solverstate/NINCheckpoints/cifar100_NIN_float_crop%d_v2_iter_130000' % model_id[i]\n",
      "    \n",
      "    nets[i] = caffe.Classifier(MODEL_FILE, PRETRAINED,\n",
      "                       mean_file=mean_npy_file,\n",
      "                       channel_swap=(0,1,2),\n",
      "                       input_scale=input_scale,\n",
      "                       image_dims=(32,32))\n",
      "    nets[i].set_phase_test()\n",
      "    nets[i].set_mode_gpu()\n",
      "    nets[i].set_device(i%2)\n",
      "    \n",
      "    predictions[i] = nets[i].predict(test_imgs, oversample = True)\n",
      "    pred_label = np.argmax(predictions[i],axis=1)\n",
      "    idx = np.nonzero(pred_label == test_img_labels)[0]\n",
      "    print 'model %d. testing accuracy w/ oversample: %4.3f' % (model_id[i], len(idx) / np.float32(len(test_imgs)))\n",
      "    \n",
      "    \n",
      "avg_pred = np.zeros((predictions[0].shape[0],predictions[0].shape[1]))\n",
      "for i in range(n_net):\n",
      "    avg_pred += predictions[i]\n",
      "avg_pred /= n_net\n",
      "\n",
      "ep_time = time.time()-st_time\n",
      "print 'elapsed time :%3.2f' % ep_time"
     ],
     "language": "python",
     "metadata": {},
     "outputs": [
      {
       "output_type": "stream",
       "stream": "stdout",
       "text": [
        "model 1. testing accuracy w/ oversample: 0.641\n",
        "model 3. testing accuracy w/ oversample: 0.648\n",
        "model 4. testing accuracy w/ oversample: 0.646\n",
        "model 6. testing accuracy w/ oversample: 0.649\n",
        "model 7. testing accuracy w/ oversample: 0.648\n",
        "elapsed time :589.83\n"
       ]
      }
     ],
     "prompt_number": 16
    },
    {
     "cell_type": "code",
     "collapsed": false,
     "input": [
      "avg_pred_label = np.argmax(avg_pred,axis=1)\n",
      "idx = np.nonzero(avg_pred_label == test_img_labels)[0]\n",
      "print 'model averaging. testing accuracy w/ oversample: %4.3f' % (len(idx) / np.float32(len(test_imgs)))\n"
     ],
     "language": "python",
     "metadata": {},
     "outputs": [
      {
       "output_type": "stream",
       "stream": "stdout",
       "text": [
        "model averaging. testing accuracy w/ oversample: 0.670\n"
       ]
      }
     ],
     "prompt_number": 17
    }
   ],
   "metadata": {}
  }
 ]
}