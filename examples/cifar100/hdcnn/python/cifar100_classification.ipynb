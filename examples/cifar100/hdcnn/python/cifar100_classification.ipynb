{
 "cells": [
  {
   "cell_type": "code",
   "execution_count": 1,
   "metadata": {
    "collapsed": false
   },
   "outputs": [
    {
     "name": "stdout",
     "output_type": "stream",
     "text": [
      "caffe_root  /home/zyan3/proj/caffe_private_hdcnn/\n"
     ]
    }
   ],
   "source": [
    "import sys\n",
    "import os\n",
    "import numpy as np\n",
    "import matplotlib.pyplot as plt\n",
    "%matplotlib inline\n",
    "import lmdb\n",
    "import time\n",
    "\n",
    "dataset = 'cifar100'\n",
    "float_data_format = True\n",
    "\n",
    "caffe_root = os.environ['CAFFE_PROJ_DIR']\n",
    "print 'caffe_root ',caffe_root\n",
    "\n",
    "sys.path.append(caffe_root + 'python')\n",
    "sys.path.append(caffe_root + 'python/util')\n",
    "import caffe\n",
    "# from util_func import *\n",
    "\n",
    "sys.path.append(caffe_root + 'python/caffe/proto')\n",
    "import caffe_pb2\n",
    "\n",
    "import sys\n",
    "sys.path.append(caffe_root + 'python')\n",
    "import caffe\n",
    "\n",
    "# Set the right path to your model definition file, pretrained model weights,\n",
    "# and the image you would like to classify.\n",
    "\n",
    "data_dir=caffe_root+'data/cifar100/cluster_confusion_mat_9clusters_NIN/v0.0/'\n",
    "model_dir = caffe_root + 'models/cifar100_NIN_float_crop_v2/9clusters/9clusters_v0.0/'\n",
    "MODEL_FILE =model_dir + 'hdcnn_deploy.prototxt'\n",
    "PRETRAINED = model_dir + 'hdcnn_iter_10000.caffemodel'\n",
    "input_scale=255\n",
    "num_branch=9"
   ]
  },
  {
   "cell_type": "code",
   "execution_count": 2,
   "metadata": {
    "collapsed": false
   },
   "outputs": [],
   "source": [
    "with open(caffe_root + 'data/cifar100/fine_label_names.txt') as cls_name_f:\n",
    "    cls_name=[]\n",
    "    for l in cls_name_f:\n",
    "        cls_name += [l[:-1]]"
   ]
  },
  {
   "cell_type": "code",
   "execution_count": 3,
   "metadata": {
    "collapsed": false
   },
   "outputs": [],
   "source": [
    "mean_binary_file = caffe_root + 'data/%s/float_mean.binaryproto' % dataset\n",
    "mean_npy_file = caffe_root + 'data/%s/float_mean.npy' % dataset\n",
    "\n",
    "cifar100_mean_blob=caffe_pb2.BlobProto()\n",
    "f=open(mean_binary_file,'rb')\n",
    "f.seek(0, 2)\n",
    "size = f.tell()\n",
    "f.seek(0, 0)\n",
    "data=f.read(size)\n",
    "cifar100_mean_blob.ParseFromString(data)\n",
    "f.close()\n",
    "cifar100_mean = np.zeros((cifar100_mean_blob.channels,cifar100_mean_blob.height,cifar100_mean_blob.width))\n",
    "ptr=0\n",
    "for i in range(cifar100_mean_blob.channels):\n",
    "    for j in range(cifar100_mean_blob.height):\n",
    "        for k in range(cifar100_mean_blob.width):\n",
    "            cifar100_mean[i,j,k]=cifar100_mean_blob.data[ptr]\n",
    "            ptr+=1\n",
    "np.save(mean_npy_file, cifar100_mean)"
   ]
  },
  {
   "cell_type": "code",
   "execution_count": 4,
   "metadata": {
    "collapsed": true
   },
   "outputs": [],
   "source": [
    "caffe.set_mode_gpu()\n",
    "caffe.init_device(0)\n",
    "# caffe.init_device(1)"
   ]
  },
  {
   "cell_type": "code",
   "execution_count": 5,
   "metadata": {
    "collapsed": false
   },
   "outputs": [],
   "source": [
    "net = caffe.Classifier(MODEL_FILE, PRETRAINED,\n",
    "                       mean=np.load(mean_npy_file),\n",
    "                       channel_swap=(0,1,2),\n",
    "                       input_scale=input_scale,\n",
    "                       image_dims=(32,32))"
   ]
  },
  {
   "cell_type": "code",
   "execution_count": 6,
   "metadata": {
    "collapsed": false
   },
   "outputs": [
    {
     "name": "stdout",
     "output_type": "stream",
     "text": [
      "100\n",
      "3\n",
      "26\n",
      "26\n",
      "(100, 3, 26, 26)\n"
     ]
    }
   ],
   "source": [
    "replica_id = 0\n",
    "layer_name = 'data'\n",
    "print net.blobs(replica_id)[layer_name].num\n",
    "print net.blobs(replica_id)[layer_name].channels\n",
    "print net.blobs(replica_id)[layer_name].height\n",
    "print net.blobs(replica_id)[layer_name].width\n",
    "print net.blobs(replica_id)[layer_name].data.shape"
   ]
  },
  {
   "cell_type": "code",
   "execution_count": 8,
   "metadata": {
    "collapsed": false
   },
   "outputs": [],
   "source": [
    "test_lmdb = lmdb.open(caffe_root + 'examples/cifar100/cifar100-float-lmdb/cifar100-test-lmdb')\n",
    "test_txn = test_lmdb.begin()"
   ]
  },
  {
   "cell_type": "code",
   "execution_count": 9,
   "metadata": {
    "collapsed": false
   },
   "outputs": [
    {
     "name": "stdout",
     "output_type": "stream",
     "text": [
      "1 out of 10000\n",
      "1001 out of 10000\n",
      "2001 out of 10000\n",
      "3001 out of 10000\n",
      "4001 out of 10000\n",
      "5001 out of 10000\n",
      "6001 out of 10000\n",
      "7001 out of 10000\n",
      "8001 out of 10000\n",
      "9001 out of 10000\n"
     ]
    }
   ],
   "source": [
    "'''collect testing image data'''\n",
    "if 1:\n",
    "    # keys=list(test_db.RangeIter(include_value=False))\n",
    "    num_test = 10000\n",
    "    test_imgs =[None]*num_test\n",
    "    test_img_labels=np.zeros((num_test),np.int32)\n",
    "    for i in range(num_test):\n",
    "        if i%1000==0:\n",
    "            print '%d out of %d' % (i+1, num_test)\n",
    "        key = '%d' % i\n",
    "#         string_data = test_db.Get(key)\n",
    "        string_data = test_txn.get(key)\n",
    "        datum = caffe_pb2.Datum()\n",
    "        datum.ParseFromString(string_data)\n",
    "\n",
    "        if float_data_format:\n",
    "            data_array = np.asarray(datum.float_data, dtype=np.float32)\n",
    "        else:\n",
    "            data_array = np.fromstring(datum.data, dtype=np.uint8) \n",
    "            data_array = np.float32(data_array)\n",
    "        \n",
    "        data_array = data_array.reshape((datum.channels, datum.height, datum.width))\n",
    "        data_array = np.transpose(data_array,(1,2,0))\n",
    "        data_array /= 255.0    \n",
    "        test_imgs[i] = data_array\n",
    "        test_img_labels[i] = datum.label"
   ]
  },
  {
   "cell_type": "code",
   "execution_count": 10,
   "metadata": {
    "collapsed": false
   },
   "outputs": [
    {
     "name": "stdout",
     "output_type": "stream",
     "text": [
      "testing accuracy w/o oversample: 0.6550\n",
      "single view test elapsed time 77.19 seconds\n"
     ]
    }
   ],
   "source": [
    "'''hdcnn single view test'''\n",
    "st_time=time.time()\n",
    "prediction = net.predict(test_imgs, oversample = False) \n",
    "pred_label = np.argmax(prediction,axis=1)\n",
    "idx = np.nonzero(pred_label == test_img_labels)[0]\n",
    "print 'testing accuracy w/o oversample: %5.4f' % (len(idx) / np.float32(len(test_imgs)))\n",
    "ep_time=time.time()-st_time\n",
    "print 'single view test elapsed time %3.2f seconds' % ep_time    "
   ]
  },
  {
   "cell_type": "code",
   "execution_count": 9,
   "metadata": {
    "collapsed": false
   },
   "outputs": [
    {
     "data": {
      "text/plain": [
       "<Container object of 100 artists>"
      ]
     },
     "execution_count": 9,
     "metadata": {},
     "output_type": "execute_result"
    },
    {
     "data": {
      "image/png": "[encoded data removed]",
      "text/plain": [
       "<matplotlib.figure.Figure at 0x7f4448d5bc50>"
      ]
     },
     "metadata": {},
     "output_type": "display_data"
    }
   ],
   "source": [
    "uni_label = np.unique(test_img_labels)\n",
    "cls_num = len(uni_label)\n",
    "'''plot class-wise accuracy'''\n",
    "cls_accu = np.zeros((cls_num))\n",
    "for i in range(len(uni_label)):\n",
    "    idx = np.nonzero(test_img_labels==uni_label[i])[0]\n",
    "    pred_label_ = pred_label[idx]\n",
    "    test_img_labels_ = test_img_labels[idx]\n",
    "    idx2 = np.nonzero(pred_label_ == test_img_labels_)[0]\n",
    "    cls_accu[i] = len(idx2) / np.float32(len(test_img_labels_))\n",
    "plt.figure()\n",
    "plt.barh([i+0.5 for i in range(cls_num)],cls_accu,align='center')"
   ]
  },
  {
   "cell_type": "code",
   "execution_count": 10,
   "metadata": {
    "collapsed": false
   },
   "outputs": [
    {
     "name": "stdout",
     "output_type": "stream",
     "text": [
      "testing accuracy w/ oversample: 0.6738\n",
      "multiview test elapsed time 146.601 seconds\n"
     ]
    }
   ],
   "source": [
    "'''hdcnn multi-view test'''\n",
    "st_time=time.time()\n",
    "prediction = net.predict(test_imgs, oversample = True)  \n",
    "pred_label = np.argmax(prediction,axis=1)\n",
    "idx = np.nonzero(pred_label == test_img_labels)[0]\n",
    "print 'testing accuracy w/ oversample: %5.4f' % (len(idx) / np.float32(len(test_imgs)))\n",
    "ep_time=time.time()-st_time\n",
    "print 'multiview test elapsed time %4.3f seconds' % ep_time"
   ]
  }
 ],
 "metadata": {
  "kernelspec": {
   "display_name": "Python 2",
   "language": "python",
   "name": "python2"
  },
  "language_info": {
   "codemirror_mode": {
    "name": "ipython",
    "version": 2
   },
   "file_extension": ".py",
   "mimetype": "text/x-python",
   "name": "python",
   "nbconvert_exporter": "python",
   "pygments_lexer": "ipython2",
   "version": "2.7.6"
  }
 },
 "nbformat": 4,
 "nbformat_minor": 0
}
