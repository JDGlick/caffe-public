{
 "metadata": {
  "kernelspec": {
   "codemirror_mode": {
    "name": "ipython",
    "version": 2
   },
   "display_name": "IPython (Python 2)",
   "language": "python",
   "name": "python2"
  },
  "name": "",
  "signature": "sha256:cc6142cd6a06c45986f1978f49a8e9415ec3ae0fa47577856ab33e3f5700ec15"
 },
 "nbformat": 3,
 "nbformat_minor": 0,
 "worksheets": [
  {
   "cells": [
    {
     "cell_type": "markdown",
     "metadata": {},
     "source": [
      "This script is used for training a gating CNN.\n",
      "Its usage is also documented in the section of 'experiment 11' at https://wiki.vip.corp.ebay.com/display/ERL/Experiments+on+Cifar100\n",
      "\n",
      "Zhicheng Yan@eBay, Aug 5, 2014"
     ]
    },
    {
     "cell_type": "code",
     "collapsed": false,
     "input": [
      "import os\n",
      "import numpy as np\n",
      "import numpy.random as rd\n",
      "import matplotlib.pyplot as plt\n",
      "%matplotlib inline\n",
      "import scipy.linalg\n",
      "from sklearn.cluster import k_means\n",
      "from sklearn.cluster import *\n",
      "import copy\n",
      "import leveldb\n",
      "import lmdb\n",
      "from random import shuffle\n",
      "\n",
      "\n",
      "# Make sure that caffe is on the python path:\n",
      "caffe_root = os.environ['CAFFE_PROJ_DIR']\n",
      "caffe_local_root = os.environ['CAFFE_LOCAL_PROJ_DIR']\n",
      "print 'caffe_root',caffe_root\n",
      "print 'caffe_local_root',caffe_local_root\n",
      "\n",
      "import sys\n",
      "sys.path.append(caffe_root + 'python')\n",
      "sys.path.append(caffe_root + 'python/util')\n",
      "import caffe\n",
      "from util_func import *\n",
      "\n",
      "sys.path.append(caffe_root + 'python/caffe/proto')\n",
      "import caffe_pb2\n",
      "\n",
      "plt.rcParams['figure.figsize'] = (5, 5)\n",
      "plt.rcParams['image.interpolation'] = 'nearest'\n",
      "plt.rcParams['image.cmap'] = 'gray'"
     ],
     "language": "python",
     "metadata": {},
     "outputs": [
      {
       "output_type": "stream",
       "stream": "stdout",
       "text": [
        "caffe_root /home/zyan3/proj/caffe_private_hdcnn/\n",
        "caffe_local_root /home/zyan3/local/proj/caffe_private_hdcnn/\n"
       ]
      }
     ],
     "prompt_number": 1
    },
    {
     "cell_type": "code",
     "collapsed": false,
     "input": [
      "local_model_dir = 'models/cifar100_NIN_float_crop_v2/'\n",
      "model_dir=caffe_root+local_model_dir\n",
      "num_val, num_class = 10000, 100"
     ],
     "language": "python",
     "metadata": {},
     "outputs": [],
     "prompt_number": 2
    },
    {
     "cell_type": "code",
     "collapsed": false,
     "input": [
      "'''\n",
      "read 100-class probabilities for validation images from leveldb\n",
      "'''\n",
      "val_prob=np.zeros((num_val,num_class))\n",
      "db = leveldb.LevelDB(caffe_root + 'examples/cifar100/train_val/cifar100_NIN_float_crop_v2_val_poolg_leveldb')\n",
      "\n",
      "for i in range(num_val):\n",
      "    key='%d'%i\n",
      "    str_data=db.Get(key)\n",
      "    datum = caffe_pb2.Datum()\n",
      "    datum.ParseFromString(str_data)    \n",
      "    for j in range(num_class):\n",
      "        val_prob[i,j]=datum.float_data[j]\n",
      "val_prob=softmax(val_prob)"
     ],
     "language": "python",
     "metadata": {},
     "outputs": [
      {
       "output_type": "stream",
       "stream": "stdout",
       "text": [
        "compute softmax probabilities\n",
        "num 10000 dim 100\n"
       ]
      }
     ],
     "prompt_number": 3
    },
    {
     "cell_type": "code",
     "collapsed": false,
     "input": [
      "'''load fine label names'''\n",
      "label_names = []\n",
      "f=open(caffe_root + 'data/cifar100/fine_label_names.txt')\n",
      "for line in f:\n",
      "    label_names += [line[:-1]]\n",
      "f.close()"
     ],
     "language": "python",
     "metadata": {},
     "outputs": [],
     "prompt_number": 4
    },
    {
     "cell_type": "code",
     "collapsed": false,
     "input": [
      "'''load (name, label) for training & held-out images'''\n",
      "train_train_img_list= caffe_root + 'data/cifar100/train_train.txt'\n",
      "train_val_img_list = caffe_root + 'data/cifar100/train_val.txt'\n",
      "train_train_img_names,train_train_img_labels=read_val_image_list(train_train_img_list)\n",
      "train_val_img_names,train_val_img_labels=read_val_image_list(train_val_img_list)\n",
      "train_train_img_labels,train_val_img_labels=np.asarray(train_train_img_labels),np.asarray(train_val_img_labels)\n",
      "class_num = np.max(train_train_img_labels) + 1\n",
      "print '%d classes' % class_num"
     ],
     "language": "python",
     "metadata": {},
     "outputs": [
      {
       "output_type": "stream",
       "stream": "stdout",
       "text": [
        "40000 validation images \n",
        "10000 validation images \n",
        "100 classes\n"
       ]
      }
     ],
     "prompt_number": 5
    },
    {
     "cell_type": "code",
     "collapsed": false,
     "input": [
      "pred_labels_val = np.zeros((num_val),dtype=np.int32)\n",
      "accuracy = 0.\n",
      "for i in range(num_val):\n",
      "    idx=np.argsort(val_prob[i,:])[::-1]\n",
      "    pred_labels_val[i] = idx[0]\n",
      "correct_idx = np.nonzero((train_val_img_labels - pred_labels_val)==0)[0]\n",
      "accuracy = len(correct_idx) / np.float32(num_val)\n",
      "print 'accuracy %4.3f' % accuracy"
     ],
     "language": "python",
     "metadata": {},
     "outputs": [
      {
       "output_type": "stream",
       "stream": "stdout",
       "text": [
        "accuracy 0.609\n"
       ]
      }
     ],
     "prompt_number": 6
    },
    {
     "cell_type": "code",
     "collapsed": false,
     "input": [
      "'''plot confusion matrix'''\n",
      "confusion_mat = np.zeros((num_class,num_class))\n",
      "for i in range(num_class):\n",
      "    idx=np.nonzero(train_val_img_labels==i)[0]\n",
      "    pred_label_ = pred_labels_val[idx]\n",
      "    confusion_mat[i,:] = np.float64(np.bincount(pred_label_,minlength=num_class))/np.float64(len(idx))    \n",
      "plt.figure()\n",
      "plt.title('confusion matrix on validation set')\n",
      "plt.imshow(confusion_mat)"
     ],
     "language": "python",
     "metadata": {},
     "outputs": [
      {
       "metadata": {},
       "output_type": "pyout",
       "prompt_number": 7,
       "text": [
        "<matplotlib.image.AxesImage at 0x7f21d8e96f50>"
       ]
      },
      {
       "metadata": {},
       "output_type": "display_data",
       "png": "[encoded data removed]",
       "text": [
        "<matplotlib.figure.Figure at 0x7f22207848d0>"
       ]
      }
     ],
     "prompt_number": 7
    },
    {
     "cell_type": "code",
     "collapsed": false,
     "input": [
      "dist_mat = 1.0 - confusion_mat\n",
      "'''set diagonal elements to 0'''\n",
      "dist_mat[range(num_class),range(num_class)]=0\n",
      "dist_mat = 0.5 * (dist_mat + dist_mat.T)\n",
      "plt.figure()\n",
      "plt.title('distance matrix on validation set')\n",
      "plt.imshow(dist_mat)"
     ],
     "language": "python",
     "metadata": {},
     "outputs": [
      {
       "metadata": {},
       "output_type": "pyout",
       "prompt_number": 8,
       "text": [
        "<matplotlib.image.AxesImage at 0x7f21d8d7aed0>"
       ]
      },
      {
       "metadata": {},
       "output_type": "display_data",
       "png": "[encoded data removed]",
       "text": [
        "<matplotlib.figure.Figure at 0x7f21d8dafc90>"
       ]
      }
     ],
     "prompt_number": 8
    },
    {
     "cell_type": "code",
     "collapsed": false,
     "input": [
      "'''Laplacian eigenmap dimensionality reduction\n",
      "construct adjacency graph W (symmetric) using k-NN'''\n",
      "W=np.zeros((num_class,num_class))\n",
      "\n",
      "''' 5 clusteres'''\n",
      "# k_nn, t, dim = 4, 0.95, 1\n",
      "\n",
      "''' 9 clusteres'''\n",
      "k_nn, t, dim = 5, 0.9, 4\n",
      "\n",
      "''' 10 clusteres'''\n",
      "# k_nn, t, dim = 5, 0.9, 8\n",
      "\n",
      "''' 14 clusteres'''\n",
      "# k_nn, t, dim = 9, 0.95, 10\n",
      "\n",
      "''' 19 clusteres'''\n",
      "# k_nn, t, dim = 8, 0.95, 20\n",
      "\n",
      "for i in range(num_class):\n",
      "    idx=np.argsort(dist_mat[i,:])[1:k_nn+1]\n",
      "    W[i,idx]=np.exp(-dist_mat[i,idx] / t)\n",
      "    W[idx,i]=W[i,idx]\n",
      "D=np.zeros(W.shape)\n",
      "for i in range(num_class):\n",
      "    D[i,i]=np.sum(W[i,:])\n",
      "L=D-W\n",
      "eig_val,eig_vec=scipy.linalg.eig(L,D)\n",
      "ftr=eig_vec[:,1:dim+1]\n",
      "print eig_vec[:,0] # the 1st eigenvector should be all ones\n",
      "eigval_cumsum = np.cumsum(np.real(eig_val))\n",
      "plt.plot(eigval_cumsum)"
     ],
     "language": "python",
     "metadata": {},
     "outputs": [
      {
       "output_type": "stream",
       "stream": "stdout",
       "text": [
        "[ 0.1  0.1  0.1  0.1  0.1  0.1  0.1  0.1  0.1  0.1  0.1  0.1  0.1  0.1  0.1\n",
        "  0.1  0.1  0.1  0.1  0.1  0.1  0.1  0.1  0.1  0.1  0.1  0.1  0.1  0.1  0.1\n",
        "  0.1  0.1  0.1  0.1  0.1  0.1  0.1  0.1  0.1  0.1  0.1  0.1  0.1  0.1  0.1\n",
        "  0.1  0.1  0.1  0.1  0.1  0.1  0.1  0.1  0.1  0.1  0.1  0.1  0.1  0.1  0.1\n",
        "  0.1  0.1  0.1  0.1  0.1  0.1  0.1  0.1  0.1  0.1  0.1  0.1  0.1  0.1  0.1\n",
        "  0.1  0.1  0.1  0.1  0.1  0.1  0.1  0.1  0.1  0.1  0.1  0.1  0.1  0.1  0.1\n",
        "  0.1  0.1  0.1  0.1  0.1  0.1  0.1  0.1  0.1  0.1]\n"
       ]
      },
      {
       "metadata": {},
       "output_type": "pyout",
       "prompt_number": 239,
       "text": [
        "[<matplotlib.lines.Line2D at 0x7f21d675fbd0>]"
       ]
      },
      {
       "metadata": {},
       "output_type": "display_data",
       "png": "[encoded data removed]",
       "text": [
        "<matplotlib.figure.Figure at 0x7f21d6eb7810>"
       ]
      }
     ],
     "prompt_number": 239
    },
    {
     "cell_type": "code",
     "collapsed": false,
     "input": [
      "'''affinity propagation clustering'''\n",
      "if 1: \n",
      "    ''' 5 clusters '''\n",
      "#     affinity_propagation_cluster = AffinityPropagation(damping=0.95, max_iter=15000, convergence_iter=50, copy=True)\n",
      "    \n",
      "    '''9 clusters'''\n",
      "    affinity_propagation_cluster = AffinityPropagation(damping=0.75, max_iter=15000, convergence_iter=50, copy=True) \n",
      "    \n",
      "    '''10 clusters'''\n",
      "#     affinity_propagation_cluster = AffinityPropagation(damping=0.75, max_iter=15000, convergence_iter=50, copy=True)\n",
      "    \n",
      "    ''' 14 clusteres'''\n",
      "#     affinity_propagation_cluster = AffinityPropagation(damping=0.75, max_iter=15000, convergence_iter=50, copy=True)\n",
      "\n",
      "    ''' 19 clusteres'''\n",
      "#     affinity_propagation_cluster = AffinityPropagation(damping=0.55, max_iter=15000, convergence_iter=50, copy=True)\n",
      "\n",
      "    cluster_labels = affinity_propagation_cluster.fit_predict(ftr)\n",
      "    unique_cluster_label = np.unique(cluster_labels)\n",
      "    n_cluster = unique_cluster_label.shape[0]\n",
      "    cluster_members=[None]*n_cluster\n",
      "\n",
      "    print '%d clusters' % n_cluster\n",
      "    for i in range(n_cluster):\n",
      "        idx = np.nonzero(cluster_labels == unique_cluster_label[i])[0]\n",
      "        cluster_members[i]=list(idx)\n",
      "        print 'cluster %d size %d ' % (i, len(idx))\n",
      "        for j in range(len(idx)):\n",
      "            print '%s,' % label_names[idx[j]],\n",
      "        print ' '"
     ],
     "language": "python",
     "metadata": {},
     "outputs": [
      {
       "output_type": "stream",
       "stream": "stdout",
       "text": [
        "9 clusters\n",
        "cluster 0 size 6 \n",
        "bed, chair, couch, table, television, wardrobe,  \n",
        "cluster 1 size 11 \n",
        "bottle, bowl, can, clock, cup, keyboard, lamp, plate, rocket, skyscraper, telephone,  \n",
        "cluster 2 size 19 \n",
        "aquarium_fish, bee, beetle, butterfly, caterpillar, cockroach, crab, crocodile, dolphin, lizard, lobster, shark, snail, snake, spider, sunflower, trout, whale, worm,  \n",
        "cluster 3 size 27 \n",
        "bear, beaver, camel, cattle, dinosaur, elephant, flatfish, fox, hamster, kangaroo, leopard, lion, mouse, mushroom, otter, porcupine, possum, rabbit, raccoon, ray, seal, shrew, skunk, squirrel, tiger, turtle, wolf,  \n",
        "cluster 4 size 7 \n",
        "baby, bicycle, boy, chimpanzee, girl, man, woman,  \n",
        "cluster 5 size 6 \n",
        "forest, maple_tree, oak_tree, palm_tree, pine_tree, willow_tree,  \n",
        "cluster 6 size 8 \n",
        "apple, orange, orchid, pear, poppy, rose, sweet_pepper, tulip,  \n",
        "cluster 7 size 6 \n",
        "cloud, motorcycle, mountain, plain, road, sea,  \n",
        "cluster 8 size 10 \n",
        "bridge, bus, castle, house, lawn_mower, pickup_truck, streetcar, tank, tractor, train,  \n"
       ]
      }
     ],
     "prompt_number": 240
    },
    {
     "cell_type": "code",
     "collapsed": false,
     "input": [
      "'''use k-means to cluster categories\n",
      "categories within the same cluster are confusing to each other'''\n",
      "if 0:\n",
      "    n_cluster, n_init, max_iter = 6, 100, 5000\n",
      "    centroid,label,inertia=k_means(ftr,n_cluster,n_init=n_init,max_iter=max_iter)\n",
      "    plt.figure()\n",
      "    cluster_members=[None]*n_cluster\n",
      "    for i in range(n_cluster):\n",
      "        idx=np.nonzero(label==i)[0]\n",
      "        cluster_members[i]=list(idx)\n",
      "        print 'cluster %d size %d ' % (i, len(idx))\n",
      "        for j in range(len(idx)):\n",
      "            print '%s,' % label_names[idx[j]],\n",
      "        print ' '\n",
      "        cluster_confusion_mat = confusion_mat[idx,:][:,idx]\n",
      "        plt.subplot(1,n_cluster,i+1)\n",
      "        plt.imshow(cluster_confusion_mat)"
     ],
     "language": "python",
     "metadata": {},
     "outputs": [],
     "prompt_number": 15
    },
    {
     "cell_type": "code",
     "collapsed": false,
     "input": [
      "''' compute a  histogram of the percentage of images \n",
      "that are classified as a label in the same cluster of its groundtruth label\n",
      "'''\n",
      "def plot_cluster_coverage(num_class, cluster_mbs,confusion_mat):\n",
      "    cluster_coverage=np.zeros((num_class))\n",
      "    for i in range(len(cluster_mbs)):\n",
      "        for j in range(len(cluster_mbs[i])):\n",
      "            class_id=cluster_mbs[i][j]\n",
      "            cluster_coverage[class_id]=np.sum(confusion_mat[class_id,cluster_mbs[i]])\n",
      "    n, bins, patches=plt.hist(cluster_coverage,bins=20)    "
     ],
     "language": "python",
     "metadata": {},
     "outputs": [],
     "prompt_number": 156
    },
    {
     "cell_type": "code",
     "collapsed": false,
     "input": [
      "version ='v0.0'\n",
      "example_dir = caffe_root + 'examples/cifar100/'\n",
      "print 'example_dir',example_dir\n",
      "if not os.path.exists(example_dir): \n",
      "    os.mkdir(example_dir)\n",
      "\n",
      "save_dir = model_dir + '%dclusters/'%n_cluster \n",
      "if not os.path.exists(save_dir):\n",
      "    os.mkdir(save_dir)\n",
      "save_dir += '%dclusters_%s/'%(n_cluster,version)\n",
      "if not os.path.exists(save_dir):\n",
      "    os.mkdir(save_dir)\n",
      "print 'save_dir',save_dir\n",
      "print 'n_cluster',n_cluster"
     ],
     "language": "python",
     "metadata": {},
     "outputs": [
      {
       "output_type": "stream",
       "stream": "stdout",
       "text": [
        "example_dir /home/zyan3/proj/caffe_private_hdcnn/examples/cifar100/\n",
        "save_dir /home/zyan3/proj/caffe_private_hdcnn/models/cifar100_NIN_float_crop_v2/9clusters/9clusters_v0.0/\n",
        "n_cluster 9\n"
       ]
      }
     ],
     "prompt_number": 241
    },
    {
     "cell_type": "code",
     "collapsed": false,
     "input": [
      "print n_cluster,version"
     ],
     "language": "python",
     "metadata": {},
     "outputs": [
      {
       "output_type": "stream",
       "stream": "stdout",
       "text": [
        "9 v0.0\n"
       ]
      }
     ],
     "prompt_number": 242
    },
    {
     "cell_type": "code",
     "collapsed": false,
     "input": [
      "''' Adding extra classes to each branch to compensate for coarse misclassification at gating part\n",
      "For each branch, sort all classes out of branch based on likelihood that they're misclassified into the branch\n",
      "Take the top ones and also limit the total number of classes within each branch\n",
      "'''\n",
      "\n",
      "exp_cluster_members=[None]*n_cluster\n",
      "if 1:\n",
      "    all_mb=range(num_class)\n",
      "\n",
      "    # for 5 clusters v1.0\n",
      "#     gamma=5.0\n",
      "#     score_thres=1.0/(gamma*n_cluster)\n",
      "\n",
      "    # for 5 clusters v2.0\n",
      "#     gamma=10.0\n",
      "#     score_thres=1.0/(gamma*n_cluster)\n",
      "    \n",
      "    # for 9 clusters v0.0\n",
      "    gamma=5.0\n",
      "    score_thres=1.0/(gamma*n_cluster)\n",
      "    \n",
      "#     for 9 clusters v2.0\n",
      "#     gamma=2.0\n",
      "#     score_thres=1.0/(gamma*n_cluster)\n",
      "\n",
      "#     for 9 clusters v3.0\n",
      "#     gamma=10.0\n",
      "#     score_thres=1.0/(gamma*n_cluster)\n",
      "\n",
      "#     for 14 clusters v1.0\n",
      "#     gamma=5.0\n",
      "#     score_thres=1.0/(gamma*n_cluster)\n",
      "\n",
      "#     for 14 clusters v2.0\n",
      "#     gamma=10.0\n",
      "#     score_thres=1.0/(gamma*n_cluster)  \n",
      "\n",
      "#     for 19 clusters v1.0\n",
      "#     gamma=5.0\n",
      "#     score_thres=1.0/(gamma*n_cluster)  \n",
      "    \n",
      "#     for 19 clusters v2.0\n",
      "#     gamma=10.0\n",
      "#     score_thres=1.0/(gamma*n_cluster) \n",
      "    \n",
      "    max_exp_clu_size=80\n",
      "    extra_cluster_members=[None]*n_cluster\n",
      "\n",
      "    for i in range(n_cluster):\n",
      "        non_member = np.asarray(np.setdiff1d(range(num_class),cluster_members[i]))\n",
      "    #     print non_member.shape\n",
      "        score=np.zeros((non_member.shape[0]))\n",
      "        for j in range(non_member.shape[0]):\n",
      "            idx=np.nonzero(train_val_img_labels==non_member[j])[0]\n",
      "            lc_prob=val_prob[idx,:][:,cluster_members[i]]\n",
      "            score[j]=np.mean(np.sum(lc_prob,axis=1))\n",
      "        score_sorted=np.sort(score)[::-1]\n",
      "        idx_sort=np.argsort(score)[::-1]\n",
      "        idx2=np.nonzero(score_sorted>=score_thres)[0]\n",
      "        if len(idx2)+len(cluster_members[i])> max_exp_clu_size:\n",
      "            idx2=idx2[:(max_exp_clu_size-len(cluster_members[i]))]\n",
      "        extra_cluster_members[i]=[non_member[idx_sort[id]] for id in idx2]\n",
      "        exp_cluster_members[i]=cluster_members[i]+extra_cluster_members[i]\n",
      "        assert len(exp_cluster_members[i])==np.unique(np.asarray(exp_cluster_members[i])).shape[0]\n",
      "else:\n",
      "    '''disjoint coarse category'''\n",
      "    for i in range(n_cluster):\n",
      "        exp_cluster_members[i]=cluster_members[i]\n",
      "        \n",
      "total_member=sum([len(cluster) for cluster in exp_cluster_members])\n",
      "print 'total_member %d' % total_member\n",
      "plt.hist([len(cluster) for cluster in exp_cluster_members],bins=20)"
     ],
     "language": "python",
     "metadata": {},
     "outputs": [
      {
       "output_type": "stream",
       "stream": "stdout",
       "text": [
        "total_member 394\n"
       ]
      },
      {
       "metadata": {},
       "output_type": "pyout",
       "prompt_number": 243,
       "text": [
        "(array([ 4.,  0.,  0.,  0.,  1.,  0.,  1.,  0.,  0.,  1.,  0.,  0.,  0.,\n",
        "         0.,  0.,  0.,  0.,  0.,  0.,  2.]),\n",
        " array([ 25.  ,  27.75,  30.5 ,  33.25,  36.  ,  38.75,  41.5 ,  44.25,\n",
        "         47.  ,  49.75,  52.5 ,  55.25,  58.  ,  60.75,  63.5 ,  66.25,\n",
        "         69.  ,  71.75,  74.5 ,  77.25,  80.  ]),\n",
        " <a list of 20 Patch objects>)"
       ]
      },
      {
       "metadata": {},
       "output_type": "display_data",
       "png": "[encoded data removed]",
       "text": [
        "<matplotlib.figure.Figure at 0x7f21d6f63790>"
       ]
      }
     ],
     "prompt_number": 243
    },
    {
     "cell_type": "code",
     "collapsed": false,
     "input": [
      "plt.rcParams['figure.figsize'] = (5, 7)\n",
      "plt.rcParams['image.interpolation'] = 'nearest'\n",
      "plt.rcParams['image.cmap'] = 'gray'\n",
      "fine_category_occurrence=np.zeros((num_class),dtype=np.int32)\n",
      "for i, exp_cluster_member in enumerate(exp_cluster_members):\n",
      "    for j in range(len(exp_cluster_member)):\n",
      "        fine_category_occurrence[exp_cluster_member[j]]+=1\n",
      "n, bins, patches=plt.hist(fine_category_occurrence,bins=np.arange(0,np.max(fine_category_occurrence),1)+0.5,rwidth=0.7,histtype='bar')\n",
      "# plt.ylabel('fine category occurrence')\n",
      "plt.xlabel('fine category occurrences',fontsize=20)\n",
      "# plt.ylabel('count',fontsize=28)\n",
      "plt.tick_params(axis='both', which='major', labelsize=20)\n",
      "plt.savefig('/home/zyan3/Dropbox/private/proj/decision_cnn/iccv15/image/fine_category_occurrence_cifar100_%dclusters.eps'\\\n",
      "            %(n_cluster))"
     ],
     "language": "python",
     "metadata": {},
     "outputs": [
      {
       "metadata": {},
       "output_type": "display_data",
       "png": "[encoded data removed]",
       "text": [
        "<matplotlib.figure.Figure at 0x7f21d5bf4950>"
       ]
      }
     ],
     "prompt_number": 259
    },
    {
     "cell_type": "code",
     "collapsed": false,
     "input": [
      "for i in range(n_cluster):\n",
      "    print len(exp_cluster_members[i])\n",
      "#     print exp_cluster_members[i]"
     ],
     "language": "python",
     "metadata": {},
     "outputs": [
      {
       "output_type": "stream",
       "stream": "stdout",
       "text": [
        "8\n",
        "6\n",
        "4\n",
        "5\n",
        "3\n",
        "3\n",
        "4\n",
        "6\n",
        "5\n",
        "5\n",
        "6\n",
        "12\n",
        "4\n",
        "3\n",
        "4\n",
        "4\n",
        "9\n",
        "3\n",
        "6\n"
       ]
      }
     ],
     "prompt_number": 195
    },
    {
     "cell_type": "code",
     "collapsed": false,
     "input": [
      "print num_class\n",
      "fine2multicoarse=[None]*num_class\n",
      "for i in range(num_class):\n",
      "    fine2multicoarse[i]=[]\n",
      "for i in range(len(exp_cluster_members)):\n",
      "    for j in range(len(exp_cluster_members[i])):\n",
      "        fine2multicoarse[exp_cluster_members[i][j]] += [i]\n",
      "# for i in range(num_class):\n",
      "#     print fine2multicoarse[i]"
     ],
     "language": "python",
     "metadata": {},
     "outputs": [
      {
       "output_type": "stream",
       "stream": "stdout",
       "text": [
        "100\n"
       ]
      }
     ],
     "prompt_number": 222
    },
    {
     "cell_type": "code",
     "collapsed": false,
     "input": [
      "plot_cluster_coverage(num_class,cluster_members,confusion_mat)"
     ],
     "language": "python",
     "metadata": {},
     "outputs": [
      {
       "metadata": {},
       "output_type": "display_data",
       "png": "[encoded data removed]",
       "text": [
        "<matplotlib.figure.Figure at 0x7f21d6e73790>"
       ]
      }
     ],
     "prompt_number": 173
    },
    {
     "cell_type": "code",
     "collapsed": false,
     "input": [
      "plot_cluster_coverage(num_class,exp_cluster_members,confusion_mat)"
     ],
     "language": "python",
     "metadata": {},
     "outputs": [
      {
       "metadata": {},
       "output_type": "display_data",
       "png": "[encoded data removed]",
       "text": [
        "<matplotlib.figure.Figure at 0x7f21d73e5d50>"
       ]
      }
     ],
     "prompt_number": 174
    },
    {
     "cell_type": "code",
     "collapsed": false,
     "input": [
      "label_2_clusterid = np.zeros((class_num))\n",
      "for i in range(n_cluster):\n",
      "    print 'cluster %d size %d' %(i, len(cluster_members[i]))\n",
      "    for j in range(len(cluster_members[i])):\n",
      "        label_2_clusterid[cluster_members[i][j]] = i\n",
      "\n",
      "label_2_clusterid_file = caffe_root + 'data/cifar100/label_2_clusterid_%dclusters_%s_NIN.txt' % (n_cluster,version)\n",
      "\n",
      "f=open(label_2_clusterid_file,'w')\n",
      "for i in range(class_num):\n",
      "    f.write('%d\\n' % label_2_clusterid[i])\n",
      "f.close()"
     ],
     "language": "python",
     "metadata": {},
     "outputs": [
      {
       "output_type": "stream",
       "stream": "stdout",
       "text": [
        "cluster 0 size 9\n",
        "cluster 1 size 6\n",
        "cluster 2 size 4\n",
        "cluster 3 size 11\n",
        "cluster 4 size 5\n",
        "cluster 5 size 5\n",
        "cluster 6 size 6\n",
        "cluster 7 size 4\n",
        "cluster 8 size 6\n",
        "cluster 9 size 6\n",
        "cluster 10 size 6\n",
        "cluster 11 size 8\n",
        "cluster 12 size 14\n",
        "cluster 13 size 10\n"
       ]
      }
     ],
     "prompt_number": 223
    },
    {
     "cell_type": "code",
     "collapsed": false,
     "input": [
      "test_poolg_db = leveldb.LevelDB(caffe_root + 'examples/cifar100/cifar100_NIN_float_crop_v2_test_poolg_leveldb')\n"
     ],
     "language": "python",
     "metadata": {},
     "outputs": []
    },
    {
     "cell_type": "code",
     "collapsed": false,
     "input": [
      "'''\n",
      "read 100-class probabilities for testing images from leveldb\n",
      "'''\n",
      "num_test=10000\n",
      "test_prob=np.zeros((num_test,num_class))\n",
      "\n",
      "for i in range(num_test):\n",
      "    key='%d'%i\n",
      "    str_data=test_poolg_db.Get(key)\n",
      "    datum = caffe_pb2.Datum()\n",
      "    datum.ParseFromString(str_data)    \n",
      "    for j in range(num_class):\n",
      "        test_prob[i,j]=datum.float_data[j]\n",
      "test_prob=softmax(test_prob)\n",
      "test_pred_lbs=np.argmax(test_prob,axis=1)\n",
      "\n",
      "test_img_list = caffe_root + 'data/cifar100/test.txt'\n",
      "test_img_names,test_img_labels=read_val_image_list(test_img_list)"
     ],
     "language": "python",
     "metadata": {},
     "outputs": [
      {
       "output_type": "stream",
       "stream": "stdout",
       "text": [
        "compute softmax probabilities\n",
        "num 10000 dim 100\n",
        "10000 validation images "
       ]
      },
      {
       "output_type": "stream",
       "stream": "stdout",
       "text": [
        "\n"
       ]
      }
     ],
     "prompt_number": 152
    },
    {
     "cell_type": "code",
     "collapsed": false,
     "input": [
      "'''calculate coarse category classification accuracy when classification layer \n",
      "(FC layer) has one neuron for each fine category '''\n",
      "'''\n",
      "read 1000-class probabilities of 50K test set images\n",
      "'''\n",
      "fine_accu=sum([1 if gt==pred else 0 for (gt,pred) in zip(test_img_labels, test_pred_lbs)])/float(len(test_pred_lbs))\n",
      "coarse_accu=sum([1 if label_2_clusterid[gt]==label_2_clusterid[pred] else 0 for (gt,pred) in zip(test_img_labels,test_pred_lbs)])/float(len(test_pred_lbs))\n",
      "print 'fine classification accuracy %4.3f' % fine_accu\n",
      "print 'coarse classification accuracy %4.3f' % coarse_accu"
     ],
     "language": "python",
     "metadata": {},
     "outputs": [
      {
       "output_type": "stream",
       "stream": "stdout",
       "text": [
        "fine classification accuracy 0.630\n",
        "coarse classification accuracy 0.814\n"
       ]
      }
     ],
     "prompt_number": 153
    },
    {
     "cell_type": "code",
     "collapsed": false,
     "input": [
      "'''for each cluster, write down the labels it owns'''\n",
      "local_data_dir = 'data/cifar100/cluster_confusion_mat_%dclusters_NIN/' % (n_cluster)\n",
      "data_dir = caffe_root+local_data_dir\n",
      "if not os.path.exists(data_dir):\n",
      "    os.mkdir(data_dir)\n",
      "\n",
      "local_data_dir=local_data_dir+'%s/' % version\n",
      "data_dir=caffe_root+local_data_dir\n",
      "if not os.path.exists(data_dir):\n",
      "    os.mkdir(data_dir)\n",
      "    \n",
      "for i in range(n_cluster):\n",
      "    f = open(data_dir + 'cluster%02d_labels.txt' % i,'w')\n",
      "    for j in range(len(cluster_members[i])):\n",
      "        f.write('%d\\n' % cluster_members[i][j])\n",
      "    f.close()\n",
      "    \n",
      "'''For each expanded cluster, prepare a training set with image's label remapped '''\n",
      "for i in range(n_cluster):\n",
      "    f=open(data_dir + 'exp_cluster%02d_label_map.txt' % i,'w')\n",
      "    for j in range(len(exp_cluster_members[i])):\n",
      "        f.write('%d %d\\n' % (exp_cluster_members[i][j],j))\n",
      "    f.close()    "
     ],
     "language": "python",
     "metadata": {},
     "outputs": [],
     "prompt_number": 224
    },
    {
     "cell_type": "code",
     "collapsed": false,
     "input": [
      "print local_data_dir\n",
      "print data_dir"
     ],
     "language": "python",
     "metadata": {},
     "outputs": [
      {
       "output_type": "stream",
       "stream": "stdout",
       "text": [
        "data/cifar100/cluster_confusion_mat_14clusters_NIN/v0.0/\n",
        "/home/zyan3/proj/caffe_private_hdcnn/data/cifar100/cluster_confusion_mat_14clusters_NIN/v0.0/\n"
       ]
      }
     ],
     "prompt_number": 225
    },
    {
     "cell_type": "code",
     "collapsed": false,
     "input": [
      "train_img_list= caffe_root + 'data/cifar100/train.txt'\n",
      "test_img_list = caffe_root + 'data/cifar100/test.txt'\n",
      "train_img_names,train_img_labels=read_val_image_list(train_img_list)\n",
      "test_img_names,test_img_labels=read_val_image_list(test_img_list)\n",
      "train_img_labels,test_img_labels=np.asarray(train_img_labels),np.asarray(test_img_labels)"
     ],
     "language": "python",
     "metadata": {},
     "outputs": [
      {
       "output_type": "stream",
       "stream": "stdout",
       "text": [
        "50000 validation images \n",
        "10000 validation images \n"
       ]
      }
     ],
     "prompt_number": 226
    },
    {
     "cell_type": "code",
     "collapsed": false,
     "input": [
      "'''for each cluster, write down a selective file list'''\n",
      "for i in range(n_cluster):\n",
      "    print '%d out of %d clusters' % (i+1,n_cluster)\n",
      "    name_label_list=[]\n",
      "    f=open(data_dir+'selective_list_cluster%02d_train.txt'%i,'w')\n",
      "    for j in range(train_img_labels.shape[0]):\n",
      "        tr_img_label = train_img_labels[j]\n",
      "        count = exp_cluster_members[i].count(tr_img_label)\n",
      "        if count > 1:\n",
      "            print 'error count ',count\n",
      "        if count == 1:\n",
      "            index=exp_cluster_members[i].index(tr_img_label)\n",
      "            name_label_list += [(train_img_names[j],index)]\n",
      "#     print name_label_list[0],name_label_list[1]\n",
      "    shuffle(name_label_list)\n",
      "#     print name_label_list[0],name_label_list[1]\n",
      "    \n",
      "    for j in range(len(name_label_list)):\n",
      "        f.write('%s %d\\n'%(name_label_list[j][0],name_label_list[j][1]))\n",
      "    f.close()\n",
      "    print 'cluster:%02d. %d training images' %(i, len(name_label_list))\n",
      "    \n",
      "    \n",
      "    name_label_list=[]\n",
      "    f=open(data_dir+'selective_list_cluster%02d_test.txt'%i,'w')\n",
      "    for j in range(test_img_labels.shape[0]):\n",
      "        test_img_label=test_img_labels[j]\n",
      "        count = exp_cluster_members[i].count(test_img_label)\n",
      "        if count > 1:\n",
      "            print 'error count',count\n",
      "        if count == 1:\n",
      "            index=exp_cluster_members[i].index(test_img_label)\n",
      "            name_label_list += [(test_img_names[j],index)]\n",
      "    shuffle(name_label_list)\n",
      "    for j in range(len(name_label_list)):\n",
      "        f.write('%s %d\\n'%(name_label_list[j][0],name_label_list[j][1]))    \n",
      "    f.close()\n",
      "    print 'cluster:%02d. %d validation images' %(i, len(name_label_list))\n",
      "    "
     ],
     "language": "python",
     "metadata": {},
     "outputs": [
      {
       "output_type": "stream",
       "stream": "stdout",
       "text": [
        "1 out of 14 clusters\n",
        "cluster:00. 4500 training images\n",
        "cluster:00. 900 validation images\n",
        "2 out of 14 clusters\n",
        "cluster:01. 3000 training images"
       ]
      },
      {
       "output_type": "stream",
       "stream": "stdout",
       "text": [
        "\n",
        "cluster:01. 600 validation images\n",
        "3 out of 14 clusters\n",
        "cluster:02. 2000 training images\n",
        "cluster:02. 400 validation images\n",
        "4 out of 14 clusters\n",
        "cluster:03. 5500 training images"
       ]
      },
      {
       "output_type": "stream",
       "stream": "stdout",
       "text": [
        "\n",
        "cluster:03. 1100 validation images\n",
        "5 out of 14 clusters\n",
        "cluster:04. 2500 training images\n",
        "cluster:04. 500 validation images"
       ]
      },
      {
       "output_type": "stream",
       "stream": "stdout",
       "text": [
        "\n",
        "6 out of 14 clusters\n",
        "cluster:05. 2500 training images\n",
        "cluster:05. 500 validation images\n",
        "7 out of 14 clusters\n",
        "cluster:06. 3000 training images"
       ]
      },
      {
       "output_type": "stream",
       "stream": "stdout",
       "text": [
        "\n",
        "cluster:06. 600 validation images\n",
        "8 out of 14 clusters\n",
        "cluster:07. 2000 training images\n",
        "cluster:07. 400 validation images\n",
        "9 out of 14 clusters\n",
        "cluster:08. 3000 training images"
       ]
      },
      {
       "output_type": "stream",
       "stream": "stdout",
       "text": [
        "\n",
        "cluster:08. 600 validation images\n",
        "10 out of 14 clusters\n",
        "cluster:09. 3000 training images\n",
        "cluster:09. 600 validation images\n",
        "11 out of 14 clusters\n",
        "cluster:10. 3000 training images"
       ]
      },
      {
       "output_type": "stream",
       "stream": "stdout",
       "text": [
        "\n",
        "cluster:10. 600 validation images\n",
        "12 out of 14 clusters\n",
        "cluster:11. 4000 training images\n",
        "cluster:11. 800 validation images\n",
        "13 out of 14 clusters\n",
        "cluster:12. 7000 training images"
       ]
      },
      {
       "output_type": "stream",
       "stream": "stdout",
       "text": [
        "\n",
        "cluster:12. 1400 validation images\n",
        "14 out of 14 clusters\n",
        "cluster:13. 5000 training images"
       ]
      },
      {
       "output_type": "stream",
       "stream": "stdout",
       "text": [
        "\n",
        "cluster:13. 1000 validation images\n"
       ]
      }
     ],
     "prompt_number": 227
    },
    {
     "cell_type": "code",
     "collapsed": false,
     "input": [
      "def read_text(fn):\n",
      "    text=[]\n",
      "    f=open(fn)\n",
      "    for line in f:\n",
      "        text+=[line]\n",
      "    f.close()\n",
      "    return text\n",
      "\n",
      "def write_text(fn,text):\n",
      "    f=open(fn,'w')\n",
      "    f.writelines(text)\n",
      "    f.close()"
     ],
     "language": "python",
     "metadata": {},
     "outputs": [],
     "prompt_number": 228
    },
    {
     "cell_type": "code",
     "collapsed": false,
     "input": [
      "net_def_fn =model_dir + 'train_test.prototxt'\n",
      "net_def = read_text(net_def_fn)"
     ],
     "language": "python",
     "metadata": {},
     "outputs": [],
     "prompt_number": 229
    },
    {
     "cell_type": "code",
     "collapsed": false,
     "input": [
      "lay_nams=['conv1', 'cccp1','relu1','cccp2','relu2','pool1','drop1',\n",
      "          'conv2', 'cccp3','relu3','cccp4','relu4','pool2','drop2',\n",
      "          'conv3','cccp5','relu5','cccp6','relu6','poolg']"
     ],
     "language": "python",
     "metadata": {},
     "outputs": [],
     "prompt_number": 230
    },
    {
     "cell_type": "code",
     "collapsed": false,
     "input": [
      "lin_nums=[]\n",
      "for lay_nam in lay_nams:\n",
      "    lin_nums_=[]\n",
      "    for i in range(len(net_def)):\n",
      "        id=net_def[i].find('\"'+lay_nam+'\"')\n",
      "        if id>=0:\n",
      "            lin_nums_+=[i]\n",
      "    lin_nums += [lin_nums_]\n",
      "print lin_nums"
     ],
     "language": "python",
     "metadata": {},
     "outputs": [
      {
       "output_type": "stream",
       "stream": "stdout",
       "text": [
        "[[44, 45, 71], [72, 73, 99, 100, 105], [101], [106, 107, 133, 134, 139], [135], [140, 141, 151, 152, 161], [153], [162, 163, 195], [196, 197, 229, 230, 235], [231], [236, 237, 269, 270, 277], [271], [278, 279, 288, 289, 298], [290], [299, 300, 332], [333, 334, 366, 367, 372], [368], [373, 374, 400, 401, 407], [402], [408, 409, 418, 426]]\n"
       ]
      }
     ],
     "prompt_number": 231
    },
    {
     "cell_type": "code",
     "collapsed": false,
     "input": [
      "def find_layer_id(lay_names,lay_name):\n",
      "    for i in range(len(lay_names)):\n",
      "        if lay_names[i]==lay_name:\n",
      "            return i\n",
      "    return -1"
     ],
     "language": "python",
     "metadata": {},
     "outputs": [],
     "prompt_number": 232
    },
    {
     "cell_type": "code",
     "collapsed": false,
     "input": [
      "'''replace layer names with customized names'''\n",
      "def customize_layer_name(text,lay_nams,lin_nums,insert_prefix, insert_suffix, lin_num_offset=0):\n",
      "    for i in range(len(lay_nams)):\n",
      "        lin_nums_=lin_nums[i]\n",
      "        for lin_num in lin_nums_:\n",
      "            lin_num = lin_num - lin_num_offset\n",
      "            if lin_num > len(text):\n",
      "                continue\n",
      "            id=text[lin_num].find(lay_nams[i])\n",
      "            if id<0:\n",
      "                print '%s is not found in: %s' % (lay_nams[i],text[lin_num])\n",
      "                continue\n",
      "            text[lin_num]=text[lin_num][:id]+insert_prefix+lay_nams[i]\\\n",
      "            +insert_suffix+text[lin_num][id+len(lay_nams[i]):]\n",
      "    return text"
     ],
     "language": "python",
     "metadata": {},
     "outputs": [],
     "prompt_number": 71
    },
    {
     "cell_type": "code",
     "collapsed": false,
     "input": [
      "def set_lr_decay_mult(text, lr_mult, decay_mult):\n",
      "    for i in range(len(text)):\n",
      "        id=text[i].find('lr_mult')\n",
      "        if id>=0:\n",
      "            text[i]=text[i][:id]+'lr_mult: %3.2f\\n'%lr_mult\n",
      "        id=text[i].find('decay_mult')\n",
      "        if id>=0:\n",
      "            text[i]=text[i][:id]+'decay_mult: %3.2f\\n'%decay_mult\n",
      "    return text"
     ],
     "language": "python",
     "metadata": {},
     "outputs": [],
     "prompt_number": 72
    },
    {
     "cell_type": "code",
     "collapsed": false,
     "input": [
      "n_kmean_cluster={}\n",
      "n_seg={}\n",
      "\n",
      "'''cifar100_NIN_float_crop_v2'''\n",
      "n_kmean_cluster['conv2']=64\n",
      "n_seg['conv2']=1200\n",
      "\n",
      "n_kmean_cluster['cccp3']=64\n",
      "n_seg['cccp3']=96\n",
      "\n",
      "n_kmean_cluster['cccp4']=64\n",
      "n_seg['cccp4']=96\n",
      "\n",
      "n_kmean_cluster['conv3']=64\n",
      "n_seg['conv3']=192*3\n",
      "\n",
      "n_kmean_cluster['cccp5']=64\n",
      "n_seg['cccp5']=96"
     ],
     "language": "python",
     "metadata": {},
     "outputs": [],
     "prompt_number": 208
    },
    {
     "cell_type": "code",
     "collapsed": false,
     "input": [
      "train_source_line,test_source_line=15,35\n",
      "\n",
      "\n",
      "data_lay_rang = [0,42]\n",
      "mid_lay_rang=[data_lay_rang[1],417]\n",
      "share_lay_last_nm='drop1'\n",
      "share_lay_last_id=find_layer_id(lay_nams,share_lay_last_nm)\n",
      "cccp6_lay_id=find_layer_id(lay_nams,'cccp6')\n",
      "print 'share_lay_last_id:%d' % share_lay_last_id\n",
      "print 'cccp6_lay_id',cccp6_lay_id\n",
      "print lin_nums[share_lay_last_id+1]\n",
      "\n",
      "\n",
      "net_quantization_kmean_num_cluster_line={}\n",
      "net_quantization_kmean_num_cluster_line['conv2']=185\n",
      "net_quantization_kmean_num_cluster_line['cccp3']=220\n",
      "net_quantization_kmean_num_cluster_line['cccp4']=260\n",
      "net_quantization_kmean_num_cluster_line['conv3']=322\n",
      "net_quantization_kmean_num_cluster_line['cccp5']=357\n",
      "\n",
      "net_cccp6_num_output_line = 385"
     ],
     "language": "python",
     "metadata": {},
     "outputs": [
      {
       "output_type": "stream",
       "stream": "stdout",
       "text": [
        "share_lay_last_id:6\n",
        "cccp6_lay_id 17\n",
        "[162, 163, 195]\n"
       ]
      }
     ],
     "prompt_number": 233
    },
    {
     "cell_type": "code",
     "collapsed": false,
     "input": [
      "print n_cluster, version\n",
      "print save_dir\n",
      "print model_dir\n",
      "print caffe_local_root"
     ],
     "language": "python",
     "metadata": {},
     "outputs": [
      {
       "output_type": "stream",
       "stream": "stdout",
       "text": [
        "14 v0.0\n",
        "/home/zyan3/proj/caffe_private_hdcnn/models/cifar100_NIN_float_crop_v2/14clusters/14clusters_v0.0/\n",
        "/home/zyan3/proj/caffe_private_hdcnn/models/cifar100_NIN_float_crop_v2/\n",
        "/home/zyan3/local/proj/caffe_private_hdcnn/\n"
       ]
      }
     ],
     "prompt_number": 234
    },
    {
     "cell_type": "code",
     "collapsed": false,
     "input": [
      "'''\n",
      "two-time branch pre-training\n",
      "train a separate CNN for each cluster \n",
      "For each cluster, prepare solver/train_test/deploy prototxt \n",
      "'''\n",
      "\n",
      "'''5 clusters, v0.0, disjoint coarse category'''\n",
      "# max_iter = [6000,12000,18000]\n",
      "\n",
      "'''5 clusters, v1.0, overlapping coarse category'''\n",
      "# max_iter = [6000,12000,18000]\n",
      "\n",
      "'''5 clusters, v2.0, overlapping coarse category'''\n",
      "# max_iter = [6000,12000,18000]\n",
      "\n",
      "'''9 clusters, v0.0, overlapping coarse category'''\n",
      "# max_iter = [8000,16000,24000]\n",
      "\n",
      "'''9 clusters, v1.0, disjoint coarse category'''\n",
      "# max_iter = [4000,8000,12000]\n",
      "\n",
      "'''9 clusters, v2.0, overlapping coarse category'''\n",
      "# max_iter = [8000,16000,24000]\n",
      "\n",
      "'''9 clusters, v3.0, overlapping coarse category'''\n",
      "# max_iter = [8000,16000,24000]\n",
      "\n",
      "'''14 clusters, v0.0, disjoint coarse category'''\n",
      "# max_iter = [4000,8000,12000]\n",
      "\n",
      "'''14 clusters, v1.0, overlapping coarse category'''\n",
      "# max_iter = [4000,8000,12000]\n",
      "\n",
      "'''14 clusters, v2.0, overlapping coarse category'''\n",
      "# max_iter = [4000,8000,12000]\n",
      "\n",
      "'''19 clusters, v0.0, disjoint coarse category'''\n",
      "max_iter = [6000,12000,18000]\n",
      "\n",
      "'''19 clusters, v1.0, overlapping coarse category'''\n",
      "# max_iter = [4000,8000,12000]\n",
      "\n",
      "'''19 clusters, v2.0, overlapping coarse category'''\n",
      "# max_iter = [4000,8000,12000]\n",
      "\n",
      "solver_proto=['solver.prototxt',\\\n",
      "              'solver_lr1.prototxt',\\\n",
      "              'solver_lr2.prototxt']\n",
      "\n",
      "train_test_proto, deploy_proto=\\\n",
      "model_dir + 'train_test.prototxt',\\\n",
      "model_dir + 'deploy.prototxt'\n",
      "\n",
      "solver_proto_templates = [None]*len(solver_proto)\n",
      "for i in range(len(solver_proto)):\n",
      "    solver_proto_templates[i]=[]\n",
      "    f=open(model_dir + solver_proto[i],'r')\n",
      "    for line in f:\n",
      "        solver_proto_templates[i]+=[line]\n",
      "    f.close()\n",
      "\n",
      "train_test_proto_template,deploy_proto_template=[],[]\n",
      "f=open(train_test_proto,'r')\n",
      "for line in f:\n",
      "    train_test_proto_template+=[line]\n",
      "f.close()\n",
      "\n",
      "f=open(deploy_proto,'r')\n",
      "for line in f:\n",
      "    deploy_proto_template+=[line]\n",
      "f.close()\n",
      "    \n",
      "solver_proto_net_line,\\\n",
      "solver_proto_test_iter_line,solver_proto_max_iter_line,\\\n",
      "solver_proto_prefix_line=4,8,18,23\n",
      "\n",
      "\n",
      "for i in range(n_cluster):\n",
      "    cccp6_num_output_i = len(exp_cluster_members[i])\n",
      "    net_nm = 'cluster%02d_train_test.prototxt'%\\\n",
      "    (i)\n",
      "    deploynet_nm = 'cluster%02d_deploy.prototxt'%\\\n",
      "    (i)\n",
      "    \n",
      "    for j in range(len(solver_proto)):\n",
      "        solver_proto_ = copy.deepcopy(solver_proto_templates[j])\n",
      "        solver_proto_[solver_proto_net_line] = 'net: \"%s%s\"\\n' % (save_dir,net_nm)\n",
      "    \n",
      "        solver_proto_[solver_proto_test_iter_line] = 'test_iter: %d\\n' % len(exp_cluster_members[i])\n",
      "        solver_proto_[solver_proto_max_iter_line] = 'max_iter: %d\\n' % max_iter[j]\n",
      "        solver_proto_[solver_proto_prefix_line-1] = 'snapshot: 2000\\n'        \n",
      "        solver_proto_[solver_proto_prefix_line] = \\\n",
      "    'snapshot_prefix: \"%scluster%02d\"\\n' \\\n",
      "    % (save_dir, i)\n",
      "            \n",
      "        f=open(save_dir+'cluster%02d_%s' %(i, solver_proto[j]),'w')\n",
      "        f.writelines(solver_proto_)\n",
      "        f.close()\n",
      "    \n",
      "    train_test_proto_ = copy.deepcopy(train_test_proto_template)\n",
      "    train_test_proto_[train_source_line+3] = \\\n",
      "    '\\tselective_list: \"%sselective_list_cluster%02d_train.txt\"\\n'%(local_data_dir,i)\n",
      "    \n",
      "    train_test_proto_[test_source_line+3] = \\\n",
      "    '\\tselective_list: \"%sselective_list_cluster%02d_test.txt\"\\n'%(local_data_dir,i)\n",
      "    \n",
      "    customize_layer_name(train_test_proto_,lay_nams[share_lay_last_id+1:],lin_nums[share_lay_last_id+1:],\\\n",
      "                         'cluster%02d_'%i, '', lin_num_offset=0)\n",
      "    customize_layer_name(train_test_proto_,[lay_nams[cccp6_lay_id]],[lin_nums[cccp6_lay_id]],\\\n",
      "                         '', '_compact', lin_num_offset=0)\n",
      "    \n",
      "    train_test_proto_[:lin_nums[share_lay_last_id+1][0]-1]=\\\n",
      "    set_lr_decay_mult(train_test_proto_[:lin_nums[share_lay_last_id+1][0]-1], 0, 0)\n",
      "    train_test_proto_[net_cccp6_num_output_line] = \\\n",
      "    '\\t\\t\\t\\tnum_output: %d\\n' % cccp6_num_output_i\n",
      "    \n",
      "    for layer_name in ['conv2','cccp3','cccp4','conv3','cccp5']:\n",
      "        train_test_proto_[net_quantization_kmean_num_cluster_line[layer_name]]='\\t\\tquantization_kmean_num_cluster: %d\\n'\\\n",
      "        %(n_kmean_cluster[layer_name])\n",
      "        train_test_proto_[net_quantization_kmean_num_cluster_line[layer_name]+1]='\\t\\tquantization_num_segment: %d\\n'\\\n",
      "        %(n_seg[layer_name])        \n",
      "        train_test_proto_[net_quantization_kmean_num_cluster_line[layer_name]+2]=\\\n",
      "        '\\t\\tquantization_kmean_cluster_centers_file: \"%s%dclusters/%dclusters_%s/iter_25000/cluster%02d_%s_%d_%d_kmean_cluster_centers.binaryproto\"\\n'%\\\n",
      "        (local_model_dir,n_cluster,n_cluster, version, i,layer_name,n_kmean_cluster[layer_name],n_seg[layer_name])\n",
      "        train_test_proto_[net_quantization_kmean_num_cluster_line[layer_name]+3]=\\\n",
      "        '\\t\\tquantization_kmean_cluster_indices_file: \"%s%dclusters/%dclusters_%s/iter_25000/cluster%02d_%s_%d_%d_kmean_cluster_indices.binaryproto\"\\n'%\\\n",
      "        (local_model_dir,n_cluster,n_cluster, version, i, layer_name, n_kmean_cluster[layer_name],n_seg[layer_name])\n",
      "        train_test_proto_[net_quantization_kmean_num_cluster_line[layer_name]+5]='\\tconserve_gpu_memory_test: false\\n'\n",
      "        train_test_proto_[net_quantization_kmean_num_cluster_line[layer_name]+6]='\\tparameter_compress: false\\n'        \n",
      "    \n",
      "    f=open(save_dir+net_nm,'w')\n",
      "    f.writelines(train_test_proto_)\n",
      "    f.close()\n",
      "     \n",
      "    deploy_proto_ = copy.deepcopy(deploy_proto_template)\n",
      "    customize_layer_name(deploy_proto_,lay_nams[share_lay_last_id+1:],lin_nums[share_lay_last_id+1:],\\\n",
      "                         'cluster%02d_'%i, '', lin_num_offset=0)\n",
      "    customize_layer_name(deploy_proto_,[lay_nams[cccp6_lay_id]],[lin_nums[cccp6_lay_id]],\\\n",
      "                         '', '_compact', lin_num_offset=0)     \n",
      "    deploy_proto_[net_cccp6_num_output_line] = \\\n",
      "    '\\t\\t\\t\\tnum_output: %d\\n' % cccp6_num_output_i    \n",
      "    f=open(save_dir+deploynet_nm,'w')\n",
      "    f.writelines(deploy_proto_)\n",
      "    f.close()    "
     ],
     "language": "python",
     "metadata": {},
     "outputs": [],
     "prompt_number": 210
    },
    {
     "cell_type": "code",
     "collapsed": false,
     "input": [
      "print n_cluster,version\n",
      "print example_dir\n",
      "print save_dir\n",
      "print model_dir"
     ],
     "language": "python",
     "metadata": {},
     "outputs": [
      {
       "output_type": "stream",
       "stream": "stdout",
       "text": [
        "19 v0.0\n",
        "/home/zyan3/proj/caffe_private_hdcnn/examples/cifar100/\n",
        "/home/zyan3/proj/caffe_private_hdcnn/models/cifar100_NIN_float_crop_v2/19clusters/19clusters_v0.0/\n",
        "/home/zyan3/proj/caffe_private_hdcnn/models/cifar100_NIN_float_crop_v2/\n"
       ]
      }
     ],
     "prompt_number": 211
    },
    {
     "cell_type": "code",
     "collapsed": false,
     "input": [
      "'''\n",
      "prepare final HD-CNN solver prototxt files\n",
      "'''\n",
      "solver_proto=['solver.prototxt','solver_lr1.prototxt']\n",
      "\n",
      "solver_proto_output=['hdcnn_solver.prototxt','hdcnn_solver_lr1.prototxt']\n",
      "\n",
      "solver_proto_templates = [None]*len(solver_proto)\n",
      "for i in range(len(solver_proto)):\n",
      "    solver_proto_templates[i]=[]\n",
      "    f=open(model_dir + solver_proto[i],'r')\n",
      "    for line in f:\n",
      "        solver_proto_templates[i]+=[line]\n",
      "    f.close()\n",
      "    \n",
      "solver_proto_net_line, solver_proto_test_iter_line, solver_proto_baselr_line, \\\n",
      "solver_proto_max_iter_line, solver_proto_prefix_line=4,8,12,18,23\n",
      "\n",
      "base_lr = [1e-3,1e-4]\n",
      "hdcnn_max_iter = [10000,20000]\n",
      "\n",
      "for j in range(len(solver_proto)):\n",
      "    solver_proto_ = copy.deepcopy(solver_proto_templates[j])\n",
      "    solver_proto_[solver_proto_net_line] = \\\n",
      "    'net: \"%shdcnn_train_test.prototxt\"\\n'\\\n",
      "    % (save_dir)\n",
      "    solver_proto_[solver_proto_test_iter_line] = \\\n",
      "    'test_iter: 200\\n'\n",
      "    \n",
      "    solver_proto_[solver_proto_baselr_line] = 'base_lr: %7.6f\\n' % base_lr[j]\n",
      "    solver_proto_[solver_proto_max_iter_line] = 'max_iter: %d\\n' % hdcnn_max_iter[j]\n",
      "    solver_proto_[solver_proto_prefix_line] = \\\n",
      "'snapshot_prefix: \"%shdcnn\"\\n' \\\n",
      "% (save_dir)\n",
      "\n",
      "\n",
      "    solver_fn=save_dir+solver_proto_output[j]\n",
      "    print solver_fn\n",
      "    f=open(solver_fn,'w')\n",
      "    f.writelines(solver_proto_)\n",
      "    f.close()    "
     ],
     "language": "python",
     "metadata": {},
     "outputs": [
      {
       "output_type": "stream",
       "stream": "stdout",
       "text": [
        "/home/zyan3/proj/caffe_private_hdcnn/models/cifar100_NIN_float_crop_v2/14clusters/14clusters_v0.0/hdcnn_solver.prototxt\n",
        "/home/zyan3/proj/caffe_private_hdcnn/models/cifar100_NIN_float_crop_v2/14clusters/14clusters_v0.0/hdcnn_solver_lr1.prototxt\n"
       ]
      }
     ],
     "prompt_number": 235
    },
    {
     "cell_type": "code",
     "collapsed": false,
     "input": [
      "print n_cluster, version\n",
      "print model_dir\n",
      "print save_dir"
     ],
     "language": "python",
     "metadata": {},
     "outputs": [
      {
       "output_type": "stream",
       "stream": "stdout",
       "text": [
        "14 v0.0\n",
        "/home/zyan3/proj/caffe_private_hdcnn/models/cifar100_NIN_float_crop_v2/\n",
        "/home/zyan3/proj/caffe_private_hdcnn/models/cifar100_NIN_float_crop_v2/14clusters/14clusters_v0.0/\n"
       ]
      }
     ],
     "prompt_number": 236
    },
    {
     "cell_type": "code",
     "collapsed": false,
     "input": [
      "print fine2multicoarse"
     ],
     "language": "python",
     "metadata": {},
     "outputs": [
      {
       "output_type": "stream",
       "stream": "stdout",
       "text": [
        "[[7], [12], [1], [0], [0], [4], [3], [3], [5], [11], [5], [1], [10], [2], [3], [0], [11], [10], [3], [0], [4], [0], [5], [6], [3], [4], [3], [12], [11], [13], [12], [0], [12], [8], [13], [1], [1], [10], [13], [11], [11], [10], [13], [13], [3], [3], [1], [8], [5], [6], [12], [13], [8], [7], [9], [12], [8], [7], [2], [8], [6], [5], [9], [12], [0], [13], [0], [12], [6], [6], [9], [6], [12], [12], [12], [0], [11], [7], [3], [3], [13], [2], [9], [9], [4], [10], [11], [4], [13], [2], [10], [12], [9], [12], [11], [12], [8], [13], [1], [3]]\n"
       ]
      }
     ],
     "prompt_number": 237
    },
    {
     "cell_type": "code",
     "collapsed": false,
     "input": [
      "iter_num = 25000\n",
      "per_cluster_tr_batch_size = 20\n",
      "train_batch_size_lin_num, test_batch_size_lin_num = 16, 36\n",
      "\n",
      "hdcnn_def=[]\n",
      "'''write data layer part'''\n",
      "for lin_num in range(data_lay_rang[0],data_lay_rang[1]):\n",
      "    hdcnn_def += [net_def[lin_num]]\n",
      "\n",
      "hdcnn_def[train_batch_size_lin_num] = '\\tbatch_size: %d\\n' % (per_cluster_tr_batch_size * n_cluster)\n",
      "hdcnn_def[test_batch_size_lin_num] = '\\tbatch_size: 50\\n'\n",
      "\n",
      "'''write gating part'''\n",
      "for lin_num in range(mid_lay_rang[0],mid_lay_rang[1]):\n",
      "    hdcnn_def += [net_def[lin_num]]\n",
      "    \n",
      "for layer_name in ['conv2','cccp3','cccp4','conv3','cccp5']:\n",
      "    quantization_kmean_num_cluster_line=net_quantization_kmean_num_cluster_line[layer_name]\n",
      "    hdcnn_def[quantization_kmean_num_cluster_line]='\\t\\tquantization_kmean_num_cluster: %d\\n'\\\n",
      "    %(n_kmean_cluster[layer_name])\n",
      "    hdcnn_def[quantization_kmean_num_cluster_line+1]='\\t\\tquantization_num_segment: %d\\n'\\\n",
      "    %(n_seg[layer_name])        \n",
      "    hdcnn_def[quantization_kmean_num_cluster_line+2]=\\\n",
      "    '\\t\\tquantization_kmean_cluster_centers_file: \"%s%s_%d_%d_kmean_cluster_centers.binaryproto\"\\n'%\\\n",
      "    (local_model_dir,layer_name,n_kmean_cluster[layer_name],n_seg[layer_name])\n",
      "    hdcnn_def[quantization_kmean_num_cluster_line+3]=\\\n",
      "    '\\t\\tquantization_kmean_cluster_indices_file: \"%s%s_%d_%d_kmean_cluster_indices.binaryproto\"\\n'%\\\n",
      "    (local_model_dir, layer_name, n_kmean_cluster[layer_name],n_seg[layer_name])\n",
      "    hdcnn_def[quantization_kmean_num_cluster_line+5]='\\tconserve_gpu_memory_test: false\\n'\n",
      "    hdcnn_def[quantization_kmean_num_cluster_line+6]='\\tparameter_compress: false\\n'   \n",
      "        \n",
      "'''write SOFTMAX fine-classification layer in the gating part'''\n",
      "hdcnn_def +=['layer {\\n',\\\n",
      "                        '\\tname: \"fine_branch_prob\"\\n',\\\n",
      "                        '\\ttype: \"Softmax\"\\n',\\\n",
      "                        '\\tbottom: \"poolg\"\\n',\\\n",
      "                        '\\ttop: \"fine_branch_prob\"\\n',\\\n",
      "                        '}\\n']\n",
      "# '''write fine2coarse classification layer in the gating part'''\n",
      "# hdcnn_def +=['layer {\\n',\\\n",
      "#                         '\\tname: \"coarse_branch_prob\"\\n',\\\n",
      "#                         '\\ttype: \"Fine2CoarseProb\"\\n',\\\n",
      "#                         '\\tbottom: \"fine_branch_prob\"\\n',\\\n",
      "#                         '\\ttop: \"coarse_branch_prob\"\\n'\\\n",
      "#                         '\\tfine2coarse_prob_layer_param{\\n',\\\n",
      "#                         '\\t\\tnum_coarse: %d\\n' % n_cluster]\n",
      "# for i in range(label_2_clusterid.shape[0]):\n",
      "#     hdcnn_def += ['\\t\\tfine2coarse: %d\\n'%label_2_clusterid[i]]\n",
      "# hdcnn_def += ['\\t}\\n',\\\n",
      "#                          '}\\n']\n",
      "\n",
      "'''write fine2multicoarse classification layer in the gating part'''\n",
      "hdcnn_def +=['layer {\\n',\\\n",
      "                        '\\tname: \"coarse_branch_prob\"\\n',\\\n",
      "                        '\\ttype: \"Fine2MultiCoarseProb\"\\n',\\\n",
      "                        '\\tbottom: \"fine_branch_prob\"\\n',\\\n",
      "                        '\\ttop: \"coarse_branch_prob\"\\n'\\\n",
      "                        '\\tfine2multicoarse_prob_layer_param{\\n',\\\n",
      "                        '\\t\\tnum_coarse: %d\\n' % n_cluster]\n",
      "for i in range(num_class):\n",
      "    hdcnn_def += ['\\t\\tfine2multicoarse_param{\\n']\n",
      "    for j in range(len(fine2multicoarse[i])):\n",
      "        hdcnn_def+= ['\\t\\t\\tcoarse_id: %d\\n' % fine2multicoarse[i][j]]\n",
      "    hdcnn_def +=['\\t\\t}\\n']\n",
      "hdcnn_def += ['\\t}\\n',\\\n",
      "                         '}\\n']\n",
      "\n",
      "\n",
      "'''write independent layers in branching parts'''\n",
      "for i in range(n_cluster):\n",
      "    br_def=[]\n",
      "    lin_num_offset=lin_nums[share_lay_last_id+1][0]-2\n",
      "    \n",
      "    for lin_num in range(lin_nums[share_lay_last_id+1][0]-2,mid_lay_rang[1]):\n",
      "        br_def+=[net_def[lin_num]]\n",
      "\n",
      "    br_lay_nams=[lay_nams[id] for id in range(share_lay_last_id+1,len(lay_nams))]\n",
      "    br_lin_nums=[lin_nums[id] for id in range(share_lay_last_id+1,len(lay_nams))]\n",
      "    \n",
      "    customize_layer_name(br_def,br_lay_nams,br_lin_nums,'cluster%02d_'%i,\\\n",
      "                                '',lin_num_offset)\n",
      "    customize_layer_name(br_def,[lay_nams[cccp6_lay_id]],[lin_nums[cccp6_lay_id]],'',\\\n",
      "                                '_compact',lin_num_offset)\n",
      "    br_def[net_cccp6_num_output_line-br_lin_nums[0][0]+2]='\\t\\tnum_output: %d\\n' % len(exp_cluster_members[i])\n",
      "\n",
      "\n",
      "    br_def += ['layer {\\n',\\\n",
      "              '\\tname: \"cluster%02d_prob_compact\"\\n'%i,\\\n",
      "              '\\ttype: \"Softmax\"\\n',\\\n",
      "              '\\tbottom: \"cluster%02d_poolg\"\\n'%i,\\\n",
      "              '\\ttop: \"cluster%02d_prob_compact\"\\n'%i,\\\n",
      "              '}\\n']\n",
      "    \n",
      "    for layer_name in ['conv2','cccp3','cccp4','conv3','cccp5']:\n",
      "        quantization_kmean_num_cluster_line=net_quantization_kmean_num_cluster_line[layer_name]-lin_num_offset\n",
      "        br_def[quantization_kmean_num_cluster_line]='\\t\\tquantization_kmean_num_cluster: %d\\n'\\\n",
      "        %(n_kmean_cluster[layer_name])\n",
      "        br_def[quantization_kmean_num_cluster_line+1]='\\t\\tquantization_num_segment: %d\\n'\\\n",
      "        %(n_seg[layer_name])        \n",
      "        br_def[quantization_kmean_num_cluster_line+2]=\\\n",
      "        '\\t\\tquantization_kmean_cluster_centers_file: \"%s%dclusters/%dclusters_%s/iter_%d/cluster%02d_%s_%d_%d_kmean_cluster_centers.binaryproto\"\\n'%\\\n",
      "        (local_model_dir,n_cluster,n_cluster, version, iter_num, i,layer_name,n_kmean_cluster[layer_name],n_seg[layer_name])\n",
      "        br_def[quantization_kmean_num_cluster_line+3]=\\\n",
      "        '\\t\\tquantization_kmean_cluster_indices_file: \"%s%dclusters/%dclusters_%s/iter_%d/cluster%02d_%s_%d_%d_kmean_cluster_indices.binaryproto\"\\n'%\\\n",
      "        (local_model_dir,n_cluster,n_cluster, version, iter_num, i, layer_name, n_kmean_cluster[layer_name],n_seg[layer_name])\n",
      "        br_def[quantization_kmean_num_cluster_line+5]='\\tconserve_gpu_memory_test: false\\n'\n",
      "        br_def[quantization_kmean_num_cluster_line+6]='\\tparameter_compress: false\\n'        \n",
      "    \n",
      "\n",
      "    for br_def_lin in br_def:\n",
      "        hdcnn_def += [br_def_lin]\n",
      "\n",
      "hdcnn_def += ['layer {\\n',\\\n",
      "                        '\\tname: \"compact_probabilistic_average_prob\"\\n',\\\n",
      "                        '\\ttype: \"CompactProbabilisticAverageProb\"\\n']\n",
      "for i in range(n_cluster):\n",
      "    hdcnn_def+= ['\\tbottom: \"cluster%02d_prob_compact\"\\n'%i]\n",
      "hdcnn_def+=['\\tbottom: \"coarse_branch_prob\"\\n',\\\n",
      "                       '\\ttop: \"compact_probabilistic_average_prob\"\\n',\\\n",
      "                       '\\tcompact_probabilistic_average_prob_layer_param{\\n',\\\n",
      "                       '\\t\\tnum_class:%d\\n'%num_class]\n",
      "for i in range(n_cluster):\n",
      "    hdcnn_def+=['\\t\\tcompact_classify_layer_param{\\n']\n",
      "    for j in range(len(exp_cluster_members[i])):\n",
      "        hdcnn_def+=['\\t\\t\\tclass_id:%d\\n'%exp_cluster_members[i][j]]\n",
      "    hdcnn_def+=['\\t\\t}\\n']\n",
      "hdcnn_def+=['\\t}\\n',\\\n",
      "                       '}\\n']\n",
      "\n",
      "hdcnn_def += ['layer {\\n',\\\n",
      "                        '\\tname: \"loss\"\\n',\\\n",
      "                        '\\ttype: \"MultinomialLogisticSparsityLoss\"\\n',\\\n",
      "                        '\\tbottom: \"compact_probabilistic_average_prob\"\\n',\\\n",
      "                        '\\tbottom: \"label\"\\n',\\\n",
      "                        '\\tbottom: \"coarse_branch_prob\"\\n',\\\n",
      "                        '\\ttop: \"loss\"\\n',\\\n",
      "                        '\\tmultinomial_logistic_sparsity_loss_param{\\n',\n",
      "                        '\\t\\tsparsity_lamda: 5\\n']\n",
      "\n",
      "for i in range(n_cluster):\n",
      "    hdcnn_def += ['\\t\\ttarget_sparsity: %4.3f\\n'% (float(len(exp_cluster_members[i])) / float(total_member))]\n",
      "\n",
      "hdcnn_def+=['\\t}\\n',\\\n",
      "                      '}\\n']\n",
      "hdcnn_def+=['layer {\\n',\\\n",
      "                       '\\tname: \"accuracy\"\\n',\\\n",
      "                       '\\ttype: \"Accuracy\"\\n',\\\n",
      "                       '\\tbottom: \"compact_probabilistic_average_prob\"\\n',\\\n",
      "                       '\\tbottom: \"label\"\\n',\\\n",
      "                       '\\ttop: \"accuracy\"\\n',\\\n",
      "                       '\\tinclude {\\n',\\\n",
      "                       '\\t\\tphase: TEST\\n',\\\n",
      "                       '\\t}\\n',\\\n",
      "                       '}\\n']\n",
      "\n",
      "hdcnn_def_fn=save_dir+'hdcnn_train_test.prototxt'\n",
      "print 'write file:%s'%hdcnn_def_fn\n",
      "f=open(hdcnn_def_fn,'w')\n",
      "for ln in hdcnn_def:\n",
      "    f.write(ln)\n",
      "f.close()"
     ],
     "language": "python",
     "metadata": {},
     "outputs": [
      {
       "output_type": "stream",
       "stream": "stdout",
       "text": [
        "write file:/home/zyan3/proj/caffe_private_hdcnn/models/cifar100_NIN_float_crop_v2/14clusters/14clusters_v0.0/hdcnn_train_test.prototxt\n"
       ]
      }
     ],
     "prompt_number": 238
    },
    {
     "cell_type": "code",
     "collapsed": false,
     "input": [
      "print version\n",
      "print example_dir\n",
      "print solver_proto_output\n",
      "print save_dir\n",
      "print model_dir"
     ],
     "language": "python",
     "metadata": {},
     "outputs": [
      {
       "output_type": "stream",
       "stream": "stdout",
       "text": [
        "v0.0\n",
        "/home/zyan3/proj/caffe_private_hdcnn/examples/cifar100/\n",
        "['hdcnn_solver.prototxt', 'hdcnn_solver_lr1.prototxt']\n",
        "/home/zyan3/proj/caffe_private_hdcnn/models/cifar100_NIN_float_crop_v2/19clusters/19clusters_v0.0/\n",
        "/home/zyan3/proj/caffe_private_hdcnn/models/cifar100_NIN_float_crop_v2/\n"
       ]
      }
     ],
     "prompt_number": 215
    },
    {
     "cell_type": "code",
     "collapsed": false,
     "input": [
      "'''write shell script for finetuning HD-CNN'''\n",
      "\n",
      "script_fn=example_dir+'finetune_hdcnn_from_NIN_float_crop_v2_%dclusters_%s.sh'%(n_cluster,version)\n",
      "print 'script: %s' % script_fn \n",
      "f=open(script_fn,'w')\n",
      "f.write('#!/bin/bash\\n')\n",
      "f.write('TOOLS=build/tools\\n')\n",
      "f.write('GLOG_logtostderr=1 $TOOLS/finetune_net_match --match_mode=EXACT_MATCH \\\\\\n')\n",
      "f.write('\\t--solver=%s%s \\\\\\n'%(save_dir, solver_proto_output[0]))\n",
      "f.write('\\t%scifar100_NIN_float_crop_v2_iter_130000.caffemodel \\\\\\n' % model_dir)\n",
      "for i in range(n_cluster):\n",
      "    f.write('\\t%scluster%02d_iter_24000.caffemodel \\\\\\n'%(save_dir,i))\n",
      "\n",
      "f.write('\\n')\n",
      "# f.write('GLOG_logtostderr=1 $TOOLS/caffe train \\\\\\n')\n",
      "# f.write('\\t--solver=%s%s \\\\\\n'%(save_dir, solver_proto_output[1]))\n",
      "# f.write('\\t--weights=%shdcnn_iter_%d.caffemodel \\\\\\n' % (save_dir,hdcnn_max_iter[0]))\n",
      "\n",
      "# f.write('\\n')\n",
      "# f.write('GLOG_logtostderr=1 $TOOLS/caffe train \\\\\\n')\n",
      "# f.write('\\t--solver=%s%s \\\\\\n'%(save_dir, solver_proto_output[2]))\n",
      "# f.write('\\t--weights=%shdcnn_iter_%d.caffemodel \\\\\\n' % (save_dir,hdcnn_max_iter[1]))\n",
      "\n",
      "f.close()\n",
      "\n"
     ],
     "language": "python",
     "metadata": {},
     "outputs": [
      {
       "output_type": "stream",
       "stream": "stdout",
       "text": [
        "script: /home/zyan3/proj/caffe_private_hdcnn/examples/cifar100/finetune_hdcnn_from_NIN_float_crop_v2_19clusters_v0.0.sh\n"
       ]
      }
     ],
     "prompt_number": 216
    }
   ],
   "metadata": {}
  }
 ]
}